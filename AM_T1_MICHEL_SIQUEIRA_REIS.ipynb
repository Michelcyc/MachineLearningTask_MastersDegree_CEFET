{
 "cells": [
  {
   "cell_type": "markdown",
   "id": "8db8f02a",
   "metadata": {},
   "source": [
    "Créditos: Esse notebook é adaptado dos exemplos fornecidos pelo professor Eduardo Bezerra."
   ]
  },
  {
   "cell_type": "markdown",
   "id": "1ed85b85",
   "metadata": {},
   "source": [
    "## Objetivo do trabalho:\n",
    "* Apresentar implementações e descrevê-las com detalhes\n",
    "* Apresentar os resultados\n",
    "* Explicar em vídeo"
   ]
  },
  {
   "cell_type": "markdown",
   "id": "ef9c9f45",
   "metadata": {},
   "source": [
    "# 1 Predição de pagamento de empréstimos"
   ]
  },
  {
   "cell_type": "markdown",
   "id": "045af31f",
   "metadata": {},
   "source": [
    "### Resumo:\n",
    "* Classificação | 1500 exemplos | 11 atributos | credtrain.txt\n",
    "* Preprocessamentos: one-hot encoding e normalização\n",
    "* Mining: LogisticRegression, DecisionTreeClassifier, RandomForestClassifier, KNeighborsClassifier, GradientBoostingClassifier"
   ]
  },
  {
   "cell_type": "markdown",
   "id": "c70ad305",
   "metadata": {},
   "source": [
    "## Seleção dos dados\n",
    "Primeiramente é necessário baixar a base de dados"
   ]
  },
  {
   "cell_type": "code",
   "execution_count": 1,
   "id": "16172482",
   "metadata": {},
   "outputs": [],
   "source": [
    "import pandas as pd\n",
    "nome_colunas = ['ESCT', 'NDEP', 'RENDA', 'TIPOR', 'VBEM', 'NPARC', 'VPARC', 'TEL', 'IDADE', 'RESMS', 'ENTRADA', 'CLASSE']\n",
    "data = pd.read_csv('cic1205/data/credtrain.txt', sep='\\t', names=nome_colunas)"
   ]
  },
  {
   "cell_type": "markdown",
   "id": "7231e35b",
   "metadata": {},
   "source": [
    "* O argumento **sep='\\t'** detecta separações por tab\n",
    "* O argumento **names=nome_colunas** foi utilizado para nomear as colunas. Para isso foi criada uma array com os nomes das colunas e passada para o parâmetro"
   ]
  },
  {
   "cell_type": "markdown",
   "id": "930518e6",
   "metadata": {},
   "source": [
    "## Preprocessamento\n",
    "Agora tratarei os atributos categóricos e não categóricos.\n",
    "* Categóricos: Serão codificados em novas variáveis binárias utilizando codificação one-hot (one-hot encoding)\n",
    "* Não categóricos: Serão normalizados\n",
    "* Ambos serão unidos num dataframe final"
   ]
  },
  {
   "cell_type": "code",
   "execution_count": 2,
   "id": "58d7984f",
   "metadata": {},
   "outputs": [],
   "source": [
    "# Lista de variáveis categóricas\n",
    "variaveis_categoricas = ['ESCT', 'NDEP', 'TIPOR', 'TEL']\n",
    "\n",
    "# Lista de variáveis numéricas\n",
    "variaveis_numericas = ['RENDA', 'VBEM', 'NPARC', 'VPARC', 'IDADE', 'RESMS', 'ENTRADA']\n",
    "\n",
    "# Dataframe com variaveis categoricas\n",
    "data_cat = data[variaveis_categoricas]\n",
    "\n",
    "# Dataframe com variaveis numericas\n",
    "data_num = data[variaveis_numericas]"
   ]
  },
  {
   "cell_type": "markdown",
   "id": "8def6a35",
   "metadata": {},
   "source": [
    "### Codificação One-hot"
   ]
  },
  {
   "cell_type": "code",
   "execution_count": 3,
   "id": "837e81bd",
   "metadata": {},
   "outputs": [],
   "source": [
    "from sklearn.preprocessing import OneHotEncoder # Classe para binarizar atributos\n",
    "\n",
    "codificador = OneHotEncoder(sparse_output=False)   # Criando o objeto codificador\n",
    "codificador.fit(data_cat)                          # Ajustando o objeto aos dados\n",
    "\n",
    "def codificar(input_df):\n",
    "    nparray_encoded = codificador.transform(input_df) # Criando um novo dataframe já codificado\n",
    "    column_names = codificador.get_feature_names_out(input_features=input_df.columns)\n",
    "    data_cat_encoded = pd.DataFrame(nparray_encoded, columns=column_names)\n",
    "    return data_cat_encoded\n",
    "    \n",
    "data_cat_encoded = codificar(data_cat)"
   ]
  },
  {
   "cell_type": "markdown",
   "id": "52b28b13",
   "metadata": {},
   "source": [
    "### Normalização"
   ]
  },
  {
   "cell_type": "code",
   "execution_count": 4,
   "id": "723ead6e",
   "metadata": {},
   "outputs": [],
   "source": [
    "from sklearn.preprocessing import MinMaxScaler  # Importando biblioteca de normalização Min-Max\n",
    "scaler = MinMaxScaler()                         # Objeto que realiza a normalização\n",
    "scaler.fit(data_num)                            # Ajustando o objeto aos dados\n",
    "\n",
    "def normalizar(input_df):\n",
    "    data_num_normalized = pd.DataFrame(             # Cria um dataframe que recebe como input um ndarray (numpy)\n",
    "    scaler.transform(input_df), columns=input_df.columns # O nd-array é retornado pelo método transform\n",
    "    )\n",
    "    return data_num_normalized\n",
    "\n",
    "data_num_normalized = normalizar(data_num)"
   ]
  },
  {
   "cell_type": "markdown",
   "id": "757de5eb",
   "metadata": {},
   "source": [
    "### Concatenando os dataframes preprocessados"
   ]
  },
  {
   "cell_type": "code",
   "execution_count": 5,
   "id": "ead96758",
   "metadata": {},
   "outputs": [],
   "source": [
    "data_preprocessed = pd.concat( [ data_cat_encoded, data_num_normalized, data['CLASSE'] ], axis=1 )\n",
    "# axis=1 para a concatenação ao longo das colunas"
   ]
  },
  {
   "cell_type": "markdown",
   "id": "6397ecbd",
   "metadata": {},
   "source": [
    "## Mineração"
   ]
  },
  {
   "cell_type": "markdown",
   "id": "2649a866",
   "metadata": {},
   "source": [
    "### Separando os conjuntos de treinamento, teste e validação"
   ]
  },
  {
   "cell_type": "code",
   "execution_count": 6,
   "id": "392b5236",
   "metadata": {},
   "outputs": [],
   "source": [
    "from sklearn.model_selection import train_test_split # Importa classe que faz amostragem (sampling)\n",
    "\n",
    "X_train, X_validation, y_train, y_validation = train_test_split(data_preprocessed.iloc[:,:-1], # features\n",
    "                                                                data_preprocessed.iloc[:,-1],  # labels\n",
    "                                                                test_size=0.10,                 # % do test set (10%)\n",
    "                                                                random_state=1)                # seed"
   ]
  },
  {
   "cell_type": "markdown",
   "id": "d2651002",
   "metadata": {},
   "source": [
    "### LogisticRegression"
   ]
  },
  {
   "cell_type": "markdown",
   "id": "909cf013",
   "metadata": {},
   "source": [
    "#### Treinamento"
   ]
  },
  {
   "cell_type": "code",
   "execution_count": 7,
   "id": "6fbfea7c",
   "metadata": {
    "scrolled": true
   },
   "outputs": [
    {
     "data": {
      "text/html": [
       "<style>#sk-container-id-1 {color: black;}#sk-container-id-1 pre{padding: 0;}#sk-container-id-1 div.sk-toggleable {background-color: white;}#sk-container-id-1 label.sk-toggleable__label {cursor: pointer;display: block;width: 100%;margin-bottom: 0;padding: 0.3em;box-sizing: border-box;text-align: center;}#sk-container-id-1 label.sk-toggleable__label-arrow:before {content: \"▸\";float: left;margin-right: 0.25em;color: #696969;}#sk-container-id-1 label.sk-toggleable__label-arrow:hover:before {color: black;}#sk-container-id-1 div.sk-estimator:hover label.sk-toggleable__label-arrow:before {color: black;}#sk-container-id-1 div.sk-toggleable__content {max-height: 0;max-width: 0;overflow: hidden;text-align: left;background-color: #f0f8ff;}#sk-container-id-1 div.sk-toggleable__content pre {margin: 0.2em;color: black;border-radius: 0.25em;background-color: #f0f8ff;}#sk-container-id-1 input.sk-toggleable__control:checked~div.sk-toggleable__content {max-height: 200px;max-width: 100%;overflow: auto;}#sk-container-id-1 input.sk-toggleable__control:checked~label.sk-toggleable__label-arrow:before {content: \"▾\";}#sk-container-id-1 div.sk-estimator input.sk-toggleable__control:checked~label.sk-toggleable__label {background-color: #d4ebff;}#sk-container-id-1 div.sk-label input.sk-toggleable__control:checked~label.sk-toggleable__label {background-color: #d4ebff;}#sk-container-id-1 input.sk-hidden--visually {border: 0;clip: rect(1px 1px 1px 1px);clip: rect(1px, 1px, 1px, 1px);height: 1px;margin: -1px;overflow: hidden;padding: 0;position: absolute;width: 1px;}#sk-container-id-1 div.sk-estimator {font-family: monospace;background-color: #f0f8ff;border: 1px dotted black;border-radius: 0.25em;box-sizing: border-box;margin-bottom: 0.5em;}#sk-container-id-1 div.sk-estimator:hover {background-color: #d4ebff;}#sk-container-id-1 div.sk-parallel-item::after {content: \"\";width: 100%;border-bottom: 1px solid gray;flex-grow: 1;}#sk-container-id-1 div.sk-label:hover label.sk-toggleable__label {background-color: #d4ebff;}#sk-container-id-1 div.sk-serial::before {content: \"\";position: absolute;border-left: 1px solid gray;box-sizing: border-box;top: 0;bottom: 0;left: 50%;z-index: 0;}#sk-container-id-1 div.sk-serial {display: flex;flex-direction: column;align-items: center;background-color: white;padding-right: 0.2em;padding-left: 0.2em;position: relative;}#sk-container-id-1 div.sk-item {position: relative;z-index: 1;}#sk-container-id-1 div.sk-parallel {display: flex;align-items: stretch;justify-content: center;background-color: white;position: relative;}#sk-container-id-1 div.sk-item::before, #sk-container-id-1 div.sk-parallel-item::before {content: \"\";position: absolute;border-left: 1px solid gray;box-sizing: border-box;top: 0;bottom: 0;left: 50%;z-index: -1;}#sk-container-id-1 div.sk-parallel-item {display: flex;flex-direction: column;z-index: 1;position: relative;background-color: white;}#sk-container-id-1 div.sk-parallel-item:first-child::after {align-self: flex-end;width: 50%;}#sk-container-id-1 div.sk-parallel-item:last-child::after {align-self: flex-start;width: 50%;}#sk-container-id-1 div.sk-parallel-item:only-child::after {width: 0;}#sk-container-id-1 div.sk-dashed-wrapped {border: 1px dashed gray;margin: 0 0.4em 0.5em 0.4em;box-sizing: border-box;padding-bottom: 0.4em;background-color: white;}#sk-container-id-1 div.sk-label label {font-family: monospace;font-weight: bold;display: inline-block;line-height: 1.2em;}#sk-container-id-1 div.sk-label-container {text-align: center;}#sk-container-id-1 div.sk-container {/* jupyter's `normalize.less` sets `[hidden] { display: none; }` but bootstrap.min.css set `[hidden] { display: none !important; }` so we also need the `!important` here to be able to override the default hidden behavior on the sphinx rendered scikit-learn.org. See: https://github.com/scikit-learn/scikit-learn/issues/21755 */display: inline-block !important;position: relative;}#sk-container-id-1 div.sk-text-repr-fallback {display: none;}</style><div id=\"sk-container-id-1\" class=\"sk-top-container\"><div class=\"sk-text-repr-fallback\"><pre>LogisticRegression(random_state=1)</pre><b>In a Jupyter environment, please rerun this cell to show the HTML representation or trust the notebook. <br />On GitHub, the HTML representation is unable to render, please try loading this page with nbviewer.org.</b></div><div class=\"sk-container\" hidden><div class=\"sk-item\"><div class=\"sk-estimator sk-toggleable\"><input class=\"sk-toggleable__control sk-hidden--visually\" id=\"sk-estimator-id-1\" type=\"checkbox\" checked><label for=\"sk-estimator-id-1\" class=\"sk-toggleable__label sk-toggleable__label-arrow\">LogisticRegression</label><div class=\"sk-toggleable__content\"><pre>LogisticRegression(random_state=1)</pre></div></div></div></div></div>"
      ],
      "text/plain": [
       "LogisticRegression(random_state=1)"
      ]
     },
     "execution_count": 7,
     "metadata": {},
     "output_type": "execute_result"
    }
   ],
   "source": [
    "from sklearn.linear_model import LogisticRegression # Importando a classe de classificação\n",
    "model = LogisticRegression(random_state=1)          # Criando um objeto de predição que usa regressão logística\n",
    "model.fit(X_train, y_train)                         # Ajustando o modelo"
   ]
  },
  {
   "cell_type": "markdown",
   "id": "8d20c0d9",
   "metadata": {},
   "source": [
    "#### Checando ajuste do modelo"
   ]
  },
  {
   "cell_type": "markdown",
   "id": "ef42e2ff",
   "metadata": {},
   "source": [
    "Primeiramente sempre gosto de avaliar se o modelo conseguiu se ajustar aos dados. Faço isso realizando predição sobre o próprio dado treinado."
   ]
  },
  {
   "cell_type": "code",
   "execution_count": 8,
   "id": "c371977d",
   "metadata": {
    "scrolled": false
   },
   "outputs": [],
   "source": [
    "from sklearn.metrics import accuracy_score, confusion_matrix, classification_report"
   ]
  },
  {
   "cell_type": "code",
   "execution_count": 9,
   "id": "494a05b3",
   "metadata": {
    "scrolled": true
   },
   "outputs": [
    {
     "name": "stdout",
     "output_type": "stream",
     "text": [
      "Overfitted Accuracy: 89.85%\n"
     ]
    }
   ],
   "source": [
    "overfitted_pred = model.predict(X_train)\n",
    "accuracy = accuracy_score(y_train, overfitted_pred)\n",
    "print(f\"Overfitted Accuracy: {accuracy * 100:.2f}%\")"
   ]
  },
  {
   "cell_type": "markdown",
   "id": "db9006cc",
   "metadata": {},
   "source": [
    "#### Predição"
   ]
  },
  {
   "cell_type": "code",
   "execution_count": 10,
   "id": "abd2e396",
   "metadata": {
    "scrolled": false
   },
   "outputs": [
    {
     "name": "stdout",
     "output_type": "stream",
     "text": [
      "Accuracy: 86.67%\n",
      "Confusion Matrix:\n",
      " [[68  4]\n",
      " [16 62]]\n",
      "Classification Report:\n",
      "               precision    recall  f1-score   support\n",
      "\n",
      "           0       0.81      0.94      0.87        72\n",
      "           1       0.94      0.79      0.86        78\n",
      "\n",
      "    accuracy                           0.87       150\n",
      "   macro avg       0.87      0.87      0.87       150\n",
      "weighted avg       0.88      0.87      0.87       150\n",
      "\n"
     ]
    }
   ],
   "source": [
    "y_pred = model.predict(X_validation)\n",
    "\n",
    "# Evaluate the model\n",
    "accuracy = accuracy_score(y_validation, y_pred)\n",
    "confusion = confusion_matrix(y_validation, y_pred)\n",
    "classification_rep = classification_report(y_validation, y_pred)\n",
    "\n",
    "print(f\"Accuracy: {accuracy * 100:.2f}%\")\n",
    "print(\"Confusion Matrix:\\n\", confusion)\n",
    "print(\"Classification Report:\\n\", classification_rep)"
   ]
  },
  {
   "cell_type": "markdown",
   "id": "29e80694",
   "metadata": {},
   "source": [
    "#### Preprocessamento para teste do modelo\n",
    "Como o dataset de teste está em outro arquivo (credtest.txt), será necessário repetir os passos de preprocessamento usando os objetos já treinados na fase de treinamento do modelo. Os passos são:\n",
    "* Seleção de dados\n",
    "* Separação dos atributos numéricos e categóricos\n",
    "* Utilização dos objetos de preprocessamento já criados para transformar os novos dados (scaler e codificador)\n",
    "* Junção do dataset\n",
    "* Teste final"
   ]
  },
  {
   "cell_type": "code",
   "execution_count": 11,
   "id": "729e18b1",
   "metadata": {},
   "outputs": [],
   "source": [
    "test_data = pd.read_csv('cic1205/data/credtest.txt', sep='\\t', names=nome_colunas) # Seleção de dados\n",
    "test_data_cat = test_data[variaveis_categoricas] # Separação dos atributos categóricos\n",
    "test_data_num = test_data[variaveis_numericas]   # Separação dos atributos categóricos\n",
    "test_data_cat_encoded = codificar(test_data_cat)       # Binarização\n",
    "test_data_num_normalized = normalizar(test_data_num)   # Normalização\n",
    "test_data_preprocessed = pd.concat( [ test_data_cat_encoded, test_data_num_normalized, test_data['CLASSE'] ], axis=1 ) # Junção\n",
    "X_test = test_data_preprocessed.iloc[:,:-1] # Conjuntos de dados\n",
    "y_test = test_data_preprocessed.iloc[:,-1]  # Classificações"
   ]
  },
  {
   "cell_type": "markdown",
   "id": "94dc5264",
   "metadata": {},
   "source": [
    "#### Validação"
   ]
  },
  {
   "cell_type": "code",
   "execution_count": 12,
   "id": "c55bea8c",
   "metadata": {
    "scrolled": true
   },
   "outputs": [
    {
     "name": "stdout",
     "output_type": "stream",
     "text": [
      "Accuracy: 89.08%\n",
      "Confusion Matrix:\n",
      " [[295  11]\n",
      " [ 52 219]]\n",
      "Classification Report:\n",
      "               precision    recall  f1-score   support\n",
      "\n",
      "           0       0.85      0.96      0.90       306\n",
      "           1       0.95      0.81      0.87       271\n",
      "\n",
      "    accuracy                           0.89       577\n",
      "   macro avg       0.90      0.89      0.89       577\n",
      "weighted avg       0.90      0.89      0.89       577\n",
      "\n"
     ]
    }
   ],
   "source": [
    "y_pred_test = model.predict(X_test)\n",
    "\n",
    "# Evaluate the model\n",
    "accuracy = accuracy_score(y_test, y_pred_test)\n",
    "confusion = confusion_matrix(y_test, y_pred_test)\n",
    "classification_rep = classification_report(y_test, y_pred_test)\n",
    "\n",
    "print(f\"Accuracy: {accuracy * 100:.2f}%\")\n",
    "print(\"Confusion Matrix:\\n\", confusion)\n",
    "print(\"Classification Report:\\n\", classification_rep)"
   ]
  },
  {
   "cell_type": "markdown",
   "id": "c18f573e",
   "metadata": {},
   "source": [
    "Agora que **todos os conjuntos de dados já foram preprocessados** é possível trabalhar rapidamente com os outros previsores pois todos utilizarão as mesmas baes de dados X_data, X_validation, X_test e y_data, y_validation, y_test"
   ]
  },
  {
   "cell_type": "markdown",
   "id": "f04fd6fc",
   "metadata": {},
   "source": [
    "### DecisionTreeClassifier"
   ]
  },
  {
   "cell_type": "code",
   "execution_count": 13,
   "id": "7933e329",
   "metadata": {
    "scrolled": true
   },
   "outputs": [
    {
     "data": {
      "text/html": [
       "<style>#sk-container-id-2 {color: black;}#sk-container-id-2 pre{padding: 0;}#sk-container-id-2 div.sk-toggleable {background-color: white;}#sk-container-id-2 label.sk-toggleable__label {cursor: pointer;display: block;width: 100%;margin-bottom: 0;padding: 0.3em;box-sizing: border-box;text-align: center;}#sk-container-id-2 label.sk-toggleable__label-arrow:before {content: \"▸\";float: left;margin-right: 0.25em;color: #696969;}#sk-container-id-2 label.sk-toggleable__label-arrow:hover:before {color: black;}#sk-container-id-2 div.sk-estimator:hover label.sk-toggleable__label-arrow:before {color: black;}#sk-container-id-2 div.sk-toggleable__content {max-height: 0;max-width: 0;overflow: hidden;text-align: left;background-color: #f0f8ff;}#sk-container-id-2 div.sk-toggleable__content pre {margin: 0.2em;color: black;border-radius: 0.25em;background-color: #f0f8ff;}#sk-container-id-2 input.sk-toggleable__control:checked~div.sk-toggleable__content {max-height: 200px;max-width: 100%;overflow: auto;}#sk-container-id-2 input.sk-toggleable__control:checked~label.sk-toggleable__label-arrow:before {content: \"▾\";}#sk-container-id-2 div.sk-estimator input.sk-toggleable__control:checked~label.sk-toggleable__label {background-color: #d4ebff;}#sk-container-id-2 div.sk-label input.sk-toggleable__control:checked~label.sk-toggleable__label {background-color: #d4ebff;}#sk-container-id-2 input.sk-hidden--visually {border: 0;clip: rect(1px 1px 1px 1px);clip: rect(1px, 1px, 1px, 1px);height: 1px;margin: -1px;overflow: hidden;padding: 0;position: absolute;width: 1px;}#sk-container-id-2 div.sk-estimator {font-family: monospace;background-color: #f0f8ff;border: 1px dotted black;border-radius: 0.25em;box-sizing: border-box;margin-bottom: 0.5em;}#sk-container-id-2 div.sk-estimator:hover {background-color: #d4ebff;}#sk-container-id-2 div.sk-parallel-item::after {content: \"\";width: 100%;border-bottom: 1px solid gray;flex-grow: 1;}#sk-container-id-2 div.sk-label:hover label.sk-toggleable__label {background-color: #d4ebff;}#sk-container-id-2 div.sk-serial::before {content: \"\";position: absolute;border-left: 1px solid gray;box-sizing: border-box;top: 0;bottom: 0;left: 50%;z-index: 0;}#sk-container-id-2 div.sk-serial {display: flex;flex-direction: column;align-items: center;background-color: white;padding-right: 0.2em;padding-left: 0.2em;position: relative;}#sk-container-id-2 div.sk-item {position: relative;z-index: 1;}#sk-container-id-2 div.sk-parallel {display: flex;align-items: stretch;justify-content: center;background-color: white;position: relative;}#sk-container-id-2 div.sk-item::before, #sk-container-id-2 div.sk-parallel-item::before {content: \"\";position: absolute;border-left: 1px solid gray;box-sizing: border-box;top: 0;bottom: 0;left: 50%;z-index: -1;}#sk-container-id-2 div.sk-parallel-item {display: flex;flex-direction: column;z-index: 1;position: relative;background-color: white;}#sk-container-id-2 div.sk-parallel-item:first-child::after {align-self: flex-end;width: 50%;}#sk-container-id-2 div.sk-parallel-item:last-child::after {align-self: flex-start;width: 50%;}#sk-container-id-2 div.sk-parallel-item:only-child::after {width: 0;}#sk-container-id-2 div.sk-dashed-wrapped {border: 1px dashed gray;margin: 0 0.4em 0.5em 0.4em;box-sizing: border-box;padding-bottom: 0.4em;background-color: white;}#sk-container-id-2 div.sk-label label {font-family: monospace;font-weight: bold;display: inline-block;line-height: 1.2em;}#sk-container-id-2 div.sk-label-container {text-align: center;}#sk-container-id-2 div.sk-container {/* jupyter's `normalize.less` sets `[hidden] { display: none; }` but bootstrap.min.css set `[hidden] { display: none !important; }` so we also need the `!important` here to be able to override the default hidden behavior on the sphinx rendered scikit-learn.org. See: https://github.com/scikit-learn/scikit-learn/issues/21755 */display: inline-block !important;position: relative;}#sk-container-id-2 div.sk-text-repr-fallback {display: none;}</style><div id=\"sk-container-id-2\" class=\"sk-top-container\"><div class=\"sk-text-repr-fallback\"><pre>DecisionTreeClassifier(random_state=1)</pre><b>In a Jupyter environment, please rerun this cell to show the HTML representation or trust the notebook. <br />On GitHub, the HTML representation is unable to render, please try loading this page with nbviewer.org.</b></div><div class=\"sk-container\" hidden><div class=\"sk-item\"><div class=\"sk-estimator sk-toggleable\"><input class=\"sk-toggleable__control sk-hidden--visually\" id=\"sk-estimator-id-2\" type=\"checkbox\" checked><label for=\"sk-estimator-id-2\" class=\"sk-toggleable__label sk-toggleable__label-arrow\">DecisionTreeClassifier</label><div class=\"sk-toggleable__content\"><pre>DecisionTreeClassifier(random_state=1)</pre></div></div></div></div></div>"
      ],
      "text/plain": [
       "DecisionTreeClassifier(random_state=1)"
      ]
     },
     "execution_count": 13,
     "metadata": {},
     "output_type": "execute_result"
    }
   ],
   "source": [
    "from sklearn.tree import DecisionTreeClassifier  # Importando Classe de treinamento de árvore de decisão\n",
    "model = DecisionTreeClassifier(random_state=1)   # Instanciando objeto classificador\n",
    "model.fit(X_train, y_train)                      # Ajustando o modelo"
   ]
  },
  {
   "cell_type": "code",
   "execution_count": 14,
   "id": "e587ae0c",
   "metadata": {},
   "outputs": [
    {
     "name": "stdout",
     "output_type": "stream",
     "text": [
      "Overfitted Accuracy: 100.00%\n"
     ]
    }
   ],
   "source": [
    "overfitted_pred = model.predict(X_train)                # Checando se o modelo ajustou aos dados\n",
    "accuracy = accuracy_score(y_train, overfitted_pred)\n",
    "print(f\"Overfitted Accuracy: {accuracy * 100:.2f}%\")"
   ]
  },
  {
   "cell_type": "markdown",
   "id": "9285a3af",
   "metadata": {},
   "source": [
    "#### Predições (teste e validação)"
   ]
  },
  {
   "cell_type": "code",
   "execution_count": 15,
   "id": "02076efe",
   "metadata": {},
   "outputs": [
    {
     "name": "stdout",
     "output_type": "stream",
     "text": [
      "Accuracy: 83.33%\n",
      "Confusion Matrix:\n",
      " [[62 10]\n",
      " [15 63]]\n",
      "Classification Report:\n",
      "               precision    recall  f1-score   support\n",
      "\n",
      "           0       0.81      0.86      0.83        72\n",
      "           1       0.86      0.81      0.83        78\n",
      "\n",
      "    accuracy                           0.83       150\n",
      "   macro avg       0.83      0.83      0.83       150\n",
      "weighted avg       0.84      0.83      0.83       150\n",
      "\n"
     ]
    }
   ],
   "source": [
    "y_pred_validation = model.predict(X_validation)\n",
    "\n",
    "# Evaluate the model\n",
    "accuracy = accuracy_score(y_validation, y_pred_validation)\n",
    "confusion = confusion_matrix(y_validation, y_pred_validation)\n",
    "classification_rep = classification_report(y_validation, y_pred_validation)\n",
    "\n",
    "print(f\"Accuracy: {accuracy * 100:.2f}%\")\n",
    "print(\"Confusion Matrix:\\n\", confusion)\n",
    "print(\"Classification Report:\\n\", classification_rep)"
   ]
  },
  {
   "cell_type": "code",
   "execution_count": 16,
   "id": "b9b6d6be",
   "metadata": {},
   "outputs": [
    {
     "name": "stdout",
     "output_type": "stream",
     "text": [
      "Accuracy: 86.66%\n",
      "Confusion Matrix:\n",
      " [[268  38]\n",
      " [ 39 232]]\n",
      "Classification Report:\n",
      "               precision    recall  f1-score   support\n",
      "\n",
      "           0       0.87      0.88      0.87       306\n",
      "           1       0.86      0.86      0.86       271\n",
      "\n",
      "    accuracy                           0.87       577\n",
      "   macro avg       0.87      0.87      0.87       577\n",
      "weighted avg       0.87      0.87      0.87       577\n",
      "\n"
     ]
    }
   ],
   "source": [
    "y_pred = model.predict(X_test)\n",
    "\n",
    "# Evaluate the model\n",
    "accuracy = accuracy_score(y_test, y_pred)\n",
    "confusion = confusion_matrix(y_test, y_pred)\n",
    "classification_rep = classification_report(y_test, y_pred)\n",
    "\n",
    "print(f\"Accuracy: {accuracy * 100:.2f}%\")\n",
    "print(\"Confusion Matrix:\\n\", confusion)\n",
    "print(\"Classification Report:\\n\", classification_rep)"
   ]
  },
  {
   "cell_type": "markdown",
   "id": "aadbf8fc",
   "metadata": {},
   "source": [
    "### RandomForestClassifier"
   ]
  },
  {
   "cell_type": "code",
   "execution_count": 17,
   "id": "ad821925",
   "metadata": {},
   "outputs": [
    {
     "data": {
      "text/html": [
       "<style>#sk-container-id-3 {color: black;}#sk-container-id-3 pre{padding: 0;}#sk-container-id-3 div.sk-toggleable {background-color: white;}#sk-container-id-3 label.sk-toggleable__label {cursor: pointer;display: block;width: 100%;margin-bottom: 0;padding: 0.3em;box-sizing: border-box;text-align: center;}#sk-container-id-3 label.sk-toggleable__label-arrow:before {content: \"▸\";float: left;margin-right: 0.25em;color: #696969;}#sk-container-id-3 label.sk-toggleable__label-arrow:hover:before {color: black;}#sk-container-id-3 div.sk-estimator:hover label.sk-toggleable__label-arrow:before {color: black;}#sk-container-id-3 div.sk-toggleable__content {max-height: 0;max-width: 0;overflow: hidden;text-align: left;background-color: #f0f8ff;}#sk-container-id-3 div.sk-toggleable__content pre {margin: 0.2em;color: black;border-radius: 0.25em;background-color: #f0f8ff;}#sk-container-id-3 input.sk-toggleable__control:checked~div.sk-toggleable__content {max-height: 200px;max-width: 100%;overflow: auto;}#sk-container-id-3 input.sk-toggleable__control:checked~label.sk-toggleable__label-arrow:before {content: \"▾\";}#sk-container-id-3 div.sk-estimator input.sk-toggleable__control:checked~label.sk-toggleable__label {background-color: #d4ebff;}#sk-container-id-3 div.sk-label input.sk-toggleable__control:checked~label.sk-toggleable__label {background-color: #d4ebff;}#sk-container-id-3 input.sk-hidden--visually {border: 0;clip: rect(1px 1px 1px 1px);clip: rect(1px, 1px, 1px, 1px);height: 1px;margin: -1px;overflow: hidden;padding: 0;position: absolute;width: 1px;}#sk-container-id-3 div.sk-estimator {font-family: monospace;background-color: #f0f8ff;border: 1px dotted black;border-radius: 0.25em;box-sizing: border-box;margin-bottom: 0.5em;}#sk-container-id-3 div.sk-estimator:hover {background-color: #d4ebff;}#sk-container-id-3 div.sk-parallel-item::after {content: \"\";width: 100%;border-bottom: 1px solid gray;flex-grow: 1;}#sk-container-id-3 div.sk-label:hover label.sk-toggleable__label {background-color: #d4ebff;}#sk-container-id-3 div.sk-serial::before {content: \"\";position: absolute;border-left: 1px solid gray;box-sizing: border-box;top: 0;bottom: 0;left: 50%;z-index: 0;}#sk-container-id-3 div.sk-serial {display: flex;flex-direction: column;align-items: center;background-color: white;padding-right: 0.2em;padding-left: 0.2em;position: relative;}#sk-container-id-3 div.sk-item {position: relative;z-index: 1;}#sk-container-id-3 div.sk-parallel {display: flex;align-items: stretch;justify-content: center;background-color: white;position: relative;}#sk-container-id-3 div.sk-item::before, #sk-container-id-3 div.sk-parallel-item::before {content: \"\";position: absolute;border-left: 1px solid gray;box-sizing: border-box;top: 0;bottom: 0;left: 50%;z-index: -1;}#sk-container-id-3 div.sk-parallel-item {display: flex;flex-direction: column;z-index: 1;position: relative;background-color: white;}#sk-container-id-3 div.sk-parallel-item:first-child::after {align-self: flex-end;width: 50%;}#sk-container-id-3 div.sk-parallel-item:last-child::after {align-self: flex-start;width: 50%;}#sk-container-id-3 div.sk-parallel-item:only-child::after {width: 0;}#sk-container-id-3 div.sk-dashed-wrapped {border: 1px dashed gray;margin: 0 0.4em 0.5em 0.4em;box-sizing: border-box;padding-bottom: 0.4em;background-color: white;}#sk-container-id-3 div.sk-label label {font-family: monospace;font-weight: bold;display: inline-block;line-height: 1.2em;}#sk-container-id-3 div.sk-label-container {text-align: center;}#sk-container-id-3 div.sk-container {/* jupyter's `normalize.less` sets `[hidden] { display: none; }` but bootstrap.min.css set `[hidden] { display: none !important; }` so we also need the `!important` here to be able to override the default hidden behavior on the sphinx rendered scikit-learn.org. See: https://github.com/scikit-learn/scikit-learn/issues/21755 */display: inline-block !important;position: relative;}#sk-container-id-3 div.sk-text-repr-fallback {display: none;}</style><div id=\"sk-container-id-3\" class=\"sk-top-container\"><div class=\"sk-text-repr-fallback\"><pre>RandomForestClassifier(random_state=1)</pre><b>In a Jupyter environment, please rerun this cell to show the HTML representation or trust the notebook. <br />On GitHub, the HTML representation is unable to render, please try loading this page with nbviewer.org.</b></div><div class=\"sk-container\" hidden><div class=\"sk-item\"><div class=\"sk-estimator sk-toggleable\"><input class=\"sk-toggleable__control sk-hidden--visually\" id=\"sk-estimator-id-3\" type=\"checkbox\" checked><label for=\"sk-estimator-id-3\" class=\"sk-toggleable__label sk-toggleable__label-arrow\">RandomForestClassifier</label><div class=\"sk-toggleable__content\"><pre>RandomForestClassifier(random_state=1)</pre></div></div></div></div></div>"
      ],
      "text/plain": [
       "RandomForestClassifier(random_state=1)"
      ]
     },
     "execution_count": 17,
     "metadata": {},
     "output_type": "execute_result"
    }
   ],
   "source": [
    "from sklearn.ensemble import RandomForestClassifier  # Importando Classe de treinamento de floresta randomica\n",
    "model = RandomForestClassifier(random_state=1)       # Instanciando objeto classificador\n",
    "model.fit(X_train, y_train)                          # Ajustando o modelo"
   ]
  },
  {
   "cell_type": "code",
   "execution_count": 18,
   "id": "6b76bbe4",
   "metadata": {
    "scrolled": true
   },
   "outputs": [
    {
     "name": "stdout",
     "output_type": "stream",
     "text": [
      "Overfitted Accuracy: 100.00%\n"
     ]
    }
   ],
   "source": [
    "overfitted_pred = model.predict(X_train)                # Checando se o modelo ajustou aos dados\n",
    "accuracy = accuracy_score(y_train, overfitted_pred)\n",
    "print(f\"Overfitted Accuracy: {accuracy * 100:.2f}%\")"
   ]
  },
  {
   "cell_type": "markdown",
   "id": "30fe8158",
   "metadata": {},
   "source": [
    "#### Predições (teste e validação)"
   ]
  },
  {
   "cell_type": "code",
   "execution_count": 19,
   "id": "abd467c9",
   "metadata": {
    "scrolled": false
   },
   "outputs": [
    {
     "name": "stdout",
     "output_type": "stream",
     "text": [
      "Accuracy: 88.00%\n",
      "Confusion Matrix:\n",
      " [[68  4]\n",
      " [14 64]]\n",
      "Classification Report:\n",
      "               precision    recall  f1-score   support\n",
      "\n",
      "           0       0.83      0.94      0.88        72\n",
      "           1       0.94      0.82      0.88        78\n",
      "\n",
      "    accuracy                           0.88       150\n",
      "   macro avg       0.89      0.88      0.88       150\n",
      "weighted avg       0.89      0.88      0.88       150\n",
      "\n"
     ]
    }
   ],
   "source": [
    "y_pred_validation = model.predict(X_validation) # Resultados no set de validação\n",
    "\n",
    "# Evaluate the model\n",
    "accuracy = accuracy_score(y_validation, y_pred_validation)\n",
    "confusion = confusion_matrix(y_validation, y_pred_validation)\n",
    "classification_rep = classification_report(y_validation, y_pred_validation)\n",
    "\n",
    "print(f\"Accuracy: {accuracy * 100:.2f}%\")\n",
    "print(\"Confusion Matrix:\\n\", confusion)\n",
    "print(\"Classification Report:\\n\", classification_rep)"
   ]
  },
  {
   "cell_type": "code",
   "execution_count": 20,
   "id": "e5b52d73",
   "metadata": {},
   "outputs": [
    {
     "name": "stdout",
     "output_type": "stream",
     "text": [
      "Accuracy: 89.43%\n",
      "Confusion Matrix:\n",
      " [[292  14]\n",
      " [ 47 224]]\n",
      "Classification Report:\n",
      "               precision    recall  f1-score   support\n",
      "\n",
      "           0       0.86      0.95      0.91       306\n",
      "           1       0.94      0.83      0.88       271\n",
      "\n",
      "    accuracy                           0.89       577\n",
      "   macro avg       0.90      0.89      0.89       577\n",
      "weighted avg       0.90      0.89      0.89       577\n",
      "\n"
     ]
    }
   ],
   "source": [
    "y_pred = model.predict(X_test) # Resultados no set de test\n",
    "\n",
    "# Evaluate the model\n",
    "accuracy = accuracy_score(y_test, y_pred)\n",
    "confusion = confusion_matrix(y_test, y_pred)\n",
    "classification_rep = classification_report(y_test, y_pred)\n",
    "\n",
    "print(f\"Accuracy: {accuracy * 100:.2f}%\")\n",
    "print(\"Confusion Matrix:\\n\", confusion)\n",
    "print(\"Classification Report:\\n\", classification_rep)"
   ]
  },
  {
   "cell_type": "markdown",
   "id": "8411614d",
   "metadata": {},
   "source": [
    "### KNeighborsClassifier"
   ]
  },
  {
   "cell_type": "code",
   "execution_count": 21,
   "id": "3fb37716",
   "metadata": {},
   "outputs": [
    {
     "data": {
      "text/html": [
       "<style>#sk-container-id-4 {color: black;}#sk-container-id-4 pre{padding: 0;}#sk-container-id-4 div.sk-toggleable {background-color: white;}#sk-container-id-4 label.sk-toggleable__label {cursor: pointer;display: block;width: 100%;margin-bottom: 0;padding: 0.3em;box-sizing: border-box;text-align: center;}#sk-container-id-4 label.sk-toggleable__label-arrow:before {content: \"▸\";float: left;margin-right: 0.25em;color: #696969;}#sk-container-id-4 label.sk-toggleable__label-arrow:hover:before {color: black;}#sk-container-id-4 div.sk-estimator:hover label.sk-toggleable__label-arrow:before {color: black;}#sk-container-id-4 div.sk-toggleable__content {max-height: 0;max-width: 0;overflow: hidden;text-align: left;background-color: #f0f8ff;}#sk-container-id-4 div.sk-toggleable__content pre {margin: 0.2em;color: black;border-radius: 0.25em;background-color: #f0f8ff;}#sk-container-id-4 input.sk-toggleable__control:checked~div.sk-toggleable__content {max-height: 200px;max-width: 100%;overflow: auto;}#sk-container-id-4 input.sk-toggleable__control:checked~label.sk-toggleable__label-arrow:before {content: \"▾\";}#sk-container-id-4 div.sk-estimator input.sk-toggleable__control:checked~label.sk-toggleable__label {background-color: #d4ebff;}#sk-container-id-4 div.sk-label input.sk-toggleable__control:checked~label.sk-toggleable__label {background-color: #d4ebff;}#sk-container-id-4 input.sk-hidden--visually {border: 0;clip: rect(1px 1px 1px 1px);clip: rect(1px, 1px, 1px, 1px);height: 1px;margin: -1px;overflow: hidden;padding: 0;position: absolute;width: 1px;}#sk-container-id-4 div.sk-estimator {font-family: monospace;background-color: #f0f8ff;border: 1px dotted black;border-radius: 0.25em;box-sizing: border-box;margin-bottom: 0.5em;}#sk-container-id-4 div.sk-estimator:hover {background-color: #d4ebff;}#sk-container-id-4 div.sk-parallel-item::after {content: \"\";width: 100%;border-bottom: 1px solid gray;flex-grow: 1;}#sk-container-id-4 div.sk-label:hover label.sk-toggleable__label {background-color: #d4ebff;}#sk-container-id-4 div.sk-serial::before {content: \"\";position: absolute;border-left: 1px solid gray;box-sizing: border-box;top: 0;bottom: 0;left: 50%;z-index: 0;}#sk-container-id-4 div.sk-serial {display: flex;flex-direction: column;align-items: center;background-color: white;padding-right: 0.2em;padding-left: 0.2em;position: relative;}#sk-container-id-4 div.sk-item {position: relative;z-index: 1;}#sk-container-id-4 div.sk-parallel {display: flex;align-items: stretch;justify-content: center;background-color: white;position: relative;}#sk-container-id-4 div.sk-item::before, #sk-container-id-4 div.sk-parallel-item::before {content: \"\";position: absolute;border-left: 1px solid gray;box-sizing: border-box;top: 0;bottom: 0;left: 50%;z-index: -1;}#sk-container-id-4 div.sk-parallel-item {display: flex;flex-direction: column;z-index: 1;position: relative;background-color: white;}#sk-container-id-4 div.sk-parallel-item:first-child::after {align-self: flex-end;width: 50%;}#sk-container-id-4 div.sk-parallel-item:last-child::after {align-self: flex-start;width: 50%;}#sk-container-id-4 div.sk-parallel-item:only-child::after {width: 0;}#sk-container-id-4 div.sk-dashed-wrapped {border: 1px dashed gray;margin: 0 0.4em 0.5em 0.4em;box-sizing: border-box;padding-bottom: 0.4em;background-color: white;}#sk-container-id-4 div.sk-label label {font-family: monospace;font-weight: bold;display: inline-block;line-height: 1.2em;}#sk-container-id-4 div.sk-label-container {text-align: center;}#sk-container-id-4 div.sk-container {/* jupyter's `normalize.less` sets `[hidden] { display: none; }` but bootstrap.min.css set `[hidden] { display: none !important; }` so we also need the `!important` here to be able to override the default hidden behavior on the sphinx rendered scikit-learn.org. See: https://github.com/scikit-learn/scikit-learn/issues/21755 */display: inline-block !important;position: relative;}#sk-container-id-4 div.sk-text-repr-fallback {display: none;}</style><div id=\"sk-container-id-4\" class=\"sk-top-container\"><div class=\"sk-text-repr-fallback\"><pre>KNeighborsClassifier()</pre><b>In a Jupyter environment, please rerun this cell to show the HTML representation or trust the notebook. <br />On GitHub, the HTML representation is unable to render, please try loading this page with nbviewer.org.</b></div><div class=\"sk-container\" hidden><div class=\"sk-item\"><div class=\"sk-estimator sk-toggleable\"><input class=\"sk-toggleable__control sk-hidden--visually\" id=\"sk-estimator-id-4\" type=\"checkbox\" checked><label for=\"sk-estimator-id-4\" class=\"sk-toggleable__label sk-toggleable__label-arrow\">KNeighborsClassifier</label><div class=\"sk-toggleable__content\"><pre>KNeighborsClassifier()</pre></div></div></div></div></div>"
      ],
      "text/plain": [
       "KNeighborsClassifier()"
      ]
     },
     "execution_count": 21,
     "metadata": {},
     "output_type": "execute_result"
    }
   ],
   "source": [
    "from sklearn.neighbors import KNeighborsClassifier  # Importando Classe de treinamento de K-vizinhos\n",
    "model = KNeighborsClassifier()                      # Instanciando objeto classificador\n",
    "model.fit(X_train.values, y_train)                  # Ajustando o modelo (foi necessário enviar X_train.values )"
   ]
  },
  {
   "cell_type": "code",
   "execution_count": 22,
   "id": "cd882453",
   "metadata": {
    "scrolled": true
   },
   "outputs": [
    {
     "name": "stdout",
     "output_type": "stream",
     "text": [
      "Overfitted Accuracy: 90.22%\n"
     ]
    }
   ],
   "source": [
    "overfitted_pred = model.predict(X_train.values)     # Checando se o modelo ajustou aos dados\n",
    "accuracy = accuracy_score(y_train, overfitted_pred)\n",
    "print(f\"Overfitted Accuracy: {accuracy * 100:.2f}%\")"
   ]
  },
  {
   "cell_type": "markdown",
   "id": "7fdd5387",
   "metadata": {},
   "source": [
    "#### Predições (teste e validação)"
   ]
  },
  {
   "cell_type": "code",
   "execution_count": 23,
   "id": "1521f7fe",
   "metadata": {
    "scrolled": true
   },
   "outputs": [
    {
     "name": "stdout",
     "output_type": "stream",
     "text": [
      "Accuracy: 88.00%\n",
      "Confusion Matrix:\n",
      " [[70  2]\n",
      " [16 62]]\n",
      "Classification Report:\n",
      "               precision    recall  f1-score   support\n",
      "\n",
      "           0       0.81      0.97      0.89        72\n",
      "           1       0.97      0.79      0.87        78\n",
      "\n",
      "    accuracy                           0.88       150\n",
      "   macro avg       0.89      0.88      0.88       150\n",
      "weighted avg       0.89      0.88      0.88       150\n",
      "\n"
     ]
    }
   ],
   "source": [
    "y_pred_validation = model.predict(X_validation.values) # Resultados no set de validação\n",
    "\n",
    "# Evaluate the model\n",
    "accuracy = accuracy_score(y_validation, y_pred_validation)\n",
    "confusion = confusion_matrix(y_validation, y_pred_validation)\n",
    "classification_rep = classification_report(y_validation, y_pred_validation)\n",
    "\n",
    "print(f\"Accuracy: {accuracy * 100:.2f}%\")\n",
    "print(\"Confusion Matrix:\\n\", confusion)\n",
    "print(\"Classification Report:\\n\", classification_rep)"
   ]
  },
  {
   "cell_type": "code",
   "execution_count": 24,
   "id": "2187da4f",
   "metadata": {},
   "outputs": [
    {
     "name": "stdout",
     "output_type": "stream",
     "text": [
      "Accuracy: 88.39%\n",
      "Confusion Matrix:\n",
      " [[290  16]\n",
      " [ 51 220]]\n",
      "Classification Report:\n",
      "               precision    recall  f1-score   support\n",
      "\n",
      "           0       0.85      0.95      0.90       306\n",
      "           1       0.93      0.81      0.87       271\n",
      "\n",
      "    accuracy                           0.88       577\n",
      "   macro avg       0.89      0.88      0.88       577\n",
      "weighted avg       0.89      0.88      0.88       577\n",
      "\n"
     ]
    }
   ],
   "source": [
    "y_pred = model.predict(X_test.values)  # Resultados no set de teste\n",
    "\n",
    "# Evaluate the model\n",
    "accuracy = accuracy_score(y_test, y_pred)\n",
    "confusion = confusion_matrix(y_test, y_pred)\n",
    "classification_rep = classification_report(y_test, y_pred)\n",
    "\n",
    "print(f\"Accuracy: {accuracy * 100:.2f}%\")\n",
    "print(\"Confusion Matrix:\\n\", confusion)\n",
    "print(\"Classification Report:\\n\", classification_rep)"
   ]
  },
  {
   "cell_type": "markdown",
   "id": "291429a1",
   "metadata": {},
   "source": [
    "### GradientBoostingClassifier"
   ]
  },
  {
   "cell_type": "code",
   "execution_count": 25,
   "id": "8ef823bf",
   "metadata": {},
   "outputs": [
    {
     "data": {
      "text/html": [
       "<style>#sk-container-id-5 {color: black;}#sk-container-id-5 pre{padding: 0;}#sk-container-id-5 div.sk-toggleable {background-color: white;}#sk-container-id-5 label.sk-toggleable__label {cursor: pointer;display: block;width: 100%;margin-bottom: 0;padding: 0.3em;box-sizing: border-box;text-align: center;}#sk-container-id-5 label.sk-toggleable__label-arrow:before {content: \"▸\";float: left;margin-right: 0.25em;color: #696969;}#sk-container-id-5 label.sk-toggleable__label-arrow:hover:before {color: black;}#sk-container-id-5 div.sk-estimator:hover label.sk-toggleable__label-arrow:before {color: black;}#sk-container-id-5 div.sk-toggleable__content {max-height: 0;max-width: 0;overflow: hidden;text-align: left;background-color: #f0f8ff;}#sk-container-id-5 div.sk-toggleable__content pre {margin: 0.2em;color: black;border-radius: 0.25em;background-color: #f0f8ff;}#sk-container-id-5 input.sk-toggleable__control:checked~div.sk-toggleable__content {max-height: 200px;max-width: 100%;overflow: auto;}#sk-container-id-5 input.sk-toggleable__control:checked~label.sk-toggleable__label-arrow:before {content: \"▾\";}#sk-container-id-5 div.sk-estimator input.sk-toggleable__control:checked~label.sk-toggleable__label {background-color: #d4ebff;}#sk-container-id-5 div.sk-label input.sk-toggleable__control:checked~label.sk-toggleable__label {background-color: #d4ebff;}#sk-container-id-5 input.sk-hidden--visually {border: 0;clip: rect(1px 1px 1px 1px);clip: rect(1px, 1px, 1px, 1px);height: 1px;margin: -1px;overflow: hidden;padding: 0;position: absolute;width: 1px;}#sk-container-id-5 div.sk-estimator {font-family: monospace;background-color: #f0f8ff;border: 1px dotted black;border-radius: 0.25em;box-sizing: border-box;margin-bottom: 0.5em;}#sk-container-id-5 div.sk-estimator:hover {background-color: #d4ebff;}#sk-container-id-5 div.sk-parallel-item::after {content: \"\";width: 100%;border-bottom: 1px solid gray;flex-grow: 1;}#sk-container-id-5 div.sk-label:hover label.sk-toggleable__label {background-color: #d4ebff;}#sk-container-id-5 div.sk-serial::before {content: \"\";position: absolute;border-left: 1px solid gray;box-sizing: border-box;top: 0;bottom: 0;left: 50%;z-index: 0;}#sk-container-id-5 div.sk-serial {display: flex;flex-direction: column;align-items: center;background-color: white;padding-right: 0.2em;padding-left: 0.2em;position: relative;}#sk-container-id-5 div.sk-item {position: relative;z-index: 1;}#sk-container-id-5 div.sk-parallel {display: flex;align-items: stretch;justify-content: center;background-color: white;position: relative;}#sk-container-id-5 div.sk-item::before, #sk-container-id-5 div.sk-parallel-item::before {content: \"\";position: absolute;border-left: 1px solid gray;box-sizing: border-box;top: 0;bottom: 0;left: 50%;z-index: -1;}#sk-container-id-5 div.sk-parallel-item {display: flex;flex-direction: column;z-index: 1;position: relative;background-color: white;}#sk-container-id-5 div.sk-parallel-item:first-child::after {align-self: flex-end;width: 50%;}#sk-container-id-5 div.sk-parallel-item:last-child::after {align-self: flex-start;width: 50%;}#sk-container-id-5 div.sk-parallel-item:only-child::after {width: 0;}#sk-container-id-5 div.sk-dashed-wrapped {border: 1px dashed gray;margin: 0 0.4em 0.5em 0.4em;box-sizing: border-box;padding-bottom: 0.4em;background-color: white;}#sk-container-id-5 div.sk-label label {font-family: monospace;font-weight: bold;display: inline-block;line-height: 1.2em;}#sk-container-id-5 div.sk-label-container {text-align: center;}#sk-container-id-5 div.sk-container {/* jupyter's `normalize.less` sets `[hidden] { display: none; }` but bootstrap.min.css set `[hidden] { display: none !important; }` so we also need the `!important` here to be able to override the default hidden behavior on the sphinx rendered scikit-learn.org. See: https://github.com/scikit-learn/scikit-learn/issues/21755 */display: inline-block !important;position: relative;}#sk-container-id-5 div.sk-text-repr-fallback {display: none;}</style><div id=\"sk-container-id-5\" class=\"sk-top-container\"><div class=\"sk-text-repr-fallback\"><pre>GradientBoostingClassifier(random_state=1)</pre><b>In a Jupyter environment, please rerun this cell to show the HTML representation or trust the notebook. <br />On GitHub, the HTML representation is unable to render, please try loading this page with nbviewer.org.</b></div><div class=\"sk-container\" hidden><div class=\"sk-item\"><div class=\"sk-estimator sk-toggleable\"><input class=\"sk-toggleable__control sk-hidden--visually\" id=\"sk-estimator-id-5\" type=\"checkbox\" checked><label for=\"sk-estimator-id-5\" class=\"sk-toggleable__label sk-toggleable__label-arrow\">GradientBoostingClassifier</label><div class=\"sk-toggleable__content\"><pre>GradientBoostingClassifier(random_state=1)</pre></div></div></div></div></div>"
      ],
      "text/plain": [
       "GradientBoostingClassifier(random_state=1)"
      ]
     },
     "execution_count": 25,
     "metadata": {},
     "output_type": "execute_result"
    }
   ],
   "source": [
    "from sklearn.ensemble import GradientBoostingClassifier  # Importando Classe de treinamento de Aumento de Gradiente\n",
    "model = GradientBoostingClassifier(random_state=1)       # Instanciando objeto classificador\n",
    "model.fit(X_train, y_train)                              # Ajustando o modelo"
   ]
  },
  {
   "cell_type": "code",
   "execution_count": 26,
   "id": "b7334d90",
   "metadata": {
    "scrolled": true
   },
   "outputs": [
    {
     "name": "stdout",
     "output_type": "stream",
     "text": [
      "Overfitted Accuracy: 93.63%\n"
     ]
    }
   ],
   "source": [
    "overfitted_pred = model.predict(X_train)                # Checando se o modelo ajustou aos dados\n",
    "accuracy = accuracy_score(y_train, overfitted_pred)\n",
    "print(f\"Overfitted Accuracy: {accuracy * 100:.2f}%\")"
   ]
  },
  {
   "cell_type": "markdown",
   "id": "ea08d7ac",
   "metadata": {},
   "source": [
    "#### Predições (teste e validação)"
   ]
  },
  {
   "cell_type": "code",
   "execution_count": 27,
   "id": "5b19923d",
   "metadata": {
    "scrolled": true
   },
   "outputs": [
    {
     "name": "stdout",
     "output_type": "stream",
     "text": [
      "Accuracy: 89.33%\n",
      "Confusion Matrix:\n",
      " [[70  2]\n",
      " [14 64]]\n",
      "Classification Report:\n",
      "               precision    recall  f1-score   support\n",
      "\n",
      "           0       0.83      0.97      0.90        72\n",
      "           1       0.97      0.82      0.89        78\n",
      "\n",
      "    accuracy                           0.89       150\n",
      "   macro avg       0.90      0.90      0.89       150\n",
      "weighted avg       0.90      0.89      0.89       150\n",
      "\n"
     ]
    }
   ],
   "source": [
    "y_pred_validation = model.predict(X_validation) # Resultados no set de validação\n",
    "\n",
    "# Evaluate the model\n",
    "accuracy = accuracy_score(y_validation, y_pred_validation)\n",
    "confusion = confusion_matrix(y_validation, y_pred_validation)\n",
    "classification_rep = classification_report(y_validation, y_pred_validation)\n",
    "\n",
    "print(f\"Accuracy: {accuracy * 100:.2f}%\")\n",
    "print(\"Confusion Matrix:\\n\", confusion)\n",
    "print(\"Classification Report:\\n\", classification_rep)"
   ]
  },
  {
   "cell_type": "code",
   "execution_count": 28,
   "id": "0b57fa1b",
   "metadata": {},
   "outputs": [
    {
     "name": "stdout",
     "output_type": "stream",
     "text": [
      "Accuracy: 90.29%\n",
      "Confusion Matrix:\n",
      " [[296  10]\n",
      " [ 46 225]]\n",
      "Classification Report:\n",
      "               precision    recall  f1-score   support\n",
      "\n",
      "           0       0.87      0.97      0.91       306\n",
      "           1       0.96      0.83      0.89       271\n",
      "\n",
      "    accuracy                           0.90       577\n",
      "   macro avg       0.91      0.90      0.90       577\n",
      "weighted avg       0.91      0.90      0.90       577\n",
      "\n"
     ]
    }
   ],
   "source": [
    "y_pred = model.predict(X_test) # Resultados no set de testes\n",
    "\n",
    "# Evaluate the model\n",
    "accuracy = accuracy_score(y_test, y_pred)\n",
    "confusion = confusion_matrix(y_test, y_pred)\n",
    "classification_rep = classification_report(y_test, y_pred)\n",
    "\n",
    "print(f\"Accuracy: {accuracy * 100:.2f}%\")\n",
    "print(\"Confusion Matrix:\\n\", confusion)\n",
    "print(\"Classification Report:\\n\", classification_rep)"
   ]
  },
  {
   "cell_type": "markdown",
   "id": "76a641d9",
   "metadata": {},
   "source": [
    "### Resultados finais (macro avg F1)\n",
    "\n",
    "- Sklearn.linear_model.LogisticRegression     : 0.89\n",
    "- Sklearn.tree.DecisionTreeClassifier         : 0.87\n",
    "- Sklearn.ensemble.RandomForestClassifier     : 0.89\n",
    "- Sklearn.neighbors.KNeighborsClassifier      : 0.88\n",
    "- Sklearn.ensemble.GradientBoostingClassifier : 0.90"
   ]
  },
  {
   "cell_type": "markdown",
   "id": "d8114790",
   "metadata": {},
   "source": [
    "# 2 Predição de preços de diamantes"
   ]
  },
  {
   "cell_type": "markdown",
   "id": "e71972e3",
   "metadata": {},
   "source": [
    "### Resumo:\n",
    "* Regressão | diamonds.csv\n",
    "* Preprocessamentos: one-hot encoding e normalização\n",
    "* Mining: LinearRegression, Lasso, DecisionTreeRegressor, RandomForestRegressor, KNeighborsRegressor, GradientBoostingRegressor"
   ]
  },
  {
   "cell_type": "markdown",
   "id": "f7158f9a",
   "metadata": {},
   "source": [
    "## Seleção dos dados\n",
    "Primeiramente é necessário baixar a base de dados"
   ]
  },
  {
   "cell_type": "code",
   "execution_count": 53,
   "id": "bd05446a",
   "metadata": {},
   "outputs": [],
   "source": [
    "data = pd.read_csv('cic1205/data/diamonds.csv', index_col=0) # index_col=0 ignora uma coluna de indexes"
   ]
  },
  {
   "cell_type": "markdown",
   "id": "cf4018b3",
   "metadata": {},
   "source": [
    "## Preprocessamento\n",
    "Agora tratarei os atributos categóricos e não categóricos.\n",
    "* Categóricos: Serão codificados em novas variáveis binárias utilizando codificação one-hot (one-hot encoding)\n",
    "* Não categóricos: Serão normalizados\n",
    "* Ambos serão unidos num dataframe final"
   ]
  },
  {
   "cell_type": "code",
   "execution_count": 77,
   "id": "b198af98",
   "metadata": {},
   "outputs": [],
   "source": [
    "# Lista de variáveis categóricas\n",
    "variaveis_categoricas = ['cut', 'color', 'clarity']\n",
    "\n",
    "# Lista de variáveis numéricas\n",
    "variaveis_numericas = ['carat', 'depth', 'table', 'x', 'y', 'z']\n",
    "\n",
    "# Dataframe com variaveis categoricas\n",
    "data_cat = data[variaveis_categoricas]\n",
    "\n",
    "# Dataframe com variaveis numericas\n",
    "data_num = data[variaveis_numericas]\n",
    "\n",
    "# Series com variavel do preço\n",
    "variavel_preco = ['price']\n",
    "data_preco = data[variavel_preco]\n",
    "data_preco.reset_index(drop=True, inplace=True) # Foi necessário alinhar o index aqui"
   ]
  },
  {
   "cell_type": "markdown",
   "id": "ffffd106",
   "metadata": {},
   "source": [
    "### Codificação One-hot"
   ]
  },
  {
   "cell_type": "code",
   "execution_count": 62,
   "id": "fa391095",
   "metadata": {},
   "outputs": [],
   "source": [
    "from sklearn.preprocessing import OneHotEncoder # Classe para binarizar atributos\n",
    "\n",
    "codificador = OneHotEncoder(sparse_output=False)   # Criando o objeto codificador\n",
    "codificador.fit(data_cat)                          # Ajustando o objeto aos dados\n",
    "\n",
    "def codificar(input_df):\n",
    "    nparray_encoded = codificador.transform(input_df) # Criando um novo dataframe já codificado\n",
    "    column_names = codificador.get_feature_names_out(input_features=input_df.columns)\n",
    "    data_cat_encoded = pd.DataFrame(nparray_encoded, columns=column_names)\n",
    "    return data_cat_encoded\n",
    "    \n",
    "data_cat_encoded = codificar(data_cat)"
   ]
  },
  {
   "cell_type": "markdown",
   "id": "aeb3c6cc",
   "metadata": {},
   "source": [
    "### Normalização"
   ]
  },
  {
   "cell_type": "code",
   "execution_count": 64,
   "id": "d7991ca7",
   "metadata": {},
   "outputs": [],
   "source": [
    "from sklearn.preprocessing import MinMaxScaler  # Importando biblioteca de normalização Min-Max\n",
    "scaler = MinMaxScaler()                         # Objeto que realiza a normalização\n",
    "scaler.fit(data_num)                            # Ajustando o objeto aos dados\n",
    "\n",
    "def normalizar(input_df):\n",
    "    data_num_normalized = pd.DataFrame(             # Cria um dataframe que recebe como input um ndarray (numpy)\n",
    "    scaler.transform(input_df), columns=input_df.columns # O nd-array é retornado pelo método transform\n",
    "    )\n",
    "    return data_num_normalized\n",
    "\n",
    "data_num_normalized = normalizar(data_num)"
   ]
  },
  {
   "cell_type": "markdown",
   "id": "f679ca2a",
   "metadata": {},
   "source": [
    "### Concatenando os dataframes preprocessados"
   ]
  },
  {
   "cell_type": "code",
   "execution_count": 78,
   "id": "3daad451",
   "metadata": {
    "collapsed": true
   },
   "outputs": [
    {
     "data": {
      "text/html": [
       "<div>\n",
       "<style scoped>\n",
       "    .dataframe tbody tr th:only-of-type {\n",
       "        vertical-align: middle;\n",
       "    }\n",
       "\n",
       "    .dataframe tbody tr th {\n",
       "        vertical-align: top;\n",
       "    }\n",
       "\n",
       "    .dataframe thead th {\n",
       "        text-align: right;\n",
       "    }\n",
       "</style>\n",
       "<table border=\"1\" class=\"dataframe\">\n",
       "  <thead>\n",
       "    <tr style=\"text-align: right;\">\n",
       "      <th></th>\n",
       "      <th>cut_Fair</th>\n",
       "      <th>cut_Good</th>\n",
       "      <th>cut_Ideal</th>\n",
       "      <th>cut_Premium</th>\n",
       "      <th>cut_Very Good</th>\n",
       "      <th>color_D</th>\n",
       "      <th>color_E</th>\n",
       "      <th>color_F</th>\n",
       "      <th>color_G</th>\n",
       "      <th>color_H</th>\n",
       "      <th>...</th>\n",
       "      <th>clarity_VS2</th>\n",
       "      <th>clarity_VVS1</th>\n",
       "      <th>clarity_VVS2</th>\n",
       "      <th>carat</th>\n",
       "      <th>depth</th>\n",
       "      <th>table</th>\n",
       "      <th>x</th>\n",
       "      <th>y</th>\n",
       "      <th>z</th>\n",
       "      <th>price</th>\n",
       "    </tr>\n",
       "  </thead>\n",
       "  <tbody>\n",
       "    <tr>\n",
       "      <th>0</th>\n",
       "      <td>0.0</td>\n",
       "      <td>0.0</td>\n",
       "      <td>1.0</td>\n",
       "      <td>0.0</td>\n",
       "      <td>0.0</td>\n",
       "      <td>0.0</td>\n",
       "      <td>1.0</td>\n",
       "      <td>0.0</td>\n",
       "      <td>0.0</td>\n",
       "      <td>0.0</td>\n",
       "      <td>...</td>\n",
       "      <td>0.0</td>\n",
       "      <td>0.0</td>\n",
       "      <td>0.0</td>\n",
       "      <td>0.006237</td>\n",
       "      <td>0.513889</td>\n",
       "      <td>0.230769</td>\n",
       "      <td>0.367784</td>\n",
       "      <td>0.067572</td>\n",
       "      <td>0.076415</td>\n",
       "      <td>326</td>\n",
       "    </tr>\n",
       "    <tr>\n",
       "      <th>1</th>\n",
       "      <td>0.0</td>\n",
       "      <td>0.0</td>\n",
       "      <td>0.0</td>\n",
       "      <td>1.0</td>\n",
       "      <td>0.0</td>\n",
       "      <td>0.0</td>\n",
       "      <td>1.0</td>\n",
       "      <td>0.0</td>\n",
       "      <td>0.0</td>\n",
       "      <td>0.0</td>\n",
       "      <td>...</td>\n",
       "      <td>0.0</td>\n",
       "      <td>0.0</td>\n",
       "      <td>0.0</td>\n",
       "      <td>0.002079</td>\n",
       "      <td>0.466667</td>\n",
       "      <td>0.346154</td>\n",
       "      <td>0.362197</td>\n",
       "      <td>0.065195</td>\n",
       "      <td>0.072642</td>\n",
       "      <td>326</td>\n",
       "    </tr>\n",
       "    <tr>\n",
       "      <th>2</th>\n",
       "      <td>0.0</td>\n",
       "      <td>1.0</td>\n",
       "      <td>0.0</td>\n",
       "      <td>0.0</td>\n",
       "      <td>0.0</td>\n",
       "      <td>0.0</td>\n",
       "      <td>1.0</td>\n",
       "      <td>0.0</td>\n",
       "      <td>0.0</td>\n",
       "      <td>0.0</td>\n",
       "      <td>...</td>\n",
       "      <td>0.0</td>\n",
       "      <td>0.0</td>\n",
       "      <td>0.0</td>\n",
       "      <td>0.006237</td>\n",
       "      <td>0.386111</td>\n",
       "      <td>0.423077</td>\n",
       "      <td>0.377095</td>\n",
       "      <td>0.069100</td>\n",
       "      <td>0.072642</td>\n",
       "      <td>327</td>\n",
       "    </tr>\n",
       "    <tr>\n",
       "      <th>3</th>\n",
       "      <td>0.0</td>\n",
       "      <td>0.0</td>\n",
       "      <td>0.0</td>\n",
       "      <td>1.0</td>\n",
       "      <td>0.0</td>\n",
       "      <td>0.0</td>\n",
       "      <td>0.0</td>\n",
       "      <td>0.0</td>\n",
       "      <td>0.0</td>\n",
       "      <td>0.0</td>\n",
       "      <td>...</td>\n",
       "      <td>1.0</td>\n",
       "      <td>0.0</td>\n",
       "      <td>0.0</td>\n",
       "      <td>0.018711</td>\n",
       "      <td>0.538889</td>\n",
       "      <td>0.288462</td>\n",
       "      <td>0.391061</td>\n",
       "      <td>0.071817</td>\n",
       "      <td>0.082704</td>\n",
       "      <td>334</td>\n",
       "    </tr>\n",
       "    <tr>\n",
       "      <th>4</th>\n",
       "      <td>0.0</td>\n",
       "      <td>1.0</td>\n",
       "      <td>0.0</td>\n",
       "      <td>0.0</td>\n",
       "      <td>0.0</td>\n",
       "      <td>0.0</td>\n",
       "      <td>0.0</td>\n",
       "      <td>0.0</td>\n",
       "      <td>0.0</td>\n",
       "      <td>0.0</td>\n",
       "      <td>...</td>\n",
       "      <td>0.0</td>\n",
       "      <td>0.0</td>\n",
       "      <td>0.0</td>\n",
       "      <td>0.022869</td>\n",
       "      <td>0.563889</td>\n",
       "      <td>0.288462</td>\n",
       "      <td>0.404097</td>\n",
       "      <td>0.073854</td>\n",
       "      <td>0.086478</td>\n",
       "      <td>335</td>\n",
       "    </tr>\n",
       "    <tr>\n",
       "      <th>...</th>\n",
       "      <td>...</td>\n",
       "      <td>...</td>\n",
       "      <td>...</td>\n",
       "      <td>...</td>\n",
       "      <td>...</td>\n",
       "      <td>...</td>\n",
       "      <td>...</td>\n",
       "      <td>...</td>\n",
       "      <td>...</td>\n",
       "      <td>...</td>\n",
       "      <td>...</td>\n",
       "      <td>...</td>\n",
       "      <td>...</td>\n",
       "      <td>...</td>\n",
       "      <td>...</td>\n",
       "      <td>...</td>\n",
       "      <td>...</td>\n",
       "      <td>...</td>\n",
       "      <td>...</td>\n",
       "      <td>...</td>\n",
       "      <td>...</td>\n",
       "    </tr>\n",
       "    <tr>\n",
       "      <th>53935</th>\n",
       "      <td>0.0</td>\n",
       "      <td>0.0</td>\n",
       "      <td>1.0</td>\n",
       "      <td>0.0</td>\n",
       "      <td>0.0</td>\n",
       "      <td>1.0</td>\n",
       "      <td>0.0</td>\n",
       "      <td>0.0</td>\n",
       "      <td>0.0</td>\n",
       "      <td>0.0</td>\n",
       "      <td>...</td>\n",
       "      <td>0.0</td>\n",
       "      <td>0.0</td>\n",
       "      <td>0.0</td>\n",
       "      <td>0.108108</td>\n",
       "      <td>0.494444</td>\n",
       "      <td>0.269231</td>\n",
       "      <td>0.535382</td>\n",
       "      <td>0.097793</td>\n",
       "      <td>0.110063</td>\n",
       "      <td>2757</td>\n",
       "    </tr>\n",
       "    <tr>\n",
       "      <th>53936</th>\n",
       "      <td>0.0</td>\n",
       "      <td>1.0</td>\n",
       "      <td>0.0</td>\n",
       "      <td>0.0</td>\n",
       "      <td>0.0</td>\n",
       "      <td>1.0</td>\n",
       "      <td>0.0</td>\n",
       "      <td>0.0</td>\n",
       "      <td>0.0</td>\n",
       "      <td>0.0</td>\n",
       "      <td>...</td>\n",
       "      <td>0.0</td>\n",
       "      <td>0.0</td>\n",
       "      <td>0.0</td>\n",
       "      <td>0.108108</td>\n",
       "      <td>0.558333</td>\n",
       "      <td>0.230769</td>\n",
       "      <td>0.529795</td>\n",
       "      <td>0.097623</td>\n",
       "      <td>0.113522</td>\n",
       "      <td>2757</td>\n",
       "    </tr>\n",
       "    <tr>\n",
       "      <th>53937</th>\n",
       "      <td>0.0</td>\n",
       "      <td>0.0</td>\n",
       "      <td>0.0</td>\n",
       "      <td>0.0</td>\n",
       "      <td>1.0</td>\n",
       "      <td>1.0</td>\n",
       "      <td>0.0</td>\n",
       "      <td>0.0</td>\n",
       "      <td>0.0</td>\n",
       "      <td>0.0</td>\n",
       "      <td>...</td>\n",
       "      <td>0.0</td>\n",
       "      <td>0.0</td>\n",
       "      <td>0.0</td>\n",
       "      <td>0.103950</td>\n",
       "      <td>0.550000</td>\n",
       "      <td>0.326923</td>\n",
       "      <td>0.527002</td>\n",
       "      <td>0.096435</td>\n",
       "      <td>0.111950</td>\n",
       "      <td>2757</td>\n",
       "    </tr>\n",
       "    <tr>\n",
       "      <th>53938</th>\n",
       "      <td>0.0</td>\n",
       "      <td>0.0</td>\n",
       "      <td>0.0</td>\n",
       "      <td>1.0</td>\n",
       "      <td>0.0</td>\n",
       "      <td>0.0</td>\n",
       "      <td>0.0</td>\n",
       "      <td>0.0</td>\n",
       "      <td>0.0</td>\n",
       "      <td>1.0</td>\n",
       "      <td>...</td>\n",
       "      <td>0.0</td>\n",
       "      <td>0.0</td>\n",
       "      <td>0.0</td>\n",
       "      <td>0.137214</td>\n",
       "      <td>0.500000</td>\n",
       "      <td>0.288462</td>\n",
       "      <td>0.572626</td>\n",
       "      <td>0.103905</td>\n",
       "      <td>0.117610</td>\n",
       "      <td>2757</td>\n",
       "    </tr>\n",
       "    <tr>\n",
       "      <th>53939</th>\n",
       "      <td>0.0</td>\n",
       "      <td>0.0</td>\n",
       "      <td>1.0</td>\n",
       "      <td>0.0</td>\n",
       "      <td>0.0</td>\n",
       "      <td>1.0</td>\n",
       "      <td>0.0</td>\n",
       "      <td>0.0</td>\n",
       "      <td>0.0</td>\n",
       "      <td>0.0</td>\n",
       "      <td>...</td>\n",
       "      <td>0.0</td>\n",
       "      <td>0.0</td>\n",
       "      <td>0.0</td>\n",
       "      <td>0.114345</td>\n",
       "      <td>0.533333</td>\n",
       "      <td>0.230769</td>\n",
       "      <td>0.542831</td>\n",
       "      <td>0.099660</td>\n",
       "      <td>0.114465</td>\n",
       "      <td>2757</td>\n",
       "    </tr>\n",
       "  </tbody>\n",
       "</table>\n",
       "<p>53940 rows × 27 columns</p>\n",
       "</div>"
      ],
      "text/plain": [
       "       cut_Fair  cut_Good  cut_Ideal  cut_Premium  cut_Very Good  color_D  \\\n",
       "0           0.0       0.0        1.0          0.0            0.0      0.0   \n",
       "1           0.0       0.0        0.0          1.0            0.0      0.0   \n",
       "2           0.0       1.0        0.0          0.0            0.0      0.0   \n",
       "3           0.0       0.0        0.0          1.0            0.0      0.0   \n",
       "4           0.0       1.0        0.0          0.0            0.0      0.0   \n",
       "...         ...       ...        ...          ...            ...      ...   \n",
       "53935       0.0       0.0        1.0          0.0            0.0      1.0   \n",
       "53936       0.0       1.0        0.0          0.0            0.0      1.0   \n",
       "53937       0.0       0.0        0.0          0.0            1.0      1.0   \n",
       "53938       0.0       0.0        0.0          1.0            0.0      0.0   \n",
       "53939       0.0       0.0        1.0          0.0            0.0      1.0   \n",
       "\n",
       "       color_E  color_F  color_G  color_H  ...  clarity_VS2  clarity_VVS1  \\\n",
       "0          1.0      0.0      0.0      0.0  ...          0.0           0.0   \n",
       "1          1.0      0.0      0.0      0.0  ...          0.0           0.0   \n",
       "2          1.0      0.0      0.0      0.0  ...          0.0           0.0   \n",
       "3          0.0      0.0      0.0      0.0  ...          1.0           0.0   \n",
       "4          0.0      0.0      0.0      0.0  ...          0.0           0.0   \n",
       "...        ...      ...      ...      ...  ...          ...           ...   \n",
       "53935      0.0      0.0      0.0      0.0  ...          0.0           0.0   \n",
       "53936      0.0      0.0      0.0      0.0  ...          0.0           0.0   \n",
       "53937      0.0      0.0      0.0      0.0  ...          0.0           0.0   \n",
       "53938      0.0      0.0      0.0      1.0  ...          0.0           0.0   \n",
       "53939      0.0      0.0      0.0      0.0  ...          0.0           0.0   \n",
       "\n",
       "       clarity_VVS2     carat     depth     table         x         y  \\\n",
       "0               0.0  0.006237  0.513889  0.230769  0.367784  0.067572   \n",
       "1               0.0  0.002079  0.466667  0.346154  0.362197  0.065195   \n",
       "2               0.0  0.006237  0.386111  0.423077  0.377095  0.069100   \n",
       "3               0.0  0.018711  0.538889  0.288462  0.391061  0.071817   \n",
       "4               0.0  0.022869  0.563889  0.288462  0.404097  0.073854   \n",
       "...             ...       ...       ...       ...       ...       ...   \n",
       "53935           0.0  0.108108  0.494444  0.269231  0.535382  0.097793   \n",
       "53936           0.0  0.108108  0.558333  0.230769  0.529795  0.097623   \n",
       "53937           0.0  0.103950  0.550000  0.326923  0.527002  0.096435   \n",
       "53938           0.0  0.137214  0.500000  0.288462  0.572626  0.103905   \n",
       "53939           0.0  0.114345  0.533333  0.230769  0.542831  0.099660   \n",
       "\n",
       "              z  price  \n",
       "0      0.076415    326  \n",
       "1      0.072642    326  \n",
       "2      0.072642    327  \n",
       "3      0.082704    334  \n",
       "4      0.086478    335  \n",
       "...         ...    ...  \n",
       "53935  0.110063   2757  \n",
       "53936  0.113522   2757  \n",
       "53937  0.111950   2757  \n",
       "53938  0.117610   2757  \n",
       "53939  0.114465   2757  \n",
       "\n",
       "[53940 rows x 27 columns]"
      ]
     },
     "execution_count": 78,
     "metadata": {},
     "output_type": "execute_result"
    }
   ],
   "source": [
    "data_preprocessed = pd.concat( [ data_cat_encoded, data_num_normalized, data_preco ], axis=1 )\n",
    "# axis=1 para a concatenação ao longo das colunas"
   ]
  },
  {
   "cell_type": "markdown",
   "id": "0aaceef2",
   "metadata": {},
   "source": [
    "## Mineração"
   ]
  },
  {
   "cell_type": "markdown",
   "id": "c70ca919",
   "metadata": {},
   "source": [
    "### Separando os conjuntos de treinamento, teste e validação"
   ]
  },
  {
   "cell_type": "code",
   "execution_count": 79,
   "id": "d21390ec",
   "metadata": {},
   "outputs": [],
   "source": [
    "from sklearn.model_selection import train_test_split # Importa classe que faz amostragem (sampling)\n",
    "\n",
    "X_train, X_test, y_train, y_test = train_test_split(data_preprocessed.iloc[:,:-1], # features\n",
    "                                                                data_preprocessed.iloc[:,-1],  # labels\n",
    "                                                                test_size=0.2,                 # % do test set (10%)\n",
    "                                                                random_state=1)                # seed"
   ]
  },
  {
   "cell_type": "markdown",
   "id": "1b9c220e",
   "metadata": {},
   "source": [
    "### LinearRegression"
   ]
  },
  {
   "cell_type": "markdown",
   "id": "09f3bee4",
   "metadata": {},
   "source": [
    "#### Treinamento"
   ]
  },
  {
   "cell_type": "code",
   "execution_count": 82,
   "id": "5d0e2bc3",
   "metadata": {
    "scrolled": true
   },
   "outputs": [
    {
     "data": {
      "text/html": [
       "<style>#sk-container-id-11 {color: black;}#sk-container-id-11 pre{padding: 0;}#sk-container-id-11 div.sk-toggleable {background-color: white;}#sk-container-id-11 label.sk-toggleable__label {cursor: pointer;display: block;width: 100%;margin-bottom: 0;padding: 0.3em;box-sizing: border-box;text-align: center;}#sk-container-id-11 label.sk-toggleable__label-arrow:before {content: \"▸\";float: left;margin-right: 0.25em;color: #696969;}#sk-container-id-11 label.sk-toggleable__label-arrow:hover:before {color: black;}#sk-container-id-11 div.sk-estimator:hover label.sk-toggleable__label-arrow:before {color: black;}#sk-container-id-11 div.sk-toggleable__content {max-height: 0;max-width: 0;overflow: hidden;text-align: left;background-color: #f0f8ff;}#sk-container-id-11 div.sk-toggleable__content pre {margin: 0.2em;color: black;border-radius: 0.25em;background-color: #f0f8ff;}#sk-container-id-11 input.sk-toggleable__control:checked~div.sk-toggleable__content {max-height: 200px;max-width: 100%;overflow: auto;}#sk-container-id-11 input.sk-toggleable__control:checked~label.sk-toggleable__label-arrow:before {content: \"▾\";}#sk-container-id-11 div.sk-estimator input.sk-toggleable__control:checked~label.sk-toggleable__label {background-color: #d4ebff;}#sk-container-id-11 div.sk-label input.sk-toggleable__control:checked~label.sk-toggleable__label {background-color: #d4ebff;}#sk-container-id-11 input.sk-hidden--visually {border: 0;clip: rect(1px 1px 1px 1px);clip: rect(1px, 1px, 1px, 1px);height: 1px;margin: -1px;overflow: hidden;padding: 0;position: absolute;width: 1px;}#sk-container-id-11 div.sk-estimator {font-family: monospace;background-color: #f0f8ff;border: 1px dotted black;border-radius: 0.25em;box-sizing: border-box;margin-bottom: 0.5em;}#sk-container-id-11 div.sk-estimator:hover {background-color: #d4ebff;}#sk-container-id-11 div.sk-parallel-item::after {content: \"\";width: 100%;border-bottom: 1px solid gray;flex-grow: 1;}#sk-container-id-11 div.sk-label:hover label.sk-toggleable__label {background-color: #d4ebff;}#sk-container-id-11 div.sk-serial::before {content: \"\";position: absolute;border-left: 1px solid gray;box-sizing: border-box;top: 0;bottom: 0;left: 50%;z-index: 0;}#sk-container-id-11 div.sk-serial {display: flex;flex-direction: column;align-items: center;background-color: white;padding-right: 0.2em;padding-left: 0.2em;position: relative;}#sk-container-id-11 div.sk-item {position: relative;z-index: 1;}#sk-container-id-11 div.sk-parallel {display: flex;align-items: stretch;justify-content: center;background-color: white;position: relative;}#sk-container-id-11 div.sk-item::before, #sk-container-id-11 div.sk-parallel-item::before {content: \"\";position: absolute;border-left: 1px solid gray;box-sizing: border-box;top: 0;bottom: 0;left: 50%;z-index: -1;}#sk-container-id-11 div.sk-parallel-item {display: flex;flex-direction: column;z-index: 1;position: relative;background-color: white;}#sk-container-id-11 div.sk-parallel-item:first-child::after {align-self: flex-end;width: 50%;}#sk-container-id-11 div.sk-parallel-item:last-child::after {align-self: flex-start;width: 50%;}#sk-container-id-11 div.sk-parallel-item:only-child::after {width: 0;}#sk-container-id-11 div.sk-dashed-wrapped {border: 1px dashed gray;margin: 0 0.4em 0.5em 0.4em;box-sizing: border-box;padding-bottom: 0.4em;background-color: white;}#sk-container-id-11 div.sk-label label {font-family: monospace;font-weight: bold;display: inline-block;line-height: 1.2em;}#sk-container-id-11 div.sk-label-container {text-align: center;}#sk-container-id-11 div.sk-container {/* jupyter's `normalize.less` sets `[hidden] { display: none; }` but bootstrap.min.css set `[hidden] { display: none !important; }` so we also need the `!important` here to be able to override the default hidden behavior on the sphinx rendered scikit-learn.org. See: https://github.com/scikit-learn/scikit-learn/issues/21755 */display: inline-block !important;position: relative;}#sk-container-id-11 div.sk-text-repr-fallback {display: none;}</style><div id=\"sk-container-id-11\" class=\"sk-top-container\"><div class=\"sk-text-repr-fallback\"><pre>LinearRegression()</pre><b>In a Jupyter environment, please rerun this cell to show the HTML representation or trust the notebook. <br />On GitHub, the HTML representation is unable to render, please try loading this page with nbviewer.org.</b></div><div class=\"sk-container\" hidden><div class=\"sk-item\"><div class=\"sk-estimator sk-toggleable\"><input class=\"sk-toggleable__control sk-hidden--visually\" id=\"sk-estimator-id-11\" type=\"checkbox\" checked><label for=\"sk-estimator-id-11\" class=\"sk-toggleable__label sk-toggleable__label-arrow\">LinearRegression</label><div class=\"sk-toggleable__content\"><pre>LinearRegression()</pre></div></div></div></div></div>"
      ],
      "text/plain": [
       "LinearRegression()"
      ]
     },
     "execution_count": 82,
     "metadata": {},
     "output_type": "execute_result"
    }
   ],
   "source": [
    "from sklearn.linear_model import LinearRegression   # Importando a classe de regressão\n",
    "model = LinearRegression()                          # Criando um objeto de predição\n",
    "model.fit(X_train, y_train)                         # Ajustando o modelo"
   ]
  },
  {
   "cell_type": "markdown",
   "id": "3f9081af",
   "metadata": {},
   "source": [
    "#### Checando ajuste do modelo"
   ]
  },
  {
   "cell_type": "markdown",
   "id": "85158f3f",
   "metadata": {},
   "source": [
    "Primeiramente sempre gosto de avaliar se o modelo conseguiu se ajustar aos dados. Faço isso realizando predição sobre o próprio dado treinado."
   ]
  },
  {
   "cell_type": "code",
   "execution_count": 85,
   "id": "0ff94c85",
   "metadata": {
    "scrolled": false
   },
   "outputs": [],
   "source": [
    "from sklearn.metrics import mean_squared_error, r2_score"
   ]
  },
  {
   "cell_type": "code",
   "execution_count": 87,
   "id": "1a161cca",
   "metadata": {},
   "outputs": [
    {
     "name": "stdout",
     "output_type": "stream",
     "text": [
      "R2: 91.93%\n"
     ]
    }
   ],
   "source": [
    "overfitted_pred = model.predict(X_train)\n",
    "r2 = r2_score(y_train, overfitted_pred)\n",
    "print(f\"R2: {r2 * 100:.2f}%\")"
   ]
  },
  {
   "cell_type": "markdown",
   "id": "f87c174f",
   "metadata": {},
   "source": [
    "#### Predição"
   ]
  },
  {
   "cell_type": "code",
   "execution_count": 88,
   "id": "d46cf692",
   "metadata": {
    "scrolled": false
   },
   "outputs": [
    {
     "name": "stdout",
     "output_type": "stream",
     "text": [
      "R-squared (R2): 0.9218\n",
      "Mean Squared Error (MSE): 1215498.9019\n"
     ]
    }
   ],
   "source": [
    "y_pred = model.predict(X_test)\n",
    "\n",
    "# Evaluate the model\n",
    "r2 = r2_score(y_test, y_pred)\n",
    "mse = mean_squared_error(y_test, y_pred)\n",
    "\n",
    "print(f\"R-squared (R2): {r2:.4f}\")\n",
    "print(f\"Mean Squared Error (MSE): {mse:.4f}\")"
   ]
  },
  {
   "cell_type": "markdown",
   "id": "992c347a",
   "metadata": {},
   "source": [
    "### Lasso"
   ]
  },
  {
   "cell_type": "markdown",
   "id": "535ea0f7",
   "metadata": {},
   "source": [
    "#### Treinamento"
   ]
  },
  {
   "cell_type": "code",
   "execution_count": 89,
   "id": "ec35722b",
   "metadata": {
    "scrolled": true
   },
   "outputs": [
    {
     "data": {
      "text/html": [
       "<style>#sk-container-id-12 {color: black;}#sk-container-id-12 pre{padding: 0;}#sk-container-id-12 div.sk-toggleable {background-color: white;}#sk-container-id-12 label.sk-toggleable__label {cursor: pointer;display: block;width: 100%;margin-bottom: 0;padding: 0.3em;box-sizing: border-box;text-align: center;}#sk-container-id-12 label.sk-toggleable__label-arrow:before {content: \"▸\";float: left;margin-right: 0.25em;color: #696969;}#sk-container-id-12 label.sk-toggleable__label-arrow:hover:before {color: black;}#sk-container-id-12 div.sk-estimator:hover label.sk-toggleable__label-arrow:before {color: black;}#sk-container-id-12 div.sk-toggleable__content {max-height: 0;max-width: 0;overflow: hidden;text-align: left;background-color: #f0f8ff;}#sk-container-id-12 div.sk-toggleable__content pre {margin: 0.2em;color: black;border-radius: 0.25em;background-color: #f0f8ff;}#sk-container-id-12 input.sk-toggleable__control:checked~div.sk-toggleable__content {max-height: 200px;max-width: 100%;overflow: auto;}#sk-container-id-12 input.sk-toggleable__control:checked~label.sk-toggleable__label-arrow:before {content: \"▾\";}#sk-container-id-12 div.sk-estimator input.sk-toggleable__control:checked~label.sk-toggleable__label {background-color: #d4ebff;}#sk-container-id-12 div.sk-label input.sk-toggleable__control:checked~label.sk-toggleable__label {background-color: #d4ebff;}#sk-container-id-12 input.sk-hidden--visually {border: 0;clip: rect(1px 1px 1px 1px);clip: rect(1px, 1px, 1px, 1px);height: 1px;margin: -1px;overflow: hidden;padding: 0;position: absolute;width: 1px;}#sk-container-id-12 div.sk-estimator {font-family: monospace;background-color: #f0f8ff;border: 1px dotted black;border-radius: 0.25em;box-sizing: border-box;margin-bottom: 0.5em;}#sk-container-id-12 div.sk-estimator:hover {background-color: #d4ebff;}#sk-container-id-12 div.sk-parallel-item::after {content: \"\";width: 100%;border-bottom: 1px solid gray;flex-grow: 1;}#sk-container-id-12 div.sk-label:hover label.sk-toggleable__label {background-color: #d4ebff;}#sk-container-id-12 div.sk-serial::before {content: \"\";position: absolute;border-left: 1px solid gray;box-sizing: border-box;top: 0;bottom: 0;left: 50%;z-index: 0;}#sk-container-id-12 div.sk-serial {display: flex;flex-direction: column;align-items: center;background-color: white;padding-right: 0.2em;padding-left: 0.2em;position: relative;}#sk-container-id-12 div.sk-item {position: relative;z-index: 1;}#sk-container-id-12 div.sk-parallel {display: flex;align-items: stretch;justify-content: center;background-color: white;position: relative;}#sk-container-id-12 div.sk-item::before, #sk-container-id-12 div.sk-parallel-item::before {content: \"\";position: absolute;border-left: 1px solid gray;box-sizing: border-box;top: 0;bottom: 0;left: 50%;z-index: -1;}#sk-container-id-12 div.sk-parallel-item {display: flex;flex-direction: column;z-index: 1;position: relative;background-color: white;}#sk-container-id-12 div.sk-parallel-item:first-child::after {align-self: flex-end;width: 50%;}#sk-container-id-12 div.sk-parallel-item:last-child::after {align-self: flex-start;width: 50%;}#sk-container-id-12 div.sk-parallel-item:only-child::after {width: 0;}#sk-container-id-12 div.sk-dashed-wrapped {border: 1px dashed gray;margin: 0 0.4em 0.5em 0.4em;box-sizing: border-box;padding-bottom: 0.4em;background-color: white;}#sk-container-id-12 div.sk-label label {font-family: monospace;font-weight: bold;display: inline-block;line-height: 1.2em;}#sk-container-id-12 div.sk-label-container {text-align: center;}#sk-container-id-12 div.sk-container {/* jupyter's `normalize.less` sets `[hidden] { display: none; }` but bootstrap.min.css set `[hidden] { display: none !important; }` so we also need the `!important` here to be able to override the default hidden behavior on the sphinx rendered scikit-learn.org. See: https://github.com/scikit-learn/scikit-learn/issues/21755 */display: inline-block !important;position: relative;}#sk-container-id-12 div.sk-text-repr-fallback {display: none;}</style><div id=\"sk-container-id-12\" class=\"sk-top-container\"><div class=\"sk-text-repr-fallback\"><pre>Lasso()</pre><b>In a Jupyter environment, please rerun this cell to show the HTML representation or trust the notebook. <br />On GitHub, the HTML representation is unable to render, please try loading this page with nbviewer.org.</b></div><div class=\"sk-container\" hidden><div class=\"sk-item\"><div class=\"sk-estimator sk-toggleable\"><input class=\"sk-toggleable__control sk-hidden--visually\" id=\"sk-estimator-id-12\" type=\"checkbox\" checked><label for=\"sk-estimator-id-12\" class=\"sk-toggleable__label sk-toggleable__label-arrow\">Lasso</label><div class=\"sk-toggleable__content\"><pre>Lasso()</pre></div></div></div></div></div>"
      ],
      "text/plain": [
       "Lasso()"
      ]
     },
     "execution_count": 89,
     "metadata": {},
     "output_type": "execute_result"
    }
   ],
   "source": [
    "from sklearn.linear_model import Lasso   # Importando a classe de regressão\n",
    "model = Lasso()                          # Criando um objeto de predição\n",
    "model.fit(X_train, y_train)              # Ajustando o modelo"
   ]
  },
  {
   "cell_type": "markdown",
   "id": "dfd955d0",
   "metadata": {},
   "source": [
    "#### Checando ajuste do modelo"
   ]
  },
  {
   "cell_type": "markdown",
   "id": "a5d54d43",
   "metadata": {},
   "source": [
    "Primeiramente sempre gosto de avaliar se o modelo conseguiu se ajustar aos dados. Faço isso realizando predição sobre o próprio dado treinado."
   ]
  },
  {
   "cell_type": "code",
   "execution_count": 90,
   "id": "3889c23b",
   "metadata": {},
   "outputs": [
    {
     "name": "stdout",
     "output_type": "stream",
     "text": [
      "R2: 91.85%\n"
     ]
    }
   ],
   "source": [
    "overfitted_pred = model.predict(X_train)\n",
    "r2 = r2_score(y_train, overfitted_pred)\n",
    "print(f\"R2: {r2 * 100:.2f}%\")"
   ]
  },
  {
   "cell_type": "markdown",
   "id": "26d06092",
   "metadata": {},
   "source": [
    "#### Predição"
   ]
  },
  {
   "cell_type": "code",
   "execution_count": 91,
   "id": "693c0319",
   "metadata": {
    "scrolled": true
   },
   "outputs": [
    {
     "name": "stdout",
     "output_type": "stream",
     "text": [
      "R-squared (R2): 0.9205\n",
      "Mean Squared Error (MSE): 1234978.2864\n"
     ]
    }
   ],
   "source": [
    "y_pred = model.predict(X_test)\n",
    "\n",
    "# Evaluate the model\n",
    "r2 = r2_score(y_test, y_pred)\n",
    "mse = mean_squared_error(y_test, y_pred)\n",
    "\n",
    "print(f\"R-squared (R2): {r2:.4f}\")\n",
    "print(f\"Mean Squared Error (MSE): {mse:.4f}\")"
   ]
  },
  {
   "cell_type": "markdown",
   "id": "86f3adaa",
   "metadata": {},
   "source": [
    "### DecisionTreeRegressor"
   ]
  },
  {
   "cell_type": "markdown",
   "id": "b15c549d",
   "metadata": {},
   "source": [
    "#### Treinamento"
   ]
  },
  {
   "cell_type": "code",
   "execution_count": 92,
   "id": "2389dafa",
   "metadata": {
    "scrolled": true
   },
   "outputs": [
    {
     "data": {
      "text/html": [
       "<style>#sk-container-id-13 {color: black;}#sk-container-id-13 pre{padding: 0;}#sk-container-id-13 div.sk-toggleable {background-color: white;}#sk-container-id-13 label.sk-toggleable__label {cursor: pointer;display: block;width: 100%;margin-bottom: 0;padding: 0.3em;box-sizing: border-box;text-align: center;}#sk-container-id-13 label.sk-toggleable__label-arrow:before {content: \"▸\";float: left;margin-right: 0.25em;color: #696969;}#sk-container-id-13 label.sk-toggleable__label-arrow:hover:before {color: black;}#sk-container-id-13 div.sk-estimator:hover label.sk-toggleable__label-arrow:before {color: black;}#sk-container-id-13 div.sk-toggleable__content {max-height: 0;max-width: 0;overflow: hidden;text-align: left;background-color: #f0f8ff;}#sk-container-id-13 div.sk-toggleable__content pre {margin: 0.2em;color: black;border-radius: 0.25em;background-color: #f0f8ff;}#sk-container-id-13 input.sk-toggleable__control:checked~div.sk-toggleable__content {max-height: 200px;max-width: 100%;overflow: auto;}#sk-container-id-13 input.sk-toggleable__control:checked~label.sk-toggleable__label-arrow:before {content: \"▾\";}#sk-container-id-13 div.sk-estimator input.sk-toggleable__control:checked~label.sk-toggleable__label {background-color: #d4ebff;}#sk-container-id-13 div.sk-label input.sk-toggleable__control:checked~label.sk-toggleable__label {background-color: #d4ebff;}#sk-container-id-13 input.sk-hidden--visually {border: 0;clip: rect(1px 1px 1px 1px);clip: rect(1px, 1px, 1px, 1px);height: 1px;margin: -1px;overflow: hidden;padding: 0;position: absolute;width: 1px;}#sk-container-id-13 div.sk-estimator {font-family: monospace;background-color: #f0f8ff;border: 1px dotted black;border-radius: 0.25em;box-sizing: border-box;margin-bottom: 0.5em;}#sk-container-id-13 div.sk-estimator:hover {background-color: #d4ebff;}#sk-container-id-13 div.sk-parallel-item::after {content: \"\";width: 100%;border-bottom: 1px solid gray;flex-grow: 1;}#sk-container-id-13 div.sk-label:hover label.sk-toggleable__label {background-color: #d4ebff;}#sk-container-id-13 div.sk-serial::before {content: \"\";position: absolute;border-left: 1px solid gray;box-sizing: border-box;top: 0;bottom: 0;left: 50%;z-index: 0;}#sk-container-id-13 div.sk-serial {display: flex;flex-direction: column;align-items: center;background-color: white;padding-right: 0.2em;padding-left: 0.2em;position: relative;}#sk-container-id-13 div.sk-item {position: relative;z-index: 1;}#sk-container-id-13 div.sk-parallel {display: flex;align-items: stretch;justify-content: center;background-color: white;position: relative;}#sk-container-id-13 div.sk-item::before, #sk-container-id-13 div.sk-parallel-item::before {content: \"\";position: absolute;border-left: 1px solid gray;box-sizing: border-box;top: 0;bottom: 0;left: 50%;z-index: -1;}#sk-container-id-13 div.sk-parallel-item {display: flex;flex-direction: column;z-index: 1;position: relative;background-color: white;}#sk-container-id-13 div.sk-parallel-item:first-child::after {align-self: flex-end;width: 50%;}#sk-container-id-13 div.sk-parallel-item:last-child::after {align-self: flex-start;width: 50%;}#sk-container-id-13 div.sk-parallel-item:only-child::after {width: 0;}#sk-container-id-13 div.sk-dashed-wrapped {border: 1px dashed gray;margin: 0 0.4em 0.5em 0.4em;box-sizing: border-box;padding-bottom: 0.4em;background-color: white;}#sk-container-id-13 div.sk-label label {font-family: monospace;font-weight: bold;display: inline-block;line-height: 1.2em;}#sk-container-id-13 div.sk-label-container {text-align: center;}#sk-container-id-13 div.sk-container {/* jupyter's `normalize.less` sets `[hidden] { display: none; }` but bootstrap.min.css set `[hidden] { display: none !important; }` so we also need the `!important` here to be able to override the default hidden behavior on the sphinx rendered scikit-learn.org. See: https://github.com/scikit-learn/scikit-learn/issues/21755 */display: inline-block !important;position: relative;}#sk-container-id-13 div.sk-text-repr-fallback {display: none;}</style><div id=\"sk-container-id-13\" class=\"sk-top-container\"><div class=\"sk-text-repr-fallback\"><pre>DecisionTreeRegressor(random_state=1)</pre><b>In a Jupyter environment, please rerun this cell to show the HTML representation or trust the notebook. <br />On GitHub, the HTML representation is unable to render, please try loading this page with nbviewer.org.</b></div><div class=\"sk-container\" hidden><div class=\"sk-item\"><div class=\"sk-estimator sk-toggleable\"><input class=\"sk-toggleable__control sk-hidden--visually\" id=\"sk-estimator-id-13\" type=\"checkbox\" checked><label for=\"sk-estimator-id-13\" class=\"sk-toggleable__label sk-toggleable__label-arrow\">DecisionTreeRegressor</label><div class=\"sk-toggleable__content\"><pre>DecisionTreeRegressor(random_state=1)</pre></div></div></div></div></div>"
      ],
      "text/plain": [
       "DecisionTreeRegressor(random_state=1)"
      ]
     },
     "execution_count": 92,
     "metadata": {},
     "output_type": "execute_result"
    }
   ],
   "source": [
    "from sklearn.tree import DecisionTreeRegressor   # Importando a classe de regressão\n",
    "model = DecisionTreeRegressor(random_state=1)    # Criando um objeto de predição\n",
    "model.fit(X_train, y_train)                      # Ajustando o modelo"
   ]
  },
  {
   "cell_type": "markdown",
   "id": "7e62a40b",
   "metadata": {},
   "source": [
    "#### Checando ajuste do modelo"
   ]
  },
  {
   "cell_type": "markdown",
   "id": "6c0aab4f",
   "metadata": {},
   "source": [
    "Primeiramente sempre gosto de avaliar se o modelo conseguiu se ajustar aos dados. Faço isso realizando predição sobre o próprio dado treinado."
   ]
  },
  {
   "cell_type": "code",
   "execution_count": 93,
   "id": "e4fb30f6",
   "metadata": {},
   "outputs": [
    {
     "name": "stdout",
     "output_type": "stream",
     "text": [
      "R2: 100.00%\n"
     ]
    }
   ],
   "source": [
    "overfitted_pred = model.predict(X_train)\n",
    "r2 = r2_score(y_train, overfitted_pred)\n",
    "print(f\"R2: {r2 * 100:.2f}%\")"
   ]
  },
  {
   "cell_type": "markdown",
   "id": "b1f56e63",
   "metadata": {},
   "source": [
    "#### Predição"
   ]
  },
  {
   "cell_type": "code",
   "execution_count": 94,
   "id": "8926a1e0",
   "metadata": {
    "scrolled": true
   },
   "outputs": [
    {
     "name": "stdout",
     "output_type": "stream",
     "text": [
      "R-squared (R2): 0.9640\n",
      "Mean Squared Error (MSE): 558829.9108\n"
     ]
    }
   ],
   "source": [
    "y_pred = model.predict(X_test)\n",
    "\n",
    "# Evaluate the model\n",
    "r2 = r2_score(y_test, y_pred)\n",
    "mse = mean_squared_error(y_test, y_pred)\n",
    "\n",
    "print(f\"R-squared (R2): {r2:.4f}\")\n",
    "print(f\"Mean Squared Error (MSE): {mse:.4f}\")"
   ]
  },
  {
   "cell_type": "markdown",
   "id": "c02d3a88",
   "metadata": {},
   "source": [
    "### RandomForestRegressor"
   ]
  },
  {
   "cell_type": "markdown",
   "id": "5249f754",
   "metadata": {},
   "source": [
    "#### Treinamento"
   ]
  },
  {
   "cell_type": "code",
   "execution_count": 96,
   "id": "8dbc1cd2",
   "metadata": {
    "scrolled": true
   },
   "outputs": [
    {
     "data": {
      "text/html": [
       "<style>#sk-container-id-15 {color: black;}#sk-container-id-15 pre{padding: 0;}#sk-container-id-15 div.sk-toggleable {background-color: white;}#sk-container-id-15 label.sk-toggleable__label {cursor: pointer;display: block;width: 100%;margin-bottom: 0;padding: 0.3em;box-sizing: border-box;text-align: center;}#sk-container-id-15 label.sk-toggleable__label-arrow:before {content: \"▸\";float: left;margin-right: 0.25em;color: #696969;}#sk-container-id-15 label.sk-toggleable__label-arrow:hover:before {color: black;}#sk-container-id-15 div.sk-estimator:hover label.sk-toggleable__label-arrow:before {color: black;}#sk-container-id-15 div.sk-toggleable__content {max-height: 0;max-width: 0;overflow: hidden;text-align: left;background-color: #f0f8ff;}#sk-container-id-15 div.sk-toggleable__content pre {margin: 0.2em;color: black;border-radius: 0.25em;background-color: #f0f8ff;}#sk-container-id-15 input.sk-toggleable__control:checked~div.sk-toggleable__content {max-height: 200px;max-width: 100%;overflow: auto;}#sk-container-id-15 input.sk-toggleable__control:checked~label.sk-toggleable__label-arrow:before {content: \"▾\";}#sk-container-id-15 div.sk-estimator input.sk-toggleable__control:checked~label.sk-toggleable__label {background-color: #d4ebff;}#sk-container-id-15 div.sk-label input.sk-toggleable__control:checked~label.sk-toggleable__label {background-color: #d4ebff;}#sk-container-id-15 input.sk-hidden--visually {border: 0;clip: rect(1px 1px 1px 1px);clip: rect(1px, 1px, 1px, 1px);height: 1px;margin: -1px;overflow: hidden;padding: 0;position: absolute;width: 1px;}#sk-container-id-15 div.sk-estimator {font-family: monospace;background-color: #f0f8ff;border: 1px dotted black;border-radius: 0.25em;box-sizing: border-box;margin-bottom: 0.5em;}#sk-container-id-15 div.sk-estimator:hover {background-color: #d4ebff;}#sk-container-id-15 div.sk-parallel-item::after {content: \"\";width: 100%;border-bottom: 1px solid gray;flex-grow: 1;}#sk-container-id-15 div.sk-label:hover label.sk-toggleable__label {background-color: #d4ebff;}#sk-container-id-15 div.sk-serial::before {content: \"\";position: absolute;border-left: 1px solid gray;box-sizing: border-box;top: 0;bottom: 0;left: 50%;z-index: 0;}#sk-container-id-15 div.sk-serial {display: flex;flex-direction: column;align-items: center;background-color: white;padding-right: 0.2em;padding-left: 0.2em;position: relative;}#sk-container-id-15 div.sk-item {position: relative;z-index: 1;}#sk-container-id-15 div.sk-parallel {display: flex;align-items: stretch;justify-content: center;background-color: white;position: relative;}#sk-container-id-15 div.sk-item::before, #sk-container-id-15 div.sk-parallel-item::before {content: \"\";position: absolute;border-left: 1px solid gray;box-sizing: border-box;top: 0;bottom: 0;left: 50%;z-index: -1;}#sk-container-id-15 div.sk-parallel-item {display: flex;flex-direction: column;z-index: 1;position: relative;background-color: white;}#sk-container-id-15 div.sk-parallel-item:first-child::after {align-self: flex-end;width: 50%;}#sk-container-id-15 div.sk-parallel-item:last-child::after {align-self: flex-start;width: 50%;}#sk-container-id-15 div.sk-parallel-item:only-child::after {width: 0;}#sk-container-id-15 div.sk-dashed-wrapped {border: 1px dashed gray;margin: 0 0.4em 0.5em 0.4em;box-sizing: border-box;padding-bottom: 0.4em;background-color: white;}#sk-container-id-15 div.sk-label label {font-family: monospace;font-weight: bold;display: inline-block;line-height: 1.2em;}#sk-container-id-15 div.sk-label-container {text-align: center;}#sk-container-id-15 div.sk-container {/* jupyter's `normalize.less` sets `[hidden] { display: none; }` but bootstrap.min.css set `[hidden] { display: none !important; }` so we also need the `!important` here to be able to override the default hidden behavior on the sphinx rendered scikit-learn.org. See: https://github.com/scikit-learn/scikit-learn/issues/21755 */display: inline-block !important;position: relative;}#sk-container-id-15 div.sk-text-repr-fallback {display: none;}</style><div id=\"sk-container-id-15\" class=\"sk-top-container\"><div class=\"sk-text-repr-fallback\"><pre>RandomForestRegressor(random_state=1)</pre><b>In a Jupyter environment, please rerun this cell to show the HTML representation or trust the notebook. <br />On GitHub, the HTML representation is unable to render, please try loading this page with nbviewer.org.</b></div><div class=\"sk-container\" hidden><div class=\"sk-item\"><div class=\"sk-estimator sk-toggleable\"><input class=\"sk-toggleable__control sk-hidden--visually\" id=\"sk-estimator-id-15\" type=\"checkbox\" checked><label for=\"sk-estimator-id-15\" class=\"sk-toggleable__label sk-toggleable__label-arrow\">RandomForestRegressor</label><div class=\"sk-toggleable__content\"><pre>RandomForestRegressor(random_state=1)</pre></div></div></div></div></div>"
      ],
      "text/plain": [
       "RandomForestRegressor(random_state=1)"
      ]
     },
     "execution_count": 96,
     "metadata": {},
     "output_type": "execute_result"
    }
   ],
   "source": [
    "from sklearn.ensemble import RandomForestRegressor   # Importando a classe de regressão\n",
    "model = RandomForestRegressor(random_state=1)        # Criando um objeto de predição\n",
    "model.fit(X_train, y_train)                          # Ajustando o modelo"
   ]
  },
  {
   "cell_type": "markdown",
   "id": "424c72d3",
   "metadata": {},
   "source": [
    "#### Checando ajuste do modelo"
   ]
  },
  {
   "cell_type": "markdown",
   "id": "656b152e",
   "metadata": {},
   "source": [
    "Primeiramente sempre gosto de avaliar se o modelo conseguiu se ajustar aos dados. Faço isso realizando predição sobre o próprio dado treinado."
   ]
  },
  {
   "cell_type": "code",
   "execution_count": 97,
   "id": "93958471",
   "metadata": {},
   "outputs": [
    {
     "name": "stdout",
     "output_type": "stream",
     "text": [
      "R2: 99.73%\n"
     ]
    }
   ],
   "source": [
    "overfitted_pred = model.predict(X_train)\n",
    "r2 = r2_score(y_train, overfitted_pred)\n",
    "print(f\"R2: {r2 * 100:.2f}%\")"
   ]
  },
  {
   "cell_type": "markdown",
   "id": "c1a5c68c",
   "metadata": {},
   "source": [
    "#### Predição"
   ]
  },
  {
   "cell_type": "code",
   "execution_count": 98,
   "id": "3a3e17bb",
   "metadata": {
    "scrolled": false
   },
   "outputs": [
    {
     "name": "stdout",
     "output_type": "stream",
     "text": [
      "R-squared (R2): 0.9806\n",
      "Mean Squared Error (MSE): 302086.2969\n"
     ]
    }
   ],
   "source": [
    "y_pred = model.predict(X_test)\n",
    "\n",
    "# Evaluate the model\n",
    "r2 = r2_score(y_test, y_pred)\n",
    "mse = mean_squared_error(y_test, y_pred)\n",
    "\n",
    "print(f\"R-squared (R2): {r2:.4f}\")\n",
    "print(f\"Mean Squared Error (MSE): {mse:.4f}\")"
   ]
  },
  {
   "cell_type": "markdown",
   "id": "cc83fea7",
   "metadata": {},
   "source": [
    "### KNeighborsRegressor"
   ]
  },
  {
   "cell_type": "markdown",
   "id": "a1065146",
   "metadata": {},
   "source": [
    "#### Treinamento"
   ]
  },
  {
   "cell_type": "code",
   "execution_count": 99,
   "id": "65fcc4a6",
   "metadata": {
    "scrolled": true
   },
   "outputs": [
    {
     "data": {
      "text/html": [
       "<style>#sk-container-id-16 {color: black;}#sk-container-id-16 pre{padding: 0;}#sk-container-id-16 div.sk-toggleable {background-color: white;}#sk-container-id-16 label.sk-toggleable__label {cursor: pointer;display: block;width: 100%;margin-bottom: 0;padding: 0.3em;box-sizing: border-box;text-align: center;}#sk-container-id-16 label.sk-toggleable__label-arrow:before {content: \"▸\";float: left;margin-right: 0.25em;color: #696969;}#sk-container-id-16 label.sk-toggleable__label-arrow:hover:before {color: black;}#sk-container-id-16 div.sk-estimator:hover label.sk-toggleable__label-arrow:before {color: black;}#sk-container-id-16 div.sk-toggleable__content {max-height: 0;max-width: 0;overflow: hidden;text-align: left;background-color: #f0f8ff;}#sk-container-id-16 div.sk-toggleable__content pre {margin: 0.2em;color: black;border-radius: 0.25em;background-color: #f0f8ff;}#sk-container-id-16 input.sk-toggleable__control:checked~div.sk-toggleable__content {max-height: 200px;max-width: 100%;overflow: auto;}#sk-container-id-16 input.sk-toggleable__control:checked~label.sk-toggleable__label-arrow:before {content: \"▾\";}#sk-container-id-16 div.sk-estimator input.sk-toggleable__control:checked~label.sk-toggleable__label {background-color: #d4ebff;}#sk-container-id-16 div.sk-label input.sk-toggleable__control:checked~label.sk-toggleable__label {background-color: #d4ebff;}#sk-container-id-16 input.sk-hidden--visually {border: 0;clip: rect(1px 1px 1px 1px);clip: rect(1px, 1px, 1px, 1px);height: 1px;margin: -1px;overflow: hidden;padding: 0;position: absolute;width: 1px;}#sk-container-id-16 div.sk-estimator {font-family: monospace;background-color: #f0f8ff;border: 1px dotted black;border-radius: 0.25em;box-sizing: border-box;margin-bottom: 0.5em;}#sk-container-id-16 div.sk-estimator:hover {background-color: #d4ebff;}#sk-container-id-16 div.sk-parallel-item::after {content: \"\";width: 100%;border-bottom: 1px solid gray;flex-grow: 1;}#sk-container-id-16 div.sk-label:hover label.sk-toggleable__label {background-color: #d4ebff;}#sk-container-id-16 div.sk-serial::before {content: \"\";position: absolute;border-left: 1px solid gray;box-sizing: border-box;top: 0;bottom: 0;left: 50%;z-index: 0;}#sk-container-id-16 div.sk-serial {display: flex;flex-direction: column;align-items: center;background-color: white;padding-right: 0.2em;padding-left: 0.2em;position: relative;}#sk-container-id-16 div.sk-item {position: relative;z-index: 1;}#sk-container-id-16 div.sk-parallel {display: flex;align-items: stretch;justify-content: center;background-color: white;position: relative;}#sk-container-id-16 div.sk-item::before, #sk-container-id-16 div.sk-parallel-item::before {content: \"\";position: absolute;border-left: 1px solid gray;box-sizing: border-box;top: 0;bottom: 0;left: 50%;z-index: -1;}#sk-container-id-16 div.sk-parallel-item {display: flex;flex-direction: column;z-index: 1;position: relative;background-color: white;}#sk-container-id-16 div.sk-parallel-item:first-child::after {align-self: flex-end;width: 50%;}#sk-container-id-16 div.sk-parallel-item:last-child::after {align-self: flex-start;width: 50%;}#sk-container-id-16 div.sk-parallel-item:only-child::after {width: 0;}#sk-container-id-16 div.sk-dashed-wrapped {border: 1px dashed gray;margin: 0 0.4em 0.5em 0.4em;box-sizing: border-box;padding-bottom: 0.4em;background-color: white;}#sk-container-id-16 div.sk-label label {font-family: monospace;font-weight: bold;display: inline-block;line-height: 1.2em;}#sk-container-id-16 div.sk-label-container {text-align: center;}#sk-container-id-16 div.sk-container {/* jupyter's `normalize.less` sets `[hidden] { display: none; }` but bootstrap.min.css set `[hidden] { display: none !important; }` so we also need the `!important` here to be able to override the default hidden behavior on the sphinx rendered scikit-learn.org. See: https://github.com/scikit-learn/scikit-learn/issues/21755 */display: inline-block !important;position: relative;}#sk-container-id-16 div.sk-text-repr-fallback {display: none;}</style><div id=\"sk-container-id-16\" class=\"sk-top-container\"><div class=\"sk-text-repr-fallback\"><pre>KNeighborsRegressor()</pre><b>In a Jupyter environment, please rerun this cell to show the HTML representation or trust the notebook. <br />On GitHub, the HTML representation is unable to render, please try loading this page with nbviewer.org.</b></div><div class=\"sk-container\" hidden><div class=\"sk-item\"><div class=\"sk-estimator sk-toggleable\"><input class=\"sk-toggleable__control sk-hidden--visually\" id=\"sk-estimator-id-16\" type=\"checkbox\" checked><label for=\"sk-estimator-id-16\" class=\"sk-toggleable__label sk-toggleable__label-arrow\">KNeighborsRegressor</label><div class=\"sk-toggleable__content\"><pre>KNeighborsRegressor()</pre></div></div></div></div></div>"
      ],
      "text/plain": [
       "KNeighborsRegressor()"
      ]
     },
     "execution_count": 99,
     "metadata": {},
     "output_type": "execute_result"
    }
   ],
   "source": [
    "from sklearn.neighbors import KNeighborsRegressor   # Importando a classe de regressão\n",
    "model = KNeighborsRegressor()                       # Criando um objeto de predição\n",
    "model.fit(X_train, y_train)                         # Ajustando o modelo"
   ]
  },
  {
   "cell_type": "markdown",
   "id": "f77ea536",
   "metadata": {},
   "source": [
    "#### Checando ajuste do modelo"
   ]
  },
  {
   "cell_type": "markdown",
   "id": "c2ef7d64",
   "metadata": {},
   "source": [
    "Primeiramente sempre gosto de avaliar se o modelo conseguiu se ajustar aos dados. Faço isso realizando predição sobre o próprio dado treinado."
   ]
  },
  {
   "cell_type": "code",
   "execution_count": 100,
   "id": "363c207f",
   "metadata": {},
   "outputs": [
    {
     "name": "stdout",
     "output_type": "stream",
     "text": [
      "R2: 97.60%\n"
     ]
    }
   ],
   "source": [
    "overfitted_pred = model.predict(X_train)\n",
    "r2 = r2_score(y_train, overfitted_pred)\n",
    "print(f\"R2: {r2 * 100:.2f}%\")"
   ]
  },
  {
   "cell_type": "markdown",
   "id": "568624ee",
   "metadata": {},
   "source": [
    "#### Predição"
   ]
  },
  {
   "cell_type": "code",
   "execution_count": 101,
   "id": "2ff93828",
   "metadata": {
    "scrolled": false
   },
   "outputs": [
    {
     "name": "stdout",
     "output_type": "stream",
     "text": [
      "R-squared (R2): 0.9636\n",
      "Mean Squared Error (MSE): 565601.2579\n"
     ]
    }
   ],
   "source": [
    "y_pred = model.predict(X_test)\n",
    "\n",
    "# Evaluate the model\n",
    "r2 = r2_score(y_test, y_pred)\n",
    "mse = mean_squared_error(y_test, y_pred)\n",
    "\n",
    "print(f\"R-squared (R2): {r2:.4f}\")\n",
    "print(f\"Mean Squared Error (MSE): {mse:.4f}\")"
   ]
  },
  {
   "cell_type": "markdown",
   "id": "29619ddd",
   "metadata": {},
   "source": [
    "### GradientBoostingRegressor"
   ]
  },
  {
   "cell_type": "markdown",
   "id": "7bc7a032",
   "metadata": {},
   "source": [
    "#### Treinamento"
   ]
  },
  {
   "cell_type": "code",
   "execution_count": 104,
   "id": "7c489f7b",
   "metadata": {
    "scrolled": true
   },
   "outputs": [
    {
     "data": {
      "text/html": [
       "<style>#sk-container-id-17 {color: black;}#sk-container-id-17 pre{padding: 0;}#sk-container-id-17 div.sk-toggleable {background-color: white;}#sk-container-id-17 label.sk-toggleable__label {cursor: pointer;display: block;width: 100%;margin-bottom: 0;padding: 0.3em;box-sizing: border-box;text-align: center;}#sk-container-id-17 label.sk-toggleable__label-arrow:before {content: \"▸\";float: left;margin-right: 0.25em;color: #696969;}#sk-container-id-17 label.sk-toggleable__label-arrow:hover:before {color: black;}#sk-container-id-17 div.sk-estimator:hover label.sk-toggleable__label-arrow:before {color: black;}#sk-container-id-17 div.sk-toggleable__content {max-height: 0;max-width: 0;overflow: hidden;text-align: left;background-color: #f0f8ff;}#sk-container-id-17 div.sk-toggleable__content pre {margin: 0.2em;color: black;border-radius: 0.25em;background-color: #f0f8ff;}#sk-container-id-17 input.sk-toggleable__control:checked~div.sk-toggleable__content {max-height: 200px;max-width: 100%;overflow: auto;}#sk-container-id-17 input.sk-toggleable__control:checked~label.sk-toggleable__label-arrow:before {content: \"▾\";}#sk-container-id-17 div.sk-estimator input.sk-toggleable__control:checked~label.sk-toggleable__label {background-color: #d4ebff;}#sk-container-id-17 div.sk-label input.sk-toggleable__control:checked~label.sk-toggleable__label {background-color: #d4ebff;}#sk-container-id-17 input.sk-hidden--visually {border: 0;clip: rect(1px 1px 1px 1px);clip: rect(1px, 1px, 1px, 1px);height: 1px;margin: -1px;overflow: hidden;padding: 0;position: absolute;width: 1px;}#sk-container-id-17 div.sk-estimator {font-family: monospace;background-color: #f0f8ff;border: 1px dotted black;border-radius: 0.25em;box-sizing: border-box;margin-bottom: 0.5em;}#sk-container-id-17 div.sk-estimator:hover {background-color: #d4ebff;}#sk-container-id-17 div.sk-parallel-item::after {content: \"\";width: 100%;border-bottom: 1px solid gray;flex-grow: 1;}#sk-container-id-17 div.sk-label:hover label.sk-toggleable__label {background-color: #d4ebff;}#sk-container-id-17 div.sk-serial::before {content: \"\";position: absolute;border-left: 1px solid gray;box-sizing: border-box;top: 0;bottom: 0;left: 50%;z-index: 0;}#sk-container-id-17 div.sk-serial {display: flex;flex-direction: column;align-items: center;background-color: white;padding-right: 0.2em;padding-left: 0.2em;position: relative;}#sk-container-id-17 div.sk-item {position: relative;z-index: 1;}#sk-container-id-17 div.sk-parallel {display: flex;align-items: stretch;justify-content: center;background-color: white;position: relative;}#sk-container-id-17 div.sk-item::before, #sk-container-id-17 div.sk-parallel-item::before {content: \"\";position: absolute;border-left: 1px solid gray;box-sizing: border-box;top: 0;bottom: 0;left: 50%;z-index: -1;}#sk-container-id-17 div.sk-parallel-item {display: flex;flex-direction: column;z-index: 1;position: relative;background-color: white;}#sk-container-id-17 div.sk-parallel-item:first-child::after {align-self: flex-end;width: 50%;}#sk-container-id-17 div.sk-parallel-item:last-child::after {align-self: flex-start;width: 50%;}#sk-container-id-17 div.sk-parallel-item:only-child::after {width: 0;}#sk-container-id-17 div.sk-dashed-wrapped {border: 1px dashed gray;margin: 0 0.4em 0.5em 0.4em;box-sizing: border-box;padding-bottom: 0.4em;background-color: white;}#sk-container-id-17 div.sk-label label {font-family: monospace;font-weight: bold;display: inline-block;line-height: 1.2em;}#sk-container-id-17 div.sk-label-container {text-align: center;}#sk-container-id-17 div.sk-container {/* jupyter's `normalize.less` sets `[hidden] { display: none; }` but bootstrap.min.css set `[hidden] { display: none !important; }` so we also need the `!important` here to be able to override the default hidden behavior on the sphinx rendered scikit-learn.org. See: https://github.com/scikit-learn/scikit-learn/issues/21755 */display: inline-block !important;position: relative;}#sk-container-id-17 div.sk-text-repr-fallback {display: none;}</style><div id=\"sk-container-id-17\" class=\"sk-top-container\"><div class=\"sk-text-repr-fallback\"><pre>GradientBoostingRegressor()</pre><b>In a Jupyter environment, please rerun this cell to show the HTML representation or trust the notebook. <br />On GitHub, the HTML representation is unable to render, please try loading this page with nbviewer.org.</b></div><div class=\"sk-container\" hidden><div class=\"sk-item\"><div class=\"sk-estimator sk-toggleable\"><input class=\"sk-toggleable__control sk-hidden--visually\" id=\"sk-estimator-id-17\" type=\"checkbox\" checked><label for=\"sk-estimator-id-17\" class=\"sk-toggleable__label sk-toggleable__label-arrow\">GradientBoostingRegressor</label><div class=\"sk-toggleable__content\"><pre>GradientBoostingRegressor()</pre></div></div></div></div></div>"
      ],
      "text/plain": [
       "GradientBoostingRegressor()"
      ]
     },
     "execution_count": 104,
     "metadata": {},
     "output_type": "execute_result"
    }
   ],
   "source": [
    "from sklearn.ensemble import GradientBoostingRegressor   # Importando a classe de regressão\n",
    "model = GradientBoostingRegressor()                      # Criando um objeto de predição\n",
    "model.fit(X_train, y_train)                              # Ajustando o modelo"
   ]
  },
  {
   "cell_type": "markdown",
   "id": "aa0febef",
   "metadata": {},
   "source": [
    "#### Checando ajuste do modelo"
   ]
  },
  {
   "cell_type": "markdown",
   "id": "1bf86d11",
   "metadata": {},
   "source": [
    "Primeiramente sempre gosto de avaliar se o modelo conseguiu se ajustar aos dados. Faço isso realizando predição sobre o próprio dado treinado."
   ]
  },
  {
   "cell_type": "code",
   "execution_count": 105,
   "id": "faf28925",
   "metadata": {},
   "outputs": [
    {
     "name": "stdout",
     "output_type": "stream",
     "text": [
      "R2: 96.76%\n"
     ]
    }
   ],
   "source": [
    "overfitted_pred = model.predict(X_train)\n",
    "r2 = r2_score(y_train, overfitted_pred)\n",
    "print(f\"R2: {r2 * 100:.2f}%\")"
   ]
  },
  {
   "cell_type": "markdown",
   "id": "36728269",
   "metadata": {},
   "source": [
    "#### Predição"
   ]
  },
  {
   "cell_type": "code",
   "execution_count": 106,
   "id": "d2bd12df",
   "metadata": {
    "scrolled": false
   },
   "outputs": [
    {
     "name": "stdout",
     "output_type": "stream",
     "text": [
      "R-squared (R2): 0.9657\n",
      "Mean Squared Error (MSE): 532776.8369\n"
     ]
    }
   ],
   "source": [
    "y_pred = model.predict(X_test)\n",
    "\n",
    "# Evaluate the model\n",
    "r2 = r2_score(y_test, y_pred)\n",
    "mse = mean_squared_error(y_test, y_pred)\n",
    "\n",
    "print(f\"R-squared (R2): {r2:.4f}\")\n",
    "print(f\"Mean Squared Error (MSE): {mse:.4f}\")"
   ]
  },
  {
   "cell_type": "markdown",
   "id": "827763c2",
   "metadata": {},
   "source": [
    "### Resultados finais (R2 / MSE)\n",
    "\n",
    "- sklearn.linear_model.LinearRegression (0.92 / 1215498)\n",
    "- sklearn.linear_model.Lasso (0.92 / 1234978)\n",
    "- sklearn.tree.DecisionTreeRegressor (0.96 / 558829)\n",
    "- sklearn.ensemble.RandomForestRegressor (0.98 / 302086)\n",
    "- sklearn.neighbors.KNeighborsRegressor (0.96 / 565601)\n",
    "- sklearn.ensemble.GradientBoostingRegressor (0.96 / 532776)"
   ]
  },
  {
   "cell_type": "markdown",
   "id": "9a170904",
   "metadata": {},
   "source": [
    "# 3 Conjuntos desbalanceados"
   ]
  },
  {
   "cell_type": "markdown",
   "id": "8b00a50c",
   "metadata": {},
   "source": [
    "### Resumo:\n",
    "* Classificação | A602.pickle, A621.pickle, A627.pickle, A636.pickle, A652.pickle\n",
    "* Preprocessamentos: binarização e balanceamentos (undersampling, oversampling e alteração de limiar)\n",
    "* Mining: GradientBoostingClassifier\n",
    "* Tarefa: comparar se o resultado dos datasets balanceados consegue ser melhor que os não balanceados"
   ]
  },
  {
   "cell_type": "code",
   "execution_count": 73,
   "id": "f89fd58a",
   "metadata": {},
   "outputs": [],
   "source": [
    "import numpy as np\n",
    "import pickle\n",
    "fileA602 = open('cic1205/data/A602.pickle' , 'rb')\n",
    "fileA621 = open('cic1205/data/A621.pickle' , 'rb')\n",
    "fileA627 = open('cic1205/data/A627.pickle' , 'rb')\n",
    "fileA636 = open('cic1205/data/A636.pickle' , 'rb')\n",
    "fileA652 = open('cic1205/data/A652.pickle' , 'rb')\n",
    "#Importando classe para visualização de dados\n",
    "import matplotlib.pyplot as plt #visualization\n",
    "from matplotlib import pyplot #visualization \n",
    "#Importando classe para balanceamento de dados\n",
    "from sklearn.utils import resample\n",
    "\n",
    "#%matplotlib inline "
   ]
  },
  {
   "cell_type": "markdown",
   "id": "75b75b23",
   "metadata": {},
   "source": [
    "## Datasets A602,A621,A627,A636,A652\n",
    "- Baseado no dataset desejado a única modificação que precisa ser feita no código é alterar a entrada de pickle.load().\n",
    "- Os resultados de todos os datasets estão apresentados no fim do exercício."
   ]
  },
  {
   "cell_type": "code",
   "execution_count": 231,
   "id": "fe23ca01",
   "metadata": {
    "scrolled": false
   },
   "outputs": [],
   "source": [
    "# Escolha de dataset tirando o comment do desejado.\n",
    "\n",
    "#(X_train , y_train , X_val , y_val , X_test , y_test) = pickle.load(fileA602)\n",
    "#(X_train , y_train , X_val , y_val , X_test , y_test) = pickle.load(fileA621)\n",
    "#(X_train , y_train , X_val , y_val , X_test , y_test) = pickle.load(fileA627)\n",
    "#X_train , y_train , X_val , y_val , X_test , y_test) = pickle.load(fileA636)\n",
    "(X_train , y_train , X_val , y_val , X_test , y_test) = pickle.load(fileA652)"
   ]
  },
  {
   "cell_type": "code",
   "execution_count": 232,
   "id": "279ac6e5",
   "metadata": {},
   "outputs": [
    {
     "data": {
      "image/png": "[encoded data removed]",
      "text/plain": [
       "<Figure size 640x480 with 1 Axes>"
      ]
     },
     "metadata": {},
     "output_type": "display_data"
    }
   ],
   "source": [
    "# Preprocessamento (Botando 1 tudo que é diferente de 0 como informado no grupo)\n",
    "y_train[y_train != 0] = 1\n",
    "y_test[y_test != 0] = 1\n",
    "# Transformando 2D array em 1D array\n",
    "y_train = y_train.flatten()\n",
    "y_test = y_test.flatten()\n",
    "# Criando gráfico de torta das diferenças entre as classes 0 e 1\n",
    "class_division = [ y_train[y_train == 1].shape[0] , y_train[y_train == 0].shape[0] ]\n",
    "my_labels = ['Minority Class', 'Majority Class']\n",
    "plt.pie(class_division, labels = my_labels)\n",
    "plt.show()"
   ]
  },
  {
   "cell_type": "code",
   "execution_count": 233,
   "id": "22dbf7e3",
   "metadata": {
    "scrolled": false
   },
   "outputs": [
    {
     "data": {
      "text/html": [
       "<style>#sk-container-id-24 {color: black;}#sk-container-id-24 pre{padding: 0;}#sk-container-id-24 div.sk-toggleable {background-color: white;}#sk-container-id-24 label.sk-toggleable__label {cursor: pointer;display: block;width: 100%;margin-bottom: 0;padding: 0.3em;box-sizing: border-box;text-align: center;}#sk-container-id-24 label.sk-toggleable__label-arrow:before {content: \"▸\";float: left;margin-right: 0.25em;color: #696969;}#sk-container-id-24 label.sk-toggleable__label-arrow:hover:before {color: black;}#sk-container-id-24 div.sk-estimator:hover label.sk-toggleable__label-arrow:before {color: black;}#sk-container-id-24 div.sk-toggleable__content {max-height: 0;max-width: 0;overflow: hidden;text-align: left;background-color: #f0f8ff;}#sk-container-id-24 div.sk-toggleable__content pre {margin: 0.2em;color: black;border-radius: 0.25em;background-color: #f0f8ff;}#sk-container-id-24 input.sk-toggleable__control:checked~div.sk-toggleable__content {max-height: 200px;max-width: 100%;overflow: auto;}#sk-container-id-24 input.sk-toggleable__control:checked~label.sk-toggleable__label-arrow:before {content: \"▾\";}#sk-container-id-24 div.sk-estimator input.sk-toggleable__control:checked~label.sk-toggleable__label {background-color: #d4ebff;}#sk-container-id-24 div.sk-label input.sk-toggleable__control:checked~label.sk-toggleable__label {background-color: #d4ebff;}#sk-container-id-24 input.sk-hidden--visually {border: 0;clip: rect(1px 1px 1px 1px);clip: rect(1px, 1px, 1px, 1px);height: 1px;margin: -1px;overflow: hidden;padding: 0;position: absolute;width: 1px;}#sk-container-id-24 div.sk-estimator {font-family: monospace;background-color: #f0f8ff;border: 1px dotted black;border-radius: 0.25em;box-sizing: border-box;margin-bottom: 0.5em;}#sk-container-id-24 div.sk-estimator:hover {background-color: #d4ebff;}#sk-container-id-24 div.sk-parallel-item::after {content: \"\";width: 100%;border-bottom: 1px solid gray;flex-grow: 1;}#sk-container-id-24 div.sk-label:hover label.sk-toggleable__label {background-color: #d4ebff;}#sk-container-id-24 div.sk-serial::before {content: \"\";position: absolute;border-left: 1px solid gray;box-sizing: border-box;top: 0;bottom: 0;left: 50%;z-index: 0;}#sk-container-id-24 div.sk-serial {display: flex;flex-direction: column;align-items: center;background-color: white;padding-right: 0.2em;padding-left: 0.2em;position: relative;}#sk-container-id-24 div.sk-item {position: relative;z-index: 1;}#sk-container-id-24 div.sk-parallel {display: flex;align-items: stretch;justify-content: center;background-color: white;position: relative;}#sk-container-id-24 div.sk-item::before, #sk-container-id-24 div.sk-parallel-item::before {content: \"\";position: absolute;border-left: 1px solid gray;box-sizing: border-box;top: 0;bottom: 0;left: 50%;z-index: -1;}#sk-container-id-24 div.sk-parallel-item {display: flex;flex-direction: column;z-index: 1;position: relative;background-color: white;}#sk-container-id-24 div.sk-parallel-item:first-child::after {align-self: flex-end;width: 50%;}#sk-container-id-24 div.sk-parallel-item:last-child::after {align-self: flex-start;width: 50%;}#sk-container-id-24 div.sk-parallel-item:only-child::after {width: 0;}#sk-container-id-24 div.sk-dashed-wrapped {border: 1px dashed gray;margin: 0 0.4em 0.5em 0.4em;box-sizing: border-box;padding-bottom: 0.4em;background-color: white;}#sk-container-id-24 div.sk-label label {font-family: monospace;font-weight: bold;display: inline-block;line-height: 1.2em;}#sk-container-id-24 div.sk-label-container {text-align: center;}#sk-container-id-24 div.sk-container {/* jupyter's `normalize.less` sets `[hidden] { display: none; }` but bootstrap.min.css set `[hidden] { display: none !important; }` so we also need the `!important` here to be able to override the default hidden behavior on the sphinx rendered scikit-learn.org. See: https://github.com/scikit-learn/scikit-learn/issues/21755 */display: inline-block !important;position: relative;}#sk-container-id-24 div.sk-text-repr-fallback {display: none;}</style><div id=\"sk-container-id-24\" class=\"sk-top-container\"><div class=\"sk-text-repr-fallback\"><pre>GradientBoostingClassifier()</pre><b>In a Jupyter environment, please rerun this cell to show the HTML representation or trust the notebook. <br />On GitHub, the HTML representation is unable to render, please try loading this page with nbviewer.org.</b></div><div class=\"sk-container\" hidden><div class=\"sk-item\"><div class=\"sk-estimator sk-toggleable\"><input class=\"sk-toggleable__control sk-hidden--visually\" id=\"sk-estimator-id-24\" type=\"checkbox\" checked><label for=\"sk-estimator-id-24\" class=\"sk-toggleable__label sk-toggleable__label-arrow\">GradientBoostingClassifier</label><div class=\"sk-toggleable__content\"><pre>GradientBoostingClassifier()</pre></div></div></div></div></div>"
      ],
      "text/plain": [
       "GradientBoostingClassifier()"
      ]
     },
     "execution_count": 233,
     "metadata": {},
     "output_type": "execute_result"
    }
   ],
   "source": [
    "from sklearn.ensemble import GradientBoostingClassifier\n",
    "model = GradientBoostingClassifier()\n",
    "model.fit(X_train,y_train)"
   ]
  },
  {
   "cell_type": "markdown",
   "id": "04d58d0e",
   "metadata": {},
   "source": [
    "### Dataset original sem balanceamento"
   ]
  },
  {
   "cell_type": "code",
   "execution_count": 234,
   "id": "d8104227",
   "metadata": {},
   "outputs": [
    {
     "name": "stdout",
     "output_type": "stream",
     "text": [
      "Accuracy: 93.61%\n",
      "Confusion Matrix:\n",
      " [[8669  100]\n",
      " [ 512  301]]\n",
      "Classification Report:\n",
      "               precision    recall  f1-score   support\n",
      "\n",
      "         0.0       0.94      0.99      0.97      8769\n",
      "         1.0       0.75      0.37      0.50       813\n",
      "\n",
      "    accuracy                           0.94      9582\n",
      "   macro avg       0.85      0.68      0.73      9582\n",
      "weighted avg       0.93      0.94      0.93      9582\n",
      "\n"
     ]
    }
   ],
   "source": [
    "# Predição\n",
    "y_pred = model.predict(X_test)\n",
    "\n",
    "# Classification report conforme requisitado\n",
    "accuracy = accuracy_score(y_test, y_pred)\n",
    "confusion = confusion_matrix(y_test, y_pred)\n",
    "classification_rep = classification_report(y_test, y_pred)\n",
    "\n",
    "print(f\"Accuracy: {accuracy * 100:.2f}%\")\n",
    "print(\"Confusion Matrix:\\n\", confusion)\n",
    "print(\"Classification Report:\\n\", classification_rep)"
   ]
  },
  {
   "cell_type": "code",
   "execution_count": 235,
   "id": "2ec8f9ca",
   "metadata": {},
   "outputs": [
    {
     "data": {
      "text/html": [
       "<div>\n",
       "<style scoped>\n",
       "    .dataframe tbody tr th:only-of-type {\n",
       "        vertical-align: middle;\n",
       "    }\n",
       "\n",
       "    .dataframe tbody tr th {\n",
       "        vertical-align: top;\n",
       "    }\n",
       "\n",
       "    .dataframe thead th {\n",
       "        text-align: right;\n",
       "    }\n",
       "</style>\n",
       "<table border=\"1\" class=\"dataframe\">\n",
       "  <thead>\n",
       "    <tr style=\"text-align: right;\">\n",
       "      <th></th>\n",
       "      <th>Original</th>\n",
       "    </tr>\n",
       "  </thead>\n",
       "  <tbody>\n",
       "    <tr>\n",
       "      <th>Precision</th>\n",
       "      <td>0.7506</td>\n",
       "    </tr>\n",
       "    <tr>\n",
       "      <th>Recall</th>\n",
       "      <td>0.3702</td>\n",
       "    </tr>\n",
       "    <tr>\n",
       "      <th>F1_score</th>\n",
       "      <td>0.4959</td>\n",
       "    </tr>\n",
       "  </tbody>\n",
       "</table>\n",
       "</div>"
      ],
      "text/plain": [
       "           Original\n",
       "Precision    0.7506\n",
       "Recall       0.3702\n",
       "F1_score     0.4959"
      ]
     },
     "execution_count": 235,
     "metadata": {},
     "output_type": "execute_result"
    }
   ],
   "source": [
    "# Pegando métricas da classe 1\n",
    "from sklearn.metrics import precision_score, recall_score, f1_score\n",
    "precision_original =  round(precision_score(y_test, y_pred), 4)\n",
    "recall_original = round(recall_score(y_test, y_pred), 4)\n",
    "f1_score_original =  round(f1_score(y_test, y_pred), 4)\n",
    "metrics_original = [precision_original, recall_original, f1_score_original]\n",
    "\n",
    "# Armazenando valores de teste do dataset sem balanceamento\n",
    "original = pd.DataFrame(metrics_original)\n",
    "original.index = ['Precision', 'Recall', 'F1_score']\n",
    "original.columns = ['Original']\n",
    "original"
   ]
  },
  {
   "cell_type": "markdown",
   "id": "bfbac142",
   "metadata": {},
   "source": [
    "### Dataset com threshold de classificação diferenciado"
   ]
  },
  {
   "cell_type": "code",
   "execution_count": 236,
   "id": "0476bae2",
   "metadata": {
    "collapsed": true
   },
   "outputs": [
    {
     "data": {
      "text/html": [
       "<div>\n",
       "<style scoped>\n",
       "    .dataframe tbody tr th:only-of-type {\n",
       "        vertical-align: middle;\n",
       "    }\n",
       "\n",
       "    .dataframe tbody tr th {\n",
       "        vertical-align: top;\n",
       "    }\n",
       "\n",
       "    .dataframe thead th {\n",
       "        text-align: right;\n",
       "    }\n",
       "</style>\n",
       "<table border=\"1\" class=\"dataframe\">\n",
       "  <thead>\n",
       "    <tr style=\"text-align: right;\">\n",
       "      <th>Metrics</th>\n",
       "      <th>Precision</th>\n",
       "      <th>Recall</th>\n",
       "      <th>F1_score</th>\n",
       "    </tr>\n",
       "  </thead>\n",
       "  <tbody>\n",
       "    <tr>\n",
       "      <th>Original</th>\n",
       "      <td>0.7506</td>\n",
       "      <td>0.3702</td>\n",
       "      <td>0.4959</td>\n",
       "    </tr>\n",
       "    <tr>\n",
       "      <th>Threshold: 0.05</th>\n",
       "      <td>0.381</td>\n",
       "      <td>0.77</td>\n",
       "      <td>0.5098</td>\n",
       "    </tr>\n",
       "    <tr>\n",
       "      <th>Threshold: 0.1</th>\n",
       "      <td>0.5281</td>\n",
       "      <td>0.6814</td>\n",
       "      <td>0.5951</td>\n",
       "    </tr>\n",
       "    <tr>\n",
       "      <th>Threshold: 0.15</th>\n",
       "      <td>0.5942</td>\n",
       "      <td>0.6248</td>\n",
       "      <td>0.6091</td>\n",
       "    </tr>\n",
       "    <tr>\n",
       "      <th>Threshold: 0.2</th>\n",
       "      <td>0.6268</td>\n",
       "      <td>0.5867</td>\n",
       "      <td>0.6061</td>\n",
       "    </tr>\n",
       "    <tr>\n",
       "      <th>Threshold: 0.25</th>\n",
       "      <td>0.6504</td>\n",
       "      <td>0.556</td>\n",
       "      <td>0.5995</td>\n",
       "    </tr>\n",
       "    <tr>\n",
       "      <th>Threshold: 0.3</th>\n",
       "      <td>0.6725</td>\n",
       "      <td>0.5203</td>\n",
       "      <td>0.5867</td>\n",
       "    </tr>\n",
       "    <tr>\n",
       "      <th>Threshold: 0.35</th>\n",
       "      <td>0.6957</td>\n",
       "      <td>0.4809</td>\n",
       "      <td>0.5687</td>\n",
       "    </tr>\n",
       "    <tr>\n",
       "      <th>Threshold: 0.4</th>\n",
       "      <td>0.7242</td>\n",
       "      <td>0.449</td>\n",
       "      <td>0.5543</td>\n",
       "    </tr>\n",
       "    <tr>\n",
       "      <th>Threshold: 0.45</th>\n",
       "      <td>0.7335</td>\n",
       "      <td>0.4096</td>\n",
       "      <td>0.5257</td>\n",
       "    </tr>\n",
       "    <tr>\n",
       "      <th>Threshold: 0.5</th>\n",
       "      <td>0.7506</td>\n",
       "      <td>0.3702</td>\n",
       "      <td>0.4959</td>\n",
       "    </tr>\n",
       "    <tr>\n",
       "      <th>Threshold: 0.55</th>\n",
       "      <td>0.7787</td>\n",
       "      <td>0.3333</td>\n",
       "      <td>0.4668</td>\n",
       "    </tr>\n",
       "    <tr>\n",
       "      <th>Threshold: 0.6</th>\n",
       "      <td>0.7985</td>\n",
       "      <td>0.2681</td>\n",
       "      <td>0.4015</td>\n",
       "    </tr>\n",
       "    <tr>\n",
       "      <th>Threshold: 0.65</th>\n",
       "      <td>0.8158</td>\n",
       "      <td>0.2288</td>\n",
       "      <td>0.3573</td>\n",
       "    </tr>\n",
       "    <tr>\n",
       "      <th>Threshold: 0.7</th>\n",
       "      <td>0.8266</td>\n",
       "      <td>0.1759</td>\n",
       "      <td>0.2901</td>\n",
       "    </tr>\n",
       "    <tr>\n",
       "      <th>Threshold: 0.75</th>\n",
       "      <td>0.812</td>\n",
       "      <td>0.1328</td>\n",
       "      <td>0.2283</td>\n",
       "    </tr>\n",
       "  </tbody>\n",
       "</table>\n",
       "</div>"
      ],
      "text/plain": [
       "Metrics         Precision  Recall F1_score\n",
       "Original           0.7506  0.3702   0.4959\n",
       "Threshold: 0.05     0.381    0.77   0.5098\n",
       "Threshold: 0.1     0.5281  0.6814   0.5951\n",
       "Threshold: 0.15    0.5942  0.6248   0.6091\n",
       "Threshold: 0.2     0.6268  0.5867   0.6061\n",
       "Threshold: 0.25    0.6504   0.556   0.5995\n",
       "Threshold: 0.3     0.6725  0.5203   0.5867\n",
       "Threshold: 0.35    0.6957  0.4809   0.5687\n",
       "Threshold: 0.4     0.7242   0.449   0.5543\n",
       "Threshold: 0.45    0.7335  0.4096   0.5257\n",
       "Threshold: 0.5     0.7506  0.3702   0.4959\n",
       "Threshold: 0.55    0.7787  0.3333   0.4668\n",
       "Threshold: 0.6     0.7985  0.2681   0.4015\n",
       "Threshold: 0.65    0.8158  0.2288   0.3573\n",
       "Threshold: 0.7     0.8266  0.1759   0.2901\n",
       "Threshold: 0.75     0.812  0.1328   0.2283"
      ]
     },
     "execution_count": 236,
     "metadata": {},
     "output_type": "execute_result"
    }
   ],
   "source": [
    "cols = ['Metrics', 'Original']\n",
    "adj_threshold = pd.DataFrame()\n",
    "adj_threshold['Original'] = metrics_original\n",
    "thresholds = [ j/20 for j in range(1,16)]\n",
    "for i in thresholds:\n",
    "\n",
    "    y_pred_new_threshold = (model.predict_proba(X_test)[:,1]>=i).astype(int) #calculating the threshold with respect to class 1\n",
    "\n",
    "    precision_adj_threshold =  round(precision_score(y_test, y_pred_new_threshold, average='binary'), 4)\n",
    "    recall_adj_threshold = round(recall_score(y_test, y_pred_new_threshold, average='binary'), 4)\n",
    "    F1_score_adj_threshold =  round((f1_score(y_test, y_pred_new_threshold, average='binary')), 4)\n",
    "    metrics_adj_threshold = [precision_adj_threshold, recall_adj_threshold, F1_score_adj_threshold]\n",
    "    name = 'Threshold: ' + str(i) \n",
    "    adj_threshold[name] = metrics_adj_threshold\n",
    "    cols.append(name)\n",
    "\n",
    "\n",
    "adj_threshold.index = ['Precision', 'Recall', 'F1_score']\n",
    "adj_threshold = adj_threshold.reset_index()\n",
    "adj_threshold.columns = cols\n",
    "adj_threshold.transpose()\n",
    "\n",
    "adj_threshold1 = adj_threshold.transpose().iloc[1:, :]\n",
    "adj_threshold1.columns = adj_threshold.iloc[:,0]\n",
    "adj_threshold1"
   ]
  },
  {
   "cell_type": "markdown",
   "id": "f0b097d3",
   "metadata": {},
   "source": [
    "### Resultados de melhor threshold por dataset\n",
    "- A602: 0.5\n",
    "- A621: 0.35\n",
    "- A627: 0.45\n",
    "- A636: 0.4\n",
    "- A652: 0.15"
   ]
  },
  {
   "cell_type": "code",
   "execution_count": 238,
   "id": "88467752",
   "metadata": {},
   "outputs": [
    {
     "name": "stdout",
     "output_type": "stream",
     "text": [
      "Accuracy: 93.20%\n",
      "Confusion Matrix:\n",
      " [[8422  347]\n",
      " [ 305  508]]\n",
      "Classification Report:\n",
      "               precision    recall  f1-score   support\n",
      "\n",
      "         0.0       0.97      0.96      0.96      8769\n",
      "         1.0       0.59      0.62      0.61       813\n",
      "\n",
      "    accuracy                           0.93      9582\n",
      "   macro avg       0.78      0.79      0.79      9582\n",
      "weighted avg       0.93      0.93      0.93      9582\n",
      "\n"
     ]
    }
   ],
   "source": [
    "y_pred = (model.predict_proba(X_test)[:,1]>=0.15).astype(int)\n",
    "\n",
    "# Classification report conforme requisitado\n",
    "accuracy = accuracy_score(y_test, y_pred)\n",
    "confusion = confusion_matrix(y_test, y_pred)\n",
    "classification_rep = classification_report(y_test, y_pred)\n",
    "\n",
    "print(f\"Accuracy: {accuracy * 100:.2f}%\")\n",
    "print(\"Confusion Matrix:\\n\", confusion)\n",
    "print(\"Classification Report:\\n\", classification_rep)"
   ]
  },
  {
   "cell_type": "code",
   "execution_count": 239,
   "id": "44f03c08",
   "metadata": {
    "scrolled": true
   },
   "outputs": [
    {
     "data": {
      "text/html": [
       "<div>\n",
       "<style scoped>\n",
       "    .dataframe tbody tr th:only-of-type {\n",
       "        vertical-align: middle;\n",
       "    }\n",
       "\n",
       "    .dataframe tbody tr th {\n",
       "        vertical-align: top;\n",
       "    }\n",
       "\n",
       "    .dataframe thead th {\n",
       "        text-align: right;\n",
       "    }\n",
       "</style>\n",
       "<table border=\"1\" class=\"dataframe\">\n",
       "  <thead>\n",
       "    <tr style=\"text-align: right;\">\n",
       "      <th></th>\n",
       "      <th>Original</th>\n",
       "      <th>Alteração de limiar</th>\n",
       "    </tr>\n",
       "  </thead>\n",
       "  <tbody>\n",
       "    <tr>\n",
       "      <th>Precision</th>\n",
       "      <td>0.7506</td>\n",
       "      <td>0.5942</td>\n",
       "    </tr>\n",
       "    <tr>\n",
       "      <th>Recall</th>\n",
       "      <td>0.3702</td>\n",
       "      <td>0.6248</td>\n",
       "    </tr>\n",
       "    <tr>\n",
       "      <th>F1_score</th>\n",
       "      <td>0.4959</td>\n",
       "      <td>0.6091</td>\n",
       "    </tr>\n",
       "  </tbody>\n",
       "</table>\n",
       "</div>"
      ],
      "text/plain": [
       "           Original  Alteração de limiar\n",
       "Precision    0.7506               0.5942\n",
       "Recall       0.3702               0.6248\n",
       "F1_score     0.4959               0.6091"
      ]
     },
     "execution_count": 239,
     "metadata": {},
     "output_type": "execute_result"
    }
   ],
   "source": [
    "# Juntando os resultados num novo dataframe\n",
    "precision_changedthreshold =  round(precision_score(y_test, y_pred), 4)\n",
    "recall_changedthreshold = round(recall_score(y_test, y_pred), 4)\n",
    "F1_changedthreshold =  round(f1_score(y_test, y_pred), 4)\n",
    "metrics_changedthreshold = [precision_changedthreshold, recall_changedthreshold, F1_changedthreshold]\n",
    "\n",
    "changedthreshold = pd.DataFrame(list(zip(metrics_original, metrics_changedthreshold)))\n",
    "changedthreshold.index = ['Precision', 'Recall', 'F1_score']\n",
    "changedthreshold.columns = ['Original', 'Alteração de limiar']\n",
    "changedthreshold"
   ]
  },
  {
   "cell_type": "markdown",
   "id": "19f333ae",
   "metadata": {},
   "source": [
    "### Oversampling"
   ]
  },
  {
   "cell_type": "code",
   "execution_count": 240,
   "id": "60ca00c3",
   "metadata": {
    "scrolled": true
   },
   "outputs": [
    {
     "data": {
      "text/plain": [
       "0\n",
       "0.0    9258\n",
       "1.0    9258\n",
       "Name: count, dtype: int64"
      ]
     },
     "execution_count": 240,
     "metadata": {},
     "output_type": "execute_result"
    }
   ],
   "source": [
    "X_train_df = pd.DataFrame(X_train)\n",
    "y_train_df = pd.DataFrame(y_train)\n",
    "train_data=pd.concat([X_train_df,y_train_df],axis=1) # Juntando os dados\n",
    "\n",
    "Response_Zero= train_data[ train_data.iloc[:,24]==0 ] # Separando 2 dataframes baseado nas classificações\n",
    "Response_One= train_data [ train_data.iloc[:,24]==1 ]\n",
    "\n",
    "upsampled_One = resample(Response_One, # Igualando a quantidade de amostras com oversampling\n",
    "                          replace=True,\n",
    "                          n_samples=len(Response_Zero),\n",
    "                          random_state=1)\n",
    "\n",
    "upsampled = pd.concat([Response_Zero, upsampled_One])\n",
    "upsampled.iloc[:,24].value_counts() # Checando se tudo ficou certo"
   ]
  },
  {
   "cell_type": "code",
   "execution_count": 241,
   "id": "b8aeff24",
   "metadata": {},
   "outputs": [
    {
     "data": {
      "text/html": [
       "<style>#sk-container-id-25 {color: black;}#sk-container-id-25 pre{padding: 0;}#sk-container-id-25 div.sk-toggleable {background-color: white;}#sk-container-id-25 label.sk-toggleable__label {cursor: pointer;display: block;width: 100%;margin-bottom: 0;padding: 0.3em;box-sizing: border-box;text-align: center;}#sk-container-id-25 label.sk-toggleable__label-arrow:before {content: \"▸\";float: left;margin-right: 0.25em;color: #696969;}#sk-container-id-25 label.sk-toggleable__label-arrow:hover:before {color: black;}#sk-container-id-25 div.sk-estimator:hover label.sk-toggleable__label-arrow:before {color: black;}#sk-container-id-25 div.sk-toggleable__content {max-height: 0;max-width: 0;overflow: hidden;text-align: left;background-color: #f0f8ff;}#sk-container-id-25 div.sk-toggleable__content pre {margin: 0.2em;color: black;border-radius: 0.25em;background-color: #f0f8ff;}#sk-container-id-25 input.sk-toggleable__control:checked~div.sk-toggleable__content {max-height: 200px;max-width: 100%;overflow: auto;}#sk-container-id-25 input.sk-toggleable__control:checked~label.sk-toggleable__label-arrow:before {content: \"▾\";}#sk-container-id-25 div.sk-estimator input.sk-toggleable__control:checked~label.sk-toggleable__label {background-color: #d4ebff;}#sk-container-id-25 div.sk-label input.sk-toggleable__control:checked~label.sk-toggleable__label {background-color: #d4ebff;}#sk-container-id-25 input.sk-hidden--visually {border: 0;clip: rect(1px 1px 1px 1px);clip: rect(1px, 1px, 1px, 1px);height: 1px;margin: -1px;overflow: hidden;padding: 0;position: absolute;width: 1px;}#sk-container-id-25 div.sk-estimator {font-family: monospace;background-color: #f0f8ff;border: 1px dotted black;border-radius: 0.25em;box-sizing: border-box;margin-bottom: 0.5em;}#sk-container-id-25 div.sk-estimator:hover {background-color: #d4ebff;}#sk-container-id-25 div.sk-parallel-item::after {content: \"\";width: 100%;border-bottom: 1px solid gray;flex-grow: 1;}#sk-container-id-25 div.sk-label:hover label.sk-toggleable__label {background-color: #d4ebff;}#sk-container-id-25 div.sk-serial::before {content: \"\";position: absolute;border-left: 1px solid gray;box-sizing: border-box;top: 0;bottom: 0;left: 50%;z-index: 0;}#sk-container-id-25 div.sk-serial {display: flex;flex-direction: column;align-items: center;background-color: white;padding-right: 0.2em;padding-left: 0.2em;position: relative;}#sk-container-id-25 div.sk-item {position: relative;z-index: 1;}#sk-container-id-25 div.sk-parallel {display: flex;align-items: stretch;justify-content: center;background-color: white;position: relative;}#sk-container-id-25 div.sk-item::before, #sk-container-id-25 div.sk-parallel-item::before {content: \"\";position: absolute;border-left: 1px solid gray;box-sizing: border-box;top: 0;bottom: 0;left: 50%;z-index: -1;}#sk-container-id-25 div.sk-parallel-item {display: flex;flex-direction: column;z-index: 1;position: relative;background-color: white;}#sk-container-id-25 div.sk-parallel-item:first-child::after {align-self: flex-end;width: 50%;}#sk-container-id-25 div.sk-parallel-item:last-child::after {align-self: flex-start;width: 50%;}#sk-container-id-25 div.sk-parallel-item:only-child::after {width: 0;}#sk-container-id-25 div.sk-dashed-wrapped {border: 1px dashed gray;margin: 0 0.4em 0.5em 0.4em;box-sizing: border-box;padding-bottom: 0.4em;background-color: white;}#sk-container-id-25 div.sk-label label {font-family: monospace;font-weight: bold;display: inline-block;line-height: 1.2em;}#sk-container-id-25 div.sk-label-container {text-align: center;}#sk-container-id-25 div.sk-container {/* jupyter's `normalize.less` sets `[hidden] { display: none; }` but bootstrap.min.css set `[hidden] { display: none !important; }` so we also need the `!important` here to be able to override the default hidden behavior on the sphinx rendered scikit-learn.org. See: https://github.com/scikit-learn/scikit-learn/issues/21755 */display: inline-block !important;position: relative;}#sk-container-id-25 div.sk-text-repr-fallback {display: none;}</style><div id=\"sk-container-id-25\" class=\"sk-top-container\"><div class=\"sk-text-repr-fallback\"><pre>GradientBoostingClassifier()</pre><b>In a Jupyter environment, please rerun this cell to show the HTML representation or trust the notebook. <br />On GitHub, the HTML representation is unable to render, please try loading this page with nbviewer.org.</b></div><div class=\"sk-container\" hidden><div class=\"sk-item\"><div class=\"sk-estimator sk-toggleable\"><input class=\"sk-toggleable__control sk-hidden--visually\" id=\"sk-estimator-id-25\" type=\"checkbox\" checked><label for=\"sk-estimator-id-25\" class=\"sk-toggleable__label sk-toggleable__label-arrow\">GradientBoostingClassifier</label><div class=\"sk-toggleable__content\"><pre>GradientBoostingClassifier()</pre></div></div></div></div></div>"
      ],
      "text/plain": [
       "GradientBoostingClassifier()"
      ]
     },
     "execution_count": 241,
     "metadata": {},
     "output_type": "execute_result"
    }
   ],
   "source": [
    "#Treinando o modelo\n",
    "X_train_upsampled = upsampled.iloc[:,:24]\n",
    "y_train_upsampled = upsampled.iloc[:,24]\n",
    "\n",
    "model.fit(X_train_upsampled,y_train_upsampled)"
   ]
  },
  {
   "cell_type": "code",
   "execution_count": 242,
   "id": "1eb9411c",
   "metadata": {},
   "outputs": [
    {
     "name": "stdout",
     "output_type": "stream",
     "text": [
      "Accuracy: 91.62%\n",
      "Confusion Matrix:\n",
      " [[8259  510]\n",
      " [ 293  520]]\n",
      "Classification Report:\n",
      "               precision    recall  f1-score   support\n",
      "\n",
      "         0.0       0.97      0.94      0.95      8769\n",
      "         1.0       0.50      0.64      0.56       813\n",
      "\n",
      "    accuracy                           0.92      9582\n",
      "   macro avg       0.74      0.79      0.76      9582\n",
      "weighted avg       0.93      0.92      0.92      9582\n",
      "\n"
     ]
    }
   ],
   "source": [
    "# Predição\n",
    "y_pred = model.predict(X_test)\n",
    "\n",
    "# Classification report conforme requisitado\n",
    "accuracy = accuracy_score(y_test, y_pred)\n",
    "confusion = confusion_matrix(y_test, y_pred)\n",
    "classification_rep = classification_report(y_test, y_pred)\n",
    "\n",
    "print(f\"Accuracy: {accuracy * 100:.2f}%\")\n",
    "print(\"Confusion Matrix:\\n\", confusion)\n",
    "print(\"Classification Report:\\n\", classification_rep)"
   ]
  },
  {
   "cell_type": "code",
   "execution_count": 243,
   "id": "b44839da",
   "metadata": {
    "scrolled": true
   },
   "outputs": [
    {
     "data": {
      "text/html": [
       "<div>\n",
       "<style scoped>\n",
       "    .dataframe tbody tr th:only-of-type {\n",
       "        vertical-align: middle;\n",
       "    }\n",
       "\n",
       "    .dataframe tbody tr th {\n",
       "        vertical-align: top;\n",
       "    }\n",
       "\n",
       "    .dataframe thead th {\n",
       "        text-align: right;\n",
       "    }\n",
       "</style>\n",
       "<table border=\"1\" class=\"dataframe\">\n",
       "  <thead>\n",
       "    <tr style=\"text-align: right;\">\n",
       "      <th></th>\n",
       "      <th>Original</th>\n",
       "      <th>Alteração de limiar</th>\n",
       "      <th>Oversampling</th>\n",
       "    </tr>\n",
       "  </thead>\n",
       "  <tbody>\n",
       "    <tr>\n",
       "      <th>Precision</th>\n",
       "      <td>0.7506</td>\n",
       "      <td>0.5942</td>\n",
       "      <td>0.5049</td>\n",
       "    </tr>\n",
       "    <tr>\n",
       "      <th>Recall</th>\n",
       "      <td>0.3702</td>\n",
       "      <td>0.6248</td>\n",
       "      <td>0.6396</td>\n",
       "    </tr>\n",
       "    <tr>\n",
       "      <th>F1_score</th>\n",
       "      <td>0.4959</td>\n",
       "      <td>0.6091</td>\n",
       "      <td>0.5643</td>\n",
       "    </tr>\n",
       "  </tbody>\n",
       "</table>\n",
       "</div>"
      ],
      "text/plain": [
       "           Original  Alteração de limiar  Oversampling\n",
       "Precision    0.7506               0.5942        0.5049\n",
       "Recall       0.3702               0.6248        0.6396\n",
       "F1_score     0.4959               0.6091        0.5643"
      ]
     },
     "execution_count": 243,
     "metadata": {},
     "output_type": "execute_result"
    }
   ],
   "source": [
    "# Pegando métricas do oversampling\n",
    "precision_upsampled =  round(precision_score(y_test, y_pred), 4)\n",
    "recall_upsampled = round(recall_score(y_test, y_pred), 4)\n",
    "F1_upsampled =  round(f1_score(y_test, y_pred), 4)\n",
    "metrics_upsampled = [precision_upsampled, recall_upsampled, F1_upsampled]\n",
    "\n",
    "upsampled = pd.DataFrame(list(zip(metrics_original, metrics_changedthreshold, metrics_upsampled)))\n",
    "upsampled.index = ['Precision', 'Recall', 'F1_score']\n",
    "upsampled.columns = ['Original', 'Alteração de limiar', 'Oversampling']\n",
    "upsampled"
   ]
  },
  {
   "cell_type": "markdown",
   "id": "487f0ae2",
   "metadata": {},
   "source": [
    "### Undersampling"
   ]
  },
  {
   "cell_type": "code",
   "execution_count": 244,
   "id": "8ac1bb13",
   "metadata": {},
   "outputs": [
    {
     "data": {
      "text/plain": [
       "0\n",
       "0.0    754\n",
       "1.0    754\n",
       "Name: count, dtype: int64"
      ]
     },
     "execution_count": 244,
     "metadata": {},
     "output_type": "execute_result"
    }
   ],
   "source": [
    "X_train_df = pd.DataFrame(X_train)\n",
    "y_train_df = pd.DataFrame(y_train)\n",
    "train_data=pd.concat([X_train_df,y_train_df],axis=1) # Juntando os dados\n",
    "\n",
    "Response_Zero= train_data[ train_data.iloc[:,24]==0 ] # Separando 2 dataframes baseado nas classificações\n",
    "Response_One= train_data [ train_data.iloc[:,24]==1 ]\n",
    "\n",
    "downsampled_Zero = resample(Response_Zero, # Igualando a quantidade de amostras com undersampling\n",
    "                          replace=True,\n",
    "                          n_samples=len(Response_One),\n",
    "                          random_state=1)\n",
    "\n",
    "downsampled = pd.concat([downsampled_Zero, Response_One])\n",
    "downsampled.iloc[:,24].value_counts() # Checando se tudo ficou certo"
   ]
  },
  {
   "cell_type": "code",
   "execution_count": 245,
   "id": "03060bd6",
   "metadata": {},
   "outputs": [
    {
     "data": {
      "text/html": [
       "<style>#sk-container-id-26 {color: black;}#sk-container-id-26 pre{padding: 0;}#sk-container-id-26 div.sk-toggleable {background-color: white;}#sk-container-id-26 label.sk-toggleable__label {cursor: pointer;display: block;width: 100%;margin-bottom: 0;padding: 0.3em;box-sizing: border-box;text-align: center;}#sk-container-id-26 label.sk-toggleable__label-arrow:before {content: \"▸\";float: left;margin-right: 0.25em;color: #696969;}#sk-container-id-26 label.sk-toggleable__label-arrow:hover:before {color: black;}#sk-container-id-26 div.sk-estimator:hover label.sk-toggleable__label-arrow:before {color: black;}#sk-container-id-26 div.sk-toggleable__content {max-height: 0;max-width: 0;overflow: hidden;text-align: left;background-color: #f0f8ff;}#sk-container-id-26 div.sk-toggleable__content pre {margin: 0.2em;color: black;border-radius: 0.25em;background-color: #f0f8ff;}#sk-container-id-26 input.sk-toggleable__control:checked~div.sk-toggleable__content {max-height: 200px;max-width: 100%;overflow: auto;}#sk-container-id-26 input.sk-toggleable__control:checked~label.sk-toggleable__label-arrow:before {content: \"▾\";}#sk-container-id-26 div.sk-estimator input.sk-toggleable__control:checked~label.sk-toggleable__label {background-color: #d4ebff;}#sk-container-id-26 div.sk-label input.sk-toggleable__control:checked~label.sk-toggleable__label {background-color: #d4ebff;}#sk-container-id-26 input.sk-hidden--visually {border: 0;clip: rect(1px 1px 1px 1px);clip: rect(1px, 1px, 1px, 1px);height: 1px;margin: -1px;overflow: hidden;padding: 0;position: absolute;width: 1px;}#sk-container-id-26 div.sk-estimator {font-family: monospace;background-color: #f0f8ff;border: 1px dotted black;border-radius: 0.25em;box-sizing: border-box;margin-bottom: 0.5em;}#sk-container-id-26 div.sk-estimator:hover {background-color: #d4ebff;}#sk-container-id-26 div.sk-parallel-item::after {content: \"\";width: 100%;border-bottom: 1px solid gray;flex-grow: 1;}#sk-container-id-26 div.sk-label:hover label.sk-toggleable__label {background-color: #d4ebff;}#sk-container-id-26 div.sk-serial::before {content: \"\";position: absolute;border-left: 1px solid gray;box-sizing: border-box;top: 0;bottom: 0;left: 50%;z-index: 0;}#sk-container-id-26 div.sk-serial {display: flex;flex-direction: column;align-items: center;background-color: white;padding-right: 0.2em;padding-left: 0.2em;position: relative;}#sk-container-id-26 div.sk-item {position: relative;z-index: 1;}#sk-container-id-26 div.sk-parallel {display: flex;align-items: stretch;justify-content: center;background-color: white;position: relative;}#sk-container-id-26 div.sk-item::before, #sk-container-id-26 div.sk-parallel-item::before {content: \"\";position: absolute;border-left: 1px solid gray;box-sizing: border-box;top: 0;bottom: 0;left: 50%;z-index: -1;}#sk-container-id-26 div.sk-parallel-item {display: flex;flex-direction: column;z-index: 1;position: relative;background-color: white;}#sk-container-id-26 div.sk-parallel-item:first-child::after {align-self: flex-end;width: 50%;}#sk-container-id-26 div.sk-parallel-item:last-child::after {align-self: flex-start;width: 50%;}#sk-container-id-26 div.sk-parallel-item:only-child::after {width: 0;}#sk-container-id-26 div.sk-dashed-wrapped {border: 1px dashed gray;margin: 0 0.4em 0.5em 0.4em;box-sizing: border-box;padding-bottom: 0.4em;background-color: white;}#sk-container-id-26 div.sk-label label {font-family: monospace;font-weight: bold;display: inline-block;line-height: 1.2em;}#sk-container-id-26 div.sk-label-container {text-align: center;}#sk-container-id-26 div.sk-container {/* jupyter's `normalize.less` sets `[hidden] { display: none; }` but bootstrap.min.css set `[hidden] { display: none !important; }` so we also need the `!important` here to be able to override the default hidden behavior on the sphinx rendered scikit-learn.org. See: https://github.com/scikit-learn/scikit-learn/issues/21755 */display: inline-block !important;position: relative;}#sk-container-id-26 div.sk-text-repr-fallback {display: none;}</style><div id=\"sk-container-id-26\" class=\"sk-top-container\"><div class=\"sk-text-repr-fallback\"><pre>GradientBoostingClassifier()</pre><b>In a Jupyter environment, please rerun this cell to show the HTML representation or trust the notebook. <br />On GitHub, the HTML representation is unable to render, please try loading this page with nbviewer.org.</b></div><div class=\"sk-container\" hidden><div class=\"sk-item\"><div class=\"sk-estimator sk-toggleable\"><input class=\"sk-toggleable__control sk-hidden--visually\" id=\"sk-estimator-id-26\" type=\"checkbox\" checked><label for=\"sk-estimator-id-26\" class=\"sk-toggleable__label sk-toggleable__label-arrow\">GradientBoostingClassifier</label><div class=\"sk-toggleable__content\"><pre>GradientBoostingClassifier()</pre></div></div></div></div></div>"
      ],
      "text/plain": [
       "GradientBoostingClassifier()"
      ]
     },
     "execution_count": 245,
     "metadata": {},
     "output_type": "execute_result"
    }
   ],
   "source": [
    "#Treinando o modelo\n",
    "X_train_downsampled = downsampled.iloc[:,:24]\n",
    "y_train_downsampled = downsampled.iloc[:,24]\n",
    "\n",
    "model.fit(X_train_downsampled,y_train_downsampled)"
   ]
  },
  {
   "cell_type": "code",
   "execution_count": 246,
   "id": "0ac40325",
   "metadata": {},
   "outputs": [
    {
     "name": "stdout",
     "output_type": "stream",
     "text": [
      "Accuracy: 87.95%\n",
      "Confusion Matrix:\n",
      " [[7833  936]\n",
      " [ 219  594]]\n",
      "Classification Report:\n",
      "               precision    recall  f1-score   support\n",
      "\n",
      "         0.0       0.97      0.89      0.93      8769\n",
      "         1.0       0.39      0.73      0.51       813\n",
      "\n",
      "    accuracy                           0.88      9582\n",
      "   macro avg       0.68      0.81      0.72      9582\n",
      "weighted avg       0.92      0.88      0.90      9582\n",
      "\n"
     ]
    }
   ],
   "source": [
    "# Predição\n",
    "y_pred = model.predict(X_test)\n",
    "\n",
    "# Classification report conforme requisitado\n",
    "accuracy = accuracy_score(y_test, y_pred)\n",
    "confusion = confusion_matrix(y_test, y_pred)\n",
    "classification_rep = classification_report(y_test, y_pred)\n",
    "\n",
    "print(f\"Accuracy: {accuracy * 100:.2f}%\")\n",
    "print(\"Confusion Matrix:\\n\", confusion)\n",
    "print(\"Classification Report:\\n\", classification_rep)"
   ]
  },
  {
   "cell_type": "code",
   "execution_count": 247,
   "id": "cdd66775",
   "metadata": {
    "scrolled": false
   },
   "outputs": [
    {
     "data": {
      "text/html": [
       "<div>\n",
       "<style scoped>\n",
       "    .dataframe tbody tr th:only-of-type {\n",
       "        vertical-align: middle;\n",
       "    }\n",
       "\n",
       "    .dataframe tbody tr th {\n",
       "        vertical-align: top;\n",
       "    }\n",
       "\n",
       "    .dataframe thead th {\n",
       "        text-align: right;\n",
       "    }\n",
       "</style>\n",
       "<table border=\"1\" class=\"dataframe\">\n",
       "  <thead>\n",
       "    <tr style=\"text-align: right;\">\n",
       "      <th></th>\n",
       "      <th>Original</th>\n",
       "      <th>Alteração de limiar</th>\n",
       "      <th>Oversampling</th>\n",
       "      <th>Undersampling</th>\n",
       "    </tr>\n",
       "  </thead>\n",
       "  <tbody>\n",
       "    <tr>\n",
       "      <th>Precision</th>\n",
       "      <td>0.7506</td>\n",
       "      <td>0.5942</td>\n",
       "      <td>0.5049</td>\n",
       "      <td>0.3882</td>\n",
       "    </tr>\n",
       "    <tr>\n",
       "      <th>Recall</th>\n",
       "      <td>0.3702</td>\n",
       "      <td>0.6248</td>\n",
       "      <td>0.6396</td>\n",
       "      <td>0.7306</td>\n",
       "    </tr>\n",
       "    <tr>\n",
       "      <th>F1_score</th>\n",
       "      <td>0.4959</td>\n",
       "      <td>0.6091</td>\n",
       "      <td>0.5643</td>\n",
       "      <td>0.5070</td>\n",
       "    </tr>\n",
       "  </tbody>\n",
       "</table>\n",
       "</div>"
      ],
      "text/plain": [
       "           Original  Alteração de limiar  Oversampling  Undersampling\n",
       "Precision    0.7506               0.5942        0.5049         0.3882\n",
       "Recall       0.3702               0.6248        0.6396         0.7306\n",
       "F1_score     0.4959               0.6091        0.5643         0.5070"
      ]
     },
     "execution_count": 247,
     "metadata": {},
     "output_type": "execute_result"
    }
   ],
   "source": [
    "# Pegando métricas do undersampling\n",
    "precision_downsampled =  round(precision_score(y_test, y_pred), 4)\n",
    "recall_downsampled = round(recall_score(y_test, y_pred), 4)\n",
    "F1_downsampled =  round(f1_score(y_test, y_pred), 4)\n",
    "metrics_downsampled = [precision_downsampled, recall_downsampled, F1_downsampled]\n",
    "\n",
    "downsampled = pd.DataFrame(list(zip(metrics_original, metrics_changedthreshold,  metrics_upsampled, metrics_downsampled)))\n",
    "downsampled.index = ['Precision', 'Recall', 'F1_score']\n",
    "downsampled.columns = ['Original', 'Alteração de limiar', 'Oversampling', 'Undersampling']\n",
    "downsampled"
   ]
  },
  {
   "cell_type": "code",
   "execution_count": 196,
   "id": "dd09d7c0",
   "metadata": {},
   "outputs": [],
   "source": [
    "#\n",
    "#\n",
    "#"
   ]
  },
  {
   "cell_type": "markdown",
   "id": "1e7d8af0",
   "metadata": {},
   "source": [
    "### Resultados\n",
    "Terminado a avaliação do primeiro dataset a ideia agora é aplicar o mesmo código nos outros 4 datasets gravando apenas o último dataframe de métricas para concluir o resultado."
   ]
  },
  {
   "cell_type": "code",
   "execution_count": 172,
   "id": "98998e64",
   "metadata": {
    "scrolled": true
   },
   "outputs": [
    {
     "data": {
      "text/html": [
       "<div>\n",
       "<style scoped>\n",
       "    .dataframe tbody tr th:only-of-type {\n",
       "        vertical-align: middle;\n",
       "    }\n",
       "\n",
       "    .dataframe tbody tr th {\n",
       "        vertical-align: top;\n",
       "    }\n",
       "\n",
       "    .dataframe thead th {\n",
       "        text-align: right;\n",
       "    }\n",
       "</style>\n",
       "<table border=\"1\" class=\"dataframe\">\n",
       "  <thead>\n",
       "    <tr style=\"text-align: right;\">\n",
       "      <th></th>\n",
       "      <th>Original</th>\n",
       "      <th>Alteração de limiar</th>\n",
       "      <th>Oversampling</th>\n",
       "      <th>Undersampling</th>\n",
       "    </tr>\n",
       "  </thead>\n",
       "  <tbody>\n",
       "    <tr>\n",
       "      <th>Precision</th>\n",
       "      <td>0.4783</td>\n",
       "      <td>0.4783</td>\n",
       "      <td>0.3462</td>\n",
       "      <td>0.2492</td>\n",
       "    </tr>\n",
       "    <tr>\n",
       "      <th>Recall</th>\n",
       "      <td>0.5978</td>\n",
       "      <td>0.5978</td>\n",
       "      <td>0.7826</td>\n",
       "      <td>0.8370</td>\n",
       "    </tr>\n",
       "    <tr>\n",
       "      <th>F1_score</th>\n",
       "      <td>0.5314</td>\n",
       "      <td>0.5314</td>\n",
       "      <td>0.4800</td>\n",
       "      <td>0.3840</td>\n",
       "    </tr>\n",
       "  </tbody>\n",
       "</table>\n",
       "</div>"
      ],
      "text/plain": [
       "           Original  Alteração de limiar  Oversampling  Undersampling\n",
       "Precision    0.4783               0.4783        0.3462         0.2492\n",
       "Recall       0.5978               0.5978        0.7826         0.8370\n",
       "F1_score     0.5314               0.5314        0.4800         0.3840"
      ]
     },
     "execution_count": 172,
     "metadata": {},
     "output_type": "execute_result"
    }
   ],
   "source": [
    "#resultadosA602 = downsampled\n",
    "resultadosA602"
   ]
  },
  {
   "cell_type": "markdown",
   "id": "41315638",
   "metadata": {},
   "source": [
    "#### Conclusões A602:\n",
    "- Nenhuma técnica de balanceamento agregou nos resultados do dataset A602\n",
    "\n",
    "_______________________________________________________________________________________________"
   ]
  },
  {
   "cell_type": "code",
   "execution_count": 213,
   "id": "41752e21",
   "metadata": {
    "scrolled": false
   },
   "outputs": [
    {
     "data": {
      "text/html": [
       "<div>\n",
       "<style scoped>\n",
       "    .dataframe tbody tr th:only-of-type {\n",
       "        vertical-align: middle;\n",
       "    }\n",
       "\n",
       "    .dataframe tbody tr th {\n",
       "        vertical-align: top;\n",
       "    }\n",
       "\n",
       "    .dataframe thead th {\n",
       "        text-align: right;\n",
       "    }\n",
       "</style>\n",
       "<table border=\"1\" class=\"dataframe\">\n",
       "  <thead>\n",
       "    <tr style=\"text-align: right;\">\n",
       "      <th></th>\n",
       "      <th>Original</th>\n",
       "      <th>Alteração de limiar</th>\n",
       "      <th>Oversampling</th>\n",
       "      <th>Undersampling</th>\n",
       "    </tr>\n",
       "  </thead>\n",
       "  <tbody>\n",
       "    <tr>\n",
       "      <th>Precision</th>\n",
       "      <td>0.6830</td>\n",
       "      <td>0.6561</td>\n",
       "      <td>0.4022</td>\n",
       "      <td>0.3395</td>\n",
       "    </tr>\n",
       "    <tr>\n",
       "      <th>Recall</th>\n",
       "      <td>0.5699</td>\n",
       "      <td>0.6018</td>\n",
       "      <td>0.7715</td>\n",
       "      <td>0.8094</td>\n",
       "    </tr>\n",
       "    <tr>\n",
       "      <th>F1_score</th>\n",
       "      <td>0.6213</td>\n",
       "      <td>0.6278</td>\n",
       "      <td>0.5287</td>\n",
       "      <td>0.4783</td>\n",
       "    </tr>\n",
       "  </tbody>\n",
       "</table>\n",
       "</div>"
      ],
      "text/plain": [
       "           Original  Alteração de limiar  Oversampling  Undersampling\n",
       "Precision    0.6830               0.6561        0.4022         0.3395\n",
       "Recall       0.5699               0.6018        0.7715         0.8094\n",
       "F1_score     0.6213               0.6278        0.5287         0.4783"
      ]
     },
     "execution_count": 213,
     "metadata": {},
     "output_type": "execute_result"
    }
   ],
   "source": [
    "#resultadosA621 = downsampled\n",
    "resultadosA621"
   ]
  },
  {
   "cell_type": "markdown",
   "id": "e7933fb5",
   "metadata": {},
   "source": [
    "#### Conclusões A621:\n",
    "- A alteração de limiar agregou muito pouco nos resultados do dataset A621\n",
    "\n",
    "_______________________________________________________________________________________________"
   ]
  },
  {
   "cell_type": "code",
   "execution_count": 230,
   "id": "4e2051fb",
   "metadata": {
    "scrolled": false
   },
   "outputs": [
    {
     "data": {
      "text/html": [
       "<div>\n",
       "<style scoped>\n",
       "    .dataframe tbody tr th:only-of-type {\n",
       "        vertical-align: middle;\n",
       "    }\n",
       "\n",
       "    .dataframe tbody tr th {\n",
       "        vertical-align: top;\n",
       "    }\n",
       "\n",
       "    .dataframe thead th {\n",
       "        text-align: right;\n",
       "    }\n",
       "</style>\n",
       "<table border=\"1\" class=\"dataframe\">\n",
       "  <thead>\n",
       "    <tr style=\"text-align: right;\">\n",
       "      <th></th>\n",
       "      <th>Original</th>\n",
       "      <th>Alteração de limiar</th>\n",
       "      <th>Oversampling</th>\n",
       "      <th>Undersampling</th>\n",
       "    </tr>\n",
       "  </thead>\n",
       "  <tbody>\n",
       "    <tr>\n",
       "      <th>Precision</th>\n",
       "      <td>0.6731</td>\n",
       "      <td>0.6333</td>\n",
       "      <td>0.3331</td>\n",
       "      <td>0.2831</td>\n",
       "    </tr>\n",
       "    <tr>\n",
       "      <th>Recall</th>\n",
       "      <td>0.5629</td>\n",
       "      <td>0.6025</td>\n",
       "      <td>0.7545</td>\n",
       "      <td>0.7842</td>\n",
       "    </tr>\n",
       "    <tr>\n",
       "      <th>F1_score</th>\n",
       "      <td>0.6131</td>\n",
       "      <td>0.6175</td>\n",
       "      <td>0.4621</td>\n",
       "      <td>0.4160</td>\n",
       "    </tr>\n",
       "  </tbody>\n",
       "</table>\n",
       "</div>"
      ],
      "text/plain": [
       "           Original  Alteração de limiar  Oversampling  Undersampling\n",
       "Precision    0.6731               0.6333        0.3331         0.2831\n",
       "Recall       0.5629               0.6025        0.7545         0.7842\n",
       "F1_score     0.6131               0.6175        0.4621         0.4160"
      ]
     },
     "execution_count": 230,
     "metadata": {},
     "output_type": "execute_result"
    }
   ],
   "source": [
    "#resultadosA627 = downsampled\n",
    "resultadosA627"
   ]
  },
  {
   "cell_type": "markdown",
   "id": "5758e85a",
   "metadata": {},
   "source": [
    "#### Conclusões A627:\n",
    "- A alteração de limiar agregou muito pouco nos resultados do dataset A627\n",
    "\n",
    "_______________________________________________________________________________________________"
   ]
  },
  {
   "cell_type": "code",
   "execution_count": 195,
   "id": "41d7f2f7",
   "metadata": {
    "scrolled": false
   },
   "outputs": [
    {
     "data": {
      "text/html": [
       "<div>\n",
       "<style scoped>\n",
       "    .dataframe tbody tr th:only-of-type {\n",
       "        vertical-align: middle;\n",
       "    }\n",
       "\n",
       "    .dataframe tbody tr th {\n",
       "        vertical-align: top;\n",
       "    }\n",
       "\n",
       "    .dataframe thead th {\n",
       "        text-align: right;\n",
       "    }\n",
       "</style>\n",
       "<table border=\"1\" class=\"dataframe\">\n",
       "  <thead>\n",
       "    <tr style=\"text-align: right;\">\n",
       "      <th></th>\n",
       "      <th>Original</th>\n",
       "      <th>Alteração de limiar</th>\n",
       "      <th>Oversampling</th>\n",
       "      <th>Undersampling</th>\n",
       "    </tr>\n",
       "  </thead>\n",
       "  <tbody>\n",
       "    <tr>\n",
       "      <th>Precision</th>\n",
       "      <td>0.6063</td>\n",
       "      <td>0.5467</td>\n",
       "      <td>0.1679</td>\n",
       "      <td>0.1360</td>\n",
       "    </tr>\n",
       "    <tr>\n",
       "      <th>Recall</th>\n",
       "      <td>0.5563</td>\n",
       "      <td>0.6399</td>\n",
       "      <td>0.8800</td>\n",
       "      <td>0.9196</td>\n",
       "    </tr>\n",
       "    <tr>\n",
       "      <th>F1_score</th>\n",
       "      <td>0.5802</td>\n",
       "      <td>0.5896</td>\n",
       "      <td>0.2819</td>\n",
       "      <td>0.2370</td>\n",
       "    </tr>\n",
       "  </tbody>\n",
       "</table>\n",
       "</div>"
      ],
      "text/plain": [
       "           Original  Alteração de limiar  Oversampling  Undersampling\n",
       "Precision    0.6063               0.5467        0.1679         0.1360\n",
       "Recall       0.5563               0.6399        0.8800         0.9196\n",
       "F1_score     0.5802               0.5896        0.2819         0.2370"
      ]
     },
     "execution_count": 195,
     "metadata": {},
     "output_type": "execute_result"
    }
   ],
   "source": [
    "#resultadosA636 = downsampled\n",
    "resultadosA636"
   ]
  },
  {
   "cell_type": "markdown",
   "id": "ab093d44",
   "metadata": {},
   "source": [
    "#### Conclusões A636:\n",
    "- A alteração de limiar agregou muito pouco nos resultados do dataset A636\n",
    "_______________________________________________"
   ]
  },
  {
   "cell_type": "code",
   "execution_count": 248,
   "id": "9e48ac4e",
   "metadata": {
    "scrolled": false
   },
   "outputs": [
    {
     "data": {
      "text/html": [
       "<div>\n",
       "<style scoped>\n",
       "    .dataframe tbody tr th:only-of-type {\n",
       "        vertical-align: middle;\n",
       "    }\n",
       "\n",
       "    .dataframe tbody tr th {\n",
       "        vertical-align: top;\n",
       "    }\n",
       "\n",
       "    .dataframe thead th {\n",
       "        text-align: right;\n",
       "    }\n",
       "</style>\n",
       "<table border=\"1\" class=\"dataframe\">\n",
       "  <thead>\n",
       "    <tr style=\"text-align: right;\">\n",
       "      <th></th>\n",
       "      <th>Original</th>\n",
       "      <th>Alteração de limiar</th>\n",
       "      <th>Oversampling</th>\n",
       "      <th>Undersampling</th>\n",
       "    </tr>\n",
       "  </thead>\n",
       "  <tbody>\n",
       "    <tr>\n",
       "      <th>Precision</th>\n",
       "      <td>0.7506</td>\n",
       "      <td>0.5942</td>\n",
       "      <td>0.5049</td>\n",
       "      <td>0.3882</td>\n",
       "    </tr>\n",
       "    <tr>\n",
       "      <th>Recall</th>\n",
       "      <td>0.3702</td>\n",
       "      <td>0.6248</td>\n",
       "      <td>0.6396</td>\n",
       "      <td>0.7306</td>\n",
       "    </tr>\n",
       "    <tr>\n",
       "      <th>F1_score</th>\n",
       "      <td>0.4959</td>\n",
       "      <td>0.6091</td>\n",
       "      <td>0.5643</td>\n",
       "      <td>0.5070</td>\n",
       "    </tr>\n",
       "  </tbody>\n",
       "</table>\n",
       "</div>"
      ],
      "text/plain": [
       "           Original  Alteração de limiar  Oversampling  Undersampling\n",
       "Precision    0.7506               0.5942        0.5049         0.3882\n",
       "Recall       0.3702               0.6248        0.6396         0.7306\n",
       "F1_score     0.4959               0.6091        0.5643         0.5070"
      ]
     },
     "execution_count": 248,
     "metadata": {},
     "output_type": "execute_result"
    }
   ],
   "source": [
    "resultadosA652 = downsampled\n",
    "resultadosA652"
   ]
  },
  {
   "cell_type": "markdown",
   "id": "0ce48833",
   "metadata": {},
   "source": [
    "#### Conclusões A652:\n",
    "- A alteração de limiar agregou signitivamente nos resultados do dataset A652\n",
    "_____________________________________________________"
   ]
  },
  {
   "cell_type": "markdown",
   "id": "352d81f4",
   "metadata": {},
   "source": [
    "### Conclusão final do exercício 3 de balanceamento de dados\n",
    "- Mudança de threshold tende a beneficiar nos resultados\n",
    "- As técnicas de balanceamento tendem a reduzir a precisão e aumentar o recall dos resultados\n",
    "- Muitas vezes as técnicas de over e under sampling reduzem a capacidade preditiva do modelo, principalmente undersampling"
   ]
  },
  {
   "cell_type": "markdown",
   "id": "4243b4b1",
   "metadata": {},
   "source": [
    "# 4 Calibração de modelos"
   ]
  },
  {
   "cell_type": "markdown",
   "id": "6672354c",
   "metadata": {},
   "source": [
    "### Resumo:\n",
    "* Classificação | A602.pickle, A621.pickle, A627.pickle, A636.pickle, A652.pickle\n",
    "* Preprocessamentos: binarização e balanceamentos (undersampling, oversampling e alteração de limiar)\n",
    "* Mining: GradientBoostingClassifier\n",
    "* Tarefa: comparar se o resultado dos datasets balanceados consegue ser melhor que os não balanceados"
   ]
  },
  {
   "cell_type": "code",
   "execution_count": null,
   "id": "f1b89088",
   "metadata": {},
   "outputs": [],
   "source": []
  }
 ],
 "metadata": {
  "kernelspec": {
   "display_name": "Python 3 (ipykernel)",
   "language": "python",
   "name": "python3"
  },
  "language_info": {
   "codemirror_mode": {
    "name": "ipython",
    "version": 3
   },
   "file_extension": ".py",
   "mimetype": "text/x-python",
   "name": "python",
   "nbconvert_exporter": "python",
   "pygments_lexer": "ipython3",
   "version": "3.10.13"
  }
 },
 "nbformat": 4,
 "nbformat_minor": 5
}
