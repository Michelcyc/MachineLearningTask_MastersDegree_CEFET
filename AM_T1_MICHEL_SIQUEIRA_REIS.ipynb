{
 "cells": [
  {
   "cell_type": "markdown",
   "id": "8db8f02a",
   "metadata": {},
   "source": [
    "Créditos: Esse notebook é adaptado dos exemplos fornecidos pelo professor Eduardo Bezerra."
   ]
  },
  {
   "cell_type": "markdown",
   "id": "1ed85b85",
   "metadata": {},
   "source": [
    "## Objetivo do trabalho:\n",
    "* Apresentar implementações e descrevê-las com detalhes\n",
    "* Apresentar os resultados\n",
    "* Explicar em vídeo"
   ]
  },
  {
   "cell_type": "markdown",
   "id": "ef9c9f45",
   "metadata": {},
   "source": [
    "# 1 Predição de pagamento de empréstimos"
   ]
  },
  {
   "cell_type": "markdown",
   "id": "045af31f",
   "metadata": {},
   "source": [
    "### Resumo:\n",
    "* Classificação | 1500 exemplos | 11 atributos | credtrain.txt\n",
    "* Preprocessamentos: one-hot encoding e normalização\n",
    "* Mining: LogisticRegression, DecisionTreeClassifier, RandomForestClassifier, KNeighborsClassifier, GradientBoostingClassifier"
   ]
  },
  {
   "cell_type": "markdown",
   "id": "c70ad305",
   "metadata": {},
   "source": [
    "## Seleção dos dados\n",
    "Primeiramente é necessário baixar a base de dados"
   ]
  },
  {
   "cell_type": "code",
   "execution_count": 6,
   "id": "16172482",
   "metadata": {},
   "outputs": [],
   "source": [
    "import pandas as pd\n",
    "nome_colunas = ['ESCT', 'NDEP', 'RENDA', 'TIPOR', 'VBEM', 'NPARC', 'VPARC', 'TEL', 'IDADE', 'RESMS', 'ENTRADA', 'CLASSE']\n",
    "data = pd.read_csv('cic1205/data/credtrain.txt', sep='\\t', names=nome_colunas)"
   ]
  },
  {
   "cell_type": "markdown",
   "id": "7231e35b",
   "metadata": {},
   "source": [
    "* O argumento **sep='\\t'** detecta separações por tab\n",
    "* O argumento **names=nome_colunas** foi utilizado para nomear as colunas. Para isso foi criada uma array com os nomes das colunas e passada para o parâmetro"
   ]
  },
  {
   "cell_type": "markdown",
   "id": "930518e6",
   "metadata": {},
   "source": [
    "## Preprocessamento\n",
    "Agora tratarei os atributos categóricos e não categóricos.\n",
    "* Categóricos: Serão codificados em novas variáveis binárias utilizando codificação one-hot (one-hot encoding)\n",
    "* Não categóricos: Serão normalizados\n",
    "* Ambos serão unidos num dataframe final"
   ]
  },
  {
   "cell_type": "code",
   "execution_count": 23,
   "id": "58d7984f",
   "metadata": {},
   "outputs": [],
   "source": [
    "# Lista de variáveis categóricas\n",
    "variaveis_categoricas = ['ESCT', 'NDEP', 'TIPOR', 'TEL']\n",
    "\n",
    "# Lista de variáveis numéricas\n",
    "variaveis_numericas = ['RENDA', 'VBEM', 'NPARC', 'VPARC', 'IDADE', 'RESMS', 'ENTRADA']\n",
    "\n",
    "# Dataframe com variaveis categoricas\n",
    "data_cat = data[variaveis_categoricas]\n",
    "\n",
    "# Dataframe com variaveis numericas\n",
    "data_num = data[variaveis_numericas]"
   ]
  },
  {
   "cell_type": "markdown",
   "id": "8def6a35",
   "metadata": {},
   "source": [
    "### Codificação One-hot"
   ]
  },
  {
   "cell_type": "code",
   "execution_count": 111,
   "id": "837e81bd",
   "metadata": {},
   "outputs": [],
   "source": [
    "from sklearn.preprocessing import OneHotEncoder # Classe para binarizar atributos\n",
    "\n",
    "codificador = OneHotEncoder(sparse_output=False)   # Criando o objeto codificador\n",
    "codificador.fit(data_cat)                          # Ajustando o objeto aos dados\n",
    "\n",
    "def codificar(input_df):\n",
    "    nparray_encoded = codificador.transform(input_df) # Criando um novo dataframe já codificado\n",
    "    column_names = codificador.get_feature_names_out(input_features=input_df.columns)\n",
    "    data_cat_encoded = pd.DataFrame(nparray_encoded, columns=column_names)\n",
    "    return data_cat_encoded\n",
    "    \n",
    "data_cat_encoded = codificar(data_cat)"
   ]
  },
  {
   "cell_type": "markdown",
   "id": "52b28b13",
   "metadata": {},
   "source": [
    "### Normalização"
   ]
  },
  {
   "cell_type": "code",
   "execution_count": 112,
   "id": "723ead6e",
   "metadata": {},
   "outputs": [],
   "source": [
    "from sklearn.preprocessing import MinMaxScaler  # Importando biblioteca de normalização Min-Max\n",
    "scaler = MinMaxScaler()                         # Objeto que realiza a normalização\n",
    "scaler.fit(data_num)                            # Ajustando o objeto aos dados\n",
    "\n",
    "def normalizar(input_df):\n",
    "    data_num_normalized = pd.DataFrame(             # Cria um dataframe que recebe como input um ndarray (numpy)\n",
    "    scaler.transform(input_df), columns=input_df.columns # O nd-array é retornado pelo método transform\n",
    "    )\n",
    "    return data_num_normalized\n",
    "\n",
    "data_num_normalized = normalizar(data_num)"
   ]
  },
  {
   "cell_type": "code",
   "execution_count": 113,
   "id": "77295f59",
   "metadata": {
    "scrolled": true
   },
   "outputs": [
    {
     "data": {
      "text/html": [
       "<div>\n",
       "<style scoped>\n",
       "    .dataframe tbody tr th:only-of-type {\n",
       "        vertical-align: middle;\n",
       "    }\n",
       "\n",
       "    .dataframe tbody tr th {\n",
       "        vertical-align: top;\n",
       "    }\n",
       "\n",
       "    .dataframe thead th {\n",
       "        text-align: right;\n",
       "    }\n",
       "</style>\n",
       "<table border=\"1\" class=\"dataframe\">\n",
       "  <thead>\n",
       "    <tr style=\"text-align: right;\">\n",
       "      <th></th>\n",
       "      <th>RENDA</th>\n",
       "      <th>VBEM</th>\n",
       "      <th>NPARC</th>\n",
       "      <th>VPARC</th>\n",
       "      <th>IDADE</th>\n",
       "      <th>RESMS</th>\n",
       "      <th>ENTRADA</th>\n",
       "    </tr>\n",
       "  </thead>\n",
       "  <tbody>\n",
       "    <tr>\n",
       "      <th>0</th>\n",
       "      <td>0.007792</td>\n",
       "      <td>0.003514</td>\n",
       "      <td>0.347826</td>\n",
       "      <td>0.003026</td>\n",
       "      <td>0.117647</td>\n",
       "      <td>0.114286</td>\n",
       "      <td>0.0</td>\n",
       "    </tr>\n",
       "    <tr>\n",
       "      <th>1</th>\n",
       "      <td>0.006494</td>\n",
       "      <td>0.045405</td>\n",
       "      <td>0.391304</td>\n",
       "      <td>0.022693</td>\n",
       "      <td>0.274510</td>\n",
       "      <td>0.014286</td>\n",
       "      <td>0.0</td>\n",
       "    </tr>\n",
       "    <tr>\n",
       "      <th>2</th>\n",
       "      <td>0.103896</td>\n",
       "      <td>0.142973</td>\n",
       "      <td>0.347826</td>\n",
       "      <td>0.113464</td>\n",
       "      <td>0.725490</td>\n",
       "      <td>0.114286</td>\n",
       "      <td>0.0</td>\n",
       "    </tr>\n",
       "    <tr>\n",
       "      <th>3</th>\n",
       "      <td>0.350649</td>\n",
       "      <td>0.068108</td>\n",
       "      <td>0.478261</td>\n",
       "      <td>0.039334</td>\n",
       "      <td>0.235294</td>\n",
       "      <td>0.142857</td>\n",
       "      <td>0.0</td>\n",
       "    </tr>\n",
       "    <tr>\n",
       "      <th>4</th>\n",
       "      <td>0.090909</td>\n",
       "      <td>0.137568</td>\n",
       "      <td>0.478261</td>\n",
       "      <td>0.092284</td>\n",
       "      <td>0.098039</td>\n",
       "      <td>0.016667</td>\n",
       "      <td>0.0</td>\n",
       "    </tr>\n",
       "    <tr>\n",
       "      <th>...</th>\n",
       "      <td>...</td>\n",
       "      <td>...</td>\n",
       "      <td>...</td>\n",
       "      <td>...</td>\n",
       "      <td>...</td>\n",
       "      <td>...</td>\n",
       "      <td>...</td>\n",
       "    </tr>\n",
       "    <tr>\n",
       "      <th>1495</th>\n",
       "      <td>0.025974</td>\n",
       "      <td>0.037027</td>\n",
       "      <td>0.478261</td>\n",
       "      <td>0.015129</td>\n",
       "      <td>0.803922</td>\n",
       "      <td>0.114286</td>\n",
       "      <td>0.0</td>\n",
       "    </tr>\n",
       "    <tr>\n",
       "      <th>1496</th>\n",
       "      <td>0.228182</td>\n",
       "      <td>0.000270</td>\n",
       "      <td>0.000000</td>\n",
       "      <td>0.405446</td>\n",
       "      <td>0.313725</td>\n",
       "      <td>0.114286</td>\n",
       "      <td>0.0</td>\n",
       "    </tr>\n",
       "    <tr>\n",
       "      <th>1497</th>\n",
       "      <td>0.035065</td>\n",
       "      <td>0.057027</td>\n",
       "      <td>0.478261</td>\n",
       "      <td>0.031770</td>\n",
       "      <td>0.176471</td>\n",
       "      <td>0.342857</td>\n",
       "      <td>0.0</td>\n",
       "    </tr>\n",
       "    <tr>\n",
       "      <th>1498</th>\n",
       "      <td>0.007792</td>\n",
       "      <td>0.022703</td>\n",
       "      <td>0.478261</td>\n",
       "      <td>0.003026</td>\n",
       "      <td>0.274510</td>\n",
       "      <td>0.085714</td>\n",
       "      <td>0.0</td>\n",
       "    </tr>\n",
       "    <tr>\n",
       "      <th>1499</th>\n",
       "      <td>0.026104</td>\n",
       "      <td>0.148378</td>\n",
       "      <td>0.391304</td>\n",
       "      <td>0.101362</td>\n",
       "      <td>0.352941</td>\n",
       "      <td>0.014286</td>\n",
       "      <td>0.0</td>\n",
       "    </tr>\n",
       "  </tbody>\n",
       "</table>\n",
       "<p>1500 rows × 7 columns</p>\n",
       "</div>"
      ],
      "text/plain": [
       "         RENDA      VBEM     NPARC     VPARC     IDADE     RESMS  ENTRADA\n",
       "0     0.007792  0.003514  0.347826  0.003026  0.117647  0.114286      0.0\n",
       "1     0.006494  0.045405  0.391304  0.022693  0.274510  0.014286      0.0\n",
       "2     0.103896  0.142973  0.347826  0.113464  0.725490  0.114286      0.0\n",
       "3     0.350649  0.068108  0.478261  0.039334  0.235294  0.142857      0.0\n",
       "4     0.090909  0.137568  0.478261  0.092284  0.098039  0.016667      0.0\n",
       "...        ...       ...       ...       ...       ...       ...      ...\n",
       "1495  0.025974  0.037027  0.478261  0.015129  0.803922  0.114286      0.0\n",
       "1496  0.228182  0.000270  0.000000  0.405446  0.313725  0.114286      0.0\n",
       "1497  0.035065  0.057027  0.478261  0.031770  0.176471  0.342857      0.0\n",
       "1498  0.007792  0.022703  0.478261  0.003026  0.274510  0.085714      0.0\n",
       "1499  0.026104  0.148378  0.391304  0.101362  0.352941  0.014286      0.0\n",
       "\n",
       "[1500 rows x 7 columns]"
      ]
     },
     "execution_count": 113,
     "metadata": {},
     "output_type": "execute_result"
    }
   ],
   "source": [
    "data_num_normalized"
   ]
  },
  {
   "cell_type": "markdown",
   "id": "757de5eb",
   "metadata": {},
   "source": [
    "### Concatenando os dataframes preprocessados"
   ]
  },
  {
   "cell_type": "code",
   "execution_count": 114,
   "id": "ead96758",
   "metadata": {},
   "outputs": [
    {
     "data": {
      "text/html": [
       "<div>\n",
       "<style scoped>\n",
       "    .dataframe tbody tr th:only-of-type {\n",
       "        vertical-align: middle;\n",
       "    }\n",
       "\n",
       "    .dataframe tbody tr th {\n",
       "        vertical-align: top;\n",
       "    }\n",
       "\n",
       "    .dataframe thead th {\n",
       "        text-align: right;\n",
       "    }\n",
       "</style>\n",
       "<table border=\"1\" class=\"dataframe\">\n",
       "  <thead>\n",
       "    <tr style=\"text-align: right;\">\n",
       "      <th></th>\n",
       "      <th>ESCT_0</th>\n",
       "      <th>ESCT_1</th>\n",
       "      <th>ESCT_2</th>\n",
       "      <th>ESCT_3</th>\n",
       "      <th>NDEP_0</th>\n",
       "      <th>NDEP_1</th>\n",
       "      <th>NDEP_2</th>\n",
       "      <th>NDEP_3</th>\n",
       "      <th>NDEP_4</th>\n",
       "      <th>NDEP_5</th>\n",
       "      <th>...</th>\n",
       "      <th>TEL_0</th>\n",
       "      <th>TEL_1</th>\n",
       "      <th>RENDA</th>\n",
       "      <th>VBEM</th>\n",
       "      <th>NPARC</th>\n",
       "      <th>VPARC</th>\n",
       "      <th>IDADE</th>\n",
       "      <th>RESMS</th>\n",
       "      <th>ENTRADA</th>\n",
       "      <th>CLASSE</th>\n",
       "    </tr>\n",
       "  </thead>\n",
       "  <tbody>\n",
       "    <tr>\n",
       "      <th>0</th>\n",
       "      <td>0.0</td>\n",
       "      <td>1.0</td>\n",
       "      <td>0.0</td>\n",
       "      <td>0.0</td>\n",
       "      <td>1.0</td>\n",
       "      <td>0.0</td>\n",
       "      <td>0.0</td>\n",
       "      <td>0.0</td>\n",
       "      <td>0.0</td>\n",
       "      <td>0.0</td>\n",
       "      <td>...</td>\n",
       "      <td>1.0</td>\n",
       "      <td>0.0</td>\n",
       "      <td>0.007792</td>\n",
       "      <td>0.003514</td>\n",
       "      <td>0.347826</td>\n",
       "      <td>0.003026</td>\n",
       "      <td>0.117647</td>\n",
       "      <td>0.114286</td>\n",
       "      <td>0.0</td>\n",
       "      <td>1</td>\n",
       "    </tr>\n",
       "    <tr>\n",
       "      <th>1</th>\n",
       "      <td>1.0</td>\n",
       "      <td>0.0</td>\n",
       "      <td>0.0</td>\n",
       "      <td>0.0</td>\n",
       "      <td>1.0</td>\n",
       "      <td>0.0</td>\n",
       "      <td>0.0</td>\n",
       "      <td>0.0</td>\n",
       "      <td>0.0</td>\n",
       "      <td>0.0</td>\n",
       "      <td>...</td>\n",
       "      <td>1.0</td>\n",
       "      <td>0.0</td>\n",
       "      <td>0.006494</td>\n",
       "      <td>0.045405</td>\n",
       "      <td>0.391304</td>\n",
       "      <td>0.022693</td>\n",
       "      <td>0.274510</td>\n",
       "      <td>0.014286</td>\n",
       "      <td>0.0</td>\n",
       "      <td>1</td>\n",
       "    </tr>\n",
       "    <tr>\n",
       "      <th>2</th>\n",
       "      <td>1.0</td>\n",
       "      <td>0.0</td>\n",
       "      <td>0.0</td>\n",
       "      <td>0.0</td>\n",
       "      <td>1.0</td>\n",
       "      <td>0.0</td>\n",
       "      <td>0.0</td>\n",
       "      <td>0.0</td>\n",
       "      <td>0.0</td>\n",
       "      <td>0.0</td>\n",
       "      <td>...</td>\n",
       "      <td>1.0</td>\n",
       "      <td>0.0</td>\n",
       "      <td>0.103896</td>\n",
       "      <td>0.142973</td>\n",
       "      <td>0.347826</td>\n",
       "      <td>0.113464</td>\n",
       "      <td>0.725490</td>\n",
       "      <td>0.114286</td>\n",
       "      <td>0.0</td>\n",
       "      <td>1</td>\n",
       "    </tr>\n",
       "    <tr>\n",
       "      <th>3</th>\n",
       "      <td>1.0</td>\n",
       "      <td>0.0</td>\n",
       "      <td>0.0</td>\n",
       "      <td>0.0</td>\n",
       "      <td>1.0</td>\n",
       "      <td>0.0</td>\n",
       "      <td>0.0</td>\n",
       "      <td>0.0</td>\n",
       "      <td>0.0</td>\n",
       "      <td>0.0</td>\n",
       "      <td>...</td>\n",
       "      <td>0.0</td>\n",
       "      <td>1.0</td>\n",
       "      <td>0.350649</td>\n",
       "      <td>0.068108</td>\n",
       "      <td>0.478261</td>\n",
       "      <td>0.039334</td>\n",
       "      <td>0.235294</td>\n",
       "      <td>0.142857</td>\n",
       "      <td>0.0</td>\n",
       "      <td>1</td>\n",
       "    </tr>\n",
       "    <tr>\n",
       "      <th>4</th>\n",
       "      <td>0.0</td>\n",
       "      <td>1.0</td>\n",
       "      <td>0.0</td>\n",
       "      <td>0.0</td>\n",
       "      <td>1.0</td>\n",
       "      <td>0.0</td>\n",
       "      <td>0.0</td>\n",
       "      <td>0.0</td>\n",
       "      <td>0.0</td>\n",
       "      <td>0.0</td>\n",
       "      <td>...</td>\n",
       "      <td>1.0</td>\n",
       "      <td>0.0</td>\n",
       "      <td>0.090909</td>\n",
       "      <td>0.137568</td>\n",
       "      <td>0.478261</td>\n",
       "      <td>0.092284</td>\n",
       "      <td>0.098039</td>\n",
       "      <td>0.016667</td>\n",
       "      <td>0.0</td>\n",
       "      <td>1</td>\n",
       "    </tr>\n",
       "    <tr>\n",
       "      <th>...</th>\n",
       "      <td>...</td>\n",
       "      <td>...</td>\n",
       "      <td>...</td>\n",
       "      <td>...</td>\n",
       "      <td>...</td>\n",
       "      <td>...</td>\n",
       "      <td>...</td>\n",
       "      <td>...</td>\n",
       "      <td>...</td>\n",
       "      <td>...</td>\n",
       "      <td>...</td>\n",
       "      <td>...</td>\n",
       "      <td>...</td>\n",
       "      <td>...</td>\n",
       "      <td>...</td>\n",
       "      <td>...</td>\n",
       "      <td>...</td>\n",
       "      <td>...</td>\n",
       "      <td>...</td>\n",
       "      <td>...</td>\n",
       "      <td>...</td>\n",
       "    </tr>\n",
       "    <tr>\n",
       "      <th>1495</th>\n",
       "      <td>0.0</td>\n",
       "      <td>1.0</td>\n",
       "      <td>0.0</td>\n",
       "      <td>0.0</td>\n",
       "      <td>1.0</td>\n",
       "      <td>0.0</td>\n",
       "      <td>0.0</td>\n",
       "      <td>0.0</td>\n",
       "      <td>0.0</td>\n",
       "      <td>0.0</td>\n",
       "      <td>...</td>\n",
       "      <td>1.0</td>\n",
       "      <td>0.0</td>\n",
       "      <td>0.025974</td>\n",
       "      <td>0.037027</td>\n",
       "      <td>0.478261</td>\n",
       "      <td>0.015129</td>\n",
       "      <td>0.803922</td>\n",
       "      <td>0.114286</td>\n",
       "      <td>0.0</td>\n",
       "      <td>1</td>\n",
       "    </tr>\n",
       "    <tr>\n",
       "      <th>1496</th>\n",
       "      <td>0.0</td>\n",
       "      <td>1.0</td>\n",
       "      <td>0.0</td>\n",
       "      <td>0.0</td>\n",
       "      <td>1.0</td>\n",
       "      <td>0.0</td>\n",
       "      <td>0.0</td>\n",
       "      <td>0.0</td>\n",
       "      <td>0.0</td>\n",
       "      <td>0.0</td>\n",
       "      <td>...</td>\n",
       "      <td>1.0</td>\n",
       "      <td>0.0</td>\n",
       "      <td>0.228182</td>\n",
       "      <td>0.000270</td>\n",
       "      <td>0.000000</td>\n",
       "      <td>0.405446</td>\n",
       "      <td>0.313725</td>\n",
       "      <td>0.114286</td>\n",
       "      <td>0.0</td>\n",
       "      <td>1</td>\n",
       "    </tr>\n",
       "    <tr>\n",
       "      <th>1497</th>\n",
       "      <td>1.0</td>\n",
       "      <td>0.0</td>\n",
       "      <td>0.0</td>\n",
       "      <td>0.0</td>\n",
       "      <td>1.0</td>\n",
       "      <td>0.0</td>\n",
       "      <td>0.0</td>\n",
       "      <td>0.0</td>\n",
       "      <td>0.0</td>\n",
       "      <td>0.0</td>\n",
       "      <td>...</td>\n",
       "      <td>0.0</td>\n",
       "      <td>1.0</td>\n",
       "      <td>0.035065</td>\n",
       "      <td>0.057027</td>\n",
       "      <td>0.478261</td>\n",
       "      <td>0.031770</td>\n",
       "      <td>0.176471</td>\n",
       "      <td>0.342857</td>\n",
       "      <td>0.0</td>\n",
       "      <td>1</td>\n",
       "    </tr>\n",
       "    <tr>\n",
       "      <th>1498</th>\n",
       "      <td>1.0</td>\n",
       "      <td>0.0</td>\n",
       "      <td>0.0</td>\n",
       "      <td>0.0</td>\n",
       "      <td>1.0</td>\n",
       "      <td>0.0</td>\n",
       "      <td>0.0</td>\n",
       "      <td>0.0</td>\n",
       "      <td>0.0</td>\n",
       "      <td>0.0</td>\n",
       "      <td>...</td>\n",
       "      <td>1.0</td>\n",
       "      <td>0.0</td>\n",
       "      <td>0.007792</td>\n",
       "      <td>0.022703</td>\n",
       "      <td>0.478261</td>\n",
       "      <td>0.003026</td>\n",
       "      <td>0.274510</td>\n",
       "      <td>0.085714</td>\n",
       "      <td>0.0</td>\n",
       "      <td>1</td>\n",
       "    </tr>\n",
       "    <tr>\n",
       "      <th>1499</th>\n",
       "      <td>1.0</td>\n",
       "      <td>0.0</td>\n",
       "      <td>0.0</td>\n",
       "      <td>0.0</td>\n",
       "      <td>0.0</td>\n",
       "      <td>0.0</td>\n",
       "      <td>0.0</td>\n",
       "      <td>0.0</td>\n",
       "      <td>1.0</td>\n",
       "      <td>0.0</td>\n",
       "      <td>...</td>\n",
       "      <td>1.0</td>\n",
       "      <td>0.0</td>\n",
       "      <td>0.026104</td>\n",
       "      <td>0.148378</td>\n",
       "      <td>0.391304</td>\n",
       "      <td>0.101362</td>\n",
       "      <td>0.352941</td>\n",
       "      <td>0.014286</td>\n",
       "      <td>0.0</td>\n",
       "      <td>0</td>\n",
       "    </tr>\n",
       "  </tbody>\n",
       "</table>\n",
       "<p>1500 rows × 24 columns</p>\n",
       "</div>"
      ],
      "text/plain": [
       "      ESCT_0  ESCT_1  ESCT_2  ESCT_3  NDEP_0  NDEP_1  NDEP_2  NDEP_3  NDEP_4  \\\n",
       "0        0.0     1.0     0.0     0.0     1.0     0.0     0.0     0.0     0.0   \n",
       "1        1.0     0.0     0.0     0.0     1.0     0.0     0.0     0.0     0.0   \n",
       "2        1.0     0.0     0.0     0.0     1.0     0.0     0.0     0.0     0.0   \n",
       "3        1.0     0.0     0.0     0.0     1.0     0.0     0.0     0.0     0.0   \n",
       "4        0.0     1.0     0.0     0.0     1.0     0.0     0.0     0.0     0.0   \n",
       "...      ...     ...     ...     ...     ...     ...     ...     ...     ...   \n",
       "1495     0.0     1.0     0.0     0.0     1.0     0.0     0.0     0.0     0.0   \n",
       "1496     0.0     1.0     0.0     0.0     1.0     0.0     0.0     0.0     0.0   \n",
       "1497     1.0     0.0     0.0     0.0     1.0     0.0     0.0     0.0     0.0   \n",
       "1498     1.0     0.0     0.0     0.0     1.0     0.0     0.0     0.0     0.0   \n",
       "1499     1.0     0.0     0.0     0.0     0.0     0.0     0.0     0.0     1.0   \n",
       "\n",
       "      NDEP_5  ...  TEL_0  TEL_1     RENDA      VBEM     NPARC     VPARC  \\\n",
       "0        0.0  ...    1.0    0.0  0.007792  0.003514  0.347826  0.003026   \n",
       "1        0.0  ...    1.0    0.0  0.006494  0.045405  0.391304  0.022693   \n",
       "2        0.0  ...    1.0    0.0  0.103896  0.142973  0.347826  0.113464   \n",
       "3        0.0  ...    0.0    1.0  0.350649  0.068108  0.478261  0.039334   \n",
       "4        0.0  ...    1.0    0.0  0.090909  0.137568  0.478261  0.092284   \n",
       "...      ...  ...    ...    ...       ...       ...       ...       ...   \n",
       "1495     0.0  ...    1.0    0.0  0.025974  0.037027  0.478261  0.015129   \n",
       "1496     0.0  ...    1.0    0.0  0.228182  0.000270  0.000000  0.405446   \n",
       "1497     0.0  ...    0.0    1.0  0.035065  0.057027  0.478261  0.031770   \n",
       "1498     0.0  ...    1.0    0.0  0.007792  0.022703  0.478261  0.003026   \n",
       "1499     0.0  ...    1.0    0.0  0.026104  0.148378  0.391304  0.101362   \n",
       "\n",
       "         IDADE     RESMS  ENTRADA  CLASSE  \n",
       "0     0.117647  0.114286      0.0       1  \n",
       "1     0.274510  0.014286      0.0       1  \n",
       "2     0.725490  0.114286      0.0       1  \n",
       "3     0.235294  0.142857      0.0       1  \n",
       "4     0.098039  0.016667      0.0       1  \n",
       "...        ...       ...      ...     ...  \n",
       "1495  0.803922  0.114286      0.0       1  \n",
       "1496  0.313725  0.114286      0.0       1  \n",
       "1497  0.176471  0.342857      0.0       1  \n",
       "1498  0.274510  0.085714      0.0       1  \n",
       "1499  0.352941  0.014286      0.0       0  \n",
       "\n",
       "[1500 rows x 24 columns]"
      ]
     },
     "execution_count": 114,
     "metadata": {},
     "output_type": "execute_result"
    }
   ],
   "source": [
    "data_preprocessed = pd.concat( [ data_cat_encoded, data_num_normalized, data['CLASSE'] ], axis=1 )\n",
    "# axis=1 para a concatenação ao longo das colunas\n",
    "data_preprocessed"
   ]
  },
  {
   "cell_type": "markdown",
   "id": "6397ecbd",
   "metadata": {},
   "source": [
    "## Mineração"
   ]
  },
  {
   "cell_type": "markdown",
   "id": "2649a866",
   "metadata": {},
   "source": [
    "### Separando os conjuntos de treinamento, teste e validação"
   ]
  },
  {
   "cell_type": "code",
   "execution_count": 115,
   "id": "392b5236",
   "metadata": {},
   "outputs": [],
   "source": [
    "from sklearn.model_selection import train_test_split # Importa classe que faz amostragem (sampling)\n",
    "\n",
    "X_train, X_test, y_train, y_test = train_test_split(data_preprocessed.iloc[:,:-1], # features\n",
    "                                                                data_preprocessed.iloc[:,-1],  # labels\n",
    "                                                                test_size=0.10,                 # % do test set (10%)\n",
    "                                                                random_state=1)                # seed"
   ]
  },
  {
   "cell_type": "markdown",
   "id": "d2651002",
   "metadata": {},
   "source": [
    "### LogisticRegression"
   ]
  },
  {
   "cell_type": "markdown",
   "id": "909cf013",
   "metadata": {},
   "source": [
    "#### Treinamento"
   ]
  },
  {
   "cell_type": "code",
   "execution_count": 116,
   "id": "6fbfea7c",
   "metadata": {
    "scrolled": true
   },
   "outputs": [
    {
     "data": {
      "text/html": [
       "<style>#sk-container-id-5 {color: black;}#sk-container-id-5 pre{padding: 0;}#sk-container-id-5 div.sk-toggleable {background-color: white;}#sk-container-id-5 label.sk-toggleable__label {cursor: pointer;display: block;width: 100%;margin-bottom: 0;padding: 0.3em;box-sizing: border-box;text-align: center;}#sk-container-id-5 label.sk-toggleable__label-arrow:before {content: \"▸\";float: left;margin-right: 0.25em;color: #696969;}#sk-container-id-5 label.sk-toggleable__label-arrow:hover:before {color: black;}#sk-container-id-5 div.sk-estimator:hover label.sk-toggleable__label-arrow:before {color: black;}#sk-container-id-5 div.sk-toggleable__content {max-height: 0;max-width: 0;overflow: hidden;text-align: left;background-color: #f0f8ff;}#sk-container-id-5 div.sk-toggleable__content pre {margin: 0.2em;color: black;border-radius: 0.25em;background-color: #f0f8ff;}#sk-container-id-5 input.sk-toggleable__control:checked~div.sk-toggleable__content {max-height: 200px;max-width: 100%;overflow: auto;}#sk-container-id-5 input.sk-toggleable__control:checked~label.sk-toggleable__label-arrow:before {content: \"▾\";}#sk-container-id-5 div.sk-estimator input.sk-toggleable__control:checked~label.sk-toggleable__label {background-color: #d4ebff;}#sk-container-id-5 div.sk-label input.sk-toggleable__control:checked~label.sk-toggleable__label {background-color: #d4ebff;}#sk-container-id-5 input.sk-hidden--visually {border: 0;clip: rect(1px 1px 1px 1px);clip: rect(1px, 1px, 1px, 1px);height: 1px;margin: -1px;overflow: hidden;padding: 0;position: absolute;width: 1px;}#sk-container-id-5 div.sk-estimator {font-family: monospace;background-color: #f0f8ff;border: 1px dotted black;border-radius: 0.25em;box-sizing: border-box;margin-bottom: 0.5em;}#sk-container-id-5 div.sk-estimator:hover {background-color: #d4ebff;}#sk-container-id-5 div.sk-parallel-item::after {content: \"\";width: 100%;border-bottom: 1px solid gray;flex-grow: 1;}#sk-container-id-5 div.sk-label:hover label.sk-toggleable__label {background-color: #d4ebff;}#sk-container-id-5 div.sk-serial::before {content: \"\";position: absolute;border-left: 1px solid gray;box-sizing: border-box;top: 0;bottom: 0;left: 50%;z-index: 0;}#sk-container-id-5 div.sk-serial {display: flex;flex-direction: column;align-items: center;background-color: white;padding-right: 0.2em;padding-left: 0.2em;position: relative;}#sk-container-id-5 div.sk-item {position: relative;z-index: 1;}#sk-container-id-5 div.sk-parallel {display: flex;align-items: stretch;justify-content: center;background-color: white;position: relative;}#sk-container-id-5 div.sk-item::before, #sk-container-id-5 div.sk-parallel-item::before {content: \"\";position: absolute;border-left: 1px solid gray;box-sizing: border-box;top: 0;bottom: 0;left: 50%;z-index: -1;}#sk-container-id-5 div.sk-parallel-item {display: flex;flex-direction: column;z-index: 1;position: relative;background-color: white;}#sk-container-id-5 div.sk-parallel-item:first-child::after {align-self: flex-end;width: 50%;}#sk-container-id-5 div.sk-parallel-item:last-child::after {align-self: flex-start;width: 50%;}#sk-container-id-5 div.sk-parallel-item:only-child::after {width: 0;}#sk-container-id-5 div.sk-dashed-wrapped {border: 1px dashed gray;margin: 0 0.4em 0.5em 0.4em;box-sizing: border-box;padding-bottom: 0.4em;background-color: white;}#sk-container-id-5 div.sk-label label {font-family: monospace;font-weight: bold;display: inline-block;line-height: 1.2em;}#sk-container-id-5 div.sk-label-container {text-align: center;}#sk-container-id-5 div.sk-container {/* jupyter's `normalize.less` sets `[hidden] { display: none; }` but bootstrap.min.css set `[hidden] { display: none !important; }` so we also need the `!important` here to be able to override the default hidden behavior on the sphinx rendered scikit-learn.org. See: https://github.com/scikit-learn/scikit-learn/issues/21755 */display: inline-block !important;position: relative;}#sk-container-id-5 div.sk-text-repr-fallback {display: none;}</style><div id=\"sk-container-id-5\" class=\"sk-top-container\"><div class=\"sk-text-repr-fallback\"><pre>LogisticRegression(random_state=1)</pre><b>In a Jupyter environment, please rerun this cell to show the HTML representation or trust the notebook. <br />On GitHub, the HTML representation is unable to render, please try loading this page with nbviewer.org.</b></div><div class=\"sk-container\" hidden><div class=\"sk-item\"><div class=\"sk-estimator sk-toggleable\"><input class=\"sk-toggleable__control sk-hidden--visually\" id=\"sk-estimator-id-5\" type=\"checkbox\" checked><label for=\"sk-estimator-id-5\" class=\"sk-toggleable__label sk-toggleable__label-arrow\">LogisticRegression</label><div class=\"sk-toggleable__content\"><pre>LogisticRegression(random_state=1)</pre></div></div></div></div></div>"
      ],
      "text/plain": [
       "LogisticRegression(random_state=1)"
      ]
     },
     "execution_count": 116,
     "metadata": {},
     "output_type": "execute_result"
    }
   ],
   "source": [
    "from sklearn.linear_model import LogisticRegression # Importando a classe de classificação\n",
    "model = LogisticRegression(random_state=1)          # Criando um objeto de predição que usa regressão logística\n",
    "model.fit(X_train, y_train)                         # Ajustando o modelo"
   ]
  },
  {
   "cell_type": "markdown",
   "id": "8d20c0d9",
   "metadata": {},
   "source": [
    "#### Checando ajuste do modelo"
   ]
  },
  {
   "cell_type": "markdown",
   "id": "ef42e2ff",
   "metadata": {},
   "source": [
    "Primeiramente sempre gosto de avaliar se o modelo conseguiu se ajustar aos dados. Faço isso realizando predição sobre o próprio dado treinado."
   ]
  },
  {
   "cell_type": "code",
   "execution_count": 117,
   "id": "c371977d",
   "metadata": {
    "scrolled": false
   },
   "outputs": [],
   "source": [
    "from sklearn.metrics import accuracy_score, confusion_matrix, classification_report"
   ]
  },
  {
   "cell_type": "code",
   "execution_count": 118,
   "id": "494a05b3",
   "metadata": {
    "scrolled": true
   },
   "outputs": [
    {
     "name": "stdout",
     "output_type": "stream",
     "text": [
      "Overfitted Accuracy: 89.85%\n"
     ]
    }
   ],
   "source": [
    "overfitted_pred = model.predict(X_train)\n",
    "accuracy = accuracy_score(y_train, overfitted_pred)\n",
    "print(f\"Overfitted Accuracy: {accuracy * 100:.2f}%\")"
   ]
  },
  {
   "cell_type": "markdown",
   "id": "db9006cc",
   "metadata": {},
   "source": [
    "#### Predição"
   ]
  },
  {
   "cell_type": "code",
   "execution_count": 119,
   "id": "abd2e396",
   "metadata": {
    "scrolled": false
   },
   "outputs": [
    {
     "name": "stdout",
     "output_type": "stream",
     "text": [
      "Accuracy: 86.67%\n",
      "Confusion Matrix:\n",
      " [[68  4]\n",
      " [16 62]]\n",
      "Classification Report:\n",
      "               precision    recall  f1-score   support\n",
      "\n",
      "           0       0.81      0.94      0.87        72\n",
      "           1       0.94      0.79      0.86        78\n",
      "\n",
      "    accuracy                           0.87       150\n",
      "   macro avg       0.87      0.87      0.87       150\n",
      "weighted avg       0.88      0.87      0.87       150\n",
      "\n"
     ]
    }
   ],
   "source": [
    "y_pred = model.predict(X_test)\n",
    "\n",
    "# Evaluate the model\n",
    "accuracy = accuracy_score(y_test, y_pred)\n",
    "confusion = confusion_matrix(y_test, y_pred)\n",
    "classification_rep = classification_report(y_test, y_pred)\n",
    "\n",
    "print(f\"Accuracy: {accuracy * 100:.2f}%\")\n",
    "print(\"Confusion Matrix:\\n\", confusion)\n",
    "print(\"Classification Report:\\n\", classification_rep)"
   ]
  },
  {
   "cell_type": "markdown",
   "id": "29e80694",
   "metadata": {},
   "source": [
    "#### Preprocessamento para validação do modelo\n",
    "Como o dataset de validação está em outro arquivo (credtest.txt), será necessário repetir os passos de preprocessamento usando os objetos já treinados na fase de treinamento do modelo. Os passos são:\n",
    "* Seleção de dados\n",
    "* Separação dos atributos numéricos e categóricos\n",
    "* Utilização dos objetos de preprocessamento já criados para transformar os novos dados (scaler e codificador)\n",
    "* Junção do dataset\n",
    "* Validação final"
   ]
  },
  {
   "cell_type": "code",
   "execution_count": 123,
   "id": "729e18b1",
   "metadata": {},
   "outputs": [],
   "source": [
    "val_data = pd.read_csv('cic1205/data/credtest.txt', sep='\\t', names=nome_colunas) # Seleção de dados\n",
    "val_data_cat = val_data[variaveis_categoricas] # Separação dos atributos categóricos\n",
    "val_data_num = val_data[variaveis_numericas]   # Separação dos atributos categóricos\n",
    "val_data_cat_encoded = codificar(val_data_cat)       # Binarização\n",
    "val_data_num_normalized = normalizar(val_data_num)   # Normalização\n",
    "val_data_preprocessed = pd.concat( [ val_data_cat_encoded, val_data_num_normalized, val_data['CLASSE'] ], axis=1 ) # Junção\n",
    "X_validation = val_data_preprocessed.iloc[:,:-1] # Conjuntos de dados\n",
    "y_validation = val_data_preprocessed.iloc[:,-1]  # Classificações"
   ]
  },
  {
   "cell_type": "markdown",
   "id": "94dc5264",
   "metadata": {},
   "source": [
    "#### Validação"
   ]
  },
  {
   "cell_type": "code",
   "execution_count": 127,
   "id": "c55bea8c",
   "metadata": {
    "scrolled": true
   },
   "outputs": [
    {
     "name": "stdout",
     "output_type": "stream",
     "text": [
      "Accuracy: 89.08%\n",
      "Confusion Matrix:\n",
      " [[295  11]\n",
      " [ 52 219]]\n",
      "Classification Report:\n",
      "               precision    recall  f1-score   support\n",
      "\n",
      "           0       0.85      0.96      0.90       306\n",
      "           1       0.95      0.81      0.87       271\n",
      "\n",
      "    accuracy                           0.89       577\n",
      "   macro avg       0.90      0.89      0.89       577\n",
      "weighted avg       0.90      0.89      0.89       577\n",
      "\n"
     ]
    }
   ],
   "source": [
    "y_pred_validation = model.predict(X_validation)\n",
    "\n",
    "# Evaluate the model\n",
    "accuracy = accuracy_score(y_validation, y_pred_validation)\n",
    "confusion = confusion_matrix(y_validation, y_pred_validation)\n",
    "classification_rep = classification_report(y_validation, y_pred_validation)\n",
    "\n",
    "print(f\"Accuracy: {accuracy * 100:.2f}%\")\n",
    "print(\"Confusion Matrix:\\n\", confusion)\n",
    "print(\"Classification Report:\\n\", classification_rep)"
   ]
  },
  {
   "cell_type": "markdown",
   "id": "c18f573e",
   "metadata": {},
   "source": [
    "Agora que todos os conjuntos de dados já foram preprocessados é possível trabalhar rapidamente com os outros previsores pois todos utilizarão as mesmas baes de dados X_data, X_test, X_validation e seus y correspondentes."
   ]
  },
  {
   "cell_type": "markdown",
   "id": "76d92621",
   "metadata": {},
   "source": [
    "RandomForestClassifier, KNeighborsClassifier, GradientBoostingClassifier"
   ]
  },
  {
   "cell_type": "markdown",
   "id": "f04fd6fc",
   "metadata": {},
   "source": [
    "### DecisionTreeClassifier"
   ]
  },
  {
   "cell_type": "code",
   "execution_count": 129,
   "id": "7933e329",
   "metadata": {},
   "outputs": [],
   "source": [
    "from sklearn.tree import DecisionTreeClassifier\n",
    "my_tree_model = DecisionTreeClassifier(random_state=1)\n"
   ]
  },
  {
   "cell_type": "code",
   "execution_count": null,
   "id": "e587ae0c",
   "metadata": {},
   "outputs": [],
   "source": []
  }
 ],
 "metadata": {
  "kernelspec": {
   "display_name": "Python 3 (ipykernel)",
   "language": "python",
   "name": "python3"
  },
  "language_info": {
   "codemirror_mode": {
    "name": "ipython",
    "version": 3
   },
   "file_extension": ".py",
   "mimetype": "text/x-python",
   "name": "python",
   "nbconvert_exporter": "python",
   "pygments_lexer": "ipython3",
   "version": "3.10.13"
  }
 },
 "nbformat": 4,
 "nbformat_minor": 5
}
