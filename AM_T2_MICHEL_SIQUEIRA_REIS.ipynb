{
 "cells": [
  {
   "cell_type": "markdown",
   "id": "8db8f02a",
   "metadata": {},
   "source": [
    "Créditos: Esse notebook é adaptado dos exemplos fornecidos pelo professor Eduardo Bezerra e códigos utilizados no T1.\n",
    "- Link para o vídeo: XX"
   ]
  },
  {
   "cell_type": "markdown",
   "id": "1ed85b85",
   "metadata": {},
   "source": [
    "## Objetivo do trabalho:\n",
    "* Apresentar implementações e descrevê-las com detalhes\n",
    "* Apresentar os resultados\n",
    "* Explicar em vídeo"
   ]
  },
  {
   "cell_type": "markdown",
   "id": "ef9c9f45",
   "metadata": {},
   "source": [
    "# 1 Engenharia de Features"
   ]
  },
  {
   "cell_type": "markdown",
   "id": "045af31f",
   "metadata": {},
   "source": [
    "### Resumo:\n",
    "* Classificação | 1500 exemplos | 11 atributos | credtrain.txt\n",
    "* Preprocessamentos: ordinal + count enconding e normalização\n",
    "* Mining: GradientBoostingClassifier"
   ]
  },
  {
   "cell_type": "markdown",
   "id": "8def6a35",
   "metadata": {},
   "source": [
    "<s> Codificação Target </s>\n",
    "\n",
    "Tentei utilizar codificação target, mas não gerou nada. A seguinte informação apareceu: \"Warning: No categorical columns found. Calling 'transform' will only return input data.\""
   ]
  },
  {
   "cell_type": "markdown",
   "id": "c70ad305",
   "metadata": {},
   "source": [
    "## Seleção dos dados\n",
    "Primeiramente é necessário baixar a base de dados"
   ]
  },
  {
   "cell_type": "code",
   "execution_count": 2,
   "id": "bdd2a1e6",
   "metadata": {},
   "outputs": [],
   "source": [
    "import pandas as pd\n",
    "nome_colunas = ['ESCT', 'NDEP', 'RENDA', 'TIPOR', 'VBEM', 'NPARC', 'VPARC', 'TEL', 'IDADE', 'RESMS', 'ENTRADA', 'CLASSE']\n",
    "data = pd.read_csv('cic1205/data/credtrain.txt', sep='\\t', names=nome_colunas)"
   ]
  },
  {
   "cell_type": "markdown",
   "id": "7231e35b",
   "metadata": {},
   "source": [
    "* O argumento **sep='\\t'** detecta separações por tab\n",
    "* O argumento **names=nome_colunas** foi utilizado para nomear as colunas. Para isso foi criada uma array com os nomes das colunas e passada para o parâmetro"
   ]
  },
  {
   "cell_type": "markdown",
   "id": "930518e6",
   "metadata": {},
   "source": [
    "## Preprocessamento\n",
    "Agora tratarei os atributos categóricos e não categóricos.\n",
    "* Categóricos: Serão codificados em novas variáveis usando ordinal e target encoding\n",
    "* Não categóricos: Serão normalizados\n",
    "* Ambos serão unidos num dataframe final"
   ]
  },
  {
   "cell_type": "code",
   "execution_count": 3,
   "id": "b62f62db",
   "metadata": {},
   "outputs": [],
   "source": [
    "# Lista de variáveis categóricas\n",
    "variaveis_categoricas = ['ESCT', 'NDEP', 'TIPOR', 'TEL']\n",
    "\n",
    "# Lista de variáveis numéricas\n",
    "variaveis_numericas = ['RENDA', 'VBEM', 'NPARC', 'VPARC', 'IDADE', 'RESMS', 'ENTRADA']\n",
    "\n",
    "# Dataframe com variaveis categoricas\n",
    "data_cat = data[variaveis_categoricas]\n",
    "\n",
    "# Dataframe com variaveis numericas\n",
    "data_num = data[variaveis_numericas]"
   ]
  },
  {
   "cell_type": "markdown",
   "id": "52b28b13",
   "metadata": {},
   "source": [
    "### Normalização"
   ]
  },
  {
   "cell_type": "code",
   "execution_count": 4,
   "id": "45ff9142",
   "metadata": {},
   "outputs": [],
   "source": [
    "from sklearn.preprocessing import MinMaxScaler  # Importando biblioteca de normalização Min-Max\n",
    "scaler = MinMaxScaler()                         # Objeto que realiza a normalização\n",
    "scaler.fit(data_num)                            # Ajustando o objeto aos dados\n",
    "\n",
    "def normalizar(input_df):\n",
    "    data_num_normalized = pd.DataFrame(             # Cria um dataframe que recebe como input um ndarray (numpy)\n",
    "    scaler.transform(input_df), columns=input_df.columns # O nd-array é retornado pelo método transform\n",
    "    )\n",
    "    return data_num_normalized\n",
    "\n",
    "data_num_normalized = normalizar(data_num)"
   ]
  },
  {
   "cell_type": "markdown",
   "id": "15999d4c",
   "metadata": {},
   "source": [
    "### Codificação Ordinal"
   ]
  },
  {
   "cell_type": "code",
   "execution_count": 5,
   "id": "a91fa9d7",
   "metadata": {},
   "outputs": [],
   "source": [
    "from sklearn.preprocessing import OrdinalEncoder\n",
    "\n",
    "# Criando o objeto codificador ordinal\n",
    "ordinal_encoder = OrdinalEncoder()\n",
    "\n",
    "# Ajustando o objeto aos dados\n",
    "ordinal_encoder.fit(data_cat)\n",
    "\n",
    "# Função para codificar os dados usando Ordinal Encoding\n",
    "def codificar_ordinal(input_df):\n",
    "    nparray_encoded = ordinal_encoder.transform(input_df)\n",
    "    data_cat_encoded = pd.DataFrame(nparray_encoded, columns=input_df.columns)\n",
    "    return data_cat_encoded\n",
    "\n",
    "# Codificando os dados\n",
    "data_cat_encoded_ordinal = codificar_ordinal(data_cat)"
   ]
  },
  {
   "cell_type": "markdown",
   "id": "6d604cf9",
   "metadata": {},
   "source": [
    "### Codificação Contagem\n",
    "\n",
    "Retornará quantas vezes um elemento aparece no dataset (pode ser útil para contar eventos etc)"
   ]
  },
  {
   "cell_type": "code",
   "execution_count": 16,
   "id": "f805768d",
   "metadata": {},
   "outputs": [
    {
     "name": "stdout",
     "output_type": "stream",
     "text": [
      "Warning: No categorical columns found. Calling 'transform' will only return input data.\n"
     ]
    }
   ],
   "source": [
    "from category_encoders import CountEncoder\n",
    "\n",
    "# Criando o objeto codificador de contagem\n",
    "count_encoder = CountEncoder()\n",
    "\n",
    "# Ajustando o objeto aos dados\n",
    "count_encoder.fit(data_cat)\n",
    "\n",
    "# Codificando os dados\n",
    "data_cat_encoded_count = count_encoder.transform(data_cat)"
   ]
  },
  {
   "cell_type": "markdown",
   "id": "757de5eb",
   "metadata": {},
   "source": [
    "### Concatenando os dataframes preprocessados"
   ]
  },
  {
   "cell_type": "code",
   "execution_count": 17,
   "id": "98fa42b0",
   "metadata": {},
   "outputs": [],
   "source": [
    "data_preprocessed_ordinal = pd.concat( [ data_cat_encoded_ordinal, data_num_normalized, data['CLASSE'] ], axis=1 )"
   ]
  },
  {
   "cell_type": "code",
   "execution_count": 41,
   "id": "0e8a7a0e",
   "metadata": {},
   "outputs": [],
   "source": [
    "data_preprocessed_count = pd.concat( [ data_cat_encoded_count, data_num_normalized, data['CLASSE'] ], axis=1 )"
   ]
  },
  {
   "cell_type": "markdown",
   "id": "6397ecbd",
   "metadata": {},
   "source": [
    "## Mineração\n",
    "\n",
    "O resultado de GradientBoosting com One-hot encoding **F1 Macro = 0.90**"
   ]
  },
  {
   "cell_type": "markdown",
   "id": "0143618b",
   "metadata": {},
   "source": [
    "### Usando Ordinal encoding com GradientBoosting"
   ]
  },
  {
   "cell_type": "code",
   "execution_count": 20,
   "id": "de2853b0",
   "metadata": {},
   "outputs": [],
   "source": [
    "from sklearn.model_selection import train_test_split # Importa classe que faz amostragem (sampling)\n",
    "\n",
    "X_train, X_validation, y_train, y_validation = train_test_split(data_preprocessed_ordinal.iloc[:,:-1], # features\n",
    "                                                                data_preprocessed_ordinal.iloc[:,-1],  # labels\n",
    "                                                                test_size=0.10,                 # % do test set (10%)\n",
    "                                                                random_state=1)                # seed"
   ]
  },
  {
   "cell_type": "code",
   "execution_count": 21,
   "id": "096b443b",
   "metadata": {},
   "outputs": [
    {
     "data": {
      "text/html": [
       "<style>#sk-container-id-1 {color: black;}#sk-container-id-1 pre{padding: 0;}#sk-container-id-1 div.sk-toggleable {background-color: white;}#sk-container-id-1 label.sk-toggleable__label {cursor: pointer;display: block;width: 100%;margin-bottom: 0;padding: 0.3em;box-sizing: border-box;text-align: center;}#sk-container-id-1 label.sk-toggleable__label-arrow:before {content: \"▸\";float: left;margin-right: 0.25em;color: #696969;}#sk-container-id-1 label.sk-toggleable__label-arrow:hover:before {color: black;}#sk-container-id-1 div.sk-estimator:hover label.sk-toggleable__label-arrow:before {color: black;}#sk-container-id-1 div.sk-toggleable__content {max-height: 0;max-width: 0;overflow: hidden;text-align: left;background-color: #f0f8ff;}#sk-container-id-1 div.sk-toggleable__content pre {margin: 0.2em;color: black;border-radius: 0.25em;background-color: #f0f8ff;}#sk-container-id-1 input.sk-toggleable__control:checked~div.sk-toggleable__content {max-height: 200px;max-width: 100%;overflow: auto;}#sk-container-id-1 input.sk-toggleable__control:checked~label.sk-toggleable__label-arrow:before {content: \"▾\";}#sk-container-id-1 div.sk-estimator input.sk-toggleable__control:checked~label.sk-toggleable__label {background-color: #d4ebff;}#sk-container-id-1 div.sk-label input.sk-toggleable__control:checked~label.sk-toggleable__label {background-color: #d4ebff;}#sk-container-id-1 input.sk-hidden--visually {border: 0;clip: rect(1px 1px 1px 1px);clip: rect(1px, 1px, 1px, 1px);height: 1px;margin: -1px;overflow: hidden;padding: 0;position: absolute;width: 1px;}#sk-container-id-1 div.sk-estimator {font-family: monospace;background-color: #f0f8ff;border: 1px dotted black;border-radius: 0.25em;box-sizing: border-box;margin-bottom: 0.5em;}#sk-container-id-1 div.sk-estimator:hover {background-color: #d4ebff;}#sk-container-id-1 div.sk-parallel-item::after {content: \"\";width: 100%;border-bottom: 1px solid gray;flex-grow: 1;}#sk-container-id-1 div.sk-label:hover label.sk-toggleable__label {background-color: #d4ebff;}#sk-container-id-1 div.sk-serial::before {content: \"\";position: absolute;border-left: 1px solid gray;box-sizing: border-box;top: 0;bottom: 0;left: 50%;z-index: 0;}#sk-container-id-1 div.sk-serial {display: flex;flex-direction: column;align-items: center;background-color: white;padding-right: 0.2em;padding-left: 0.2em;position: relative;}#sk-container-id-1 div.sk-item {position: relative;z-index: 1;}#sk-container-id-1 div.sk-parallel {display: flex;align-items: stretch;justify-content: center;background-color: white;position: relative;}#sk-container-id-1 div.sk-item::before, #sk-container-id-1 div.sk-parallel-item::before {content: \"\";position: absolute;border-left: 1px solid gray;box-sizing: border-box;top: 0;bottom: 0;left: 50%;z-index: -1;}#sk-container-id-1 div.sk-parallel-item {display: flex;flex-direction: column;z-index: 1;position: relative;background-color: white;}#sk-container-id-1 div.sk-parallel-item:first-child::after {align-self: flex-end;width: 50%;}#sk-container-id-1 div.sk-parallel-item:last-child::after {align-self: flex-start;width: 50%;}#sk-container-id-1 div.sk-parallel-item:only-child::after {width: 0;}#sk-container-id-1 div.sk-dashed-wrapped {border: 1px dashed gray;margin: 0 0.4em 0.5em 0.4em;box-sizing: border-box;padding-bottom: 0.4em;background-color: white;}#sk-container-id-1 div.sk-label label {font-family: monospace;font-weight: bold;display: inline-block;line-height: 1.2em;}#sk-container-id-1 div.sk-label-container {text-align: center;}#sk-container-id-1 div.sk-container {/* jupyter's `normalize.less` sets `[hidden] { display: none; }` but bootstrap.min.css set `[hidden] { display: none !important; }` so we also need the `!important` here to be able to override the default hidden behavior on the sphinx rendered scikit-learn.org. See: https://github.com/scikit-learn/scikit-learn/issues/21755 */display: inline-block !important;position: relative;}#sk-container-id-1 div.sk-text-repr-fallback {display: none;}</style><div id=\"sk-container-id-1\" class=\"sk-top-container\"><div class=\"sk-text-repr-fallback\"><pre>GradientBoostingClassifier(random_state=1)</pre><b>In a Jupyter environment, please rerun this cell to show the HTML representation or trust the notebook. <br />On GitHub, the HTML representation is unable to render, please try loading this page with nbviewer.org.</b></div><div class=\"sk-container\" hidden><div class=\"sk-item\"><div class=\"sk-estimator sk-toggleable\"><input class=\"sk-toggleable__control sk-hidden--visually\" id=\"sk-estimator-id-1\" type=\"checkbox\" checked><label for=\"sk-estimator-id-1\" class=\"sk-toggleable__label sk-toggleable__label-arrow\">GradientBoostingClassifier</label><div class=\"sk-toggleable__content\"><pre>GradientBoostingClassifier(random_state=1)</pre></div></div></div></div></div>"
      ],
      "text/plain": [
       "GradientBoostingClassifier(random_state=1)"
      ]
     },
     "execution_count": 21,
     "metadata": {},
     "output_type": "execute_result"
    }
   ],
   "source": [
    "from sklearn.ensemble import GradientBoostingClassifier  # Importando Classe de treinamento de Aumento de Gradiente\n",
    "model = GradientBoostingClassifier(random_state=1)       # Instanciando objeto classificador\n",
    "model.fit(X_train, y_train)                              # Ajustando o modelo"
   ]
  },
  {
   "cell_type": "code",
   "execution_count": 24,
   "id": "194256f6",
   "metadata": {},
   "outputs": [
    {
     "name": "stdout",
     "output_type": "stream",
     "text": [
      "Overfitted Accuracy: 94.07%\n"
     ]
    }
   ],
   "source": [
    "from sklearn.metrics import accuracy_score, confusion_matrix, classification_report\n",
    "\n",
    "overfitted_pred = model.predict(X_train)                # Checando se o modelo ajustou aos dados\n",
    "accuracy = accuracy_score(y_train, overfitted_pred)\n",
    "print(f\"Overfitted Accuracy: {accuracy * 100:.2f}%\")                            # Ajustando o modelo"
   ]
  },
  {
   "cell_type": "code",
   "execution_count": 25,
   "id": "4a9b7111",
   "metadata": {
    "collapsed": true
   },
   "outputs": [
    {
     "name": "stdout",
     "output_type": "stream",
     "text": [
      "Accuracy: 88.67%\n",
      "Confusion Matrix:\n",
      " [[69  3]\n",
      " [14 64]]\n",
      "Classification Report:\n",
      "               precision    recall  f1-score   support\n",
      "\n",
      "           0       0.83      0.96      0.89        72\n",
      "           1       0.96      0.82      0.88        78\n",
      "\n",
      "    accuracy                           0.89       150\n",
      "   macro avg       0.89      0.89      0.89       150\n",
      "weighted avg       0.90      0.89      0.89       150\n",
      "\n"
     ]
    }
   ],
   "source": [
    "y_pred_validation = model.predict(X_validation) # Resultados no set de validação\n",
    "\n",
    "# Evaluate the model\n",
    "accuracy = accuracy_score(y_validation, y_pred_validation)\n",
    "confusion = confusion_matrix(y_validation, y_pred_validation)\n",
    "classification_rep = classification_report(y_validation, y_pred_validation)\n",
    "\n",
    "print(f\"Accuracy: {accuracy * 100:.2f}%\")\n",
    "print(\"Confusion Matrix:\\n\", confusion)\n",
    "print(\"Classification Report:\\n\", classification_rep)"
   ]
  },
  {
   "cell_type": "markdown",
   "id": "29e80694",
   "metadata": {},
   "source": [
    "#### Preprocessamento para teste do modelo\n",
    "Como o dataset de teste está em outro arquivo (credtest.txt), será necessário repetir os passos de preprocessamento usando os objetos já treinados na fase de treinamento do modelo. Os passos são:\n",
    "* Seleção de dados\n",
    "* Separação dos atributos numéricos e categóricos\n",
    "* Utilização dos objetos de preprocessamento já criados para transformar os novos dados (scaler e codificador)\n",
    "* Junção do dataset\n",
    "* Teste final"
   ]
  },
  {
   "cell_type": "code",
   "execution_count": 36,
   "id": "9169752d",
   "metadata": {},
   "outputs": [],
   "source": [
    "test_data = pd.read_csv('cic1205/data/credtest.txt', sep='\\t', names=nome_colunas) # Seleção de dados\n",
    "test_data_cat = test_data[variaveis_categoricas] # Separação dos atributos categóricos\n",
    "test_data_num = test_data[variaveis_numericas]   # Separação dos atributos categóricos\n",
    "test_data_cat_encoded = codificar_ordinal(test_data_cat)\n",
    "test_data_num_normalized = normalizar(test_data_num)   # Normalização\n",
    "test_data_preprocessed = pd.concat( [ test_data_cat_encoded, test_data_num_normalized, test_data['CLASSE'] ], axis=1 ) # Junção\n",
    "X_test = test_data_preprocessed.iloc[:,:-1] # Conjuntos de dados\n",
    "y_test = test_data_preprocessed.iloc[:,-1]  # Classificações"
   ]
  },
  {
   "cell_type": "code",
   "execution_count": 37,
   "id": "deb61ae1",
   "metadata": {
    "scrolled": false
   },
   "outputs": [
    {
     "name": "stdout",
     "output_type": "stream",
     "text": [
      "Accuracy: 89.43%\n",
      "Confusion Matrix:\n",
      " [[293  13]\n",
      " [ 48 223]]\n",
      "Classification Report:\n",
      "               precision    recall  f1-score   support\n",
      "\n",
      "           0       0.86      0.96      0.91       306\n",
      "           1       0.94      0.82      0.88       271\n",
      "\n",
      "    accuracy                           0.89       577\n",
      "   macro avg       0.90      0.89      0.89       577\n",
      "weighted avg       0.90      0.89      0.89       577\n",
      "\n"
     ]
    }
   ],
   "source": [
    "y_pred = model.predict(X_test) # Resultados no set de testes\n",
    "\n",
    "# Evaluate the model\n",
    "accuracy = accuracy_score(y_test, y_pred)\n",
    "confusion = confusion_matrix(y_test, y_pred)\n",
    "classification_rep = classification_report(y_test, y_pred)\n",
    "\n",
    "print(f\"Accuracy: {accuracy * 100:.2f}%\")\n",
    "print(\"Confusion Matrix:\\n\", confusion)\n",
    "print(\"Classification Report:\\n\", classification_rep)"
   ]
  },
  {
   "cell_type": "markdown",
   "id": "052089f5",
   "metadata": {},
   "source": [
    "### Usando Count encoding com GradientBoosting"
   ]
  },
  {
   "cell_type": "code",
   "execution_count": 42,
   "id": "5ee1bb87",
   "metadata": {},
   "outputs": [],
   "source": [
    "from sklearn.model_selection import train_test_split # Importa classe que faz amostragem (sampling)\n",
    "\n",
    "X_train, X_validation, y_train, y_validation = train_test_split(data_preprocessed_count.iloc[:,:-1], # features\n",
    "                                                                data_preprocessed_count.iloc[:,-1],  # labels\n",
    "                                                                test_size=0.10,                 # % do test set (10%)\n",
    "                                                                random_state=1)                # seed"
   ]
  },
  {
   "cell_type": "code",
   "execution_count": 43,
   "id": "f487ea0a",
   "metadata": {},
   "outputs": [
    {
     "data": {
      "text/html": [
       "<style>#sk-container-id-3 {color: black;}#sk-container-id-3 pre{padding: 0;}#sk-container-id-3 div.sk-toggleable {background-color: white;}#sk-container-id-3 label.sk-toggleable__label {cursor: pointer;display: block;width: 100%;margin-bottom: 0;padding: 0.3em;box-sizing: border-box;text-align: center;}#sk-container-id-3 label.sk-toggleable__label-arrow:before {content: \"▸\";float: left;margin-right: 0.25em;color: #696969;}#sk-container-id-3 label.sk-toggleable__label-arrow:hover:before {color: black;}#sk-container-id-3 div.sk-estimator:hover label.sk-toggleable__label-arrow:before {color: black;}#sk-container-id-3 div.sk-toggleable__content {max-height: 0;max-width: 0;overflow: hidden;text-align: left;background-color: #f0f8ff;}#sk-container-id-3 div.sk-toggleable__content pre {margin: 0.2em;color: black;border-radius: 0.25em;background-color: #f0f8ff;}#sk-container-id-3 input.sk-toggleable__control:checked~div.sk-toggleable__content {max-height: 200px;max-width: 100%;overflow: auto;}#sk-container-id-3 input.sk-toggleable__control:checked~label.sk-toggleable__label-arrow:before {content: \"▾\";}#sk-container-id-3 div.sk-estimator input.sk-toggleable__control:checked~label.sk-toggleable__label {background-color: #d4ebff;}#sk-container-id-3 div.sk-label input.sk-toggleable__control:checked~label.sk-toggleable__label {background-color: #d4ebff;}#sk-container-id-3 input.sk-hidden--visually {border: 0;clip: rect(1px 1px 1px 1px);clip: rect(1px, 1px, 1px, 1px);height: 1px;margin: -1px;overflow: hidden;padding: 0;position: absolute;width: 1px;}#sk-container-id-3 div.sk-estimator {font-family: monospace;background-color: #f0f8ff;border: 1px dotted black;border-radius: 0.25em;box-sizing: border-box;margin-bottom: 0.5em;}#sk-container-id-3 div.sk-estimator:hover {background-color: #d4ebff;}#sk-container-id-3 div.sk-parallel-item::after {content: \"\";width: 100%;border-bottom: 1px solid gray;flex-grow: 1;}#sk-container-id-3 div.sk-label:hover label.sk-toggleable__label {background-color: #d4ebff;}#sk-container-id-3 div.sk-serial::before {content: \"\";position: absolute;border-left: 1px solid gray;box-sizing: border-box;top: 0;bottom: 0;left: 50%;z-index: 0;}#sk-container-id-3 div.sk-serial {display: flex;flex-direction: column;align-items: center;background-color: white;padding-right: 0.2em;padding-left: 0.2em;position: relative;}#sk-container-id-3 div.sk-item {position: relative;z-index: 1;}#sk-container-id-3 div.sk-parallel {display: flex;align-items: stretch;justify-content: center;background-color: white;position: relative;}#sk-container-id-3 div.sk-item::before, #sk-container-id-3 div.sk-parallel-item::before {content: \"\";position: absolute;border-left: 1px solid gray;box-sizing: border-box;top: 0;bottom: 0;left: 50%;z-index: -1;}#sk-container-id-3 div.sk-parallel-item {display: flex;flex-direction: column;z-index: 1;position: relative;background-color: white;}#sk-container-id-3 div.sk-parallel-item:first-child::after {align-self: flex-end;width: 50%;}#sk-container-id-3 div.sk-parallel-item:last-child::after {align-self: flex-start;width: 50%;}#sk-container-id-3 div.sk-parallel-item:only-child::after {width: 0;}#sk-container-id-3 div.sk-dashed-wrapped {border: 1px dashed gray;margin: 0 0.4em 0.5em 0.4em;box-sizing: border-box;padding-bottom: 0.4em;background-color: white;}#sk-container-id-3 div.sk-label label {font-family: monospace;font-weight: bold;display: inline-block;line-height: 1.2em;}#sk-container-id-3 div.sk-label-container {text-align: center;}#sk-container-id-3 div.sk-container {/* jupyter's `normalize.less` sets `[hidden] { display: none; }` but bootstrap.min.css set `[hidden] { display: none !important; }` so we also need the `!important` here to be able to override the default hidden behavior on the sphinx rendered scikit-learn.org. See: https://github.com/scikit-learn/scikit-learn/issues/21755 */display: inline-block !important;position: relative;}#sk-container-id-3 div.sk-text-repr-fallback {display: none;}</style><div id=\"sk-container-id-3\" class=\"sk-top-container\"><div class=\"sk-text-repr-fallback\"><pre>GradientBoostingClassifier(random_state=1)</pre><b>In a Jupyter environment, please rerun this cell to show the HTML representation or trust the notebook. <br />On GitHub, the HTML representation is unable to render, please try loading this page with nbviewer.org.</b></div><div class=\"sk-container\" hidden><div class=\"sk-item\"><div class=\"sk-estimator sk-toggleable\"><input class=\"sk-toggleable__control sk-hidden--visually\" id=\"sk-estimator-id-3\" type=\"checkbox\" checked><label for=\"sk-estimator-id-3\" class=\"sk-toggleable__label sk-toggleable__label-arrow\">GradientBoostingClassifier</label><div class=\"sk-toggleable__content\"><pre>GradientBoostingClassifier(random_state=1)</pre></div></div></div></div></div>"
      ],
      "text/plain": [
       "GradientBoostingClassifier(random_state=1)"
      ]
     },
     "execution_count": 43,
     "metadata": {},
     "output_type": "execute_result"
    }
   ],
   "source": [
    "from sklearn.ensemble import GradientBoostingClassifier  # Importando Classe de treinamento de Aumento de Gradiente\n",
    "model = GradientBoostingClassifier(random_state=1)       # Instanciando objeto classificador\n",
    "model.fit(X_train, y_train)                              # Ajustando o modelo"
   ]
  },
  {
   "cell_type": "code",
   "execution_count": 44,
   "id": "fd2ef90e",
   "metadata": {},
   "outputs": [
    {
     "name": "stdout",
     "output_type": "stream",
     "text": [
      "Overfitted Accuracy: 94.07%\n"
     ]
    }
   ],
   "source": [
    "from sklearn.metrics import accuracy_score, confusion_matrix, classification_report\n",
    "\n",
    "overfitted_pred = model.predict(X_train)                # Checando se o modelo ajustou aos dados\n",
    "accuracy = accuracy_score(y_train, overfitted_pred)\n",
    "print(f\"Overfitted Accuracy: {accuracy * 100:.2f}%\")                            # Ajustando o modelo"
   ]
  },
  {
   "cell_type": "code",
   "execution_count": 45,
   "id": "564d8dfc",
   "metadata": {},
   "outputs": [
    {
     "name": "stdout",
     "output_type": "stream",
     "text": [
      "Accuracy: 88.67%\n",
      "Confusion Matrix:\n",
      " [[69  3]\n",
      " [14 64]]\n",
      "Classification Report:\n",
      "               precision    recall  f1-score   support\n",
      "\n",
      "           0       0.83      0.96      0.89        72\n",
      "           1       0.96      0.82      0.88        78\n",
      "\n",
      "    accuracy                           0.89       150\n",
      "   macro avg       0.89      0.89      0.89       150\n",
      "weighted avg       0.90      0.89      0.89       150\n",
      "\n"
     ]
    }
   ],
   "source": [
    "y_pred_validation = model.predict(X_validation) # Resultados no set de validação\n",
    "\n",
    "# Evaluate the model\n",
    "accuracy = accuracy_score(y_validation, y_pred_validation)\n",
    "confusion = confusion_matrix(y_validation, y_pred_validation)\n",
    "classification_rep = classification_report(y_validation, y_pred_validation)\n",
    "\n",
    "print(f\"Accuracy: {accuracy * 100:.2f}%\")\n",
    "print(\"Confusion Matrix:\\n\", confusion)\n",
    "print(\"Classification Report:\\n\", classification_rep)"
   ]
  },
  {
   "cell_type": "markdown",
   "id": "47add6b5",
   "metadata": {},
   "source": [
    "#### Preprocessamento para teste do modelo\n",
    "Como o dataset de teste está em outro arquivo (credtest.txt), será necessário repetir os passos de preprocessamento usando os objetos já treinados na fase de treinamento do modelo. Os passos são:\n",
    "* Seleção de dados\n",
    "* Separação dos atributos numéricos e categóricos\n",
    "* Utilização dos objetos de preprocessamento já criados para transformar os novos dados (scaler e codificador)\n",
    "* Junção do dataset\n",
    "* Teste final"
   ]
  },
  {
   "cell_type": "code",
   "execution_count": 46,
   "id": "07060153",
   "metadata": {},
   "outputs": [],
   "source": [
    "test_data = pd.read_csv('cic1205/data/credtest.txt', sep='\\t', names=nome_colunas) # Seleção de dados\n",
    "test_data_cat = test_data[variaveis_categoricas] # Separação dos atributos categóricos\n",
    "test_data_num = test_data[variaveis_numericas]   # Separação dos atributos categóricos\n",
    "test_data_cat_encoded = count_encoder.transform(test_data_cat)\n",
    "test_data_num_normalized = normalizar(test_data_num)   # Normalização\n",
    "test_data_preprocessed = pd.concat( [ test_data_cat_encoded, test_data_num_normalized, test_data['CLASSE'] ], axis=1 ) # Junção\n",
    "X_test = test_data_preprocessed.iloc[:,:-1] # Conjuntos de dados\n",
    "y_test = test_data_preprocessed.iloc[:,-1]  # Classificações"
   ]
  },
  {
   "cell_type": "code",
   "execution_count": 47,
   "id": "7876393b",
   "metadata": {
    "scrolled": false
   },
   "outputs": [
    {
     "name": "stdout",
     "output_type": "stream",
     "text": [
      "Accuracy: 89.43%\n",
      "Confusion Matrix:\n",
      " [[293  13]\n",
      " [ 48 223]]\n",
      "Classification Report:\n",
      "               precision    recall  f1-score   support\n",
      "\n",
      "           0       0.86      0.96      0.91       306\n",
      "           1       0.94      0.82      0.88       271\n",
      "\n",
      "    accuracy                           0.89       577\n",
      "   macro avg       0.90      0.89      0.89       577\n",
      "weighted avg       0.90      0.89      0.89       577\n",
      "\n"
     ]
    }
   ],
   "source": [
    "y_pred = model.predict(X_test) # Resultados no set de testes\n",
    "\n",
    "# Evaluate the model\n",
    "accuracy = accuracy_score(y_test, y_pred)\n",
    "confusion = confusion_matrix(y_test, y_pred)\n",
    "classification_rep = classification_report(y_test, y_pred)\n",
    "\n",
    "print(f\"Accuracy: {accuracy * 100:.2f}%\")\n",
    "print(\"Confusion Matrix:\\n\", confusion)\n",
    "print(\"Classification Report:\\n\", classification_rep)"
   ]
  },
  {
   "cell_type": "markdown",
   "id": "b749c342",
   "metadata": {},
   "source": [
    "### Análise comparativa de resultados (F1-Macro avg):\n",
    "- One-hot encoding: 0.90\n",
    "- Ordinal encoding: 0.89\n",
    "- Count encoding: 0.89"
   ]
  },
  {
   "cell_type": "markdown",
   "id": "163c765c",
   "metadata": {},
   "source": [
    "# 2 Validação Cruzada"
   ]
  },
  {
   "cell_type": "markdown",
   "id": "40aefbdd",
   "metadata": {},
   "source": [
    "### Resumo:\n",
    "* Classificação | A602.pickle, A621.pickle, A627.pickle, A636.pickle, A652.pickle\n",
    "* Preprocessamentos: binarização\n",
    "* Mining: GradientBoostingClassifier com CrossValidation\n",
    "* Tarefa: Hyperparameter Tunning com Stritified5Fold Validation"
   ]
  },
  {
   "cell_type": "code",
   "execution_count": 71,
   "id": "1e2631b3",
   "metadata": {},
   "outputs": [],
   "source": [
    "import numpy as np\n",
    "import pickle\n",
    "fileA602 = open('cic1205/data/atmoseer/A602.pickle' , 'rb')\n",
    "fileA621 = open('cic1205/data/atmoseer/A621.pickle' , 'rb')\n",
    "fileA627 = open('cic1205/data/atmoseer/A627.pickle' , 'rb')\n",
    "fileA636 = open('cic1205/data/atmoseer/A636.pickle' , 'rb')\n",
    "fileA652 = open('cic1205/data/atmoseer/A652.pickle' , 'rb')"
   ]
  },
  {
   "cell_type": "markdown",
   "id": "7442c1c2",
   "metadata": {},
   "source": [
    "### Dataset A602"
   ]
  },
  {
   "cell_type": "code",
   "execution_count": 72,
   "id": "15b16569",
   "metadata": {},
   "outputs": [],
   "source": [
    "(X_train , y_train , X_val , y_val , X_test , y_test) = pickle.load(fileA602)"
   ]
  },
  {
   "cell_type": "code",
   "execution_count": 81,
   "id": "1f5f3589",
   "metadata": {},
   "outputs": [],
   "source": [
    "#Unindo dataset de treino e validação\n",
    "X_train = np.concatenate([X_train, X_val], axis=0)\n",
    "y_train = np.concatenate([y_train, y_val])\n",
    "\n",
    "# Preprocessamento (Botando 1 tudo que é diferente de 0 como informado no grupo)\n",
    "y_train[y_train != 0] = 1\n",
    "y_test[y_test != 0] = 1\n",
    "# Transformando 2D array em 1D array\n",
    "y_train = y_train.flatten()\n",
    "y_test = y_test.flatten()"
   ]
  },
  {
   "cell_type": "code",
   "execution_count": 85,
   "id": "6666dfc4",
   "metadata": {},
   "outputs": [
    {
     "name": "stdout",
     "output_type": "stream",
     "text": [
      "Best Hyperparameters: {'subsample': 1.0, 'n_estimators': 50, 'min_samples_split': 2, 'min_samples_leaf': 3, 'max_depth': 3, 'learning_rate': 0.1}\n"
     ]
    }
   ],
   "source": [
    "from sklearn.model_selection import RandomizedSearchCV, StratifiedKFold\n",
    "from sklearn.ensemble import GradientBoostingClassifier\n",
    "\n",
    "model = GradientBoostingClassifier()\n",
    "cv = StratifiedKFold(n_splits=5, shuffle=True, random_state=42) # 5 folds\n",
    "\n",
    "# Definindo parametros\n",
    "param_dist = {\n",
    "    'n_estimators': [25, 50, 100],\n",
    "    'learning_rate': [0.01, 0.1, 1],\n",
    "    'max_depth': [2, 3, 4],\n",
    "    'min_samples_split': [2],\n",
    "    'min_samples_leaf': [3, 4, 6],\n",
    "    'subsample': [0.3, 0.6, 1.0]\n",
    "}\n",
    "\n",
    "# Busca randômica\n",
    "random_search = RandomizedSearchCV(\n",
    "    model,\n",
    "    param_distributions=param_dist,\n",
    "    n_iter=10,\n",
    "    scoring='accuracy',\n",
    "    cv=cv,\n",
    "    random_state=42\n",
    ")\n",
    "\n",
    "# Fit the randomized search to the data\n",
    "random_search.fit(X_train, y_train)\n",
    "\n",
    "# Get the best hyperparameters\n",
    "best_params = random_search.best_params_\n",
    "print(\"Best Hyperparameters:\", best_params)\n",
    "\n",
    "# Get the best model\n",
    "best_model = random_search.best_estimator_\n"
   ]
  },
  {
   "cell_type": "markdown",
   "id": "c7b19faf",
   "metadata": {},
   "source": [
    "**Busca 1**:\n",
    "Best Hyperparameters: {'subsample': 1.0, 'n_estimators': 50, 'min_samples_split': 2, 'min_samples_leaf': 4, 'max_depth': 3, 'learning_rate': 0.1}\n",
    "\n",
    "**Busca 2**:\n",
    "Best Hyperparameters: {'subsample': 1.0, 'n_estimators': 50, 'min_samples_split': 2, 'min_samples_leaf': 3, 'max_depth': 3, 'learning_rate': 0.1}"
   ]
  },
  {
   "cell_type": "code",
   "execution_count": 86,
   "id": "5237a643",
   "metadata": {},
   "outputs": [
    {
     "name": "stdout",
     "output_type": "stream",
     "text": [
      "Accuracy: 88.89%\n",
      "Confusion Matrix:\n",
      " [[633  40]\n",
      " [ 45  47]]\n",
      "Classification Report:\n",
      "               precision    recall  f1-score   support\n",
      "\n",
      "         0.0       0.93      0.94      0.94       673\n",
      "         1.0       0.54      0.51      0.53        92\n",
      "\n",
      "    accuracy                           0.89       765\n",
      "   macro avg       0.74      0.73      0.73       765\n",
      "weighted avg       0.89      0.89      0.89       765\n",
      "\n"
     ]
    }
   ],
   "source": [
    "# Predição\n",
    "y_pred = best_model.predict(X_test)\n",
    "\n",
    "# Classification report conforme requisitado\n",
    "accuracy = accuracy_score(y_test, y_pred)\n",
    "confusion = confusion_matrix(y_test, y_pred)\n",
    "classification_rep = classification_report(y_test, y_pred)\n",
    "\n",
    "print(f\"Accuracy: {accuracy * 100:.2f}%\")\n",
    "print(\"Confusion Matrix:\\n\", confusion)\n",
    "print(\"Classification Report:\\n\", classification_rep)"
   ]
  },
  {
   "cell_type": "markdown",
   "id": "ad8638ec",
   "metadata": {},
   "source": [
    "#### Resultados A602\n",
    "- F1 Classe 1 antigo: 0.54\n",
    "- F1 Classe 1 novo: 0.53"
   ]
  },
  {
   "cell_type": "markdown",
   "id": "80c35543",
   "metadata": {},
   "source": [
    "### Dataset A621"
   ]
  },
  {
   "cell_type": "code",
   "execution_count": 88,
   "id": "b2b7d53a",
   "metadata": {},
   "outputs": [
    {
     "ename": "EOFError",
     "evalue": "Ran out of input",
     "output_type": "error",
     "traceback": [
      "\u001b[1;31m---------------------------------------------------------------------------\u001b[0m",
      "\u001b[1;31mEOFError\u001b[0m                                  Traceback (most recent call last)",
      "Cell \u001b[1;32mIn[88], line 1\u001b[0m\n\u001b[1;32m----> 1\u001b[0m (X_train , y_train , X_val , y_val , X_test , y_test) \u001b[38;5;241m=\u001b[39m \u001b[43mpickle\u001b[49m\u001b[38;5;241;43m.\u001b[39;49m\u001b[43mload\u001b[49m\u001b[43m(\u001b[49m\u001b[43mfileA621\u001b[49m\u001b[43m)\u001b[49m\n",
      "\u001b[1;31mEOFError\u001b[0m: Ran out of input"
     ]
    }
   ],
   "source": [
    "(X_train , y_train , X_val , y_val , X_test , y_test) = pickle.load(fileA621)"
   ]
  },
  {
   "cell_type": "code",
   "execution_count": 89,
   "id": "86ca57e4",
   "metadata": {},
   "outputs": [],
   "source": [
    "#Unindo dataset de treino e validação\n",
    "X_train = np.concatenate([X_train, X_val], axis=0)\n",
    "y_train = np.concatenate([y_train, y_val])\n",
    "\n",
    "# Preprocessamento (Botando 1 tudo que é diferente de 0 como informado no grupo)\n",
    "y_train[y_train != 0] = 1\n",
    "y_test[y_test != 0] = 1\n",
    "# Transformando 2D array em 1D array\n",
    "y_train = y_train.flatten()\n",
    "y_test = y_test.flatten()"
   ]
  },
  {
   "cell_type": "code",
   "execution_count": 90,
   "id": "daac19cc",
   "metadata": {},
   "outputs": [
    {
     "name": "stdout",
     "output_type": "stream",
     "text": [
      "Best Hyperparameters: {'subsample': 1.0, 'n_estimators': 50, 'min_samples_split': 2, 'min_samples_leaf': 3, 'max_depth': 3, 'learning_rate': 0.1}\n"
     ]
    }
   ],
   "source": [
    "from sklearn.model_selection import RandomizedSearchCV, StratifiedKFold\n",
    "from sklearn.ensemble import GradientBoostingClassifier\n",
    "\n",
    "model = GradientBoostingClassifier()\n",
    "cv = StratifiedKFold(n_splits=5, shuffle=True, random_state=42) # 5 folds\n",
    "\n",
    "# Definindo parametros\n",
    "param_dist = {\n",
    "    'n_estimators': [25, 50, 100],\n",
    "    'learning_rate': [0.01, 0.1, 1],\n",
    "    'max_depth': [2, 3, 4],\n",
    "    'min_samples_split': [2],\n",
    "    'min_samples_leaf': [3, 4, 6],\n",
    "    'subsample': [0.3, 0.6, 1.0]\n",
    "}\n",
    "\n",
    "# Busca randômica\n",
    "random_search = RandomizedSearchCV(\n",
    "    model,\n",
    "    param_distributions=param_dist,\n",
    "    n_iter=10,\n",
    "    scoring='accuracy',\n",
    "    cv=cv,\n",
    "    random_state=42\n",
    ")\n",
    "\n",
    "# Hora do treinamento\n",
    "random_search.fit(X_train, y_train)\n",
    "\n",
    "# Informar melhores parâmetros\n",
    "best_params = random_search.best_params_\n",
    "print(\"Best Hyperparameters:\", best_params)\n",
    "\n",
    "# Setar um modelo com os melhores parâmetros\n",
    "best_model = random_search.best_estimator_\n"
   ]
  },
  {
   "cell_type": "markdown",
   "id": "0a60cb46",
   "metadata": {},
   "source": [
    "**Busca 1**:\n",
    "Best Hyperparameters: {'subsample': 1.0, 'n_estimators': 50, 'min_samples_split': 2, 'min_samples_leaf': 4, 'max_depth': 3, 'learning_rate': 0.1}\n",
    "\n",
    "**Busca 2**:\n",
    "Best Hyperparameters: {'subsample': 1.0, 'n_estimators': 50, 'min_samples_split': 2, 'min_samples_leaf': 3, 'max_depth': 3, 'learning_rate': 0.1}\n",
    "\n",
    "**Busca 3**: Mesmo que busca 2"
   ]
  },
  {
   "cell_type": "code",
   "execution_count": 91,
   "id": "bdf31c37",
   "metadata": {},
   "outputs": [
    {
     "name": "stdout",
     "output_type": "stream",
     "text": [
      "Accuracy: 93.25%\n",
      "Confusion Matrix:\n",
      " [[8945  202]\n",
      " [ 478  455]]\n",
      "Classification Report:\n",
      "               precision    recall  f1-score   support\n",
      "\n",
      "         0.0       0.95      0.98      0.96      9147\n",
      "         1.0       0.69      0.49      0.57       933\n",
      "\n",
      "    accuracy                           0.93     10080\n",
      "   macro avg       0.82      0.73      0.77     10080\n",
      "weighted avg       0.93      0.93      0.93     10080\n",
      "\n"
     ]
    }
   ],
   "source": [
    "# Predição\n",
    "y_pred = best_model.predict(X_test)\n",
    "\n",
    "# Classification report conforme requisitado\n",
    "accuracy = accuracy_score(y_test, y_pred)\n",
    "confusion = confusion_matrix(y_test, y_pred)\n",
    "classification_rep = classification_report(y_test, y_pred)\n",
    "\n",
    "print(f\"Accuracy: {accuracy * 100:.2f}%\")\n",
    "print(\"Confusion Matrix:\\n\", confusion)\n",
    "print(\"Classification Report:\\n\", classification_rep)"
   ]
  },
  {
   "cell_type": "markdown",
   "id": "0dd3b3b7",
   "metadata": {},
   "source": [
    "#### Resultados A621\n",
    "- F1 Classe 1 antigo: 0.58\n",
    "- F1 Classe 1 novo: 0.57"
   ]
  },
  {
   "cell_type": "markdown",
   "id": "3547c86d",
   "metadata": {},
   "source": [
    "### Dataset A627"
   ]
  },
  {
   "cell_type": "code",
   "execution_count": 94,
   "id": "cd648590",
   "metadata": {},
   "outputs": [],
   "source": [
    "(X_train , y_train , X_val , y_val , X_test , y_test) = pickle.load(fileA627)"
   ]
  },
  {
   "cell_type": "code",
   "execution_count": 95,
   "id": "419a6011",
   "metadata": {},
   "outputs": [],
   "source": [
    "#Unindo dataset de treino e validação\n",
    "X_train = np.concatenate([X_train, X_val], axis=0)\n",
    "y_train = np.concatenate([y_train, y_val])\n",
    "\n",
    "# Preprocessamento (Botando 1 tudo que é diferente de 0 como informado no grupo)\n",
    "y_train[y_train != 0] = 1\n",
    "y_test[y_test != 0] = 1\n",
    "# Transformando 2D array em 1D array\n",
    "y_train = y_train.flatten()\n",
    "y_test = y_test.flatten()"
   ]
  },
  {
   "cell_type": "code",
   "execution_count": 96,
   "id": "bfe9443d",
   "metadata": {},
   "outputs": [
    {
     "name": "stdout",
     "output_type": "stream",
     "text": [
      "Best Hyperparameters: {'subsample': 0.6, 'n_estimators': 25, 'min_samples_split': 2, 'min_samples_leaf': 3, 'max_depth': 3, 'learning_rate': 0.1}\n"
     ]
    }
   ],
   "source": [
    "from sklearn.model_selection import RandomizedSearchCV, StratifiedKFold\n",
    "from sklearn.ensemble import GradientBoostingClassifier\n",
    "\n",
    "model = GradientBoostingClassifier()\n",
    "cv = StratifiedKFold(n_splits=5, shuffle=True, random_state=42) # 5 folds\n",
    "\n",
    "# Definindo parametros\n",
    "param_dist = {\n",
    "    'n_estimators': [25, 50, 100],\n",
    "    'learning_rate': [0.1, 1],\n",
    "    'max_depth': [2, 3, 4],\n",
    "    'min_samples_split': [2],\n",
    "    'min_samples_leaf': [3, 4],\n",
    "    'subsample': [0.6, 1.0]\n",
    "}\n",
    "\n",
    "# Busca randômica\n",
    "random_search = RandomizedSearchCV(\n",
    "    model,\n",
    "    param_distributions=param_dist,\n",
    "    n_iter=10,\n",
    "    scoring='accuracy',\n",
    "    cv=cv,\n",
    "    random_state=42\n",
    ")\n",
    "\n",
    "# Hora do treinamento\n",
    "random_search.fit(X_train, y_train)\n",
    "\n",
    "# Informar melhores parâmetros\n",
    "best_params = random_search.best_params_\n",
    "print(\"Best Hyperparameters:\", best_params)\n",
    "\n",
    "# Setar um modelo com os melhores parâmetros\n",
    "best_model = random_search.best_estimator_\n"
   ]
  },
  {
   "cell_type": "markdown",
   "id": "21aeaa68",
   "metadata": {},
   "source": [
    "**Best Hyperparameters**: {'subsample': 0.6, 'n_estimators': 25, 'min_samples_split': 2, 'min_samples_leaf': 3, 'max_depth': 3, 'learning_rate': 0.1}"
   ]
  },
  {
   "cell_type": "code",
   "execution_count": 97,
   "id": "cf4e444b",
   "metadata": {},
   "outputs": [
    {
     "name": "stdout",
     "output_type": "stream",
     "text": [
      "Accuracy: 93.25%\n",
      "Confusion Matrix:\n",
      " [[8926  274]\n",
      " [ 415  587]]\n",
      "Classification Report:\n",
      "               precision    recall  f1-score   support\n",
      "\n",
      "         0.0       0.96      0.97      0.96      9200\n",
      "         1.0       0.68      0.59      0.63      1002\n",
      "\n",
      "    accuracy                           0.93     10202\n",
      "   macro avg       0.82      0.78      0.80     10202\n",
      "weighted avg       0.93      0.93      0.93     10202\n",
      "\n"
     ]
    }
   ],
   "source": [
    "# Predição\n",
    "y_pred = best_model.predict(X_test)\n",
    "\n",
    "# Classification report conforme requisitado\n",
    "accuracy = accuracy_score(y_test, y_pred)\n",
    "confusion = confusion_matrix(y_test, y_pred)\n",
    "classification_rep = classification_report(y_test, y_pred)\n",
    "\n",
    "print(f\"Accuracy: {accuracy * 100:.2f}%\")\n",
    "print(\"Confusion Matrix:\\n\", confusion)\n",
    "print(\"Classification Report:\\n\", classification_rep)"
   ]
  },
  {
   "cell_type": "markdown",
   "id": "9509e063",
   "metadata": {},
   "source": [
    "#### Resultados A627\n",
    "- F1 Classe 1 antigo: 0.62\n",
    "- F1 Classe 1 novo: 0.63"
   ]
  },
  {
   "cell_type": "markdown",
   "id": "54ff2f14",
   "metadata": {},
   "source": [
    "### Dataset A636"
   ]
  },
  {
   "cell_type": "code",
   "execution_count": 98,
   "id": "903096d2",
   "metadata": {},
   "outputs": [],
   "source": [
    "(X_train , y_train , X_val , y_val , X_test , y_test) = pickle.load(fileA636)"
   ]
  },
  {
   "cell_type": "code",
   "execution_count": 99,
   "id": "2c7f3ee9",
   "metadata": {},
   "outputs": [],
   "source": [
    "#Unindo dataset de treino e validação\n",
    "X_train = np.concatenate([X_train, X_val], axis=0)\n",
    "y_train = np.concatenate([y_train, y_val])\n",
    "\n",
    "# Preprocessamento (Botando 1 tudo que é diferente de 0 como informado no grupo)\n",
    "y_train[y_train != 0] = 1\n",
    "y_test[y_test != 0] = 1\n",
    "# Transformando 2D array em 1D array\n",
    "y_train = y_train.flatten()\n",
    "y_test = y_test.flatten()"
   ]
  },
  {
   "cell_type": "code",
   "execution_count": 100,
   "id": "ed452cd2",
   "metadata": {},
   "outputs": [
    {
     "name": "stdout",
     "output_type": "stream",
     "text": [
      "Best Hyperparameters: {'subsample': 0.6, 'n_estimators': 25, 'min_samples_split': 2, 'min_samples_leaf': 3, 'max_depth': 2, 'learning_rate': 0.1}\n"
     ]
    }
   ],
   "source": [
    "from sklearn.model_selection import RandomizedSearchCV, StratifiedKFold\n",
    "from sklearn.ensemble import GradientBoostingClassifier\n",
    "\n",
    "model = GradientBoostingClassifier()\n",
    "cv = StratifiedKFold(n_splits=5, shuffle=True, random_state=42) # 5 folds\n",
    "\n",
    "# Definindo parametros\n",
    "param_dist = {\n",
    "    'n_estimators': [25, 50, 100],\n",
    "    'learning_rate': [0.1, 1],\n",
    "    'max_depth': [2, 3, 4],\n",
    "    'min_samples_split': [2],\n",
    "    'min_samples_leaf': [3, 4],\n",
    "    'subsample': [0.6, 1.0]\n",
    "}\n",
    "\n",
    "# Busca randômica\n",
    "random_search = RandomizedSearchCV(\n",
    "    model,\n",
    "    param_distributions=param_dist,\n",
    "    n_iter=10,\n",
    "    scoring='accuracy',\n",
    "    cv=cv,\n",
    "    random_state=42\n",
    ")\n",
    "\n",
    "# Hora do treinamento\n",
    "random_search.fit(X_train, y_train)\n",
    "\n",
    "# Informar melhores parâmetros\n",
    "best_params = random_search.best_params_\n",
    "print(\"Best Hyperparameters:\", best_params)\n",
    "\n",
    "# Setar um modelo com os melhores parâmetros\n",
    "best_model = random_search.best_estimator_\n"
   ]
  },
  {
   "cell_type": "markdown",
   "id": "71b6529b",
   "metadata": {},
   "source": [
    "**Best Hyperparameters**: {'subsample': 0.6, 'n_estimators': 25, 'min_samples_split': 2, 'min_samples_leaf': 3, 'max_depth': 2, 'learning_rate': 0.1}"
   ]
  },
  {
   "cell_type": "code",
   "execution_count": 101,
   "id": "f2a93f3f",
   "metadata": {},
   "outputs": [
    {
     "name": "stdout",
     "output_type": "stream",
     "text": [
      "Accuracy: 92.46%\n",
      "Confusion Matrix:\n",
      " [[8850  167]\n",
      " [ 597  515]]\n",
      "Classification Report:\n",
      "               precision    recall  f1-score   support\n",
      "\n",
      "         0.0       0.94      0.98      0.96      9017\n",
      "         1.0       0.76      0.46      0.57      1112\n",
      "\n",
      "    accuracy                           0.92     10129\n",
      "   macro avg       0.85      0.72      0.77     10129\n",
      "weighted avg       0.92      0.92      0.92     10129\n",
      "\n"
     ]
    }
   ],
   "source": [
    "# Predição\n",
    "y_pred = best_model.predict(X_test)\n",
    "\n",
    "# Classification report conforme requisitado\n",
    "accuracy = accuracy_score(y_test, y_pred)\n",
    "confusion = confusion_matrix(y_test, y_pred)\n",
    "classification_rep = classification_report(y_test, y_pred)\n",
    "\n",
    "print(f\"Accuracy: {accuracy * 100:.2f}%\")\n",
    "print(\"Confusion Matrix:\\n\", confusion)\n",
    "print(\"Classification Report:\\n\", classification_rep)"
   ]
  },
  {
   "cell_type": "markdown",
   "id": "05c746d9",
   "metadata": {},
   "source": [
    "#### Resultados A636\n",
    "- F1 Classe 1 antigo: 0.62\n",
    "- F1 Classe 1 novo: 0.57"
   ]
  },
  {
   "cell_type": "markdown",
   "id": "81082060",
   "metadata": {},
   "source": [
    "### Dataset A652"
   ]
  },
  {
   "cell_type": "code",
   "execution_count": 102,
   "id": "69755d3c",
   "metadata": {},
   "outputs": [],
   "source": [
    "(X_train , y_train , X_val , y_val , X_test , y_test) = pickle.load(fileA652)"
   ]
  },
  {
   "cell_type": "code",
   "execution_count": 103,
   "id": "5500c844",
   "metadata": {},
   "outputs": [],
   "source": [
    "#Unindo dataset de treino e validação\n",
    "X_train = np.concatenate([X_train, X_val], axis=0)\n",
    "y_train = np.concatenate([y_train, y_val])\n",
    "\n",
    "# Preprocessamento (Botando 1 tudo que é diferente de 0 como informado no grupo)\n",
    "y_train[y_train != 0] = 1\n",
    "y_test[y_test != 0] = 1\n",
    "# Transformando 2D array em 1D array\n",
    "y_train = y_train.flatten()\n",
    "y_test = y_test.flatten()"
   ]
  },
  {
   "cell_type": "code",
   "execution_count": 104,
   "id": "38190e62",
   "metadata": {},
   "outputs": [
    {
     "name": "stdout",
     "output_type": "stream",
     "text": [
      "Best Hyperparameters: {'subsample': 0.6, 'n_estimators': 25, 'min_samples_split': 2, 'min_samples_leaf': 3, 'max_depth': 2, 'learning_rate': 0.1}\n"
     ]
    }
   ],
   "source": [
    "from sklearn.model_selection import RandomizedSearchCV, StratifiedKFold\n",
    "from sklearn.ensemble import GradientBoostingClassifier\n",
    "\n",
    "model = GradientBoostingClassifier()\n",
    "cv = StratifiedKFold(n_splits=5, shuffle=True, random_state=42) # 5 folds\n",
    "\n",
    "# Definindo parametros\n",
    "param_dist = {\n",
    "    'n_estimators': [25, 50, 100],\n",
    "    'learning_rate': [0.1, 1],\n",
    "    'max_depth': [2, 3, 4],\n",
    "    'min_samples_split': [2],\n",
    "    'min_samples_leaf': [3, 4],\n",
    "    'subsample': [0.6, 1.0]\n",
    "}\n",
    "\n",
    "# Busca randômica\n",
    "random_search = RandomizedSearchCV(\n",
    "    model,\n",
    "    param_distributions=param_dist,\n",
    "    n_iter=10,\n",
    "    scoring='accuracy',\n",
    "    cv=cv,\n",
    "    random_state=42\n",
    ")\n",
    "\n",
    "# Hora do treinamento\n",
    "random_search.fit(X_train, y_train)\n",
    "\n",
    "# Informar melhores parâmetros\n",
    "best_params = random_search.best_params_\n",
    "print(\"Best Hyperparameters:\", best_params)\n",
    "\n",
    "# Setar um modelo com os melhores parâmetros\n",
    "best_model = random_search.best_estimator_\n"
   ]
  },
  {
   "cell_type": "markdown",
   "id": "53f659d4",
   "metadata": {},
   "source": [
    "**Best Hyperparameters**: {'subsample': 0.6, 'n_estimators': 25, 'min_samples_split': 2, 'min_samples_leaf': 3, 'max_depth': 2, 'learning_rate': 0.1}"
   ]
  },
  {
   "cell_type": "code",
   "execution_count": 101,
   "id": "59568a92",
   "metadata": {},
   "outputs": [
    {
     "name": "stdout",
     "output_type": "stream",
     "text": [
      "Accuracy: 92.46%\n",
      "Confusion Matrix:\n",
      " [[8850  167]\n",
      " [ 597  515]]\n",
      "Classification Report:\n",
      "               precision    recall  f1-score   support\n",
      "\n",
      "         0.0       0.94      0.98      0.96      9017\n",
      "         1.0       0.76      0.46      0.57      1112\n",
      "\n",
      "    accuracy                           0.92     10129\n",
      "   macro avg       0.85      0.72      0.77     10129\n",
      "weighted avg       0.92      0.92      0.92     10129\n",
      "\n"
     ]
    }
   ],
   "source": [
    "# Predição\n",
    "y_pred = best_model.predict(X_test)\n",
    "\n",
    "# Classification report conforme requisitado\n",
    "accuracy = accuracy_score(y_test, y_pred)\n",
    "confusion = confusion_matrix(y_test, y_pred)\n",
    "classification_rep = classification_report(y_test, y_pred)\n",
    "\n",
    "print(f\"Accuracy: {accuracy * 100:.2f}%\")\n",
    "print(\"Confusion Matrix:\\n\", confusion)\n",
    "print(\"Classification Report:\\n\", classification_rep)"
   ]
  },
  {
   "cell_type": "markdown",
   "id": "222bd3ee",
   "metadata": {},
   "source": [
    "#### Resultados A652\n",
    "- F1 Classe 1 antigo: 0.50\n",
    "- F1 Classe 1 novo: 0.57"
   ]
  }
 ],
 "metadata": {
  "kernelspec": {
   "display_name": "Python 3 (ipykernel)",
   "language": "python",
   "name": "python3"
  },
  "language_info": {
   "codemirror_mode": {
    "name": "ipython",
    "version": 3
   },
   "file_extension": ".py",
   "mimetype": "text/x-python",
   "name": "python",
   "nbconvert_exporter": "python",
   "pygments_lexer": "ipython3",
   "version": "3.10.13"
  }
 },
 "nbformat": 4,
 "nbformat_minor": 5
}
