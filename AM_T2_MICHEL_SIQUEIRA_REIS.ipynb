{
 "cells": [
  {
   "cell_type": "markdown",
   "id": "8db8f02a",
   "metadata": {},
   "source": [
    "Créditos: Esse notebook é adaptado dos exemplos fornecidos pelo professor Eduardo Bezerra e códigos utilizados no T1.\n",
    "- Link para o vídeo: XX"
   ]
  },
  {
   "cell_type": "markdown",
   "id": "1ed85b85",
   "metadata": {},
   "source": [
    "## Objetivo do trabalho:\n",
    "* Apresentar implementações e descrevê-las com detalhes\n",
    "* Apresentar os resultados\n",
    "* Explicar em vídeo"
   ]
  },
  {
   "cell_type": "markdown",
   "id": "ef9c9f45",
   "metadata": {},
   "source": [
    "# 1 Engenharia de Features"
   ]
  },
  {
   "cell_type": "markdown",
   "id": "045af31f",
   "metadata": {},
   "source": [
    "### Resumo:\n",
    "* Classificação | 1500 exemplos | 11 atributos | credtrain.txt\n",
    "* Preprocessamentos: ordinal + count enconding e normalização\n",
    "* Mining: GradientBoostingClassifier"
   ]
  },
  {
   "cell_type": "markdown",
   "id": "8def6a35",
   "metadata": {},
   "source": [
    "<s> Codificação Target </s>\n",
    "\n",
    "Tentei utilizar codificação target, mas não gerou nada. A seguinte informação apareceu: \"Warning: No categorical columns found. Calling 'transform' will only return input data.\""
   ]
  },
  {
   "cell_type": "markdown",
   "id": "c70ad305",
   "metadata": {},
   "source": [
    "## Seleção dos dados\n",
    "Primeiramente é necessário baixar a base de dados"
   ]
  },
  {
   "cell_type": "code",
   "execution_count": 1,
   "id": "e9cce187",
   "metadata": {},
   "outputs": [],
   "source": [
    "import pandas as pd\n",
    "nome_colunas = ['ESCT', 'NDEP', 'RENDA', 'TIPOR', 'VBEM', 'NPARC', 'VPARC', 'TEL', 'IDADE', 'RESMS', 'ENTRADA', 'CLASSE']\n",
    "data = pd.read_csv('cic1205/data/credtrain.txt', sep='\\t', names=nome_colunas)"
   ]
  },
  {
   "cell_type": "markdown",
   "id": "7231e35b",
   "metadata": {},
   "source": [
    "* O argumento **sep='\\t'** detecta separações por tab\n",
    "* O argumento **names=nome_colunas** foi utilizado para nomear as colunas. Para isso foi criada uma array com os nomes das colunas e passada para o parâmetro"
   ]
  },
  {
   "cell_type": "markdown",
   "id": "930518e6",
   "metadata": {},
   "source": [
    "## Preprocessamento\n",
    "Agora tratarei os atributos categóricos e não categóricos.\n",
    "* Categóricos: Serão codificados em novas variáveis usando ordinal e target encoding\n",
    "* Não categóricos: Serão normalizados\n",
    "* Ambos serão unidos num dataframe final"
   ]
  },
  {
   "cell_type": "code",
   "execution_count": 2,
   "id": "b22c6845",
   "metadata": {},
   "outputs": [],
   "source": [
    "# Lista de variáveis categóricas\n",
    "variaveis_categoricas = ['ESCT', 'NDEP', 'TIPOR', 'TEL']\n",
    "\n",
    "# Lista de variáveis numéricas\n",
    "variaveis_numericas = ['RENDA', 'VBEM', 'NPARC', 'VPARC', 'IDADE', 'RESMS', 'ENTRADA']\n",
    "\n",
    "# Dataframe com variaveis categoricas\n",
    "data_cat = data[variaveis_categoricas]\n",
    "\n",
    "# Dataframe com variaveis numericas\n",
    "data_num = data[variaveis_numericas]"
   ]
  },
  {
   "cell_type": "markdown",
   "id": "52b28b13",
   "metadata": {},
   "source": [
    "### Normalização"
   ]
  },
  {
   "cell_type": "code",
   "execution_count": 3,
   "id": "965416b5",
   "metadata": {},
   "outputs": [],
   "source": [
    "from sklearn.preprocessing import MinMaxScaler  # Importando biblioteca de normalização Min-Max\n",
    "scaler = MinMaxScaler()                         # Objeto que realiza a normalização\n",
    "scaler.fit(data_num)                            # Ajustando o objeto aos dados\n",
    "\n",
    "def normalizar(input_df):\n",
    "    data_num_normalized = pd.DataFrame(             # Cria um dataframe que recebe como input um ndarray (numpy)\n",
    "    scaler.transform(input_df), columns=input_df.columns # O nd-array é retornado pelo método transform\n",
    "    )\n",
    "    return data_num_normalized\n",
    "\n",
    "data_num_normalized = normalizar(data_num)"
   ]
  },
  {
   "cell_type": "markdown",
   "id": "64565e82",
   "metadata": {},
   "source": [
    "### Codificação Ordinal"
   ]
  },
  {
   "cell_type": "code",
   "execution_count": 4,
   "id": "d13a9830",
   "metadata": {},
   "outputs": [],
   "source": [
    "from sklearn.preprocessing import OrdinalEncoder\n",
    "\n",
    "# Criando o objeto codificador ordinal\n",
    "ordinal_encoder = OrdinalEncoder()\n",
    "\n",
    "# Ajustando o objeto aos dados\n",
    "ordinal_encoder.fit(data_cat)\n",
    "\n",
    "# Função para codificar os dados usando Ordinal Encoding\n",
    "def codificar_ordinal(input_df):\n",
    "    nparray_encoded = ordinal_encoder.transform(input_df)\n",
    "    data_cat_encoded = pd.DataFrame(nparray_encoded, columns=input_df.columns)\n",
    "    return data_cat_encoded\n",
    "\n",
    "# Codificando os dados\n",
    "data_cat_encoded_ordinal = codificar_ordinal(data_cat)"
   ]
  },
  {
   "cell_type": "markdown",
   "id": "fdc71583",
   "metadata": {},
   "source": [
    "### Codificação Contagem\n",
    "\n",
    "Retornará quantas vezes um elemento aparece no dataset (pode ser útil para contar eventos etc)"
   ]
  },
  {
   "cell_type": "code",
   "execution_count": 5,
   "id": "7bdb676e",
   "metadata": {},
   "outputs": [
    {
     "name": "stdout",
     "output_type": "stream",
     "text": [
      "Warning: No categorical columns found. Calling 'transform' will only return input data.\n"
     ]
    }
   ],
   "source": [
    "from category_encoders import CountEncoder\n",
    "\n",
    "# Criando o objeto codificador de contagem\n",
    "count_encoder = CountEncoder()\n",
    "\n",
    "# Ajustando o objeto aos dados\n",
    "count_encoder.fit(data_cat)\n",
    "\n",
    "# Codificando os dados\n",
    "data_cat_encoded_count = count_encoder.transform(data_cat)"
   ]
  },
  {
   "cell_type": "markdown",
   "id": "757de5eb",
   "metadata": {},
   "source": [
    "### Concatenando os dataframes preprocessados"
   ]
  },
  {
   "cell_type": "code",
   "execution_count": 6,
   "id": "079a7f13",
   "metadata": {},
   "outputs": [],
   "source": [
    "data_preprocessed_ordinal = pd.concat( [ data_cat_encoded_ordinal, data_num_normalized, data['CLASSE'] ], axis=1 )"
   ]
  },
  {
   "cell_type": "code",
   "execution_count": 7,
   "id": "d858867d",
   "metadata": {},
   "outputs": [],
   "source": [
    "data_preprocessed_count = pd.concat( [ data_cat_encoded_count, data_num_normalized, data['CLASSE'] ], axis=1 )"
   ]
  },
  {
   "cell_type": "markdown",
   "id": "6397ecbd",
   "metadata": {},
   "source": [
    "## Mineração\n",
    "\n",
    "O resultado de GradientBoosting com One-hot encoding **F1 Macro = 0.90**"
   ]
  },
  {
   "cell_type": "markdown",
   "id": "da575770",
   "metadata": {},
   "source": [
    "### Usando Ordinal encoding com GradientBoosting"
   ]
  },
  {
   "cell_type": "code",
   "execution_count": 8,
   "id": "8965b62c",
   "metadata": {},
   "outputs": [],
   "source": [
    "from sklearn.model_selection import train_test_split # Importa classe que faz amostragem (sampling)\n",
    "\n",
    "X_train, X_validation, y_train, y_validation = train_test_split(data_preprocessed_ordinal.iloc[:,:-1], # features\n",
    "                                                                data_preprocessed_ordinal.iloc[:,-1],  # labels\n",
    "                                                                test_size=0.10,                 # % do test set (10%)\n",
    "                                                                random_state=1)                # seed"
   ]
  },
  {
   "cell_type": "code",
   "execution_count": 9,
   "id": "096b443b",
   "metadata": {},
   "outputs": [
    {
     "data": {
      "text/html": [
       "<style>#sk-container-id-1 {color: black;}#sk-container-id-1 pre{padding: 0;}#sk-container-id-1 div.sk-toggleable {background-color: white;}#sk-container-id-1 label.sk-toggleable__label {cursor: pointer;display: block;width: 100%;margin-bottom: 0;padding: 0.3em;box-sizing: border-box;text-align: center;}#sk-container-id-1 label.sk-toggleable__label-arrow:before {content: \"▸\";float: left;margin-right: 0.25em;color: #696969;}#sk-container-id-1 label.sk-toggleable__label-arrow:hover:before {color: black;}#sk-container-id-1 div.sk-estimator:hover label.sk-toggleable__label-arrow:before {color: black;}#sk-container-id-1 div.sk-toggleable__content {max-height: 0;max-width: 0;overflow: hidden;text-align: left;background-color: #f0f8ff;}#sk-container-id-1 div.sk-toggleable__content pre {margin: 0.2em;color: black;border-radius: 0.25em;background-color: #f0f8ff;}#sk-container-id-1 input.sk-toggleable__control:checked~div.sk-toggleable__content {max-height: 200px;max-width: 100%;overflow: auto;}#sk-container-id-1 input.sk-toggleable__control:checked~label.sk-toggleable__label-arrow:before {content: \"▾\";}#sk-container-id-1 div.sk-estimator input.sk-toggleable__control:checked~label.sk-toggleable__label {background-color: #d4ebff;}#sk-container-id-1 div.sk-label input.sk-toggleable__control:checked~label.sk-toggleable__label {background-color: #d4ebff;}#sk-container-id-1 input.sk-hidden--visually {border: 0;clip: rect(1px 1px 1px 1px);clip: rect(1px, 1px, 1px, 1px);height: 1px;margin: -1px;overflow: hidden;padding: 0;position: absolute;width: 1px;}#sk-container-id-1 div.sk-estimator {font-family: monospace;background-color: #f0f8ff;border: 1px dotted black;border-radius: 0.25em;box-sizing: border-box;margin-bottom: 0.5em;}#sk-container-id-1 div.sk-estimator:hover {background-color: #d4ebff;}#sk-container-id-1 div.sk-parallel-item::after {content: \"\";width: 100%;border-bottom: 1px solid gray;flex-grow: 1;}#sk-container-id-1 div.sk-label:hover label.sk-toggleable__label {background-color: #d4ebff;}#sk-container-id-1 div.sk-serial::before {content: \"\";position: absolute;border-left: 1px solid gray;box-sizing: border-box;top: 0;bottom: 0;left: 50%;z-index: 0;}#sk-container-id-1 div.sk-serial {display: flex;flex-direction: column;align-items: center;background-color: white;padding-right: 0.2em;padding-left: 0.2em;position: relative;}#sk-container-id-1 div.sk-item {position: relative;z-index: 1;}#sk-container-id-1 div.sk-parallel {display: flex;align-items: stretch;justify-content: center;background-color: white;position: relative;}#sk-container-id-1 div.sk-item::before, #sk-container-id-1 div.sk-parallel-item::before {content: \"\";position: absolute;border-left: 1px solid gray;box-sizing: border-box;top: 0;bottom: 0;left: 50%;z-index: -1;}#sk-container-id-1 div.sk-parallel-item {display: flex;flex-direction: column;z-index: 1;position: relative;background-color: white;}#sk-container-id-1 div.sk-parallel-item:first-child::after {align-self: flex-end;width: 50%;}#sk-container-id-1 div.sk-parallel-item:last-child::after {align-self: flex-start;width: 50%;}#sk-container-id-1 div.sk-parallel-item:only-child::after {width: 0;}#sk-container-id-1 div.sk-dashed-wrapped {border: 1px dashed gray;margin: 0 0.4em 0.5em 0.4em;box-sizing: border-box;padding-bottom: 0.4em;background-color: white;}#sk-container-id-1 div.sk-label label {font-family: monospace;font-weight: bold;display: inline-block;line-height: 1.2em;}#sk-container-id-1 div.sk-label-container {text-align: center;}#sk-container-id-1 div.sk-container {/* jupyter's `normalize.less` sets `[hidden] { display: none; }` but bootstrap.min.css set `[hidden] { display: none !important; }` so we also need the `!important` here to be able to override the default hidden behavior on the sphinx rendered scikit-learn.org. See: https://github.com/scikit-learn/scikit-learn/issues/21755 */display: inline-block !important;position: relative;}#sk-container-id-1 div.sk-text-repr-fallback {display: none;}</style><div id=\"sk-container-id-1\" class=\"sk-top-container\"><div class=\"sk-text-repr-fallback\"><pre>GradientBoostingClassifier(random_state=1)</pre><b>In a Jupyter environment, please rerun this cell to show the HTML representation or trust the notebook. <br />On GitHub, the HTML representation is unable to render, please try loading this page with nbviewer.org.</b></div><div class=\"sk-container\" hidden><div class=\"sk-item\"><div class=\"sk-estimator sk-toggleable\"><input class=\"sk-toggleable__control sk-hidden--visually\" id=\"sk-estimator-id-1\" type=\"checkbox\" checked><label for=\"sk-estimator-id-1\" class=\"sk-toggleable__label sk-toggleable__label-arrow\">GradientBoostingClassifier</label><div class=\"sk-toggleable__content\"><pre>GradientBoostingClassifier(random_state=1)</pre></div></div></div></div></div>"
      ],
      "text/plain": [
       "GradientBoostingClassifier(random_state=1)"
      ]
     },
     "execution_count": 9,
     "metadata": {},
     "output_type": "execute_result"
    }
   ],
   "source": [
    "from sklearn.ensemble import GradientBoostingClassifier  # Importando Classe de treinamento de Aumento de Gradiente\n",
    "model = GradientBoostingClassifier(random_state=1)       # Instanciando objeto classificador\n",
    "model.fit(X_train, y_train)                              # Ajustando o modelo"
   ]
  },
  {
   "cell_type": "code",
   "execution_count": 10,
   "id": "9f928e75",
   "metadata": {},
   "outputs": [
    {
     "name": "stdout",
     "output_type": "stream",
     "text": [
      "Overfitted Accuracy: 94.07%\n"
     ]
    }
   ],
   "source": [
    "from sklearn.metrics import accuracy_score, confusion_matrix, classification_report\n",
    "\n",
    "overfitted_pred = model.predict(X_train)                # Checando se o modelo ajustou aos dados\n",
    "accuracy = accuracy_score(y_train, overfitted_pred)\n",
    "print(f\"Overfitted Accuracy: {accuracy * 100:.2f}%\")                            # Ajustando o modelo"
   ]
  },
  {
   "cell_type": "code",
   "execution_count": 11,
   "id": "d1043dec",
   "metadata": {},
   "outputs": [
    {
     "name": "stdout",
     "output_type": "stream",
     "text": [
      "Accuracy: 88.67%\n",
      "Confusion Matrix:\n",
      " [[69  3]\n",
      " [14 64]]\n",
      "Classification Report:\n",
      "               precision    recall  f1-score   support\n",
      "\n",
      "           0       0.83      0.96      0.89        72\n",
      "           1       0.96      0.82      0.88        78\n",
      "\n",
      "    accuracy                           0.89       150\n",
      "   macro avg       0.89      0.89      0.89       150\n",
      "weighted avg       0.90      0.89      0.89       150\n",
      "\n"
     ]
    }
   ],
   "source": [
    "y_pred_validation = model.predict(X_validation) # Resultados no set de validação\n",
    "\n",
    "# Evaluate the model\n",
    "accuracy = accuracy_score(y_validation, y_pred_validation)\n",
    "confusion = confusion_matrix(y_validation, y_pred_validation)\n",
    "classification_rep = classification_report(y_validation, y_pred_validation)\n",
    "\n",
    "print(f\"Accuracy: {accuracy * 100:.2f}%\")\n",
    "print(\"Confusion Matrix:\\n\", confusion)\n",
    "print(\"Classification Report:\\n\", classification_rep)"
   ]
  },
  {
   "cell_type": "markdown",
   "id": "29e80694",
   "metadata": {},
   "source": [
    "#### Preprocessamento para teste do modelo\n",
    "Como o dataset de teste está em outro arquivo (credtest.txt), será necessário repetir os passos de preprocessamento usando os objetos já treinados na fase de treinamento do modelo. Os passos são:\n",
    "* Seleção de dados\n",
    "* Separação dos atributos numéricos e categóricos\n",
    "* Utilização dos objetos de preprocessamento já criados para transformar os novos dados (scaler e codificador)\n",
    "* Junção do dataset\n",
    "* Teste final"
   ]
  },
  {
   "cell_type": "code",
   "execution_count": 12,
   "id": "a50962dd",
   "metadata": {},
   "outputs": [],
   "source": [
    "test_data = pd.read_csv('cic1205/data/credtest.txt', sep='\\t', names=nome_colunas) # Seleção de dados\n",
    "test_data_cat = test_data[variaveis_categoricas] # Separação dos atributos categóricos\n",
    "test_data_num = test_data[variaveis_numericas]   # Separação dos atributos categóricos\n",
    "test_data_cat_encoded = codificar_ordinal(test_data_cat)\n",
    "test_data_num_normalized = normalizar(test_data_num)   # Normalização\n",
    "test_data_preprocessed = pd.concat( [ test_data_cat_encoded, test_data_num_normalized, test_data['CLASSE'] ], axis=1 ) # Junção\n",
    "X_test = test_data_preprocessed.iloc[:,:-1] # Conjuntos de dados\n",
    "y_test = test_data_preprocessed.iloc[:,-1]  # Classificações"
   ]
  },
  {
   "cell_type": "code",
   "execution_count": 13,
   "id": "0c78af05",
   "metadata": {
    "scrolled": false
   },
   "outputs": [
    {
     "name": "stdout",
     "output_type": "stream",
     "text": [
      "Accuracy: 89.43%\n",
      "Confusion Matrix:\n",
      " [[293  13]\n",
      " [ 48 223]]\n",
      "Classification Report:\n",
      "               precision    recall  f1-score   support\n",
      "\n",
      "           0       0.86      0.96      0.91       306\n",
      "           1       0.94      0.82      0.88       271\n",
      "\n",
      "    accuracy                           0.89       577\n",
      "   macro avg       0.90      0.89      0.89       577\n",
      "weighted avg       0.90      0.89      0.89       577\n",
      "\n"
     ]
    }
   ],
   "source": [
    "y_pred = model.predict(X_test) # Resultados no set de testes\n",
    "\n",
    "# Evaluate the model\n",
    "accuracy = accuracy_score(y_test, y_pred)\n",
    "confusion = confusion_matrix(y_test, y_pred)\n",
    "classification_rep = classification_report(y_test, y_pred)\n",
    "\n",
    "print(f\"Accuracy: {accuracy * 100:.2f}%\")\n",
    "print(\"Confusion Matrix:\\n\", confusion)\n",
    "print(\"Classification Report:\\n\", classification_rep)"
   ]
  },
  {
   "cell_type": "markdown",
   "id": "b9ec230c",
   "metadata": {},
   "source": [
    "### Usando Count encoding com GradientBoosting"
   ]
  },
  {
   "cell_type": "code",
   "execution_count": 14,
   "id": "13d48c68",
   "metadata": {},
   "outputs": [],
   "source": [
    "from sklearn.model_selection import train_test_split # Importa classe que faz amostragem (sampling)\n",
    "\n",
    "X_train, X_validation, y_train, y_validation = train_test_split(data_preprocessed_count.iloc[:,:-1], # features\n",
    "                                                                data_preprocessed_count.iloc[:,-1],  # labels\n",
    "                                                                test_size=0.10,                 # % do test set (10%)\n",
    "                                                                random_state=1)                # seed"
   ]
  },
  {
   "cell_type": "code",
   "execution_count": 15,
   "id": "edf8f80e",
   "metadata": {},
   "outputs": [
    {
     "data": {
      "text/html": [
       "<style>#sk-container-id-2 {color: black;}#sk-container-id-2 pre{padding: 0;}#sk-container-id-2 div.sk-toggleable {background-color: white;}#sk-container-id-2 label.sk-toggleable__label {cursor: pointer;display: block;width: 100%;margin-bottom: 0;padding: 0.3em;box-sizing: border-box;text-align: center;}#sk-container-id-2 label.sk-toggleable__label-arrow:before {content: \"▸\";float: left;margin-right: 0.25em;color: #696969;}#sk-container-id-2 label.sk-toggleable__label-arrow:hover:before {color: black;}#sk-container-id-2 div.sk-estimator:hover label.sk-toggleable__label-arrow:before {color: black;}#sk-container-id-2 div.sk-toggleable__content {max-height: 0;max-width: 0;overflow: hidden;text-align: left;background-color: #f0f8ff;}#sk-container-id-2 div.sk-toggleable__content pre {margin: 0.2em;color: black;border-radius: 0.25em;background-color: #f0f8ff;}#sk-container-id-2 input.sk-toggleable__control:checked~div.sk-toggleable__content {max-height: 200px;max-width: 100%;overflow: auto;}#sk-container-id-2 input.sk-toggleable__control:checked~label.sk-toggleable__label-arrow:before {content: \"▾\";}#sk-container-id-2 div.sk-estimator input.sk-toggleable__control:checked~label.sk-toggleable__label {background-color: #d4ebff;}#sk-container-id-2 div.sk-label input.sk-toggleable__control:checked~label.sk-toggleable__label {background-color: #d4ebff;}#sk-container-id-2 input.sk-hidden--visually {border: 0;clip: rect(1px 1px 1px 1px);clip: rect(1px, 1px, 1px, 1px);height: 1px;margin: -1px;overflow: hidden;padding: 0;position: absolute;width: 1px;}#sk-container-id-2 div.sk-estimator {font-family: monospace;background-color: #f0f8ff;border: 1px dotted black;border-radius: 0.25em;box-sizing: border-box;margin-bottom: 0.5em;}#sk-container-id-2 div.sk-estimator:hover {background-color: #d4ebff;}#sk-container-id-2 div.sk-parallel-item::after {content: \"\";width: 100%;border-bottom: 1px solid gray;flex-grow: 1;}#sk-container-id-2 div.sk-label:hover label.sk-toggleable__label {background-color: #d4ebff;}#sk-container-id-2 div.sk-serial::before {content: \"\";position: absolute;border-left: 1px solid gray;box-sizing: border-box;top: 0;bottom: 0;left: 50%;z-index: 0;}#sk-container-id-2 div.sk-serial {display: flex;flex-direction: column;align-items: center;background-color: white;padding-right: 0.2em;padding-left: 0.2em;position: relative;}#sk-container-id-2 div.sk-item {position: relative;z-index: 1;}#sk-container-id-2 div.sk-parallel {display: flex;align-items: stretch;justify-content: center;background-color: white;position: relative;}#sk-container-id-2 div.sk-item::before, #sk-container-id-2 div.sk-parallel-item::before {content: \"\";position: absolute;border-left: 1px solid gray;box-sizing: border-box;top: 0;bottom: 0;left: 50%;z-index: -1;}#sk-container-id-2 div.sk-parallel-item {display: flex;flex-direction: column;z-index: 1;position: relative;background-color: white;}#sk-container-id-2 div.sk-parallel-item:first-child::after {align-self: flex-end;width: 50%;}#sk-container-id-2 div.sk-parallel-item:last-child::after {align-self: flex-start;width: 50%;}#sk-container-id-2 div.sk-parallel-item:only-child::after {width: 0;}#sk-container-id-2 div.sk-dashed-wrapped {border: 1px dashed gray;margin: 0 0.4em 0.5em 0.4em;box-sizing: border-box;padding-bottom: 0.4em;background-color: white;}#sk-container-id-2 div.sk-label label {font-family: monospace;font-weight: bold;display: inline-block;line-height: 1.2em;}#sk-container-id-2 div.sk-label-container {text-align: center;}#sk-container-id-2 div.sk-container {/* jupyter's `normalize.less` sets `[hidden] { display: none; }` but bootstrap.min.css set `[hidden] { display: none !important; }` so we also need the `!important` here to be able to override the default hidden behavior on the sphinx rendered scikit-learn.org. See: https://github.com/scikit-learn/scikit-learn/issues/21755 */display: inline-block !important;position: relative;}#sk-container-id-2 div.sk-text-repr-fallback {display: none;}</style><div id=\"sk-container-id-2\" class=\"sk-top-container\"><div class=\"sk-text-repr-fallback\"><pre>GradientBoostingClassifier(random_state=1)</pre><b>In a Jupyter environment, please rerun this cell to show the HTML representation or trust the notebook. <br />On GitHub, the HTML representation is unable to render, please try loading this page with nbviewer.org.</b></div><div class=\"sk-container\" hidden><div class=\"sk-item\"><div class=\"sk-estimator sk-toggleable\"><input class=\"sk-toggleable__control sk-hidden--visually\" id=\"sk-estimator-id-2\" type=\"checkbox\" checked><label for=\"sk-estimator-id-2\" class=\"sk-toggleable__label sk-toggleable__label-arrow\">GradientBoostingClassifier</label><div class=\"sk-toggleable__content\"><pre>GradientBoostingClassifier(random_state=1)</pre></div></div></div></div></div>"
      ],
      "text/plain": [
       "GradientBoostingClassifier(random_state=1)"
      ]
     },
     "execution_count": 15,
     "metadata": {},
     "output_type": "execute_result"
    }
   ],
   "source": [
    "from sklearn.ensemble import GradientBoostingClassifier  # Importando Classe de treinamento de Aumento de Gradiente\n",
    "model = GradientBoostingClassifier(random_state=1)       # Instanciando objeto classificador\n",
    "model.fit(X_train, y_train)                              # Ajustando o modelo"
   ]
  },
  {
   "cell_type": "code",
   "execution_count": 16,
   "id": "e8e45f52",
   "metadata": {},
   "outputs": [
    {
     "name": "stdout",
     "output_type": "stream",
     "text": [
      "Overfitted Accuracy: 94.07%\n"
     ]
    }
   ],
   "source": [
    "from sklearn.metrics import accuracy_score, confusion_matrix, classification_report\n",
    "\n",
    "overfitted_pred = model.predict(X_train)                # Checando se o modelo ajustou aos dados\n",
    "accuracy = accuracy_score(y_train, overfitted_pred)\n",
    "print(f\"Overfitted Accuracy: {accuracy * 100:.2f}%\")                            # Ajustando o modelo"
   ]
  },
  {
   "cell_type": "code",
   "execution_count": 17,
   "id": "591490dc",
   "metadata": {},
   "outputs": [
    {
     "name": "stdout",
     "output_type": "stream",
     "text": [
      "Accuracy: 88.67%\n",
      "Confusion Matrix:\n",
      " [[69  3]\n",
      " [14 64]]\n",
      "Classification Report:\n",
      "               precision    recall  f1-score   support\n",
      "\n",
      "           0       0.83      0.96      0.89        72\n",
      "           1       0.96      0.82      0.88        78\n",
      "\n",
      "    accuracy                           0.89       150\n",
      "   macro avg       0.89      0.89      0.89       150\n",
      "weighted avg       0.90      0.89      0.89       150\n",
      "\n"
     ]
    }
   ],
   "source": [
    "y_pred_validation = model.predict(X_validation) # Resultados no set de validação\n",
    "\n",
    "# Evaluate the model\n",
    "accuracy = accuracy_score(y_validation, y_pred_validation)\n",
    "confusion = confusion_matrix(y_validation, y_pred_validation)\n",
    "classification_rep = classification_report(y_validation, y_pred_validation)\n",
    "\n",
    "print(f\"Accuracy: {accuracy * 100:.2f}%\")\n",
    "print(\"Confusion Matrix:\\n\", confusion)\n",
    "print(\"Classification Report:\\n\", classification_rep)"
   ]
  },
  {
   "cell_type": "markdown",
   "id": "e30a7add",
   "metadata": {},
   "source": [
    "#### Preprocessamento para teste do modelo\n",
    "Como o dataset de teste está em outro arquivo (credtest.txt), será necessário repetir os passos de preprocessamento usando os objetos já treinados na fase de treinamento do modelo. Os passos são:\n",
    "* Seleção de dados\n",
    "* Separação dos atributos numéricos e categóricos\n",
    "* Utilização dos objetos de preprocessamento já criados para transformar os novos dados (scaler e codificador)\n",
    "* Junção do dataset\n",
    "* Teste final"
   ]
  },
  {
   "cell_type": "code",
   "execution_count": 18,
   "id": "ef972ead",
   "metadata": {},
   "outputs": [],
   "source": [
    "test_data = pd.read_csv('cic1205/data/credtest.txt', sep='\\t', names=nome_colunas) # Seleção de dados\n",
    "test_data_cat = test_data[variaveis_categoricas] # Separação dos atributos categóricos\n",
    "test_data_num = test_data[variaveis_numericas]   # Separação dos atributos categóricos\n",
    "test_data_cat_encoded = count_encoder.transform(test_data_cat)\n",
    "test_data_num_normalized = normalizar(test_data_num)   # Normalização\n",
    "test_data_preprocessed = pd.concat( [ test_data_cat_encoded, test_data_num_normalized, test_data['CLASSE'] ], axis=1 ) # Junção\n",
    "X_test = test_data_preprocessed.iloc[:,:-1] # Conjuntos de dados\n",
    "y_test = test_data_preprocessed.iloc[:,-1]  # Classificações"
   ]
  },
  {
   "cell_type": "code",
   "execution_count": 19,
   "id": "953b71fd",
   "metadata": {
    "scrolled": false
   },
   "outputs": [
    {
     "name": "stdout",
     "output_type": "stream",
     "text": [
      "Accuracy: 89.43%\n",
      "Confusion Matrix:\n",
      " [[293  13]\n",
      " [ 48 223]]\n",
      "Classification Report:\n",
      "               precision    recall  f1-score   support\n",
      "\n",
      "           0       0.86      0.96      0.91       306\n",
      "           1       0.94      0.82      0.88       271\n",
      "\n",
      "    accuracy                           0.89       577\n",
      "   macro avg       0.90      0.89      0.89       577\n",
      "weighted avg       0.90      0.89      0.89       577\n",
      "\n"
     ]
    }
   ],
   "source": [
    "y_pred = model.predict(X_test) # Resultados no set de testes\n",
    "\n",
    "# Evaluate the model\n",
    "accuracy = accuracy_score(y_test, y_pred)\n",
    "confusion = confusion_matrix(y_test, y_pred)\n",
    "classification_rep = classification_report(y_test, y_pred)\n",
    "\n",
    "print(f\"Accuracy: {accuracy * 100:.2f}%\")\n",
    "print(\"Confusion Matrix:\\n\", confusion)\n",
    "print(\"Classification Report:\\n\", classification_rep)"
   ]
  },
  {
   "cell_type": "markdown",
   "id": "e3f320ce",
   "metadata": {},
   "source": [
    "### Análise comparativa de resultados (F1-Macro avg):\n",
    "- One-hot encoding: 0.90\n",
    "- Ordinal encoding: 0.89\n",
    "- Count encoding: 0.89"
   ]
  },
  {
   "cell_type": "markdown",
   "id": "163c765c",
   "metadata": {},
   "source": [
    "# 2 Validação Cruzada"
   ]
  },
  {
   "cell_type": "markdown",
   "id": "40aefbdd",
   "metadata": {},
   "source": [
    "### Resumo:\n",
    "* Classificação | A602.pickle, A621.pickle, A627.pickle, A636.pickle, A652.pickle\n",
    "* Preprocessamentos: binarização\n",
    "* Mining: GradientBoostingClassifier com CrossValidation\n",
    "* Tarefa: Hyperparameter Tunning com Stritified5Fold Validation"
   ]
  },
  {
   "cell_type": "code",
   "execution_count": 20,
   "id": "e6299da6",
   "metadata": {},
   "outputs": [],
   "source": [
    "import numpy as np\n",
    "import pickle\n",
    "fileA602 = open('cic1205/data/atmoseer/A602.pickle' , 'rb')\n",
    "fileA621 = open('cic1205/data/atmoseer/A621.pickle' , 'rb')\n",
    "fileA627 = open('cic1205/data/atmoseer/A627.pickle' , 'rb')\n",
    "fileA636 = open('cic1205/data/atmoseer/A636.pickle' , 'rb')\n",
    "fileA652 = open('cic1205/data/atmoseer/A652.pickle' , 'rb')"
   ]
  },
  {
   "cell_type": "markdown",
   "id": "ee651e32",
   "metadata": {},
   "source": [
    "### Dataset A602"
   ]
  },
  {
   "cell_type": "code",
   "execution_count": 21,
   "id": "d5c235db",
   "metadata": {},
   "outputs": [],
   "source": [
    "(X_train , y_train , X_val , y_val , X_test , y_test) = pickle.load(fileA602)"
   ]
  },
  {
   "cell_type": "code",
   "execution_count": 22,
   "id": "e456eea5",
   "metadata": {},
   "outputs": [],
   "source": [
    "#Unindo dataset de treino e validação\n",
    "X_train = np.concatenate([X_train, X_val], axis=0)\n",
    "y_train = np.concatenate([y_train, y_val])\n",
    "\n",
    "# Preprocessamento (Botando 1 tudo que é diferente de 0 como informado no grupo)\n",
    "y_train[y_train != 0] = 1\n",
    "y_test[y_test != 0] = 1\n",
    "# Transformando 2D array em 1D array\n",
    "y_train = y_train.flatten()\n",
    "y_test = y_test.flatten()"
   ]
  },
  {
   "cell_type": "code",
   "execution_count": 23,
   "id": "ffd1b654",
   "metadata": {},
   "outputs": [
    {
     "name": "stdout",
     "output_type": "stream",
     "text": [
      "Best Hyperparameters: {'subsample': 1.0, 'n_estimators': 50, 'min_samples_split': 2, 'min_samples_leaf': 3, 'max_depth': 3, 'learning_rate': 0.1}\n"
     ]
    }
   ],
   "source": [
    "from sklearn.model_selection import RandomizedSearchCV, StratifiedKFold\n",
    "from sklearn.ensemble import GradientBoostingClassifier\n",
    "\n",
    "model = GradientBoostingClassifier()\n",
    "cv = StratifiedKFold(n_splits=5, shuffle=True, random_state=42) # 5 folds\n",
    "\n",
    "# Definindo parametros\n",
    "param_dist = {\n",
    "    'n_estimators': [25, 50, 100],\n",
    "    'learning_rate': [0.01, 0.1, 1],\n",
    "    'max_depth': [2, 3, 4],\n",
    "    'min_samples_split': [2],\n",
    "    'min_samples_leaf': [3, 4, 6],\n",
    "    'subsample': [0.3, 0.6, 1.0]\n",
    "}\n",
    "\n",
    "# Busca randômica\n",
    "random_search = RandomizedSearchCV(\n",
    "    model,\n",
    "    param_distributions=param_dist,\n",
    "    n_iter=10,\n",
    "    scoring='accuracy',\n",
    "    cv=cv,\n",
    "    random_state=42\n",
    ")\n",
    "\n",
    "# Fit the randomized search to the data\n",
    "random_search.fit(X_train, y_train)\n",
    "\n",
    "# Get the best hyperparameters\n",
    "best_params = random_search.best_params_\n",
    "print(\"Best Hyperparameters:\", best_params)\n",
    "\n",
    "# Get the best model\n",
    "best_model = random_search.best_estimator_\n"
   ]
  },
  {
   "cell_type": "markdown",
   "id": "0e359df9",
   "metadata": {},
   "source": [
    "**Busca 1**:\n",
    "Best Hyperparameters: {'subsample': 1.0, 'n_estimators': 50, 'min_samples_split': 2, 'min_samples_leaf': 4, 'max_depth': 3, 'learning_rate': 0.1}\n",
    "\n",
    "**Busca 2**:\n",
    "Best Hyperparameters: {'subsample': 1.0, 'n_estimators': 50, 'min_samples_split': 2, 'min_samples_leaf': 3, 'max_depth': 3, 'learning_rate': 0.1}"
   ]
  },
  {
   "cell_type": "code",
   "execution_count": 24,
   "id": "c337d9f0",
   "metadata": {},
   "outputs": [
    {
     "name": "stdout",
     "output_type": "stream",
     "text": [
      "Accuracy: 88.89%\n",
      "Confusion Matrix:\n",
      " [[633  40]\n",
      " [ 45  47]]\n",
      "Classification Report:\n",
      "               precision    recall  f1-score   support\n",
      "\n",
      "         0.0       0.93      0.94      0.94       673\n",
      "         1.0       0.54      0.51      0.53        92\n",
      "\n",
      "    accuracy                           0.89       765\n",
      "   macro avg       0.74      0.73      0.73       765\n",
      "weighted avg       0.89      0.89      0.89       765\n",
      "\n"
     ]
    }
   ],
   "source": [
    "# Predição\n",
    "y_pred = best_model.predict(X_test)\n",
    "\n",
    "# Classification report conforme requisitado\n",
    "accuracy = accuracy_score(y_test, y_pred)\n",
    "confusion = confusion_matrix(y_test, y_pred)\n",
    "classification_rep = classification_report(y_test, y_pred)\n",
    "\n",
    "print(f\"Accuracy: {accuracy * 100:.2f}%\")\n",
    "print(\"Confusion Matrix:\\n\", confusion)\n",
    "print(\"Classification Report:\\n\", classification_rep)"
   ]
  },
  {
   "cell_type": "markdown",
   "id": "adb692b5",
   "metadata": {},
   "source": [
    "#### Resultados A602\n",
    "- F1 Classe 1 antigo: 0.54\n",
    "- F1 Classe 1 novo: 0.53"
   ]
  },
  {
   "cell_type": "markdown",
   "id": "f617b72e",
   "metadata": {},
   "source": [
    "### Dataset A621"
   ]
  },
  {
   "cell_type": "code",
   "execution_count": 25,
   "id": "afa533ba",
   "metadata": {},
   "outputs": [],
   "source": [
    "(X_train , y_train , X_val , y_val , X_test , y_test) = pickle.load(fileA621)"
   ]
  },
  {
   "cell_type": "code",
   "execution_count": 26,
   "id": "f598dbc4",
   "metadata": {},
   "outputs": [],
   "source": [
    "#Unindo dataset de treino e validação\n",
    "X_train = np.concatenate([X_train, X_val], axis=0)\n",
    "y_train = np.concatenate([y_train, y_val])\n",
    "\n",
    "# Preprocessamento (Botando 1 tudo que é diferente de 0 como informado no grupo)\n",
    "y_train[y_train != 0] = 1\n",
    "y_test[y_test != 0] = 1\n",
    "# Transformando 2D array em 1D array\n",
    "y_train = y_train.flatten()\n",
    "y_test = y_test.flatten()"
   ]
  },
  {
   "cell_type": "code",
   "execution_count": 27,
   "id": "68a0befb",
   "metadata": {},
   "outputs": [
    {
     "name": "stdout",
     "output_type": "stream",
     "text": [
      "Best Hyperparameters: {'subsample': 1.0, 'n_estimators': 50, 'min_samples_split': 2, 'min_samples_leaf': 3, 'max_depth': 3, 'learning_rate': 0.1}\n"
     ]
    }
   ],
   "source": [
    "from sklearn.model_selection import RandomizedSearchCV, StratifiedKFold\n",
    "from sklearn.ensemble import GradientBoostingClassifier\n",
    "\n",
    "model = GradientBoostingClassifier()\n",
    "cv = StratifiedKFold(n_splits=5, shuffle=True, random_state=42) # 5 folds\n",
    "\n",
    "# Definindo parametros\n",
    "param_dist = {\n",
    "    'n_estimators': [25, 50, 100],\n",
    "    'learning_rate': [0.01, 0.1, 1],\n",
    "    'max_depth': [2, 3, 4],\n",
    "    'min_samples_split': [2],\n",
    "    'min_samples_leaf': [3, 4, 6],\n",
    "    'subsample': [0.3, 0.6, 1.0]\n",
    "}\n",
    "\n",
    "# Busca randômica\n",
    "random_search = RandomizedSearchCV(\n",
    "    model,\n",
    "    param_distributions=param_dist,\n",
    "    n_iter=10,\n",
    "    scoring='accuracy',\n",
    "    cv=cv,\n",
    "    random_state=42\n",
    ")\n",
    "\n",
    "# Hora do treinamento\n",
    "random_search.fit(X_train, y_train)\n",
    "\n",
    "# Informar melhores parâmetros\n",
    "best_params = random_search.best_params_\n",
    "print(\"Best Hyperparameters:\", best_params)\n",
    "\n",
    "# Setar um modelo com os melhores parâmetros\n",
    "best_model = random_search.best_estimator_\n"
   ]
  },
  {
   "cell_type": "markdown",
   "id": "e00c790f",
   "metadata": {},
   "source": [
    "**Busca 1**:\n",
    "Best Hyperparameters: {'subsample': 1.0, 'n_estimators': 50, 'min_samples_split': 2, 'min_samples_leaf': 4, 'max_depth': 3, 'learning_rate': 0.1}\n",
    "\n",
    "**Busca 2**:\n",
    "Best Hyperparameters: {'subsample': 1.0, 'n_estimators': 50, 'min_samples_split': 2, 'min_samples_leaf': 3, 'max_depth': 3, 'learning_rate': 0.1}\n",
    "\n",
    "**Busca 3**: Mesmo que busca 2"
   ]
  },
  {
   "cell_type": "code",
   "execution_count": 28,
   "id": "e8ebed4d",
   "metadata": {},
   "outputs": [
    {
     "name": "stdout",
     "output_type": "stream",
     "text": [
      "Accuracy: 93.24%\n",
      "Confusion Matrix:\n",
      " [[8943  204]\n",
      " [ 477  456]]\n",
      "Classification Report:\n",
      "               precision    recall  f1-score   support\n",
      "\n",
      "         0.0       0.95      0.98      0.96      9147\n",
      "         1.0       0.69      0.49      0.57       933\n",
      "\n",
      "    accuracy                           0.93     10080\n",
      "   macro avg       0.82      0.73      0.77     10080\n",
      "weighted avg       0.93      0.93      0.93     10080\n",
      "\n"
     ]
    }
   ],
   "source": [
    "# Predição\n",
    "y_pred = best_model.predict(X_test)\n",
    "\n",
    "# Classification report conforme requisitado\n",
    "accuracy = accuracy_score(y_test, y_pred)\n",
    "confusion = confusion_matrix(y_test, y_pred)\n",
    "classification_rep = classification_report(y_test, y_pred)\n",
    "\n",
    "print(f\"Accuracy: {accuracy * 100:.2f}%\")\n",
    "print(\"Confusion Matrix:\\n\", confusion)\n",
    "print(\"Classification Report:\\n\", classification_rep)"
   ]
  },
  {
   "cell_type": "markdown",
   "id": "bd15d3af",
   "metadata": {},
   "source": [
    "#### Resultados A621\n",
    "- F1 Classe 1 antigo: 0.58\n",
    "- F1 Classe 1 novo: 0.57"
   ]
  },
  {
   "cell_type": "markdown",
   "id": "7077070e",
   "metadata": {},
   "source": [
    "### Dataset A627"
   ]
  },
  {
   "cell_type": "code",
   "execution_count": 29,
   "id": "01904cc8",
   "metadata": {},
   "outputs": [],
   "source": [
    "(X_train , y_train , X_val , y_val , X_test , y_test) = pickle.load(fileA627)"
   ]
  },
  {
   "cell_type": "code",
   "execution_count": 30,
   "id": "2bd6fdba",
   "metadata": {},
   "outputs": [],
   "source": [
    "#Unindo dataset de treino e validação\n",
    "X_train = np.concatenate([X_train, X_val], axis=0)\n",
    "y_train = np.concatenate([y_train, y_val])\n",
    "\n",
    "# Preprocessamento (Botando 1 tudo que é diferente de 0 como informado no grupo)\n",
    "y_train[y_train != 0] = 1\n",
    "y_test[y_test != 0] = 1\n",
    "# Transformando 2D array em 1D array\n",
    "y_train = y_train.flatten()\n",
    "y_test = y_test.flatten()"
   ]
  },
  {
   "cell_type": "code",
   "execution_count": 31,
   "id": "b88a85e0",
   "metadata": {},
   "outputs": [
    {
     "name": "stdout",
     "output_type": "stream",
     "text": [
      "Best Hyperparameters: {'subsample': 0.6, 'n_estimators': 25, 'min_samples_split': 2, 'min_samples_leaf': 3, 'max_depth': 2, 'learning_rate': 0.1}\n"
     ]
    }
   ],
   "source": [
    "from sklearn.model_selection import RandomizedSearchCV, StratifiedKFold\n",
    "from sklearn.ensemble import GradientBoostingClassifier\n",
    "\n",
    "model = GradientBoostingClassifier()\n",
    "cv = StratifiedKFold(n_splits=5, shuffle=True, random_state=42) # 5 folds\n",
    "\n",
    "# Definindo parametros\n",
    "param_dist = {\n",
    "    'n_estimators': [25, 50, 100],\n",
    "    'learning_rate': [0.1, 1],\n",
    "    'max_depth': [2, 3, 4],\n",
    "    'min_samples_split': [2],\n",
    "    'min_samples_leaf': [3, 4],\n",
    "    'subsample': [0.6, 1.0]\n",
    "}\n",
    "\n",
    "# Busca randômica\n",
    "random_search = RandomizedSearchCV(\n",
    "    model,\n",
    "    param_distributions=param_dist,\n",
    "    n_iter=10,\n",
    "    scoring='accuracy',\n",
    "    cv=cv,\n",
    "    random_state=42\n",
    ")\n",
    "\n",
    "# Hora do treinamento\n",
    "random_search.fit(X_train, y_train)\n",
    "\n",
    "# Informar melhores parâmetros\n",
    "best_params = random_search.best_params_\n",
    "print(\"Best Hyperparameters:\", best_params)\n",
    "\n",
    "# Setar um modelo com os melhores parâmetros\n",
    "best_model = random_search.best_estimator_\n"
   ]
  },
  {
   "cell_type": "markdown",
   "id": "72c28a0c",
   "metadata": {},
   "source": [
    "**Best Hyperparameters**: {'subsample': 0.6, 'n_estimators': 25, 'min_samples_split': 2, 'min_samples_leaf': 3, 'max_depth': 3, 'learning_rate': 0.1}"
   ]
  },
  {
   "cell_type": "code",
   "execution_count": 32,
   "id": "c268af65",
   "metadata": {},
   "outputs": [
    {
     "name": "stdout",
     "output_type": "stream",
     "text": [
      "Accuracy: 93.21%\n",
      "Confusion Matrix:\n",
      " [[8902  298]\n",
      " [ 395  607]]\n",
      "Classification Report:\n",
      "               precision    recall  f1-score   support\n",
      "\n",
      "         0.0       0.96      0.97      0.96      9200\n",
      "         1.0       0.67      0.61      0.64      1002\n",
      "\n",
      "    accuracy                           0.93     10202\n",
      "   macro avg       0.81      0.79      0.80     10202\n",
      "weighted avg       0.93      0.93      0.93     10202\n",
      "\n"
     ]
    }
   ],
   "source": [
    "# Predição\n",
    "y_pred = best_model.predict(X_test)\n",
    "\n",
    "# Classification report conforme requisitado\n",
    "accuracy = accuracy_score(y_test, y_pred)\n",
    "confusion = confusion_matrix(y_test, y_pred)\n",
    "classification_rep = classification_report(y_test, y_pred)\n",
    "\n",
    "print(f\"Accuracy: {accuracy * 100:.2f}%\")\n",
    "print(\"Confusion Matrix:\\n\", confusion)\n",
    "print(\"Classification Report:\\n\", classification_rep)"
   ]
  },
  {
   "cell_type": "markdown",
   "id": "fd9bffff",
   "metadata": {},
   "source": [
    "#### Resultados A627\n",
    "- F1 Classe 1 antigo: 0.62\n",
    "- F1 Classe 1 novo: 0.63"
   ]
  },
  {
   "cell_type": "markdown",
   "id": "a3e836b0",
   "metadata": {},
   "source": [
    "### Dataset A636"
   ]
  },
  {
   "cell_type": "code",
   "execution_count": 33,
   "id": "1928cafc",
   "metadata": {},
   "outputs": [],
   "source": [
    "(X_train , y_train , X_val , y_val , X_test , y_test) = pickle.load(fileA636)"
   ]
  },
  {
   "cell_type": "code",
   "execution_count": 34,
   "id": "7be23ca7",
   "metadata": {},
   "outputs": [],
   "source": [
    "#Unindo dataset de treino e validação\n",
    "X_train = np.concatenate([X_train, X_val], axis=0)\n",
    "y_train = np.concatenate([y_train, y_val])\n",
    "\n",
    "# Preprocessamento (Botando 1 tudo que é diferente de 0 como informado no grupo)\n",
    "y_train[y_train != 0] = 1\n",
    "y_test[y_test != 0] = 1\n",
    "# Transformando 2D array em 1D array\n",
    "y_train = y_train.flatten()\n",
    "y_test = y_test.flatten()"
   ]
  },
  {
   "cell_type": "code",
   "execution_count": 35,
   "id": "4c06cccb",
   "metadata": {},
   "outputs": [
    {
     "name": "stdout",
     "output_type": "stream",
     "text": [
      "Best Hyperparameters: {'subsample': 0.6, 'n_estimators': 25, 'min_samples_split': 2, 'min_samples_leaf': 3, 'max_depth': 2, 'learning_rate': 0.1}\n"
     ]
    }
   ],
   "source": [
    "from sklearn.model_selection import RandomizedSearchCV, StratifiedKFold\n",
    "from sklearn.ensemble import GradientBoostingClassifier\n",
    "\n",
    "model = GradientBoostingClassifier()\n",
    "cv = StratifiedKFold(n_splits=5, shuffle=True, random_state=42) # 5 folds\n",
    "\n",
    "# Definindo parametros\n",
    "param_dist = {\n",
    "    'n_estimators': [25, 50, 100],\n",
    "    'learning_rate': [0.1, 1],\n",
    "    'max_depth': [2, 3, 4],\n",
    "    'min_samples_split': [2],\n",
    "    'min_samples_leaf': [3, 4],\n",
    "    'subsample': [0.6, 1.0]\n",
    "}\n",
    "\n",
    "# Busca randômica\n",
    "random_search = RandomizedSearchCV(\n",
    "    model,\n",
    "    param_distributions=param_dist,\n",
    "    n_iter=10,\n",
    "    scoring='accuracy',\n",
    "    cv=cv,\n",
    "    random_state=42\n",
    ")\n",
    "\n",
    "# Hora do treinamento\n",
    "random_search.fit(X_train, y_train)\n",
    "\n",
    "# Informar melhores parâmetros\n",
    "best_params = random_search.best_params_\n",
    "print(\"Best Hyperparameters:\", best_params)\n",
    "\n",
    "# Setar um modelo com os melhores parâmetros\n",
    "best_model = random_search.best_estimator_\n"
   ]
  },
  {
   "cell_type": "markdown",
   "id": "d09b0fab",
   "metadata": {},
   "source": [
    "**Best Hyperparameters**: {'subsample': 0.6, 'n_estimators': 25, 'min_samples_split': 2, 'min_samples_leaf': 3, 'max_depth': 2, 'learning_rate': 0.1}"
   ]
  },
  {
   "cell_type": "code",
   "execution_count": 36,
   "id": "3a54dae0",
   "metadata": {},
   "outputs": [
    {
     "name": "stdout",
     "output_type": "stream",
     "text": [
      "Accuracy: 92.52%\n",
      "Confusion Matrix:\n",
      " [[8832  185]\n",
      " [ 573  539]]\n",
      "Classification Report:\n",
      "               precision    recall  f1-score   support\n",
      "\n",
      "         0.0       0.94      0.98      0.96      9017\n",
      "         1.0       0.74      0.48      0.59      1112\n",
      "\n",
      "    accuracy                           0.93     10129\n",
      "   macro avg       0.84      0.73      0.77     10129\n",
      "weighted avg       0.92      0.93      0.92     10129\n",
      "\n"
     ]
    }
   ],
   "source": [
    "# Predição\n",
    "y_pred = best_model.predict(X_test)\n",
    "\n",
    "# Classification report conforme requisitado\n",
    "accuracy = accuracy_score(y_test, y_pred)\n",
    "confusion = confusion_matrix(y_test, y_pred)\n",
    "classification_rep = classification_report(y_test, y_pred)\n",
    "\n",
    "print(f\"Accuracy: {accuracy * 100:.2f}%\")\n",
    "print(\"Confusion Matrix:\\n\", confusion)\n",
    "print(\"Classification Report:\\n\", classification_rep)"
   ]
  },
  {
   "cell_type": "markdown",
   "id": "b5ff2bb1",
   "metadata": {},
   "source": [
    "#### Resultados A636\n",
    "- F1 Classe 1 antigo: 0.62\n",
    "- F1 Classe 1 novo: 0.57"
   ]
  },
  {
   "cell_type": "markdown",
   "id": "217a05dc",
   "metadata": {},
   "source": [
    "### Dataset A652"
   ]
  },
  {
   "cell_type": "code",
   "execution_count": 37,
   "id": "b62498a5",
   "metadata": {},
   "outputs": [],
   "source": [
    "(X_train , y_train , X_val , y_val , X_test , y_test) = pickle.load(fileA652)"
   ]
  },
  {
   "cell_type": "code",
   "execution_count": 38,
   "id": "08550e7c",
   "metadata": {},
   "outputs": [],
   "source": [
    "#Unindo dataset de treino e validação\n",
    "X_train = np.concatenate([X_train, X_val], axis=0)\n",
    "y_train = np.concatenate([y_train, y_val])\n",
    "\n",
    "# Preprocessamento (Botando 1 tudo que é diferente de 0 como informado no grupo)\n",
    "y_train[y_train != 0] = 1\n",
    "y_test[y_test != 0] = 1\n",
    "# Transformando 2D array em 1D array\n",
    "y_train = y_train.flatten()\n",
    "y_test = y_test.flatten()"
   ]
  },
  {
   "cell_type": "code",
   "execution_count": 39,
   "id": "e1dfa366",
   "metadata": {},
   "outputs": [
    {
     "name": "stdout",
     "output_type": "stream",
     "text": [
      "Best Hyperparameters: {'subsample': 0.6, 'n_estimators': 25, 'min_samples_split': 2, 'min_samples_leaf': 3, 'max_depth': 3, 'learning_rate': 0.1}\n"
     ]
    }
   ],
   "source": [
    "from sklearn.model_selection import RandomizedSearchCV, StratifiedKFold\n",
    "from sklearn.ensemble import GradientBoostingClassifier\n",
    "\n",
    "model = GradientBoostingClassifier()\n",
    "cv = StratifiedKFold(n_splits=5, shuffle=True, random_state=42) # 5 folds\n",
    "\n",
    "# Definindo parametros\n",
    "param_dist = {\n",
    "    'n_estimators': [25, 50, 100],\n",
    "    'learning_rate': [0.1, 1],\n",
    "    'max_depth': [2, 3, 4],\n",
    "    'min_samples_split': [2],\n",
    "    'min_samples_leaf': [3, 4],\n",
    "    'subsample': [0.6, 1.0]\n",
    "}\n",
    "\n",
    "# Busca randômica\n",
    "random_search = RandomizedSearchCV(\n",
    "    model,\n",
    "    param_distributions=param_dist,\n",
    "    n_iter=10,\n",
    "    scoring='accuracy',\n",
    "    cv=cv,\n",
    "    random_state=42\n",
    ")\n",
    "\n",
    "# Hora do treinamento\n",
    "random_search.fit(X_train, y_train)\n",
    "\n",
    "# Informar melhores parâmetros\n",
    "best_params = random_search.best_params_\n",
    "print(\"Best Hyperparameters:\", best_params)\n",
    "\n",
    "# Setar um modelo com os melhores parâmetros\n",
    "best_model = random_search.best_estimator_\n"
   ]
  },
  {
   "cell_type": "markdown",
   "id": "f41c8f05",
   "metadata": {},
   "source": [
    "**Best Hyperparameters**: {'subsample': 0.6, 'n_estimators': 25, 'min_samples_split': 2, 'min_samples_leaf': 3, 'max_depth': 2, 'learning_rate': 0.1}"
   ]
  },
  {
   "cell_type": "code",
   "execution_count": 40,
   "id": "aac1a8ca",
   "metadata": {},
   "outputs": [
    {
     "name": "stdout",
     "output_type": "stream",
     "text": [
      "Accuracy: 93.55%\n",
      "Confusion Matrix:\n",
      " [[8711   58]\n",
      " [ 560  253]]\n",
      "Classification Report:\n",
      "               precision    recall  f1-score   support\n",
      "\n",
      "         0.0       0.94      0.99      0.97      8769\n",
      "         1.0       0.81      0.31      0.45       813\n",
      "\n",
      "    accuracy                           0.94      9582\n",
      "   macro avg       0.88      0.65      0.71      9582\n",
      "weighted avg       0.93      0.94      0.92      9582\n",
      "\n"
     ]
    }
   ],
   "source": [
    "# Predição\n",
    "y_pred = best_model.predict(X_test)\n",
    "\n",
    "# Classification report conforme requisitado\n",
    "accuracy = accuracy_score(y_test, y_pred)\n",
    "confusion = confusion_matrix(y_test, y_pred)\n",
    "classification_rep = classification_report(y_test, y_pred)\n",
    "\n",
    "print(f\"Accuracy: {accuracy * 100:.2f}%\")\n",
    "print(\"Confusion Matrix:\\n\", confusion)\n",
    "print(\"Classification Report:\\n\", classification_rep)"
   ]
  },
  {
   "cell_type": "markdown",
   "id": "d8cdcad3",
   "metadata": {},
   "source": [
    "#### Resultados A652\n",
    "- F1 Classe 1 antigo: 0.50\n",
    "- F1 Classe 1 novo: 0.48"
   ]
  },
  {
   "cell_type": "markdown",
   "id": "b60de2c9",
   "metadata": {},
   "source": [
    "# 3 Classificação Multi-classes"
   ]
  },
  {
   "cell_type": "markdown",
   "id": "770ce224",
   "metadata": {},
   "source": [
    "### Resumo:\n",
    "* Classificação | A602.pickle, A621.pickle, A627.pickle, A636.pickle, A652.pickle\n",
    "* Preprocessamentos: Discretização em 5 classes\n",
    "* Mining: GradientBoostingClassifier com EarlyStopping"
   ]
  },
  {
   "cell_type": "code",
   "execution_count": 48,
   "id": "b008e49a",
   "metadata": {},
   "outputs": [],
   "source": [
    "import numpy as np\n",
    "import pickle\n",
    "fileA602 = open('cic1205/data/atmoseer/A602.pickle' , 'rb')\n",
    "fileA621 = open('cic1205/data/atmoseer/A621.pickle' , 'rb')\n",
    "fileA627 = open('cic1205/data/atmoseer/A627.pickle' , 'rb')\n",
    "fileA636 = open('cic1205/data/atmoseer/A636.pickle' , 'rb')\n",
    "fileA652 = open('cic1205/data/atmoseer/A652.pickle' , 'rb')"
   ]
  },
  {
   "cell_type": "markdown",
   "id": "98e9c661",
   "metadata": {},
   "source": [
    "### Dataset A602"
   ]
  },
  {
   "cell_type": "code",
   "execution_count": 49,
   "id": "9e23420d",
   "metadata": {},
   "outputs": [],
   "source": [
    "(X_train , y_train , X_val , y_val , X_test , y_test) = pickle.load(fileA602)"
   ]
  },
  {
   "cell_type": "code",
   "execution_count": 50,
   "id": "e86cc0b7",
   "metadata": {},
   "outputs": [],
   "source": [
    "# Preprocessamento (Botando as classes)\n",
    "y_train[(y_train > 0) & (y_train <= 5)] = 1\n",
    "y_val[(y_val > 0) & (y_val <= 5)] = 1\n",
    "y_test[(y_test > 0) & (y_test <= 5)] = 1\n",
    "\n",
    "y_train[(y_train > 5) & (y_train <= 25)] = 2\n",
    "y_val[(y_val > 5) & (y_val <= 25)] = 2\n",
    "y_test[(y_test > 5) & (y_test <= 25)] = 2\n",
    "\n",
    "y_train[(y_train > 25) & (y_train <= 50)] = 3\n",
    "y_val[(y_val > 25) & (y_val <= 50)] = 3\n",
    "y_test[(y_test > 25) & (y_test <= 50)] = 3\n",
    "\n",
    "y_train[y_train > 50] = 4\n",
    "y_val[y_val > 50] = 4\n",
    "y_test[y_test > 50] = 4\n",
    "\n",
    "# Transformando 2D array em 1D array\n",
    "y_train = y_train.flatten()\n",
    "y_val = y_val.flatten()\n",
    "y_test = y_test.flatten()"
   ]
  },
  {
   "cell_type": "code",
   "execution_count": 57,
   "id": "762d0abc",
   "metadata": {
    "scrolled": false
   },
   "outputs": [
    {
     "name": "stdout",
     "output_type": "stream",
     "text": [
      "[0]\tvalidation_0-merror:0.05050\tvalidation_0-mlogloss:0.91707\tvalidation_1-merror:0.11306\tvalidation_1-mlogloss:0.95874\n",
      "[1]\tvalidation_0-merror:0.04903\tvalidation_0-mlogloss:0.67194\tvalidation_1-merror:0.10058\tvalidation_1-mlogloss:0.73422\n",
      "[2]\tvalidation_0-merror:0.04873\tvalidation_0-mlogloss:0.51688\tvalidation_1-merror:0.10019\tvalidation_1-mlogloss:0.59191\n",
      "[3]\tvalidation_0-merror:0.04755\tvalidation_0-mlogloss:0.41207\tvalidation_1-merror:0.09942\tvalidation_1-mlogloss:0.49844\n",
      "[4]\tvalidation_0-merror:0.04588\tvalidation_0-mlogloss:0.33892\tvalidation_1-merror:0.09708\tvalidation_1-mlogloss:0.43436\n",
      "[5]\tvalidation_0-merror:0.04421\tvalidation_0-mlogloss:0.28645\tvalidation_1-merror:0.09942\tvalidation_1-mlogloss:0.38887\n",
      "[6]\tvalidation_0-merror:0.04274\tvalidation_0-mlogloss:0.24724\tvalidation_1-merror:0.09903\tvalidation_1-mlogloss:0.35508\n",
      "[7]\tvalidation_0-merror:0.04107\tvalidation_0-mlogloss:0.21858\tvalidation_1-merror:0.10058\tvalidation_1-mlogloss:0.33119\n",
      "[8]\tvalidation_0-merror:0.03979\tvalidation_0-mlogloss:0.19665\tvalidation_1-merror:0.09942\tvalidation_1-mlogloss:0.31522\n",
      "[9]\tvalidation_0-merror:0.03842\tvalidation_0-mlogloss:0.17954\tvalidation_1-merror:0.09942\tvalidation_1-mlogloss:0.30245\n",
      "[10]\tvalidation_0-merror:0.03694\tvalidation_0-mlogloss:0.16566\tvalidation_1-merror:0.09903\tvalidation_1-mlogloss:0.29279\n",
      "[11]\tvalidation_0-merror:0.03596\tvalidation_0-mlogloss:0.15466\tvalidation_1-merror:0.09786\tvalidation_1-mlogloss:0.28542\n",
      "[12]\tvalidation_0-merror:0.03586\tvalidation_0-mlogloss:0.14653\tvalidation_1-merror:0.09630\tvalidation_1-mlogloss:0.27922\n",
      "[13]\tvalidation_0-merror:0.03498\tvalidation_0-mlogloss:0.13978\tvalidation_1-merror:0.10019\tvalidation_1-mlogloss:0.27685\n",
      "[14]\tvalidation_0-merror:0.03399\tvalidation_0-mlogloss:0.13333\tvalidation_1-merror:0.10409\tvalidation_1-mlogloss:0.27496\n",
      "[15]\tvalidation_0-merror:0.03419\tvalidation_0-mlogloss:0.12847\tvalidation_1-merror:0.10487\tvalidation_1-mlogloss:0.27162\n",
      "[16]\tvalidation_0-merror:0.03390\tvalidation_0-mlogloss:0.12492\tvalidation_1-merror:0.10565\tvalidation_1-mlogloss:0.26917\n",
      "[17]\tvalidation_0-merror:0.03370\tvalidation_0-mlogloss:0.12148\tvalidation_1-merror:0.10682\tvalidation_1-mlogloss:0.26700\n",
      "[18]\tvalidation_0-merror:0.03291\tvalidation_0-mlogloss:0.11788\tvalidation_1-merror:0.10604\tvalidation_1-mlogloss:0.26543\n",
      "[19]\tvalidation_0-merror:0.03203\tvalidation_0-mlogloss:0.11413\tvalidation_1-merror:0.10565\tvalidation_1-mlogloss:0.26449\n",
      "[20]\tvalidation_0-merror:0.03105\tvalidation_0-mlogloss:0.11055\tvalidation_1-merror:0.10682\tvalidation_1-mlogloss:0.26406\n",
      "[21]\tvalidation_0-merror:0.03036\tvalidation_0-mlogloss:0.10721\tvalidation_1-merror:0.10487\tvalidation_1-mlogloss:0.26468\n",
      "[22]\tvalidation_0-merror:0.03026\tvalidation_0-mlogloss:0.10541\tvalidation_1-merror:0.10448\tvalidation_1-mlogloss:0.26280\n",
      "[23]\tvalidation_0-merror:0.02977\tvalidation_0-mlogloss:0.10242\tvalidation_1-merror:0.10409\tvalidation_1-mlogloss:0.26176\n",
      "[24]\tvalidation_0-merror:0.02889\tvalidation_0-mlogloss:0.10011\tvalidation_1-merror:0.10370\tvalidation_1-mlogloss:0.26132\n",
      "[25]\tvalidation_0-merror:0.02751\tvalidation_0-mlogloss:0.09772\tvalidation_1-merror:0.10058\tvalidation_1-mlogloss:0.26008\n",
      "[26]\tvalidation_0-merror:0.02682\tvalidation_0-mlogloss:0.09582\tvalidation_1-merror:0.10097\tvalidation_1-mlogloss:0.26030\n",
      "[27]\tvalidation_0-merror:0.02692\tvalidation_0-mlogloss:0.09472\tvalidation_1-merror:0.10097\tvalidation_1-mlogloss:0.26006\n",
      "[28]\tvalidation_0-merror:0.02643\tvalidation_0-mlogloss:0.09348\tvalidation_1-merror:0.10214\tvalidation_1-mlogloss:0.26006\n",
      "[29]\tvalidation_0-merror:0.02594\tvalidation_0-mlogloss:0.09131\tvalidation_1-merror:0.10253\tvalidation_1-mlogloss:0.25974\n",
      "[30]\tvalidation_0-merror:0.02515\tvalidation_0-mlogloss:0.08969\tvalidation_1-merror:0.10214\tvalidation_1-mlogloss:0.25844\n",
      "[31]\tvalidation_0-merror:0.02515\tvalidation_0-mlogloss:0.08714\tvalidation_1-merror:0.10331\tvalidation_1-mlogloss:0.25837\n",
      "[32]\tvalidation_0-merror:0.02397\tvalidation_0-mlogloss:0.08436\tvalidation_1-merror:0.10370\tvalidation_1-mlogloss:0.25741\n",
      "[33]\tvalidation_0-merror:0.02338\tvalidation_0-mlogloss:0.08245\tvalidation_1-merror:0.10487\tvalidation_1-mlogloss:0.25819\n",
      "[34]\tvalidation_0-merror:0.02338\tvalidation_0-mlogloss:0.08149\tvalidation_1-merror:0.10565\tvalidation_1-mlogloss:0.25866\n",
      "[35]\tvalidation_0-merror:0.02260\tvalidation_0-mlogloss:0.08024\tvalidation_1-merror:0.10487\tvalidation_1-mlogloss:0.25848\n",
      "[36]\tvalidation_0-merror:0.02132\tvalidation_0-mlogloss:0.07759\tvalidation_1-merror:0.10409\tvalidation_1-mlogloss:0.25876\n",
      "[37]\tvalidation_0-merror:0.02083\tvalidation_0-mlogloss:0.07542\tvalidation_1-merror:0.10487\tvalidation_1-mlogloss:0.25914\n",
      "[38]\tvalidation_0-merror:0.02004\tvalidation_0-mlogloss:0.07299\tvalidation_1-merror:0.10565\tvalidation_1-mlogloss:0.26128\n",
      "[39]\tvalidation_0-merror:0.01965\tvalidation_0-mlogloss:0.07225\tvalidation_1-merror:0.10370\tvalidation_1-mlogloss:0.26022\n",
      "[40]\tvalidation_0-merror:0.01955\tvalidation_0-mlogloss:0.07157\tvalidation_1-merror:0.10487\tvalidation_1-mlogloss:0.26017\n",
      "[41]\tvalidation_0-merror:0.01877\tvalidation_0-mlogloss:0.06864\tvalidation_1-merror:0.10175\tvalidation_1-mlogloss:0.26023\n",
      "[42]\tvalidation_0-merror:0.01847\tvalidation_0-mlogloss:0.06768\tvalidation_1-merror:0.10175\tvalidation_1-mlogloss:0.26016\n",
      "[43]\tvalidation_0-merror:0.01798\tvalidation_0-mlogloss:0.06574\tvalidation_1-merror:0.10331\tvalidation_1-mlogloss:0.25990\n",
      "[44]\tvalidation_0-merror:0.01769\tvalidation_0-mlogloss:0.06497\tvalidation_1-merror:0.10370\tvalidation_1-mlogloss:0.26074\n",
      "[45]\tvalidation_0-merror:0.01749\tvalidation_0-mlogloss:0.06361\tvalidation_1-merror:0.10331\tvalidation_1-mlogloss:0.26084\n",
      "[46]\tvalidation_0-merror:0.01670\tvalidation_0-mlogloss:0.06178\tvalidation_1-merror:0.10175\tvalidation_1-mlogloss:0.26162\n",
      "[47]\tvalidation_0-merror:0.01651\tvalidation_0-mlogloss:0.06094\tvalidation_1-merror:0.10058\tvalidation_1-mlogloss:0.26113\n",
      "[48]\tvalidation_0-merror:0.01651\tvalidation_0-mlogloss:0.06020\tvalidation_1-merror:0.10331\tvalidation_1-mlogloss:0.26192\n",
      "[49]\tvalidation_0-merror:0.01641\tvalidation_0-mlogloss:0.05974\tvalidation_1-merror:0.10214\tvalidation_1-mlogloss:0.26163\n",
      "[50]\tvalidation_0-merror:0.01651\tvalidation_0-mlogloss:0.05908\tvalidation_1-merror:0.10370\tvalidation_1-mlogloss:0.26186\n",
      "[51]\tvalidation_0-merror:0.01582\tvalidation_0-mlogloss:0.05779\tvalidation_1-merror:0.10253\tvalidation_1-mlogloss:0.26242\n",
      "[52]\tvalidation_0-merror:0.01543\tvalidation_0-mlogloss:0.05699\tvalidation_1-merror:0.10175\tvalidation_1-mlogloss:0.26270\n",
      "[53]\tvalidation_0-merror:0.01523\tvalidation_0-mlogloss:0.05633\tvalidation_1-merror:0.10370\tvalidation_1-mlogloss:0.26315\n",
      "[54]\tvalidation_0-merror:0.01415\tvalidation_0-mlogloss:0.05530\tvalidation_1-merror:0.10292\tvalidation_1-mlogloss:0.26350\n",
      "[55]\tvalidation_0-merror:0.01395\tvalidation_0-mlogloss:0.05447\tvalidation_1-merror:0.10175\tvalidation_1-mlogloss:0.26321\n",
      "[56]\tvalidation_0-merror:0.01405\tvalidation_0-mlogloss:0.05393\tvalidation_1-merror:0.10175\tvalidation_1-mlogloss:0.26321\n",
      "[57]\tvalidation_0-merror:0.01366\tvalidation_0-mlogloss:0.05262\tvalidation_1-merror:0.10097\tvalidation_1-mlogloss:0.26335\n",
      "[58]\tvalidation_0-merror:0.01307\tvalidation_0-mlogloss:0.05168\tvalidation_1-merror:0.10175\tvalidation_1-mlogloss:0.26423\n",
      "[59]\tvalidation_0-merror:0.01267\tvalidation_0-mlogloss:0.05129\tvalidation_1-merror:0.10214\tvalidation_1-mlogloss:0.26442\n",
      "[60]\tvalidation_0-merror:0.01267\tvalidation_0-mlogloss:0.05063\tvalidation_1-merror:0.10175\tvalidation_1-mlogloss:0.26487\n",
      "[61]\tvalidation_0-merror:0.01238\tvalidation_0-mlogloss:0.05020\tvalidation_1-merror:0.10019\tvalidation_1-mlogloss:0.26508\n",
      "[62]\tvalidation_0-merror:0.01218\tvalidation_0-mlogloss:0.04923\tvalidation_1-merror:0.10253\tvalidation_1-mlogloss:0.26589\n",
      "[63]\tvalidation_0-merror:0.01130\tvalidation_0-mlogloss:0.04782\tvalidation_1-merror:0.10370\tvalidation_1-mlogloss:0.26653\n",
      "[64]\tvalidation_0-merror:0.01120\tvalidation_0-mlogloss:0.04685\tvalidation_1-merror:0.10370\tvalidation_1-mlogloss:0.26654\n",
      "[65]\tvalidation_0-merror:0.01120\tvalidation_0-mlogloss:0.04613\tvalidation_1-merror:0.10292\tvalidation_1-mlogloss:0.26645\n",
      "[66]\tvalidation_0-merror:0.01091\tvalidation_0-mlogloss:0.04582\tvalidation_1-merror:0.10292\tvalidation_1-mlogloss:0.26605\n",
      "[67]\tvalidation_0-merror:0.01002\tvalidation_0-mlogloss:0.04457\tvalidation_1-merror:0.10370\tvalidation_1-mlogloss:0.26605\n"
     ]
    },
    {
     "name": "stdout",
     "output_type": "stream",
     "text": [
      "[68]\tvalidation_0-merror:0.00953\tvalidation_0-mlogloss:0.04314\tvalidation_1-merror:0.10448\tvalidation_1-mlogloss:0.26738\n",
      "[69]\tvalidation_0-merror:0.00835\tvalidation_0-mlogloss:0.04166\tvalidation_1-merror:0.10331\tvalidation_1-mlogloss:0.26854\n",
      "[70]\tvalidation_0-merror:0.00806\tvalidation_0-mlogloss:0.04064\tvalidation_1-merror:0.10214\tvalidation_1-mlogloss:0.27026\n",
      "[71]\tvalidation_0-merror:0.00815\tvalidation_0-mlogloss:0.04016\tvalidation_1-merror:0.10292\tvalidation_1-mlogloss:0.26950\n",
      "[72]\tvalidation_0-merror:0.00786\tvalidation_0-mlogloss:0.03952\tvalidation_1-merror:0.10331\tvalidation_1-mlogloss:0.26973\n",
      "[73]\tvalidation_0-merror:0.00747\tvalidation_0-mlogloss:0.03897\tvalidation_1-merror:0.10214\tvalidation_1-mlogloss:0.26987\n",
      "[74]\tvalidation_0-merror:0.00698\tvalidation_0-mlogloss:0.03840\tvalidation_1-merror:0.10292\tvalidation_1-mlogloss:0.27067\n",
      "[75]\tvalidation_0-merror:0.00678\tvalidation_0-mlogloss:0.03763\tvalidation_1-merror:0.10370\tvalidation_1-mlogloss:0.27174\n",
      "[76]\tvalidation_0-merror:0.00668\tvalidation_0-mlogloss:0.03722\tvalidation_1-merror:0.10292\tvalidation_1-mlogloss:0.27065\n",
      "[77]\tvalidation_0-merror:0.00629\tvalidation_0-mlogloss:0.03658\tvalidation_1-merror:0.10292\tvalidation_1-mlogloss:0.27115\n",
      "[78]\tvalidation_0-merror:0.00629\tvalidation_0-mlogloss:0.03615\tvalidation_1-merror:0.10253\tvalidation_1-mlogloss:0.27167\n",
      "[79]\tvalidation_0-merror:0.00580\tvalidation_0-mlogloss:0.03536\tvalidation_1-merror:0.10331\tvalidation_1-mlogloss:0.27251\n",
      "[80]\tvalidation_0-merror:0.00580\tvalidation_0-mlogloss:0.03450\tvalidation_1-merror:0.10214\tvalidation_1-mlogloss:0.27299\n",
      "[81]\tvalidation_0-merror:0.00560\tvalidation_0-mlogloss:0.03397\tvalidation_1-merror:0.10292\tvalidation_1-mlogloss:0.27396\n",
      "[82]\tvalidation_0-merror:0.00521\tvalidation_0-mlogloss:0.03302\tvalidation_1-merror:0.10331\tvalidation_1-mlogloss:0.27389\n",
      "[83]\tvalidation_0-merror:0.00481\tvalidation_0-mlogloss:0.03220\tvalidation_1-merror:0.10331\tvalidation_1-mlogloss:0.27446\n",
      "[84]\tvalidation_0-merror:0.00472\tvalidation_0-mlogloss:0.03166\tvalidation_1-merror:0.10370\tvalidation_1-mlogloss:0.27584\n",
      "[85]\tvalidation_0-merror:0.00452\tvalidation_0-mlogloss:0.03119\tvalidation_1-merror:0.10331\tvalidation_1-mlogloss:0.27609\n",
      "[86]\tvalidation_0-merror:0.00422\tvalidation_0-mlogloss:0.03055\tvalidation_1-merror:0.10253\tvalidation_1-mlogloss:0.27588\n",
      "[87]\tvalidation_0-merror:0.00422\tvalidation_0-mlogloss:0.02974\tvalidation_1-merror:0.10331\tvalidation_1-mlogloss:0.27753\n",
      "[88]\tvalidation_0-merror:0.00413\tvalidation_0-mlogloss:0.02952\tvalidation_1-merror:0.10214\tvalidation_1-mlogloss:0.27859\n",
      "[89]\tvalidation_0-merror:0.00403\tvalidation_0-mlogloss:0.02917\tvalidation_1-merror:0.10253\tvalidation_1-mlogloss:0.27912\n",
      "[90]\tvalidation_0-merror:0.00364\tvalidation_0-mlogloss:0.02861\tvalidation_1-merror:0.10214\tvalidation_1-mlogloss:0.27904\n",
      "[91]\tvalidation_0-merror:0.00334\tvalidation_0-mlogloss:0.02795\tvalidation_1-merror:0.10292\tvalidation_1-mlogloss:0.28003\n",
      "[92]\tvalidation_0-merror:0.00334\tvalidation_0-mlogloss:0.02755\tvalidation_1-merror:0.10292\tvalidation_1-mlogloss:0.28013\n",
      "[93]\tvalidation_0-merror:0.00314\tvalidation_0-mlogloss:0.02724\tvalidation_1-merror:0.10292\tvalidation_1-mlogloss:0.28006\n",
      "[94]\tvalidation_0-merror:0.00255\tvalidation_0-mlogloss:0.02644\tvalidation_1-merror:0.10253\tvalidation_1-mlogloss:0.28050\n",
      "[95]\tvalidation_0-merror:0.00246\tvalidation_0-mlogloss:0.02587\tvalidation_1-merror:0.10370\tvalidation_1-mlogloss:0.28141\n",
      "[96]\tvalidation_0-merror:0.00236\tvalidation_0-mlogloss:0.02518\tvalidation_1-merror:0.10214\tvalidation_1-mlogloss:0.28187\n",
      "[97]\tvalidation_0-merror:0.00226\tvalidation_0-mlogloss:0.02482\tvalidation_1-merror:0.10253\tvalidation_1-mlogloss:0.28155\n",
      "[98]\tvalidation_0-merror:0.00216\tvalidation_0-mlogloss:0.02434\tvalidation_1-merror:0.10136\tvalidation_1-mlogloss:0.28144\n",
      "[99]\tvalidation_0-merror:0.00216\tvalidation_0-mlogloss:0.02412\tvalidation_1-merror:0.10175\tvalidation_1-mlogloss:0.28144\n"
     ]
    },
    {
     "data": {
      "text/html": [
       "<style>#sk-container-id-3 {color: black;}#sk-container-id-3 pre{padding: 0;}#sk-container-id-3 div.sk-toggleable {background-color: white;}#sk-container-id-3 label.sk-toggleable__label {cursor: pointer;display: block;width: 100%;margin-bottom: 0;padding: 0.3em;box-sizing: border-box;text-align: center;}#sk-container-id-3 label.sk-toggleable__label-arrow:before {content: \"▸\";float: left;margin-right: 0.25em;color: #696969;}#sk-container-id-3 label.sk-toggleable__label-arrow:hover:before {color: black;}#sk-container-id-3 div.sk-estimator:hover label.sk-toggleable__label-arrow:before {color: black;}#sk-container-id-3 div.sk-toggleable__content {max-height: 0;max-width: 0;overflow: hidden;text-align: left;background-color: #f0f8ff;}#sk-container-id-3 div.sk-toggleable__content pre {margin: 0.2em;color: black;border-radius: 0.25em;background-color: #f0f8ff;}#sk-container-id-3 input.sk-toggleable__control:checked~div.sk-toggleable__content {max-height: 200px;max-width: 100%;overflow: auto;}#sk-container-id-3 input.sk-toggleable__control:checked~label.sk-toggleable__label-arrow:before {content: \"▾\";}#sk-container-id-3 div.sk-estimator input.sk-toggleable__control:checked~label.sk-toggleable__label {background-color: #d4ebff;}#sk-container-id-3 div.sk-label input.sk-toggleable__control:checked~label.sk-toggleable__label {background-color: #d4ebff;}#sk-container-id-3 input.sk-hidden--visually {border: 0;clip: rect(1px 1px 1px 1px);clip: rect(1px, 1px, 1px, 1px);height: 1px;margin: -1px;overflow: hidden;padding: 0;position: absolute;width: 1px;}#sk-container-id-3 div.sk-estimator {font-family: monospace;background-color: #f0f8ff;border: 1px dotted black;border-radius: 0.25em;box-sizing: border-box;margin-bottom: 0.5em;}#sk-container-id-3 div.sk-estimator:hover {background-color: #d4ebff;}#sk-container-id-3 div.sk-parallel-item::after {content: \"\";width: 100%;border-bottom: 1px solid gray;flex-grow: 1;}#sk-container-id-3 div.sk-label:hover label.sk-toggleable__label {background-color: #d4ebff;}#sk-container-id-3 div.sk-serial::before {content: \"\";position: absolute;border-left: 1px solid gray;box-sizing: border-box;top: 0;bottom: 0;left: 50%;z-index: 0;}#sk-container-id-3 div.sk-serial {display: flex;flex-direction: column;align-items: center;background-color: white;padding-right: 0.2em;padding-left: 0.2em;position: relative;}#sk-container-id-3 div.sk-item {position: relative;z-index: 1;}#sk-container-id-3 div.sk-parallel {display: flex;align-items: stretch;justify-content: center;background-color: white;position: relative;}#sk-container-id-3 div.sk-item::before, #sk-container-id-3 div.sk-parallel-item::before {content: \"\";position: absolute;border-left: 1px solid gray;box-sizing: border-box;top: 0;bottom: 0;left: 50%;z-index: -1;}#sk-container-id-3 div.sk-parallel-item {display: flex;flex-direction: column;z-index: 1;position: relative;background-color: white;}#sk-container-id-3 div.sk-parallel-item:first-child::after {align-self: flex-end;width: 50%;}#sk-container-id-3 div.sk-parallel-item:last-child::after {align-self: flex-start;width: 50%;}#sk-container-id-3 div.sk-parallel-item:only-child::after {width: 0;}#sk-container-id-3 div.sk-dashed-wrapped {border: 1px dashed gray;margin: 0 0.4em 0.5em 0.4em;box-sizing: border-box;padding-bottom: 0.4em;background-color: white;}#sk-container-id-3 div.sk-label label {font-family: monospace;font-weight: bold;display: inline-block;line-height: 1.2em;}#sk-container-id-3 div.sk-label-container {text-align: center;}#sk-container-id-3 div.sk-container {/* jupyter's `normalize.less` sets `[hidden] { display: none; }` but bootstrap.min.css set `[hidden] { display: none !important; }` so we also need the `!important` here to be able to override the default hidden behavior on the sphinx rendered scikit-learn.org. See: https://github.com/scikit-learn/scikit-learn/issues/21755 */display: inline-block !important;position: relative;}#sk-container-id-3 div.sk-text-repr-fallback {display: none;}</style><div id=\"sk-container-id-3\" class=\"sk-top-container\"><div class=\"sk-text-repr-fallback\"><pre>XGBClassifier(base_score=None, booster=None, callbacks=None,\n",
       "              colsample_bylevel=None, colsample_bynode=None,\n",
       "              colsample_bytree=None, early_stopping_rounds=None,\n",
       "              enable_categorical=False, eval_metric=[&#x27;merror&#x27;, &#x27;mlogloss&#x27;],\n",
       "              feature_types=None, gamma=None, gpu_id=None, grow_policy=None,\n",
       "              importance_type=None, interaction_constraints=None,\n",
       "              learning_rate=None, max_bin=None, max_cat_threshold=None,\n",
       "              max_cat_to_onehot=None, max_delta_step=None, max_depth=None,\n",
       "              max_leaves=None, min_child_weight=None, missing=nan,\n",
       "              monotone_constraints=None, n_estimators=100, n_jobs=None,\n",
       "              num_parallel_tree=None, objective=&#x27;multi:softprob&#x27;,\n",
       "              predictor=None, ...)</pre><b>In a Jupyter environment, please rerun this cell to show the HTML representation or trust the notebook. <br />On GitHub, the HTML representation is unable to render, please try loading this page with nbviewer.org.</b></div><div class=\"sk-container\" hidden><div class=\"sk-item\"><div class=\"sk-estimator sk-toggleable\"><input class=\"sk-toggleable__control sk-hidden--visually\" id=\"sk-estimator-id-3\" type=\"checkbox\" checked><label for=\"sk-estimator-id-3\" class=\"sk-toggleable__label sk-toggleable__label-arrow\">XGBClassifier</label><div class=\"sk-toggleable__content\"><pre>XGBClassifier(base_score=None, booster=None, callbacks=None,\n",
       "              colsample_bylevel=None, colsample_bynode=None,\n",
       "              colsample_bytree=None, early_stopping_rounds=None,\n",
       "              enable_categorical=False, eval_metric=[&#x27;merror&#x27;, &#x27;mlogloss&#x27;],\n",
       "              feature_types=None, gamma=None, gpu_id=None, grow_policy=None,\n",
       "              importance_type=None, interaction_constraints=None,\n",
       "              learning_rate=None, max_bin=None, max_cat_threshold=None,\n",
       "              max_cat_to_onehot=None, max_delta_step=None, max_depth=None,\n",
       "              max_leaves=None, min_child_weight=None, missing=nan,\n",
       "              monotone_constraints=None, n_estimators=100, n_jobs=None,\n",
       "              num_parallel_tree=None, objective=&#x27;multi:softprob&#x27;,\n",
       "              predictor=None, ...)</pre></div></div></div></div></div>"
      ],
      "text/plain": [
       "XGBClassifier(base_score=None, booster=None, callbacks=None,\n",
       "              colsample_bylevel=None, colsample_bynode=None,\n",
       "              colsample_bytree=None, early_stopping_rounds=None,\n",
       "              enable_categorical=False, eval_metric=['merror', 'mlogloss'],\n",
       "              feature_types=None, gamma=None, gpu_id=None, grow_policy=None,\n",
       "              importance_type=None, interaction_constraints=None,\n",
       "              learning_rate=None, max_bin=None, max_cat_threshold=None,\n",
       "              max_cat_to_onehot=None, max_delta_step=None, max_depth=None,\n",
       "              max_leaves=None, min_child_weight=None, missing=nan,\n",
       "              monotone_constraints=None, n_estimators=100, n_jobs=None,\n",
       "              num_parallel_tree=None, objective='multi:softprob',\n",
       "              predictor=None, ...)"
      ]
     },
     "execution_count": 57,
     "metadata": {},
     "output_type": "execute_result"
    }
   ],
   "source": [
    "%matplotlib inline \n",
    "from numpy import loadtxt\n",
    "from xgboost import XGBClassifier\n",
    "from sklearn.metrics import precision_score, recall_score, f1_score, accuracy_score\n",
    "\n",
    "#Graphs\n",
    "import matplotlib.pyplot as plt #visualization\n",
    "from matplotlib import pyplot #visualization \n",
    "\n",
    "# fit model no training data\n",
    "model = XGBClassifier(eval_metric=[\"merror\", \"mlogloss\"])\n",
    "eval_set = [(X_train, y_train), (X_val, y_val)]\n",
    "model.fit(X_train, y_train, eval_set=eval_set, verbose=True)"
   ]
  },
  {
   "cell_type": "code",
   "execution_count": 58,
   "id": "91428c81",
   "metadata": {},
   "outputs": [],
   "source": [
    "# make predictions for test data\n",
    "y_pred = model.predict(X_test)"
   ]
  },
  {
   "cell_type": "code",
   "execution_count": 59,
   "id": "cf0bfdc0",
   "metadata": {
    "scrolled": true
   },
   "outputs": [
    {
     "data": {
      "image/png": "[encoded data removed]",
      "text/plain": [
       "<Figure size 640x480 with 1 Axes>"
      ]
     },
     "metadata": {},
     "output_type": "display_data"
    },
    {
     "data": {
      "image/png": "[encoded data removed]",
      "text/plain": [
       "<Figure size 640x480 with 1 Axes>"
      ]
     },
     "metadata": {},
     "output_type": "display_data"
    }
   ],
   "source": [
    "# retrieve performance metrics\n",
    "results = model.evals_result()\n",
    "epochs = len(results['validation_0']['merror'])\n",
    "x_axis = range(0, epochs)\n",
    "\n",
    "# plot log loss\n",
    "fig, ax = pyplot.subplots()\n",
    "ax.plot(x_axis, results['validation_0']['mlogloss'], label='Train')\n",
    "ax.plot(x_axis, results['validation_1']['mlogloss'], label='Test')\n",
    "ax.legend()\n",
    "pyplot.ylabel('Log Loss')\n",
    "pyplot.title('XGBoost Log Loss')\n",
    "pyplot.show()\n",
    "\n",
    "# plot classification error\n",
    "fig, ax = pyplot.subplots()\n",
    "ax.plot(x_axis, results['validation_0']['merror'], label='Train')\n",
    "ax.plot(x_axis, results['validation_1']['merror'], label='Test')\n",
    "ax.legend()\n",
    "pyplot.ylabel('Classification Error')\n",
    "pyplot.title('XGBoost Classification Error')\n",
    "pyplot.show()"
   ]
  },
  {
   "cell_type": "code",
   "execution_count": 60,
   "id": "a562c992",
   "metadata": {},
   "outputs": [
    {
     "data": {
      "image/png": "[encoded data removed]",
      "text/plain": [
       "<Figure size 700x700 with 1 Axes>"
      ]
     },
     "metadata": {},
     "output_type": "display_data"
    }
   ],
   "source": [
    "# Definindo a função de avaliação do modelo\n",
    "def evaluate_model(y_test, y_pred, header):\n",
    "    # make predictions for test data\n",
    "    conf_matrix = confusion_matrix(y_true=y_test, y_pred=y_pred)\n",
    "\n",
    "    fig, ax = plt.subplots(figsize=(7, 7))\n",
    "    ax.matshow(conf_matrix, cmap=plt.cm.Accent, alpha=0.4)\n",
    "    for i in range(conf_matrix.shape[0]):\n",
    "        for j in range(conf_matrix.shape[1]):\n",
    "            ax.text(x=j, y=i,s=conf_matrix[i, j], va='center', ha='center', size='x-large')\n",
    "    \n",
    "    plt.xlabel('Predictions', fontsize=10)\n",
    "    plt.ylabel('Actuals', fontsize=10)\n",
    "    plt.title('Confusion Matrix', fontsize=15)\n",
    "    plt.show()\n",
    "\n",
    "    precision =  round(precision_score(y_test, y_pred, average='macro', zero_division=1), 4)\n",
    "    recall = round(recall_score(y_test, y_pred, average='macro', zero_division=1), 4)\n",
    "    F1 =  round(f1_score(y_test, y_pred, average='macro', zero_division=1), 4)\n",
    "    metrics = [precision, recall, F1]\n",
    "\n",
    "    results = pd.DataFrame(metrics)\n",
    "    results.index = ['Precision', 'Recall', 'F1_score']\n",
    "    results.columns = [header]\n",
    "    results\n",
    "\n",
    "evaluate_model(y_test, y_pred, 'With Early Stopping')"
   ]
  },
  {
   "cell_type": "code",
   "execution_count": 61,
   "id": "9b5ac6cd",
   "metadata": {
    "scrolled": true
   },
   "outputs": [
    {
     "name": "stdout",
     "output_type": "stream",
     "text": [
      "Accuracy: 86.67%\n",
      "Confusion Matrix:\n",
      " [[631  40   2]\n",
      " [ 45  31   7]\n",
      " [  4   4   1]]\n",
      "Classification Report:\n",
      "               precision    recall  f1-score   support\n",
      "\n",
      "         0.0       0.93      0.94      0.93       673\n",
      "         1.0       0.41      0.37      0.39        83\n",
      "         2.0       0.10      0.11      0.11         9\n",
      "\n",
      "    accuracy                           0.87       765\n",
      "   macro avg       0.48      0.47      0.48       765\n",
      "weighted avg       0.86      0.87      0.86       765\n",
      "\n"
     ]
    }
   ],
   "source": [
    "# Predição\n",
    "y_pred = model.predict(X_test)\n",
    "\n",
    "# Classification report conforme requisitado\n",
    "accuracy = accuracy_score(y_test, y_pred)\n",
    "confusion = confusion_matrix(y_test, y_pred)\n",
    "classification_rep = classification_report(y_test, y_pred, zero_division=1)\n",
    "\n",
    "print(f\"Accuracy: {accuracy * 100:.2f}%\")\n",
    "print(\"Confusion Matrix:\\n\", confusion)\n",
    "print(\"Classification Report:\\n\", classification_rep)"
   ]
  },
  {
   "cell_type": "markdown",
   "id": "b8d8cc50",
   "metadata": {},
   "source": [
    "#### Resultados A602\n",
    "- F1 Classe 1 antigo: 0.54\n",
    "- F1 Classe 1 novo: 0.53\n",
    "- F1 Classes 1 e 2: 0.46 e 0.31"
   ]
  },
  {
   "cell_type": "markdown",
   "id": "dc46ed71",
   "metadata": {},
   "source": [
    "### Dataset A621"
   ]
  },
  {
   "cell_type": "code",
   "execution_count": 62,
   "id": "7f94341d",
   "metadata": {},
   "outputs": [],
   "source": [
    "(X_train , y_train , X_val , y_val , X_test , y_test) = pickle.load(fileA621)"
   ]
  },
  {
   "cell_type": "code",
   "execution_count": 63,
   "id": "dc2da46a",
   "metadata": {},
   "outputs": [],
   "source": [
    "# Preprocessamento (Botando as classes)\n",
    "y_train[(y_train > 0) & (y_train <= 5)] = 1\n",
    "y_val[(y_val > 0) & (y_val <= 5)] = 1\n",
    "y_test[(y_test > 0) & (y_test <= 5)] = 1\n",
    "\n",
    "y_train[(y_train > 5) & (y_train <= 25)] = 2\n",
    "y_val[(y_val > 5) & (y_val <= 25)] = 2\n",
    "y_test[(y_test > 5) & (y_test <= 25)] = 2\n",
    "\n",
    "y_train[(y_train > 25) & (y_train <= 50)] = 3\n",
    "y_val[(y_val > 25) & (y_val <= 50)] = 3\n",
    "y_test[(y_test > 25) & (y_test <= 50)] = 3\n",
    "\n",
    "y_train[y_train > 50] = 4\n",
    "y_val[y_val > 50] = 4\n",
    "y_test[y_test > 50] = 4\n",
    "\n",
    "# Transformando 2D array em 1D array\n",
    "y_train = y_train.flatten()\n",
    "y_val = y_val.flatten()\n",
    "y_test = y_test.flatten()"
   ]
  },
  {
   "cell_type": "code",
   "execution_count": 64,
   "id": "45d0024a",
   "metadata": {},
   "outputs": [
    {
     "name": "stdout",
     "output_type": "stream",
     "text": [
      "[0]\tvalidation_0-merror:0.04817\tvalidation_0-mlogloss:0.91535\tvalidation_1-merror:0.07166\tvalidation_1-mlogloss:0.93473\n",
      "[1]\tvalidation_0-merror:0.04639\tvalidation_0-mlogloss:0.66818\tvalidation_1-merror:0.07290\tvalidation_1-mlogloss:0.70043\n",
      "[2]\tvalidation_0-merror:0.04524\tvalidation_0-mlogloss:0.51178\tvalidation_1-merror:0.07249\tvalidation_1-mlogloss:0.55235\n",
      "[3]\tvalidation_0-merror:0.04315\tvalidation_0-mlogloss:0.40583\tvalidation_1-merror:0.07125\tvalidation_1-mlogloss:0.45322\n",
      "[4]\tvalidation_0-merror:0.04189\tvalidation_0-mlogloss:0.33175\tvalidation_1-merror:0.07002\tvalidation_1-mlogloss:0.38482\n",
      "[5]\tvalidation_0-merror:0.04084\tvalidation_0-mlogloss:0.27829\tvalidation_1-merror:0.07084\tvalidation_1-mlogloss:0.33886\n",
      "[6]\tvalidation_0-merror:0.03927\tvalidation_0-mlogloss:0.23902\tvalidation_1-merror:0.06960\tvalidation_1-mlogloss:0.30563\n",
      "[7]\tvalidation_0-merror:0.03864\tvalidation_0-mlogloss:0.20986\tvalidation_1-merror:0.07125\tvalidation_1-mlogloss:0.28135\n",
      "[8]\tvalidation_0-merror:0.03781\tvalidation_0-mlogloss:0.18793\tvalidation_1-merror:0.07084\tvalidation_1-mlogloss:0.26514\n",
      "[9]\tvalidation_0-merror:0.03718\tvalidation_0-mlogloss:0.17063\tvalidation_1-merror:0.07043\tvalidation_1-mlogloss:0.25244\n",
      "[10]\tvalidation_0-merror:0.03634\tvalidation_0-mlogloss:0.15662\tvalidation_1-merror:0.07290\tvalidation_1-mlogloss:0.24537\n",
      "[11]\tvalidation_0-merror:0.03623\tvalidation_0-mlogloss:0.14605\tvalidation_1-merror:0.07166\tvalidation_1-mlogloss:0.23837\n",
      "[12]\tvalidation_0-merror:0.03540\tvalidation_0-mlogloss:0.13765\tvalidation_1-merror:0.07166\tvalidation_1-mlogloss:0.23323\n",
      "[13]\tvalidation_0-merror:0.03498\tvalidation_0-mlogloss:0.13053\tvalidation_1-merror:0.07166\tvalidation_1-mlogloss:0.23076\n",
      "[14]\tvalidation_0-merror:0.03445\tvalidation_0-mlogloss:0.12588\tvalidation_1-merror:0.07125\tvalidation_1-mlogloss:0.22873\n",
      "[15]\tvalidation_0-merror:0.03435\tvalidation_0-mlogloss:0.12175\tvalidation_1-merror:0.07290\tvalidation_1-mlogloss:0.22704\n",
      "[16]\tvalidation_0-merror:0.03351\tvalidation_0-mlogloss:0.11746\tvalidation_1-merror:0.07578\tvalidation_1-mlogloss:0.22691\n",
      "[17]\tvalidation_0-merror:0.03351\tvalidation_0-mlogloss:0.11454\tvalidation_1-merror:0.07537\tvalidation_1-mlogloss:0.22501\n",
      "[18]\tvalidation_0-merror:0.03257\tvalidation_0-mlogloss:0.11000\tvalidation_1-merror:0.07578\tvalidation_1-mlogloss:0.22367\n",
      "[19]\tvalidation_0-merror:0.03205\tvalidation_0-mlogloss:0.10735\tvalidation_1-merror:0.07619\tvalidation_1-mlogloss:0.22266\n",
      "[20]\tvalidation_0-merror:0.03163\tvalidation_0-mlogloss:0.10501\tvalidation_1-merror:0.07578\tvalidation_1-mlogloss:0.22208\n",
      "[21]\tvalidation_0-merror:0.03047\tvalidation_0-mlogloss:0.10148\tvalidation_1-merror:0.07661\tvalidation_1-mlogloss:0.22142\n",
      "[22]\tvalidation_0-merror:0.02974\tvalidation_0-mlogloss:0.09824\tvalidation_1-merror:0.07702\tvalidation_1-mlogloss:0.22087\n",
      "[23]\tvalidation_0-merror:0.02953\tvalidation_0-mlogloss:0.09548\tvalidation_1-merror:0.07743\tvalidation_1-mlogloss:0.22052\n",
      "[24]\tvalidation_0-merror:0.02817\tvalidation_0-mlogloss:0.09250\tvalidation_1-merror:0.07743\tvalidation_1-mlogloss:0.22035\n",
      "[25]\tvalidation_0-merror:0.02733\tvalidation_0-mlogloss:0.08998\tvalidation_1-merror:0.07537\tvalidation_1-mlogloss:0.21956\n",
      "[26]\tvalidation_0-merror:0.02660\tvalidation_0-mlogloss:0.08781\tvalidation_1-merror:0.07619\tvalidation_1-mlogloss:0.21963\n",
      "[27]\tvalidation_0-merror:0.02513\tvalidation_0-mlogloss:0.08561\tvalidation_1-merror:0.07661\tvalidation_1-mlogloss:0.21991\n",
      "[28]\tvalidation_0-merror:0.02482\tvalidation_0-mlogloss:0.08434\tvalidation_1-merror:0.07702\tvalidation_1-mlogloss:0.21980\n",
      "[29]\tvalidation_0-merror:0.02346\tvalidation_0-mlogloss:0.08199\tvalidation_1-merror:0.07619\tvalidation_1-mlogloss:0.22031\n",
      "[30]\tvalidation_0-merror:0.02346\tvalidation_0-mlogloss:0.07928\tvalidation_1-merror:0.07743\tvalidation_1-mlogloss:0.22081\n",
      "[31]\tvalidation_0-merror:0.02220\tvalidation_0-mlogloss:0.07610\tvalidation_1-merror:0.07784\tvalidation_1-mlogloss:0.22112\n",
      "[32]\tvalidation_0-merror:0.02115\tvalidation_0-mlogloss:0.07343\tvalidation_1-merror:0.07784\tvalidation_1-mlogloss:0.22096\n",
      "[33]\tvalidation_0-merror:0.02063\tvalidation_0-mlogloss:0.07206\tvalidation_1-merror:0.07784\tvalidation_1-mlogloss:0.22136\n",
      "[34]\tvalidation_0-merror:0.02032\tvalidation_0-mlogloss:0.07090\tvalidation_1-merror:0.07661\tvalidation_1-mlogloss:0.22229\n",
      "[35]\tvalidation_0-merror:0.02000\tvalidation_0-mlogloss:0.06923\tvalidation_1-merror:0.07743\tvalidation_1-mlogloss:0.22251\n",
      "[36]\tvalidation_0-merror:0.01906\tvalidation_0-mlogloss:0.06687\tvalidation_1-merror:0.07784\tvalidation_1-mlogloss:0.22296\n",
      "[37]\tvalidation_0-merror:0.01906\tvalidation_0-mlogloss:0.06627\tvalidation_1-merror:0.07702\tvalidation_1-mlogloss:0.22382\n",
      "[38]\tvalidation_0-merror:0.01906\tvalidation_0-mlogloss:0.06520\tvalidation_1-merror:0.07867\tvalidation_1-mlogloss:0.22327\n",
      "[39]\tvalidation_0-merror:0.01822\tvalidation_0-mlogloss:0.06398\tvalidation_1-merror:0.07825\tvalidation_1-mlogloss:0.22384\n",
      "[40]\tvalidation_0-merror:0.01801\tvalidation_0-mlogloss:0.06267\tvalidation_1-merror:0.07908\tvalidation_1-mlogloss:0.22470\n",
      "[41]\tvalidation_0-merror:0.01738\tvalidation_0-mlogloss:0.06100\tvalidation_1-merror:0.07949\tvalidation_1-mlogloss:0.22606\n",
      "[42]\tvalidation_0-merror:0.01644\tvalidation_0-mlogloss:0.05922\tvalidation_1-merror:0.07990\tvalidation_1-mlogloss:0.22694\n",
      "[43]\tvalidation_0-merror:0.01592\tvalidation_0-mlogloss:0.05785\tvalidation_1-merror:0.08072\tvalidation_1-mlogloss:0.22650\n",
      "[44]\tvalidation_0-merror:0.01518\tvalidation_0-mlogloss:0.05633\tvalidation_1-merror:0.07949\tvalidation_1-mlogloss:0.22583\n",
      "[45]\tvalidation_0-merror:0.01477\tvalidation_0-mlogloss:0.05556\tvalidation_1-merror:0.07867\tvalidation_1-mlogloss:0.22650\n",
      "[46]\tvalidation_0-merror:0.01435\tvalidation_0-mlogloss:0.05502\tvalidation_1-merror:0.07867\tvalidation_1-mlogloss:0.22662\n",
      "[47]\tvalidation_0-merror:0.01361\tvalidation_0-mlogloss:0.05428\tvalidation_1-merror:0.07825\tvalidation_1-mlogloss:0.22684\n",
      "[48]\tvalidation_0-merror:0.01351\tvalidation_0-mlogloss:0.05247\tvalidation_1-merror:0.07825\tvalidation_1-mlogloss:0.22681\n",
      "[49]\tvalidation_0-merror:0.01278\tvalidation_0-mlogloss:0.05042\tvalidation_1-merror:0.07825\tvalidation_1-mlogloss:0.22599\n",
      "[50]\tvalidation_0-merror:0.01225\tvalidation_0-mlogloss:0.04898\tvalidation_1-merror:0.07784\tvalidation_1-mlogloss:0.22541\n",
      "[51]\tvalidation_0-merror:0.01173\tvalidation_0-mlogloss:0.04818\tvalidation_1-merror:0.07619\tvalidation_1-mlogloss:0.22536\n",
      "[52]\tvalidation_0-merror:0.01079\tvalidation_0-mlogloss:0.04686\tvalidation_1-merror:0.07825\tvalidation_1-mlogloss:0.22567\n",
      "[53]\tvalidation_0-merror:0.00984\tvalidation_0-mlogloss:0.04539\tvalidation_1-merror:0.07619\tvalidation_1-mlogloss:0.22589\n",
      "[54]\tvalidation_0-merror:0.00974\tvalidation_0-mlogloss:0.04490\tvalidation_1-merror:0.07661\tvalidation_1-mlogloss:0.22661\n",
      "[55]\tvalidation_0-merror:0.00953\tvalidation_0-mlogloss:0.04423\tvalidation_1-merror:0.07702\tvalidation_1-mlogloss:0.22632\n",
      "[56]\tvalidation_0-merror:0.00943\tvalidation_0-mlogloss:0.04380\tvalidation_1-merror:0.07619\tvalidation_1-mlogloss:0.22679\n",
      "[57]\tvalidation_0-merror:0.00859\tvalidation_0-mlogloss:0.04179\tvalidation_1-merror:0.07867\tvalidation_1-mlogloss:0.22666\n",
      "[58]\tvalidation_0-merror:0.00796\tvalidation_0-mlogloss:0.03961\tvalidation_1-merror:0.07867\tvalidation_1-mlogloss:0.22705\n",
      "[59]\tvalidation_0-merror:0.00764\tvalidation_0-mlogloss:0.03861\tvalidation_1-merror:0.07825\tvalidation_1-mlogloss:0.22731\n",
      "[60]\tvalidation_0-merror:0.00754\tvalidation_0-mlogloss:0.03701\tvalidation_1-merror:0.07702\tvalidation_1-mlogloss:0.22785\n",
      "[61]\tvalidation_0-merror:0.00744\tvalidation_0-mlogloss:0.03672\tvalidation_1-merror:0.07702\tvalidation_1-mlogloss:0.22775\n",
      "[62]\tvalidation_0-merror:0.00733\tvalidation_0-mlogloss:0.03639\tvalidation_1-merror:0.07702\tvalidation_1-mlogloss:0.22809\n",
      "[63]\tvalidation_0-merror:0.00597\tvalidation_0-mlogloss:0.03498\tvalidation_1-merror:0.07867\tvalidation_1-mlogloss:0.23006\n",
      "[64]\tvalidation_0-merror:0.00586\tvalidation_0-mlogloss:0.03414\tvalidation_1-merror:0.07743\tvalidation_1-mlogloss:0.23055\n",
      "[65]\tvalidation_0-merror:0.00576\tvalidation_0-mlogloss:0.03382\tvalidation_1-merror:0.07825\tvalidation_1-mlogloss:0.23103\n",
      "[66]\tvalidation_0-merror:0.00566\tvalidation_0-mlogloss:0.03334\tvalidation_1-merror:0.07908\tvalidation_1-mlogloss:0.23093\n",
      "[67]\tvalidation_0-merror:0.00534\tvalidation_0-mlogloss:0.03237\tvalidation_1-merror:0.07825\tvalidation_1-mlogloss:0.23142\n"
     ]
    },
    {
     "name": "stdout",
     "output_type": "stream",
     "text": [
      "[68]\tvalidation_0-merror:0.00524\tvalidation_0-mlogloss:0.03168\tvalidation_1-merror:0.07867\tvalidation_1-mlogloss:0.23164\n",
      "[69]\tvalidation_0-merror:0.00524\tvalidation_0-mlogloss:0.03136\tvalidation_1-merror:0.07743\tvalidation_1-mlogloss:0.23249\n",
      "[70]\tvalidation_0-merror:0.00524\tvalidation_0-mlogloss:0.03118\tvalidation_1-merror:0.07784\tvalidation_1-mlogloss:0.23274\n",
      "[71]\tvalidation_0-merror:0.00524\tvalidation_0-mlogloss:0.03091\tvalidation_1-merror:0.07825\tvalidation_1-mlogloss:0.23271\n",
      "[72]\tvalidation_0-merror:0.00503\tvalidation_0-mlogloss:0.03050\tvalidation_1-merror:0.07661\tvalidation_1-mlogloss:0.23335\n",
      "[73]\tvalidation_0-merror:0.00482\tvalidation_0-mlogloss:0.03006\tvalidation_1-merror:0.07743\tvalidation_1-mlogloss:0.23403\n",
      "[74]\tvalidation_0-merror:0.00429\tvalidation_0-mlogloss:0.02886\tvalidation_1-merror:0.07784\tvalidation_1-mlogloss:0.23462\n",
      "[75]\tvalidation_0-merror:0.00408\tvalidation_0-mlogloss:0.02778\tvalidation_1-merror:0.07702\tvalidation_1-mlogloss:0.23435\n",
      "[76]\tvalidation_0-merror:0.00387\tvalidation_0-mlogloss:0.02735\tvalidation_1-merror:0.07743\tvalidation_1-mlogloss:0.23475\n",
      "[77]\tvalidation_0-merror:0.00387\tvalidation_0-mlogloss:0.02716\tvalidation_1-merror:0.07702\tvalidation_1-mlogloss:0.23474\n",
      "[78]\tvalidation_0-merror:0.00377\tvalidation_0-mlogloss:0.02703\tvalidation_1-merror:0.07702\tvalidation_1-mlogloss:0.23510\n",
      "[79]\tvalidation_0-merror:0.00335\tvalidation_0-mlogloss:0.02663\tvalidation_1-merror:0.07784\tvalidation_1-mlogloss:0.23544\n",
      "[80]\tvalidation_0-merror:0.00304\tvalidation_0-mlogloss:0.02593\tvalidation_1-merror:0.07825\tvalidation_1-mlogloss:0.23576\n",
      "[81]\tvalidation_0-merror:0.00283\tvalidation_0-mlogloss:0.02544\tvalidation_1-merror:0.07743\tvalidation_1-mlogloss:0.23612\n",
      "[82]\tvalidation_0-merror:0.00272\tvalidation_0-mlogloss:0.02492\tvalidation_1-merror:0.07702\tvalidation_1-mlogloss:0.23576\n",
      "[83]\tvalidation_0-merror:0.00230\tvalidation_0-mlogloss:0.02458\tvalidation_1-merror:0.07784\tvalidation_1-mlogloss:0.23583\n",
      "[84]\tvalidation_0-merror:0.00209\tvalidation_0-mlogloss:0.02407\tvalidation_1-merror:0.07743\tvalidation_1-mlogloss:0.23615\n",
      "[85]\tvalidation_0-merror:0.00199\tvalidation_0-mlogloss:0.02382\tvalidation_1-merror:0.07784\tvalidation_1-mlogloss:0.23672\n",
      "[86]\tvalidation_0-merror:0.00199\tvalidation_0-mlogloss:0.02367\tvalidation_1-merror:0.07784\tvalidation_1-mlogloss:0.23706\n",
      "[87]\tvalidation_0-merror:0.00157\tvalidation_0-mlogloss:0.02281\tvalidation_1-merror:0.07825\tvalidation_1-mlogloss:0.23709\n",
      "[88]\tvalidation_0-merror:0.00157\tvalidation_0-mlogloss:0.02256\tvalidation_1-merror:0.07867\tvalidation_1-mlogloss:0.23753\n",
      "[89]\tvalidation_0-merror:0.00147\tvalidation_0-mlogloss:0.02209\tvalidation_1-merror:0.07990\tvalidation_1-mlogloss:0.23756\n",
      "[90]\tvalidation_0-merror:0.00147\tvalidation_0-mlogloss:0.02143\tvalidation_1-merror:0.07990\tvalidation_1-mlogloss:0.23734\n",
      "[91]\tvalidation_0-merror:0.00136\tvalidation_0-mlogloss:0.02083\tvalidation_1-merror:0.07908\tvalidation_1-mlogloss:0.23783\n",
      "[92]\tvalidation_0-merror:0.00126\tvalidation_0-mlogloss:0.02067\tvalidation_1-merror:0.07949\tvalidation_1-mlogloss:0.23836\n",
      "[93]\tvalidation_0-merror:0.00126\tvalidation_0-mlogloss:0.02026\tvalidation_1-merror:0.07908\tvalidation_1-mlogloss:0.23889\n",
      "[94]\tvalidation_0-merror:0.00126\tvalidation_0-mlogloss:0.02003\tvalidation_1-merror:0.07825\tvalidation_1-mlogloss:0.23940\n",
      "[95]\tvalidation_0-merror:0.00126\tvalidation_0-mlogloss:0.01971\tvalidation_1-merror:0.07949\tvalidation_1-mlogloss:0.23967\n",
      "[96]\tvalidation_0-merror:0.00126\tvalidation_0-mlogloss:0.01930\tvalidation_1-merror:0.07908\tvalidation_1-mlogloss:0.24004\n",
      "[97]\tvalidation_0-merror:0.00115\tvalidation_0-mlogloss:0.01885\tvalidation_1-merror:0.07825\tvalidation_1-mlogloss:0.24047\n",
      "[98]\tvalidation_0-merror:0.00105\tvalidation_0-mlogloss:0.01837\tvalidation_1-merror:0.07867\tvalidation_1-mlogloss:0.24028\n",
      "[99]\tvalidation_0-merror:0.00105\tvalidation_0-mlogloss:0.01783\tvalidation_1-merror:0.08031\tvalidation_1-mlogloss:0.24022\n"
     ]
    }
   ],
   "source": [
    "from numpy import loadtxt\n",
    "from xgboost import XGBClassifier\n",
    "from sklearn.metrics import precision_score, recall_score, f1_score, accuracy_score\n",
    "from matplotlib import pyplot\n",
    "\n",
    "# fit model no training data\n",
    "model = XGBClassifier(eval_metric=[\"merror\", \"mlogloss\"])\n",
    "eval_set = [(X_train, y_train), (X_val, y_val)]\n",
    "model.fit(X_train, y_train, eval_set=eval_set, verbose=True)\n",
    "\n",
    "# make predictions for test data\n",
    "y_pred = model.predict(X_test)"
   ]
  },
  {
   "cell_type": "code",
   "execution_count": 65,
   "id": "bec1055b",
   "metadata": {},
   "outputs": [
    {
     "data": {
      "image/png": "[encoded data removed]",
      "text/plain": [
       "<Figure size 640x480 with 1 Axes>"
      ]
     },
     "metadata": {},
     "output_type": "display_data"
    },
    {
     "data": {
      "image/png": "[encoded data removed]",
      "text/plain": [
       "<Figure size 640x480 with 1 Axes>"
      ]
     },
     "metadata": {},
     "output_type": "display_data"
    }
   ],
   "source": [
    "# retrieve performance metrics\n",
    "results = model.evals_result()\n",
    "epochs = len(results['validation_0']['merror'])\n",
    "x_axis = range(0, epochs)\n",
    "\n",
    "# plot log loss\n",
    "fig, ax = pyplot.subplots()\n",
    "ax.plot(x_axis, results['validation_0']['mlogloss'], label='Train')\n",
    "ax.plot(x_axis, results['validation_1']['mlogloss'], label='Test')\n",
    "ax.legend()\n",
    "pyplot.ylabel('Log Loss')\n",
    "pyplot.title('XGBoost Log Loss')\n",
    "pyplot.show()\n",
    "\n",
    "# plot classification error\n",
    "fig, ax = pyplot.subplots()\n",
    "ax.plot(x_axis, results['validation_0']['merror'], label='Train')\n",
    "ax.plot(x_axis, results['validation_1']['merror'], label='Test')\n",
    "ax.legend()\n",
    "pyplot.ylabel('Classification Error')\n",
    "pyplot.title('XGBoost Classification Error')\n",
    "pyplot.show()"
   ]
  },
  {
   "cell_type": "code",
   "execution_count": 66,
   "id": "3ed1c4d7",
   "metadata": {},
   "outputs": [
    {
     "data": {
      "image/png": "[encoded data removed]",
      "text/plain": [
       "<Figure size 700x700 with 1 Axes>"
      ]
     },
     "metadata": {},
     "output_type": "display_data"
    }
   ],
   "source": [
    "evaluate_model(y_test, y_pred, 'With Early Stopping')"
   ]
  },
  {
   "cell_type": "code",
   "execution_count": 67,
   "id": "d2840487",
   "metadata": {
    "scrolled": false
   },
   "outputs": [
    {
     "name": "stdout",
     "output_type": "stream",
     "text": [
      "Accuracy: 92.11%\n",
      "Confusion Matrix:\n",
      " [[8946  201    0    0    0]\n",
      " [ 511  337    0    0    0]\n",
      " [  34   39    2    0    0]\n",
      " [   2    7    0    0    0]\n",
      " [   0    1    0    0    0]]\n",
      "Classification Report:\n",
      "               precision    recall  f1-score   support\n",
      "\n",
      "         0.0       0.94      0.98      0.96      9147\n",
      "         1.0       0.58      0.40      0.47       848\n",
      "         2.0       1.00      0.03      0.05        75\n",
      "         3.0       1.00      0.00      0.00         9\n",
      "         4.0       1.00      0.00      0.00         1\n",
      "\n",
      "    accuracy                           0.92     10080\n",
      "   macro avg       0.90      0.28      0.30     10080\n",
      "weighted avg       0.91      0.92      0.91     10080\n",
      "\n"
     ]
    }
   ],
   "source": [
    "# Predição\n",
    "y_pred = model.predict(X_test)\n",
    "\n",
    "# Classification report conforme requisitado\n",
    "accuracy = accuracy_score(y_test, y_pred)\n",
    "confusion = confusion_matrix(y_test, y_pred)\n",
    "classification_rep = classification_report(y_test, y_pred, zero_division=1)\n",
    "\n",
    "print(f\"Accuracy: {accuracy * 100:.2f}%\")\n",
    "print(\"Confusion Matrix:\\n\", confusion)\n",
    "print(\"Classification Report:\\n\", classification_rep)"
   ]
  },
  {
   "cell_type": "markdown",
   "id": "7534da1c",
   "metadata": {},
   "source": [
    "#### Resultados A621\n",
    "- F1 Classe 1 antigo: 0.54\n",
    "- F1 Classe 1 novo: 0.53\n",
    "- F1 Classes 1, 2, 3, 4: 0.47, 0.05, 0.00 e 0.00"
   ]
  },
  {
   "cell_type": "markdown",
   "id": "82117208",
   "metadata": {},
   "source": [
    "### Dataset A627"
   ]
  },
  {
   "cell_type": "code",
   "execution_count": 68,
   "id": "1fee020b",
   "metadata": {},
   "outputs": [],
   "source": [
    "(X_train , y_train , X_val , y_val , X_test , y_test) = pickle.load(fileA627)"
   ]
  },
  {
   "cell_type": "code",
   "execution_count": 69,
   "id": "6dfd7ded",
   "metadata": {},
   "outputs": [],
   "source": [
    "# Preprocessamento (Botando as classes)\n",
    "y_train[(y_train > 0) & (y_train <= 5)] = 1\n",
    "y_val[(y_val > 0) & (y_val <= 5)] = 1\n",
    "y_test[(y_test > 0) & (y_test <= 5)] = 1\n",
    "\n",
    "y_train[(y_train > 5) & (y_train <= 25)] = 2\n",
    "y_val[(y_val > 5) & (y_val <= 25)] = 2\n",
    "y_test[(y_test > 5) & (y_test <= 25)] = 2\n",
    "\n",
    "y_train[(y_train > 25) & (y_train <= 50)] = 3\n",
    "y_val[(y_val > 25) & (y_val <= 50)] = 3\n",
    "y_test[(y_test > 25) & (y_test <= 50)] = 3\n",
    "\n",
    "y_train[y_train > 50] = 4\n",
    "y_val[y_val > 50] = 4\n",
    "y_test[y_test > 50] = 4\n",
    "\n",
    "# Transformando 2D array em 1D array\n",
    "y_train = y_train.flatten()\n",
    "y_val = y_val.flatten()\n",
    "y_test = y_test.flatten()"
   ]
  },
  {
   "cell_type": "code",
   "execution_count": 70,
   "id": "f22b2140",
   "metadata": {},
   "outputs": [
    {
     "name": "stdout",
     "output_type": "stream",
     "text": [
      "[0]\tvalidation_0-merror:0.05030\tvalidation_0-mlogloss:1.01660\tvalidation_1-merror:0.10157\tvalidation_1-mlogloss:1.07181\n",
      "[1]\tvalidation_0-merror:0.04978\tvalidation_0-mlogloss:0.73702\tvalidation_1-merror:0.10694\tvalidation_1-mlogloss:0.84807\n",
      "[2]\tvalidation_0-merror:0.04761\tvalidation_0-mlogloss:0.56166\tvalidation_1-merror:0.10246\tvalidation_1-mlogloss:0.68670\n",
      "[3]\tvalidation_0-merror:0.04596\tvalidation_0-mlogloss:0.44230\tvalidation_1-merror:0.10112\tvalidation_1-mlogloss:0.56853\n",
      "[4]\tvalidation_0-merror:0.04400\tvalidation_0-mlogloss:0.35841\tvalidation_1-merror:0.09709\tvalidation_1-mlogloss:0.49290\n",
      "[5]\tvalidation_0-merror:0.04080\tvalidation_0-mlogloss:0.29788\tvalidation_1-merror:0.09351\tvalidation_1-mlogloss:0.43958\n",
      "[6]\tvalidation_0-merror:0.03904\tvalidation_0-mlogloss:0.25257\tvalidation_1-merror:0.09530\tvalidation_1-mlogloss:0.39859\n",
      "[7]\tvalidation_0-merror:0.03842\tvalidation_0-mlogloss:0.21880\tvalidation_1-merror:0.09262\tvalidation_1-mlogloss:0.36642\n",
      "[8]\tvalidation_0-merror:0.03646\tvalidation_0-mlogloss:0.19222\tvalidation_1-merror:0.09396\tvalidation_1-mlogloss:0.34082\n",
      "[9]\tvalidation_0-merror:0.03594\tvalidation_0-mlogloss:0.17211\tvalidation_1-merror:0.08814\tvalidation_1-mlogloss:0.31739\n",
      "[10]\tvalidation_0-merror:0.03532\tvalidation_0-mlogloss:0.15673\tvalidation_1-merror:0.09217\tvalidation_1-mlogloss:0.30120\n",
      "[11]\tvalidation_0-merror:0.03470\tvalidation_0-mlogloss:0.14498\tvalidation_1-merror:0.09172\tvalidation_1-mlogloss:0.28809\n",
      "[12]\tvalidation_0-merror:0.03346\tvalidation_0-mlogloss:0.13546\tvalidation_1-merror:0.09351\tvalidation_1-mlogloss:0.28125\n",
      "[13]\tvalidation_0-merror:0.03274\tvalidation_0-mlogloss:0.12724\tvalidation_1-merror:0.09441\tvalidation_1-mlogloss:0.27378\n",
      "[14]\tvalidation_0-merror:0.03212\tvalidation_0-mlogloss:0.12031\tvalidation_1-merror:0.09441\tvalidation_1-mlogloss:0.26961\n",
      "[15]\tvalidation_0-merror:0.03130\tvalidation_0-mlogloss:0.11459\tvalidation_1-merror:0.09575\tvalidation_1-mlogloss:0.26680\n",
      "[16]\tvalidation_0-merror:0.03130\tvalidation_0-mlogloss:0.10771\tvalidation_1-merror:0.09620\tvalidation_1-mlogloss:0.26423\n",
      "[17]\tvalidation_0-merror:0.03057\tvalidation_0-mlogloss:0.10361\tvalidation_1-merror:0.09799\tvalidation_1-mlogloss:0.26569\n",
      "[18]\tvalidation_0-merror:0.03037\tvalidation_0-mlogloss:0.10095\tvalidation_1-merror:0.09709\tvalidation_1-mlogloss:0.26368\n",
      "[19]\tvalidation_0-merror:0.02954\tvalidation_0-mlogloss:0.09717\tvalidation_1-merror:0.09754\tvalidation_1-mlogloss:0.26402\n",
      "[20]\tvalidation_0-merror:0.02861\tvalidation_0-mlogloss:0.09358\tvalidation_1-merror:0.09888\tvalidation_1-mlogloss:0.26468\n",
      "[21]\tvalidation_0-merror:0.02789\tvalidation_0-mlogloss:0.09034\tvalidation_1-merror:0.10067\tvalidation_1-mlogloss:0.26362\n",
      "[22]\tvalidation_0-merror:0.02696\tvalidation_0-mlogloss:0.08795\tvalidation_1-merror:0.09888\tvalidation_1-mlogloss:0.26366\n",
      "[23]\tvalidation_0-merror:0.02561\tvalidation_0-mlogloss:0.08514\tvalidation_1-merror:0.09799\tvalidation_1-mlogloss:0.26480\n",
      "[24]\tvalidation_0-merror:0.02417\tvalidation_0-mlogloss:0.08197\tvalidation_1-merror:0.09799\tvalidation_1-mlogloss:0.26453\n",
      "[25]\tvalidation_0-merror:0.02365\tvalidation_0-mlogloss:0.08053\tvalidation_1-merror:0.09978\tvalidation_1-mlogloss:0.26301\n",
      "[26]\tvalidation_0-merror:0.02314\tvalidation_0-mlogloss:0.07842\tvalidation_1-merror:0.09933\tvalidation_1-mlogloss:0.26231\n",
      "[27]\tvalidation_0-merror:0.02283\tvalidation_0-mlogloss:0.07622\tvalidation_1-merror:0.09933\tvalidation_1-mlogloss:0.26231\n",
      "[28]\tvalidation_0-merror:0.02128\tvalidation_0-mlogloss:0.07369\tvalidation_1-merror:0.09888\tvalidation_1-mlogloss:0.26265\n",
      "[29]\tvalidation_0-merror:0.02014\tvalidation_0-mlogloss:0.07098\tvalidation_1-merror:0.09843\tvalidation_1-mlogloss:0.26070\n",
      "[30]\tvalidation_0-merror:0.01993\tvalidation_0-mlogloss:0.06971\tvalidation_1-merror:0.09664\tvalidation_1-mlogloss:0.25789\n",
      "[31]\tvalidation_0-merror:0.01983\tvalidation_0-mlogloss:0.06888\tvalidation_1-merror:0.09620\tvalidation_1-mlogloss:0.25928\n",
      "[32]\tvalidation_0-merror:0.01921\tvalidation_0-mlogloss:0.06791\tvalidation_1-merror:0.09620\tvalidation_1-mlogloss:0.25893\n",
      "[33]\tvalidation_0-merror:0.01900\tvalidation_0-mlogloss:0.06697\tvalidation_1-merror:0.09664\tvalidation_1-mlogloss:0.25990\n",
      "[34]\tvalidation_0-merror:0.01869\tvalidation_0-mlogloss:0.06615\tvalidation_1-merror:0.09664\tvalidation_1-mlogloss:0.26065\n",
      "[35]\tvalidation_0-merror:0.01869\tvalidation_0-mlogloss:0.06411\tvalidation_1-merror:0.09664\tvalidation_1-mlogloss:0.26162\n",
      "[36]\tvalidation_0-merror:0.01735\tvalidation_0-mlogloss:0.06237\tvalidation_1-merror:0.09664\tvalidation_1-mlogloss:0.26141\n",
      "[37]\tvalidation_0-merror:0.01694\tvalidation_0-mlogloss:0.06024\tvalidation_1-merror:0.09664\tvalidation_1-mlogloss:0.26172\n",
      "[38]\tvalidation_0-merror:0.01632\tvalidation_0-mlogloss:0.05797\tvalidation_1-merror:0.09664\tvalidation_1-mlogloss:0.26204\n",
      "[39]\tvalidation_0-merror:0.01477\tvalidation_0-mlogloss:0.05597\tvalidation_1-merror:0.09620\tvalidation_1-mlogloss:0.26283\n",
      "[40]\tvalidation_0-merror:0.01436\tvalidation_0-mlogloss:0.05470\tvalidation_1-merror:0.09575\tvalidation_1-mlogloss:0.26405\n",
      "[41]\tvalidation_0-merror:0.01394\tvalidation_0-mlogloss:0.05334\tvalidation_1-merror:0.09575\tvalidation_1-mlogloss:0.26355\n",
      "[42]\tvalidation_0-merror:0.01312\tvalidation_0-mlogloss:0.05218\tvalidation_1-merror:0.09441\tvalidation_1-mlogloss:0.26363\n",
      "[43]\tvalidation_0-merror:0.01291\tvalidation_0-mlogloss:0.05171\tvalidation_1-merror:0.09441\tvalidation_1-mlogloss:0.26392\n",
      "[44]\tvalidation_0-merror:0.01239\tvalidation_0-mlogloss:0.04993\tvalidation_1-merror:0.09351\tvalidation_1-mlogloss:0.26475\n",
      "[45]\tvalidation_0-merror:0.01219\tvalidation_0-mlogloss:0.04931\tvalidation_1-merror:0.09620\tvalidation_1-mlogloss:0.26546\n",
      "[46]\tvalidation_0-merror:0.01198\tvalidation_0-mlogloss:0.04862\tvalidation_1-merror:0.09709\tvalidation_1-mlogloss:0.26643\n",
      "[47]\tvalidation_0-merror:0.01167\tvalidation_0-mlogloss:0.04797\tvalidation_1-merror:0.09530\tvalidation_1-mlogloss:0.26640\n",
      "[48]\tvalidation_0-merror:0.01126\tvalidation_0-mlogloss:0.04715\tvalidation_1-merror:0.09396\tvalidation_1-mlogloss:0.26655\n",
      "[49]\tvalidation_0-merror:0.01033\tvalidation_0-mlogloss:0.04608\tvalidation_1-merror:0.09441\tvalidation_1-mlogloss:0.26700\n",
      "[50]\tvalidation_0-merror:0.00940\tvalidation_0-mlogloss:0.04476\tvalidation_1-merror:0.09396\tvalidation_1-mlogloss:0.26727\n",
      "[51]\tvalidation_0-merror:0.00899\tvalidation_0-mlogloss:0.04346\tvalidation_1-merror:0.09485\tvalidation_1-mlogloss:0.26899\n",
      "[52]\tvalidation_0-merror:0.00826\tvalidation_0-mlogloss:0.04245\tvalidation_1-merror:0.09620\tvalidation_1-mlogloss:0.27031\n",
      "[53]\tvalidation_0-merror:0.00816\tvalidation_0-mlogloss:0.04162\tvalidation_1-merror:0.09664\tvalidation_1-mlogloss:0.27020\n",
      "[54]\tvalidation_0-merror:0.00816\tvalidation_0-mlogloss:0.04120\tvalidation_1-merror:0.09709\tvalidation_1-mlogloss:0.27012\n",
      "[55]\tvalidation_0-merror:0.00713\tvalidation_0-mlogloss:0.04022\tvalidation_1-merror:0.09620\tvalidation_1-mlogloss:0.26993\n",
      "[56]\tvalidation_0-merror:0.00661\tvalidation_0-mlogloss:0.03946\tvalidation_1-merror:0.09485\tvalidation_1-mlogloss:0.27064\n",
      "[57]\tvalidation_0-merror:0.00640\tvalidation_0-mlogloss:0.03871\tvalidation_1-merror:0.09396\tvalidation_1-mlogloss:0.27060\n",
      "[58]\tvalidation_0-merror:0.00630\tvalidation_0-mlogloss:0.03851\tvalidation_1-merror:0.09485\tvalidation_1-mlogloss:0.27124\n",
      "[59]\tvalidation_0-merror:0.00568\tvalidation_0-mlogloss:0.03755\tvalidation_1-merror:0.09575\tvalidation_1-mlogloss:0.27245\n",
      "[60]\tvalidation_0-merror:0.00568\tvalidation_0-mlogloss:0.03742\tvalidation_1-merror:0.09575\tvalidation_1-mlogloss:0.27449\n",
      "[61]\tvalidation_0-merror:0.00568\tvalidation_0-mlogloss:0.03702\tvalidation_1-merror:0.09754\tvalidation_1-mlogloss:0.27523\n",
      "[62]\tvalidation_0-merror:0.00568\tvalidation_0-mlogloss:0.03649\tvalidation_1-merror:0.09620\tvalidation_1-mlogloss:0.27513\n",
      "[63]\tvalidation_0-merror:0.00516\tvalidation_0-mlogloss:0.03546\tvalidation_1-merror:0.09799\tvalidation_1-mlogloss:0.27588\n",
      "[64]\tvalidation_0-merror:0.00496\tvalidation_0-mlogloss:0.03441\tvalidation_1-merror:0.09620\tvalidation_1-mlogloss:0.27593\n",
      "[65]\tvalidation_0-merror:0.00475\tvalidation_0-mlogloss:0.03383\tvalidation_1-merror:0.09620\tvalidation_1-mlogloss:0.27623\n",
      "[66]\tvalidation_0-merror:0.00434\tvalidation_0-mlogloss:0.03277\tvalidation_1-merror:0.09575\tvalidation_1-mlogloss:0.27668\n",
      "[67]\tvalidation_0-merror:0.00423\tvalidation_0-mlogloss:0.03201\tvalidation_1-merror:0.09620\tvalidation_1-mlogloss:0.27694\n"
     ]
    },
    {
     "name": "stdout",
     "output_type": "stream",
     "text": [
      "[68]\tvalidation_0-merror:0.00403\tvalidation_0-mlogloss:0.03121\tvalidation_1-merror:0.09709\tvalidation_1-mlogloss:0.27780\n",
      "[69]\tvalidation_0-merror:0.00403\tvalidation_0-mlogloss:0.03027\tvalidation_1-merror:0.09530\tvalidation_1-mlogloss:0.27869\n",
      "[70]\tvalidation_0-merror:0.00392\tvalidation_0-mlogloss:0.02950\tvalidation_1-merror:0.09575\tvalidation_1-mlogloss:0.27886\n",
      "[71]\tvalidation_0-merror:0.00320\tvalidation_0-mlogloss:0.02862\tvalidation_1-merror:0.09620\tvalidation_1-mlogloss:0.27908\n",
      "[72]\tvalidation_0-merror:0.00258\tvalidation_0-mlogloss:0.02793\tvalidation_1-merror:0.09530\tvalidation_1-mlogloss:0.27917\n",
      "[73]\tvalidation_0-merror:0.00279\tvalidation_0-mlogloss:0.02736\tvalidation_1-merror:0.09620\tvalidation_1-mlogloss:0.28004\n",
      "[74]\tvalidation_0-merror:0.00248\tvalidation_0-mlogloss:0.02678\tvalidation_1-merror:0.09620\tvalidation_1-mlogloss:0.27821\n",
      "[75]\tvalidation_0-merror:0.00258\tvalidation_0-mlogloss:0.02615\tvalidation_1-merror:0.09620\tvalidation_1-mlogloss:0.27767\n",
      "[76]\tvalidation_0-merror:0.00238\tvalidation_0-mlogloss:0.02539\tvalidation_1-merror:0.09485\tvalidation_1-mlogloss:0.27647\n",
      "[77]\tvalidation_0-merror:0.00207\tvalidation_0-mlogloss:0.02489\tvalidation_1-merror:0.09620\tvalidation_1-mlogloss:0.27744\n",
      "[78]\tvalidation_0-merror:0.00176\tvalidation_0-mlogloss:0.02438\tvalidation_1-merror:0.09575\tvalidation_1-mlogloss:0.27766\n",
      "[79]\tvalidation_0-merror:0.00176\tvalidation_0-mlogloss:0.02385\tvalidation_1-merror:0.09485\tvalidation_1-mlogloss:0.27871\n",
      "[80]\tvalidation_0-merror:0.00165\tvalidation_0-mlogloss:0.02355\tvalidation_1-merror:0.09485\tvalidation_1-mlogloss:0.27834\n",
      "[81]\tvalidation_0-merror:0.00176\tvalidation_0-mlogloss:0.02331\tvalidation_1-merror:0.09485\tvalidation_1-mlogloss:0.27756\n",
      "[82]\tvalidation_0-merror:0.00145\tvalidation_0-mlogloss:0.02279\tvalidation_1-merror:0.09485\tvalidation_1-mlogloss:0.27774\n",
      "[83]\tvalidation_0-merror:0.00134\tvalidation_0-mlogloss:0.02233\tvalidation_1-merror:0.09485\tvalidation_1-mlogloss:0.27820\n",
      "[84]\tvalidation_0-merror:0.00114\tvalidation_0-mlogloss:0.02163\tvalidation_1-merror:0.09620\tvalidation_1-mlogloss:0.27941\n",
      "[85]\tvalidation_0-merror:0.00103\tvalidation_0-mlogloss:0.02124\tvalidation_1-merror:0.09575\tvalidation_1-mlogloss:0.28105\n",
      "[86]\tvalidation_0-merror:0.00093\tvalidation_0-mlogloss:0.02088\tvalidation_1-merror:0.09530\tvalidation_1-mlogloss:0.28118\n",
      "[87]\tvalidation_0-merror:0.00093\tvalidation_0-mlogloss:0.02062\tvalidation_1-merror:0.09530\tvalidation_1-mlogloss:0.28077\n",
      "[88]\tvalidation_0-merror:0.00093\tvalidation_0-mlogloss:0.02049\tvalidation_1-merror:0.09530\tvalidation_1-mlogloss:0.28098\n",
      "[89]\tvalidation_0-merror:0.00083\tvalidation_0-mlogloss:0.01996\tvalidation_1-merror:0.09351\tvalidation_1-mlogloss:0.28185\n",
      "[90]\tvalidation_0-merror:0.00072\tvalidation_0-mlogloss:0.01956\tvalidation_1-merror:0.09351\tvalidation_1-mlogloss:0.28136\n",
      "[91]\tvalidation_0-merror:0.00072\tvalidation_0-mlogloss:0.01918\tvalidation_1-merror:0.09396\tvalidation_1-mlogloss:0.28216\n",
      "[92]\tvalidation_0-merror:0.00062\tvalidation_0-mlogloss:0.01877\tvalidation_1-merror:0.09396\tvalidation_1-mlogloss:0.28292\n",
      "[93]\tvalidation_0-merror:0.00062\tvalidation_0-mlogloss:0.01843\tvalidation_1-merror:0.09485\tvalidation_1-mlogloss:0.28331\n",
      "[94]\tvalidation_0-merror:0.00062\tvalidation_0-mlogloss:0.01805\tvalidation_1-merror:0.09351\tvalidation_1-mlogloss:0.28352\n",
      "[95]\tvalidation_0-merror:0.00052\tvalidation_0-mlogloss:0.01766\tvalidation_1-merror:0.09441\tvalidation_1-mlogloss:0.28446\n",
      "[96]\tvalidation_0-merror:0.00052\tvalidation_0-mlogloss:0.01747\tvalidation_1-merror:0.09396\tvalidation_1-mlogloss:0.28467\n",
      "[97]\tvalidation_0-merror:0.00052\tvalidation_0-mlogloss:0.01715\tvalidation_1-merror:0.09530\tvalidation_1-mlogloss:0.28421\n",
      "[98]\tvalidation_0-merror:0.00052\tvalidation_0-mlogloss:0.01689\tvalidation_1-merror:0.09441\tvalidation_1-mlogloss:0.28519\n",
      "[99]\tvalidation_0-merror:0.00052\tvalidation_0-mlogloss:0.01658\tvalidation_1-merror:0.09396\tvalidation_1-mlogloss:0.28537\n"
     ]
    }
   ],
   "source": [
    "from numpy import loadtxt\n",
    "from xgboost import XGBClassifier\n",
    "from sklearn.metrics import precision_score, recall_score, f1_score, accuracy_score\n",
    "from matplotlib import pyplot\n",
    "\n",
    "# fit model no training data\n",
    "model = XGBClassifier(eval_metric=[\"merror\", \"mlogloss\"])\n",
    "eval_set = [(X_train, y_train), (X_val, y_val)]\n",
    "model.fit(X_train, y_train, eval_set=eval_set, verbose=True)\n",
    "\n",
    "# make predictions for test data\n",
    "y_pred = model.predict(X_test)"
   ]
  },
  {
   "cell_type": "code",
   "execution_count": 71,
   "id": "b3ed8501",
   "metadata": {},
   "outputs": [
    {
     "data": {
      "image/png": "[encoded data removed]",
      "text/plain": [
       "<Figure size 640x480 with 1 Axes>"
      ]
     },
     "metadata": {},
     "output_type": "display_data"
    },
    {
     "data": {
      "image/png": "[encoded data removed]",
      "text/plain": [
       "<Figure size 640x480 with 1 Axes>"
      ]
     },
     "metadata": {},
     "output_type": "display_data"
    }
   ],
   "source": [
    "# retrieve performance metrics\n",
    "results = model.evals_result()\n",
    "epochs = len(results['validation_0']['merror'])\n",
    "x_axis = range(0, epochs)\n",
    "\n",
    "# plot log loss\n",
    "fig, ax = pyplot.subplots()\n",
    "ax.plot(x_axis, results['validation_0']['mlogloss'], label='Train')\n",
    "ax.plot(x_axis, results['validation_1']['mlogloss'], label='Test')\n",
    "ax.legend()\n",
    "pyplot.ylabel('Log Loss')\n",
    "pyplot.title('XGBoost Log Loss')\n",
    "pyplot.show()\n",
    "\n",
    "# plot classification error\n",
    "fig, ax = pyplot.subplots()\n",
    "ax.plot(x_axis, results['validation_0']['merror'], label='Train')\n",
    "ax.plot(x_axis, results['validation_1']['merror'], label='Test')\n",
    "ax.legend()\n",
    "pyplot.ylabel('Classification Error')\n",
    "pyplot.title('XGBoost Classification Error')\n",
    "pyplot.show()"
   ]
  },
  {
   "cell_type": "code",
   "execution_count": 72,
   "id": "f1c593b4",
   "metadata": {},
   "outputs": [
    {
     "data": {
      "image/png": "[encoded data removed]",
      "text/plain": [
       "<Figure size 700x700 with 1 Axes>"
      ]
     },
     "metadata": {},
     "output_type": "display_data"
    }
   ],
   "source": [
    "evaluate_model(y_test, y_pred, 'With Early Stopping')"
   ]
  },
  {
   "cell_type": "code",
   "execution_count": 73,
   "id": "f1a1e62c",
   "metadata": {
    "scrolled": false
   },
   "outputs": [
    {
     "name": "stdout",
     "output_type": "stream",
     "text": [
      "Accuracy: 92.18%\n",
      "Confusion Matrix:\n",
      " [[8970  221    9    0]\n",
      " [ 462  419   40    0]\n",
      " [  32   28   15    0]\n",
      " [   2    2    2    0]]\n",
      "Classification Report:\n",
      "               precision    recall  f1-score   support\n",
      "\n",
      "         0.0       0.95      0.97      0.96      9200\n",
      "         1.0       0.63      0.45      0.53       921\n",
      "         2.0       0.23      0.20      0.21        75\n",
      "         3.0       1.00      0.00      0.00         6\n",
      "\n",
      "    accuracy                           0.92     10202\n",
      "   macro avg       0.70      0.41      0.43     10202\n",
      "weighted avg       0.91      0.92      0.92     10202\n",
      "\n"
     ]
    }
   ],
   "source": [
    "# Predição\n",
    "y_pred = model.predict(X_test)\n",
    "\n",
    "# Classification report conforme requisitado\n",
    "accuracy = accuracy_score(y_test, y_pred)\n",
    "confusion = confusion_matrix(y_test, y_pred)\n",
    "classification_rep = classification_report(y_test, y_pred, zero_division=1)\n",
    "\n",
    "print(f\"Accuracy: {accuracy * 100:.2f}%\")\n",
    "print(\"Confusion Matrix:\\n\", confusion)\n",
    "print(\"Classification Report:\\n\", classification_rep)"
   ]
  },
  {
   "cell_type": "markdown",
   "id": "b2d51f31",
   "metadata": {},
   "source": [
    "#### Resultados A627\n",
    "- F1 Classe 1 antigo: 0.62\n",
    "- F1 Classe 1 novo: 0.63\n",
    "- F1 Classe 1,2 e 3: 0.53, 0.21 e 0"
   ]
  },
  {
   "cell_type": "markdown",
   "id": "2614b381",
   "metadata": {},
   "source": [
    "### Dataset A636"
   ]
  },
  {
   "cell_type": "code",
   "execution_count": 74,
   "id": "439ccd64",
   "metadata": {},
   "outputs": [],
   "source": [
    "(X_train , y_train , X_val , y_val , X_test , y_test) = pickle.load(fileA636)"
   ]
  },
  {
   "cell_type": "code",
   "execution_count": 75,
   "id": "f5d12c30",
   "metadata": {},
   "outputs": [],
   "source": [
    "# Preprocessamento (Botando as classes)\n",
    "y_train[(y_train > 0) & (y_train <= 5)] = 1\n",
    "y_val[(y_val > 0) & (y_val <= 5)] = 1\n",
    "y_test[(y_test > 0) & (y_test <= 5)] = 1\n",
    "\n",
    "y_train[(y_train > 5) & (y_train <= 25)] = 2\n",
    "y_val[(y_val > 5) & (y_val <= 25)] = 2\n",
    "y_test[(y_test > 5) & (y_test <= 25)] = 2\n",
    "\n",
    "y_train[(y_train > 25) & (y_train <= 50)] = 3\n",
    "y_val[(y_val > 25) & (y_val <= 50)] = 3\n",
    "y_test[(y_test > 25) & (y_test <= 50)] = 3\n",
    "\n",
    "y_train[y_train > 50] = 4\n",
    "y_val[y_val > 50] = 4\n",
    "y_test[y_test > 50] = 4\n",
    "\n",
    "# Transformando 2D array em 1D array\n",
    "y_train = y_train.flatten()\n",
    "y_val = y_val.flatten()\n",
    "y_test = y_test.flatten()"
   ]
  },
  {
   "cell_type": "code",
   "execution_count": 76,
   "id": "f3ad80ba",
   "metadata": {},
   "outputs": [
    {
     "name": "stdout",
     "output_type": "stream",
     "text": [
      "[0]\tvalidation_0-merror:0.05441\tvalidation_0-mlogloss:0.92034\tvalidation_1-merror:0.07291\tvalidation_1-mlogloss:0.93202\n",
      "[1]\tvalidation_0-merror:0.05314\tvalidation_0-mlogloss:0.67730\tvalidation_1-merror:0.07125\tvalidation_1-mlogloss:0.69785\n",
      "[2]\tvalidation_0-merror:0.05147\tvalidation_0-mlogloss:0.52287\tvalidation_1-merror:0.07498\tvalidation_1-mlogloss:0.54969\n",
      "[3]\tvalidation_0-merror:0.04961\tvalidation_0-mlogloss:0.41908\tvalidation_1-merror:0.07622\tvalidation_1-mlogloss:0.45196\n",
      "[4]\tvalidation_0-merror:0.04883\tvalidation_0-mlogloss:0.34628\tvalidation_1-merror:0.07332\tvalidation_1-mlogloss:0.38546\n",
      "[5]\tvalidation_0-merror:0.04805\tvalidation_0-mlogloss:0.29425\tvalidation_1-merror:0.07291\tvalidation_1-mlogloss:0.33894\n",
      "[6]\tvalidation_0-merror:0.04717\tvalidation_0-mlogloss:0.25690\tvalidation_1-merror:0.07332\tvalidation_1-mlogloss:0.30536\n",
      "[7]\tvalidation_0-merror:0.04580\tvalidation_0-mlogloss:0.22940\tvalidation_1-merror:0.07374\tvalidation_1-mlogloss:0.28196\n",
      "[8]\tvalidation_0-merror:0.04501\tvalidation_0-mlogloss:0.20799\tvalidation_1-merror:0.07332\tvalidation_1-mlogloss:0.26509\n",
      "[9]\tvalidation_0-merror:0.04413\tvalidation_0-mlogloss:0.19109\tvalidation_1-merror:0.07332\tvalidation_1-mlogloss:0.25419\n",
      "[10]\tvalidation_0-merror:0.04218\tvalidation_0-mlogloss:0.17802\tvalidation_1-merror:0.07374\tvalidation_1-mlogloss:0.24440\n",
      "[11]\tvalidation_0-merror:0.04139\tvalidation_0-mlogloss:0.16677\tvalidation_1-merror:0.07208\tvalidation_1-mlogloss:0.23794\n",
      "[12]\tvalidation_0-merror:0.04090\tvalidation_0-mlogloss:0.15877\tvalidation_1-merror:0.07332\tvalidation_1-mlogloss:0.23252\n",
      "[13]\tvalidation_0-merror:0.04032\tvalidation_0-mlogloss:0.15030\tvalidation_1-merror:0.07291\tvalidation_1-mlogloss:0.22906\n",
      "[14]\tvalidation_0-merror:0.03993\tvalidation_0-mlogloss:0.14448\tvalidation_1-merror:0.07332\tvalidation_1-mlogloss:0.22592\n",
      "[15]\tvalidation_0-merror:0.03895\tvalidation_0-mlogloss:0.13905\tvalidation_1-merror:0.07208\tvalidation_1-mlogloss:0.22332\n",
      "[16]\tvalidation_0-merror:0.03836\tvalidation_0-mlogloss:0.13480\tvalidation_1-merror:0.07208\tvalidation_1-mlogloss:0.22177\n",
      "[17]\tvalidation_0-merror:0.03777\tvalidation_0-mlogloss:0.13098\tvalidation_1-merror:0.07125\tvalidation_1-mlogloss:0.22085\n",
      "[18]\tvalidation_0-merror:0.03709\tvalidation_0-mlogloss:0.12739\tvalidation_1-merror:0.07084\tvalidation_1-mlogloss:0.21997\n",
      "[19]\tvalidation_0-merror:0.03650\tvalidation_0-mlogloss:0.12342\tvalidation_1-merror:0.07208\tvalidation_1-mlogloss:0.21909\n",
      "[20]\tvalidation_0-merror:0.03552\tvalidation_0-mlogloss:0.11978\tvalidation_1-merror:0.07167\tvalidation_1-mlogloss:0.21911\n",
      "[21]\tvalidation_0-merror:0.03523\tvalidation_0-mlogloss:0.11714\tvalidation_1-merror:0.07084\tvalidation_1-mlogloss:0.21775\n",
      "[22]\tvalidation_0-merror:0.03464\tvalidation_0-mlogloss:0.11530\tvalidation_1-merror:0.07125\tvalidation_1-mlogloss:0.21738\n",
      "[23]\tvalidation_0-merror:0.03386\tvalidation_0-mlogloss:0.11204\tvalidation_1-merror:0.07208\tvalidation_1-mlogloss:0.21618\n",
      "[24]\tvalidation_0-merror:0.03180\tvalidation_0-mlogloss:0.10784\tvalidation_1-merror:0.07332\tvalidation_1-mlogloss:0.21662\n",
      "[25]\tvalidation_0-merror:0.03122\tvalidation_0-mlogloss:0.10514\tvalidation_1-merror:0.07291\tvalidation_1-mlogloss:0.21643\n",
      "[26]\tvalidation_0-merror:0.03043\tvalidation_0-mlogloss:0.10304\tvalidation_1-merror:0.07125\tvalidation_1-mlogloss:0.21741\n",
      "[27]\tvalidation_0-merror:0.02975\tvalidation_0-mlogloss:0.10110\tvalidation_1-merror:0.07208\tvalidation_1-mlogloss:0.21737\n",
      "[28]\tvalidation_0-merror:0.02936\tvalidation_0-mlogloss:0.10004\tvalidation_1-merror:0.07208\tvalidation_1-mlogloss:0.21728\n",
      "[29]\tvalidation_0-merror:0.02897\tvalidation_0-mlogloss:0.09830\tvalidation_1-merror:0.07167\tvalidation_1-mlogloss:0.21725\n",
      "[30]\tvalidation_0-merror:0.02828\tvalidation_0-mlogloss:0.09578\tvalidation_1-merror:0.07291\tvalidation_1-mlogloss:0.21650\n",
      "[31]\tvalidation_0-merror:0.02779\tvalidation_0-mlogloss:0.09425\tvalidation_1-merror:0.07208\tvalidation_1-mlogloss:0.21571\n",
      "[32]\tvalidation_0-merror:0.02730\tvalidation_0-mlogloss:0.09196\tvalidation_1-merror:0.07291\tvalidation_1-mlogloss:0.21687\n",
      "[33]\tvalidation_0-merror:0.02642\tvalidation_0-mlogloss:0.08984\tvalidation_1-merror:0.07208\tvalidation_1-mlogloss:0.21710\n",
      "[34]\tvalidation_0-merror:0.02554\tvalidation_0-mlogloss:0.08777\tvalidation_1-merror:0.07208\tvalidation_1-mlogloss:0.21728\n",
      "[35]\tvalidation_0-merror:0.02427\tvalidation_0-mlogloss:0.08505\tvalidation_1-merror:0.07084\tvalidation_1-mlogloss:0.21823\n",
      "[36]\tvalidation_0-merror:0.02397\tvalidation_0-mlogloss:0.08363\tvalidation_1-merror:0.07125\tvalidation_1-mlogloss:0.21896\n",
      "[37]\tvalidation_0-merror:0.02368\tvalidation_0-mlogloss:0.08294\tvalidation_1-merror:0.07125\tvalidation_1-mlogloss:0.22015\n",
      "[38]\tvalidation_0-merror:0.02221\tvalidation_0-mlogloss:0.07997\tvalidation_1-merror:0.07042\tvalidation_1-mlogloss:0.22069\n",
      "[39]\tvalidation_0-merror:0.02153\tvalidation_0-mlogloss:0.07865\tvalidation_1-merror:0.07042\tvalidation_1-mlogloss:0.22132\n",
      "[40]\tvalidation_0-merror:0.02153\tvalidation_0-mlogloss:0.07811\tvalidation_1-merror:0.07125\tvalidation_1-mlogloss:0.22298\n",
      "[41]\tvalidation_0-merror:0.02075\tvalidation_0-mlogloss:0.07629\tvalidation_1-merror:0.07125\tvalidation_1-mlogloss:0.22355\n",
      "[42]\tvalidation_0-merror:0.02075\tvalidation_0-mlogloss:0.07525\tvalidation_1-merror:0.07208\tvalidation_1-mlogloss:0.22384\n",
      "[43]\tvalidation_0-merror:0.02016\tvalidation_0-mlogloss:0.07276\tvalidation_1-merror:0.07167\tvalidation_1-mlogloss:0.22376\n",
      "[44]\tvalidation_0-merror:0.01986\tvalidation_0-mlogloss:0.07132\tvalidation_1-merror:0.07084\tvalidation_1-mlogloss:0.22455\n",
      "[45]\tvalidation_0-merror:0.01957\tvalidation_0-mlogloss:0.07021\tvalidation_1-merror:0.07084\tvalidation_1-mlogloss:0.22459\n",
      "[46]\tvalidation_0-merror:0.01859\tvalidation_0-mlogloss:0.06793\tvalidation_1-merror:0.06918\tvalidation_1-mlogloss:0.22468\n",
      "[47]\tvalidation_0-merror:0.01849\tvalidation_0-mlogloss:0.06721\tvalidation_1-merror:0.06918\tvalidation_1-mlogloss:0.22503\n",
      "[48]\tvalidation_0-merror:0.01761\tvalidation_0-mlogloss:0.06593\tvalidation_1-merror:0.06918\tvalidation_1-mlogloss:0.22535\n",
      "[49]\tvalidation_0-merror:0.01742\tvalidation_0-mlogloss:0.06444\tvalidation_1-merror:0.06959\tvalidation_1-mlogloss:0.22466\n",
      "[50]\tvalidation_0-merror:0.01722\tvalidation_0-mlogloss:0.06319\tvalidation_1-merror:0.06959\tvalidation_1-mlogloss:0.22534\n",
      "[51]\tvalidation_0-merror:0.01673\tvalidation_0-mlogloss:0.06192\tvalidation_1-merror:0.07001\tvalidation_1-mlogloss:0.22539\n",
      "[52]\tvalidation_0-merror:0.01556\tvalidation_0-mlogloss:0.06024\tvalidation_1-merror:0.07001\tvalidation_1-mlogloss:0.22675\n",
      "[53]\tvalidation_0-merror:0.01517\tvalidation_0-mlogloss:0.05894\tvalidation_1-merror:0.06959\tvalidation_1-mlogloss:0.22874\n",
      "[54]\tvalidation_0-merror:0.01419\tvalidation_0-mlogloss:0.05715\tvalidation_1-merror:0.07042\tvalidation_1-mlogloss:0.22886\n",
      "[55]\tvalidation_0-merror:0.01380\tvalidation_0-mlogloss:0.05530\tvalidation_1-merror:0.07001\tvalidation_1-mlogloss:0.22909\n",
      "[56]\tvalidation_0-merror:0.01380\tvalidation_0-mlogloss:0.05484\tvalidation_1-merror:0.07001\tvalidation_1-mlogloss:0.22904\n",
      "[57]\tvalidation_0-merror:0.01350\tvalidation_0-mlogloss:0.05423\tvalidation_1-merror:0.07042\tvalidation_1-mlogloss:0.22988\n",
      "[58]\tvalidation_0-merror:0.01243\tvalidation_0-mlogloss:0.05286\tvalidation_1-merror:0.07084\tvalidation_1-mlogloss:0.23017\n",
      "[59]\tvalidation_0-merror:0.01174\tvalidation_0-mlogloss:0.05152\tvalidation_1-merror:0.07001\tvalidation_1-mlogloss:0.23091\n",
      "[60]\tvalidation_0-merror:0.01135\tvalidation_0-mlogloss:0.04993\tvalidation_1-merror:0.07042\tvalidation_1-mlogloss:0.23160\n",
      "[61]\tvalidation_0-merror:0.01135\tvalidation_0-mlogloss:0.04954\tvalidation_1-merror:0.07042\tvalidation_1-mlogloss:0.23323\n",
      "[62]\tvalidation_0-merror:0.01086\tvalidation_0-mlogloss:0.04836\tvalidation_1-merror:0.07084\tvalidation_1-mlogloss:0.23394\n",
      "[63]\tvalidation_0-merror:0.01008\tvalidation_0-mlogloss:0.04775\tvalidation_1-merror:0.06959\tvalidation_1-mlogloss:0.23493\n",
      "[64]\tvalidation_0-merror:0.00998\tvalidation_0-mlogloss:0.04680\tvalidation_1-merror:0.07167\tvalidation_1-mlogloss:0.23603\n",
      "[65]\tvalidation_0-merror:0.00949\tvalidation_0-mlogloss:0.04553\tvalidation_1-merror:0.07125\tvalidation_1-mlogloss:0.23615\n",
      "[66]\tvalidation_0-merror:0.00920\tvalidation_0-mlogloss:0.04508\tvalidation_1-merror:0.07125\tvalidation_1-mlogloss:0.23689\n",
      "[67]\tvalidation_0-merror:0.00900\tvalidation_0-mlogloss:0.04445\tvalidation_1-merror:0.07125\tvalidation_1-mlogloss:0.23787\n"
     ]
    },
    {
     "name": "stdout",
     "output_type": "stream",
     "text": [
      "[68]\tvalidation_0-merror:0.00851\tvalidation_0-mlogloss:0.04348\tvalidation_1-merror:0.07125\tvalidation_1-mlogloss:0.23733\n",
      "[69]\tvalidation_0-merror:0.00832\tvalidation_0-mlogloss:0.04270\tvalidation_1-merror:0.07084\tvalidation_1-mlogloss:0.23803\n",
      "[70]\tvalidation_0-merror:0.00793\tvalidation_0-mlogloss:0.04156\tvalidation_1-merror:0.07125\tvalidation_1-mlogloss:0.23937\n",
      "[71]\tvalidation_0-merror:0.00753\tvalidation_0-mlogloss:0.04090\tvalidation_1-merror:0.07042\tvalidation_1-mlogloss:0.23913\n",
      "[72]\tvalidation_0-merror:0.00744\tvalidation_0-mlogloss:0.04075\tvalidation_1-merror:0.07042\tvalidation_1-mlogloss:0.23948\n",
      "[73]\tvalidation_0-merror:0.00744\tvalidation_0-mlogloss:0.03982\tvalidation_1-merror:0.07042\tvalidation_1-mlogloss:0.23989\n",
      "[74]\tvalidation_0-merror:0.00695\tvalidation_0-mlogloss:0.03885\tvalidation_1-merror:0.07125\tvalidation_1-mlogloss:0.24115\n",
      "[75]\tvalidation_0-merror:0.00685\tvalidation_0-mlogloss:0.03845\tvalidation_1-merror:0.07125\tvalidation_1-mlogloss:0.24142\n",
      "[76]\tvalidation_0-merror:0.00675\tvalidation_0-mlogloss:0.03806\tvalidation_1-merror:0.07167\tvalidation_1-mlogloss:0.24288\n",
      "[77]\tvalidation_0-merror:0.00675\tvalidation_0-mlogloss:0.03766\tvalidation_1-merror:0.07167\tvalidation_1-mlogloss:0.24294\n",
      "[78]\tvalidation_0-merror:0.00646\tvalidation_0-mlogloss:0.03728\tvalidation_1-merror:0.07167\tvalidation_1-mlogloss:0.24351\n",
      "[79]\tvalidation_0-merror:0.00636\tvalidation_0-mlogloss:0.03712\tvalidation_1-merror:0.07167\tvalidation_1-mlogloss:0.24375\n",
      "[80]\tvalidation_0-merror:0.00607\tvalidation_0-mlogloss:0.03665\tvalidation_1-merror:0.07125\tvalidation_1-mlogloss:0.24422\n",
      "[81]\tvalidation_0-merror:0.00587\tvalidation_0-mlogloss:0.03634\tvalidation_1-merror:0.07125\tvalidation_1-mlogloss:0.24447\n",
      "[82]\tvalidation_0-merror:0.00568\tvalidation_0-mlogloss:0.03576\tvalidation_1-merror:0.07084\tvalidation_1-mlogloss:0.24476\n",
      "[83]\tvalidation_0-merror:0.00548\tvalidation_0-mlogloss:0.03498\tvalidation_1-merror:0.07167\tvalidation_1-mlogloss:0.24493\n",
      "[84]\tvalidation_0-merror:0.00548\tvalidation_0-mlogloss:0.03461\tvalidation_1-merror:0.07125\tvalidation_1-mlogloss:0.24545\n",
      "[85]\tvalidation_0-merror:0.00519\tvalidation_0-mlogloss:0.03400\tvalidation_1-merror:0.07167\tvalidation_1-mlogloss:0.24587\n",
      "[86]\tvalidation_0-merror:0.00519\tvalidation_0-mlogloss:0.03344\tvalidation_1-merror:0.07208\tvalidation_1-mlogloss:0.24733\n",
      "[87]\tvalidation_0-merror:0.00489\tvalidation_0-mlogloss:0.03262\tvalidation_1-merror:0.07167\tvalidation_1-mlogloss:0.24750\n",
      "[88]\tvalidation_0-merror:0.00489\tvalidation_0-mlogloss:0.03195\tvalidation_1-merror:0.07084\tvalidation_1-mlogloss:0.24848\n",
      "[89]\tvalidation_0-merror:0.00450\tvalidation_0-mlogloss:0.03119\tvalidation_1-merror:0.07042\tvalidation_1-mlogloss:0.24884\n",
      "[90]\tvalidation_0-merror:0.00431\tvalidation_0-mlogloss:0.03056\tvalidation_1-merror:0.07084\tvalidation_1-mlogloss:0.25053\n",
      "[91]\tvalidation_0-merror:0.00382\tvalidation_0-mlogloss:0.02947\tvalidation_1-merror:0.07125\tvalidation_1-mlogloss:0.25041\n",
      "[92]\tvalidation_0-merror:0.00382\tvalidation_0-mlogloss:0.02912\tvalidation_1-merror:0.07084\tvalidation_1-mlogloss:0.25025\n",
      "[93]\tvalidation_0-merror:0.00372\tvalidation_0-mlogloss:0.02861\tvalidation_1-merror:0.07001\tvalidation_1-mlogloss:0.25161\n",
      "[94]\tvalidation_0-merror:0.00342\tvalidation_0-mlogloss:0.02798\tvalidation_1-merror:0.07042\tvalidation_1-mlogloss:0.25228\n",
      "[95]\tvalidation_0-merror:0.00342\tvalidation_0-mlogloss:0.02739\tvalidation_1-merror:0.06959\tvalidation_1-mlogloss:0.25299\n",
      "[96]\tvalidation_0-merror:0.00342\tvalidation_0-mlogloss:0.02703\tvalidation_1-merror:0.07042\tvalidation_1-mlogloss:0.25411\n",
      "[97]\tvalidation_0-merror:0.00333\tvalidation_0-mlogloss:0.02670\tvalidation_1-merror:0.07084\tvalidation_1-mlogloss:0.25406\n",
      "[98]\tvalidation_0-merror:0.00323\tvalidation_0-mlogloss:0.02622\tvalidation_1-merror:0.07042\tvalidation_1-mlogloss:0.25532\n",
      "[99]\tvalidation_0-merror:0.00303\tvalidation_0-mlogloss:0.02559\tvalidation_1-merror:0.07042\tvalidation_1-mlogloss:0.25726\n"
     ]
    }
   ],
   "source": [
    "from numpy import loadtxt\n",
    "from xgboost import XGBClassifier\n",
    "from sklearn.metrics import precision_score, recall_score, f1_score, accuracy_score\n",
    "from matplotlib import pyplot\n",
    "\n",
    "# fit model no training data\n",
    "model = XGBClassifier(eval_metric=[\"merror\", \"mlogloss\"])\n",
    "eval_set = [(X_train, y_train), (X_val, y_val)]\n",
    "model.fit(X_train, y_train, eval_set=eval_set, verbose=True)\n",
    "\n",
    "# make predictions for test data\n",
    "y_pred = model.predict(X_test)"
   ]
  },
  {
   "cell_type": "code",
   "execution_count": 77,
   "id": "800797aa",
   "metadata": {},
   "outputs": [
    {
     "data": {
      "image/png": "[encoded data removed]",
      "text/plain": [
       "<Figure size 640x480 with 1 Axes>"
      ]
     },
     "metadata": {},
     "output_type": "display_data"
    },
    {
     "data": {
      "image/png": "[encoded data removed]",
      "text/plain": [
       "<Figure size 640x480 with 1 Axes>"
      ]
     },
     "metadata": {},
     "output_type": "display_data"
    }
   ],
   "source": [
    "# retrieve performance metrics\n",
    "results = model.evals_result()\n",
    "epochs = len(results['validation_0']['merror'])\n",
    "x_axis = range(0, epochs)\n",
    "\n",
    "# plot log loss\n",
    "fig, ax = pyplot.subplots()\n",
    "ax.plot(x_axis, results['validation_0']['mlogloss'], label='Train')\n",
    "ax.plot(x_axis, results['validation_1']['mlogloss'], label='Test')\n",
    "ax.legend()\n",
    "pyplot.ylabel('Log Loss')\n",
    "pyplot.title('XGBoost Log Loss')\n",
    "pyplot.show()\n",
    "\n",
    "# plot classification error\n",
    "fig, ax = pyplot.subplots()\n",
    "ax.plot(x_axis, results['validation_0']['merror'], label='Train')\n",
    "ax.plot(x_axis, results['validation_1']['merror'], label='Test')\n",
    "ax.legend()\n",
    "pyplot.ylabel('Classification Error')\n",
    "pyplot.title('XGBoost Classification Error')\n",
    "pyplot.show()"
   ]
  },
  {
   "cell_type": "code",
   "execution_count": 78,
   "id": "0efd3e30",
   "metadata": {},
   "outputs": [
    {
     "data": {
      "image/png": "[encoded data removed]",
      "text/plain": [
       "<Figure size 700x700 with 1 Axes>"
      ]
     },
     "metadata": {},
     "output_type": "display_data"
    }
   ],
   "source": [
    "evaluate_model(y_test, y_pred, 'With Early Stopping')"
   ]
  },
  {
   "cell_type": "code",
   "execution_count": 79,
   "id": "e1f0a378",
   "metadata": {
    "scrolled": false
   },
   "outputs": [
    {
     "name": "stdout",
     "output_type": "stream",
     "text": [
      "Accuracy: 90.80%\n",
      "Confusion Matrix:\n",
      " [[8730  279    8    0    0]\n",
      " [ 519  452   21    0    0]\n",
      " [  42   53   15    0    0]\n",
      " [   4    4    1    0    0]\n",
      " [   0    1    0    0    0]]\n",
      "Classification Report:\n",
      "               precision    recall  f1-score   support\n",
      "\n",
      "         0.0       0.94      0.97      0.95      9017\n",
      "         1.0       0.57      0.46      0.51       992\n",
      "         2.0       0.33      0.14      0.19       110\n",
      "         3.0       1.00      0.00      0.00         9\n",
      "         4.0       1.00      0.00      0.00         1\n",
      "\n",
      "    accuracy                           0.91     10129\n",
      "   macro avg       0.77      0.31      0.33     10129\n",
      "weighted avg       0.90      0.91      0.90     10129\n",
      "\n"
     ]
    }
   ],
   "source": [
    "# Predição\n",
    "y_pred = model.predict(X_test)\n",
    "\n",
    "# Classification report conforme requisitado\n",
    "accuracy = accuracy_score(y_test, y_pred)\n",
    "confusion = confusion_matrix(y_test, y_pred)\n",
    "classification_rep = classification_report(y_test, y_pred, zero_division=1)\n",
    "\n",
    "print(f\"Accuracy: {accuracy * 100:.2f}%\")\n",
    "print(\"Confusion Matrix:\\n\", confusion)\n",
    "print(\"Classification Report:\\n\", classification_rep)"
   ]
  },
  {
   "cell_type": "markdown",
   "id": "a41e1021",
   "metadata": {},
   "source": [
    "#### Resultados A636\n",
    "- F1 Classe 1 antigo: 0.62\n",
    "- F1 Classe 1 novo: 0.57\n",
    "- F1 Classe 1,2,3,4: 0.51, 0.19, 0 e 0"
   ]
  },
  {
   "cell_type": "markdown",
   "id": "db11462f",
   "metadata": {},
   "source": [
    "### Dataset A652"
   ]
  },
  {
   "cell_type": "code",
   "execution_count": 80,
   "id": "c263214a",
   "metadata": {},
   "outputs": [],
   "source": [
    "(X_train , y_train , X_val , y_val , X_test , y_test) = pickle.load(fileA652)"
   ]
  },
  {
   "cell_type": "code",
   "execution_count": 81,
   "id": "2c0e3be7",
   "metadata": {},
   "outputs": [],
   "source": [
    "# Preprocessamento (Botando as classes)\n",
    "y_train[(y_train > 0) & (y_train <= 5)] = 1\n",
    "y_val[(y_val > 0) & (y_val <= 5)] = 1\n",
    "y_test[(y_test > 0) & (y_test <= 5)] = 1\n",
    "\n",
    "y_train[(y_train > 5) & (y_train <= 25)] = 2\n",
    "y_val[(y_val > 5) & (y_val <= 25)] = 2\n",
    "y_test[(y_test > 5) & (y_test <= 25)] = 2\n",
    "\n",
    "y_train[(y_train > 25) & (y_train <= 50)] = 3\n",
    "y_val[(y_val > 25) & (y_val <= 50)] = 3\n",
    "y_test[(y_test > 25) & (y_test <= 50)] = 3\n",
    "\n",
    "y_train[y_train > 50] = 4\n",
    "y_val[y_val > 50] = 4\n",
    "y_test[y_test > 50] = 4\n",
    "\n",
    "# Transformando 2D array em 1D array\n",
    "y_train = y_train.flatten()\n",
    "y_val = y_val.flatten()\n",
    "y_test = y_test.flatten()"
   ]
  },
  {
   "cell_type": "code",
   "execution_count": 82,
   "id": "3add4718",
   "metadata": {},
   "outputs": [
    {
     "name": "stdout",
     "output_type": "stream",
     "text": [
      "[0]\tvalidation_0-merror:0.04335\tvalidation_0-mlogloss:0.90717\tvalidation_1-merror:0.06385\tvalidation_1-mlogloss:0.92281\n",
      "[1]\tvalidation_0-merror:0.04055\tvalidation_0-mlogloss:0.65691\tvalidation_1-merror:0.06544\tvalidation_1-mlogloss:0.68614\n",
      "[2]\tvalidation_0-merror:0.03795\tvalidation_0-mlogloss:0.49783\tvalidation_1-merror:0.06345\tvalidation_1-mlogloss:0.53463\n",
      "[3]\tvalidation_0-merror:0.03626\tvalidation_0-mlogloss:0.38981\tvalidation_1-merror:0.06425\tvalidation_1-mlogloss:0.43522\n",
      "[4]\tvalidation_0-merror:0.03436\tvalidation_0-mlogloss:0.31422\tvalidation_1-merror:0.06425\tvalidation_1-mlogloss:0.36457\n",
      "[5]\tvalidation_0-merror:0.03286\tvalidation_0-mlogloss:0.25939\tvalidation_1-merror:0.06265\tvalidation_1-mlogloss:0.31513\n",
      "[6]\tvalidation_0-merror:0.03226\tvalidation_0-mlogloss:0.21969\tvalidation_1-merror:0.06425\tvalidation_1-mlogloss:0.27891\n",
      "[7]\tvalidation_0-merror:0.03126\tvalidation_0-mlogloss:0.19003\tvalidation_1-merror:0.06345\tvalidation_1-mlogloss:0.25305\n",
      "[8]\tvalidation_0-merror:0.03016\tvalidation_0-mlogloss:0.16722\tvalidation_1-merror:0.06544\tvalidation_1-mlogloss:0.23547\n",
      "[9]\tvalidation_0-merror:0.02966\tvalidation_0-mlogloss:0.15029\tvalidation_1-merror:0.06704\tvalidation_1-mlogloss:0.22170\n",
      "[10]\tvalidation_0-merror:0.02926\tvalidation_0-mlogloss:0.13646\tvalidation_1-merror:0.06744\tvalidation_1-mlogloss:0.21110\n",
      "[11]\tvalidation_0-merror:0.02907\tvalidation_0-mlogloss:0.12548\tvalidation_1-merror:0.06704\tvalidation_1-mlogloss:0.20356\n",
      "[12]\tvalidation_0-merror:0.02777\tvalidation_0-mlogloss:0.11574\tvalidation_1-merror:0.06744\tvalidation_1-mlogloss:0.19849\n",
      "[13]\tvalidation_0-merror:0.02677\tvalidation_0-mlogloss:0.10836\tvalidation_1-merror:0.06744\tvalidation_1-mlogloss:0.19554\n",
      "[14]\tvalidation_0-merror:0.02627\tvalidation_0-mlogloss:0.10230\tvalidation_1-merror:0.06664\tvalidation_1-mlogloss:0.19211\n",
      "[15]\tvalidation_0-merror:0.02607\tvalidation_0-mlogloss:0.09756\tvalidation_1-merror:0.06824\tvalidation_1-mlogloss:0.19093\n",
      "[16]\tvalidation_0-merror:0.02497\tvalidation_0-mlogloss:0.09283\tvalidation_1-merror:0.06824\tvalidation_1-mlogloss:0.18879\n",
      "[17]\tvalidation_0-merror:0.02457\tvalidation_0-mlogloss:0.08936\tvalidation_1-merror:0.06943\tvalidation_1-mlogloss:0.18927\n",
      "[18]\tvalidation_0-merror:0.02437\tvalidation_0-mlogloss:0.08633\tvalidation_1-merror:0.06983\tvalidation_1-mlogloss:0.19036\n",
      "[19]\tvalidation_0-merror:0.02397\tvalidation_0-mlogloss:0.08392\tvalidation_1-merror:0.07063\tvalidation_1-mlogloss:0.19163\n",
      "[20]\tvalidation_0-merror:0.02377\tvalidation_0-mlogloss:0.08158\tvalidation_1-merror:0.07103\tvalidation_1-mlogloss:0.19325\n",
      "[21]\tvalidation_0-merror:0.02307\tvalidation_0-mlogloss:0.07877\tvalidation_1-merror:0.07302\tvalidation_1-mlogloss:0.19373\n",
      "[22]\tvalidation_0-merror:0.02247\tvalidation_0-mlogloss:0.07658\tvalidation_1-merror:0.07183\tvalidation_1-mlogloss:0.19335\n",
      "[23]\tvalidation_0-merror:0.02227\tvalidation_0-mlogloss:0.07491\tvalidation_1-merror:0.07382\tvalidation_1-mlogloss:0.19511\n",
      "[24]\tvalidation_0-merror:0.02117\tvalidation_0-mlogloss:0.07239\tvalidation_1-merror:0.07382\tvalidation_1-mlogloss:0.19430\n",
      "[25]\tvalidation_0-merror:0.02018\tvalidation_0-mlogloss:0.07078\tvalidation_1-merror:0.07382\tvalidation_1-mlogloss:0.19535\n",
      "[26]\tvalidation_0-merror:0.01988\tvalidation_0-mlogloss:0.06830\tvalidation_1-merror:0.07422\tvalidation_1-mlogloss:0.19589\n",
      "[27]\tvalidation_0-merror:0.01968\tvalidation_0-mlogloss:0.06645\tvalidation_1-merror:0.07462\tvalidation_1-mlogloss:0.19667\n",
      "[28]\tvalidation_0-merror:0.01848\tvalidation_0-mlogloss:0.06345\tvalidation_1-merror:0.07502\tvalidation_1-mlogloss:0.19662\n",
      "[29]\tvalidation_0-merror:0.01768\tvalidation_0-mlogloss:0.06178\tvalidation_1-merror:0.07422\tvalidation_1-mlogloss:0.19947\n",
      "[30]\tvalidation_0-merror:0.01738\tvalidation_0-mlogloss:0.06002\tvalidation_1-merror:0.07382\tvalidation_1-mlogloss:0.19960\n",
      "[31]\tvalidation_0-merror:0.01718\tvalidation_0-mlogloss:0.05919\tvalidation_1-merror:0.07263\tvalidation_1-mlogloss:0.20197\n",
      "[32]\tvalidation_0-merror:0.01658\tvalidation_0-mlogloss:0.05742\tvalidation_1-merror:0.07302\tvalidation_1-mlogloss:0.20227\n",
      "[33]\tvalidation_0-merror:0.01638\tvalidation_0-mlogloss:0.05585\tvalidation_1-merror:0.07302\tvalidation_1-mlogloss:0.20253\n",
      "[34]\tvalidation_0-merror:0.01488\tvalidation_0-mlogloss:0.05418\tvalidation_1-merror:0.07302\tvalidation_1-mlogloss:0.20303\n",
      "[35]\tvalidation_0-merror:0.01448\tvalidation_0-mlogloss:0.05322\tvalidation_1-merror:0.07342\tvalidation_1-mlogloss:0.20346\n",
      "[36]\tvalidation_0-merror:0.01368\tvalidation_0-mlogloss:0.05152\tvalidation_1-merror:0.07342\tvalidation_1-mlogloss:0.20487\n",
      "[37]\tvalidation_0-merror:0.01338\tvalidation_0-mlogloss:0.05038\tvalidation_1-merror:0.07223\tvalidation_1-mlogloss:0.20482\n",
      "[38]\tvalidation_0-merror:0.01308\tvalidation_0-mlogloss:0.04943\tvalidation_1-merror:0.07342\tvalidation_1-mlogloss:0.20805\n",
      "[39]\tvalidation_0-merror:0.01258\tvalidation_0-mlogloss:0.04810\tvalidation_1-merror:0.07662\tvalidation_1-mlogloss:0.21086\n",
      "[40]\tvalidation_0-merror:0.01219\tvalidation_0-mlogloss:0.04667\tvalidation_1-merror:0.07622\tvalidation_1-mlogloss:0.21144\n",
      "[41]\tvalidation_0-merror:0.01139\tvalidation_0-mlogloss:0.04513\tvalidation_1-merror:0.07702\tvalidation_1-mlogloss:0.21304\n",
      "[42]\tvalidation_0-merror:0.01119\tvalidation_0-mlogloss:0.04439\tvalidation_1-merror:0.07702\tvalidation_1-mlogloss:0.21265\n",
      "[43]\tvalidation_0-merror:0.01109\tvalidation_0-mlogloss:0.04388\tvalidation_1-merror:0.07821\tvalidation_1-mlogloss:0.21278\n",
      "[44]\tvalidation_0-merror:0.01059\tvalidation_0-mlogloss:0.04269\tvalidation_1-merror:0.07781\tvalidation_1-mlogloss:0.21573\n",
      "[45]\tvalidation_0-merror:0.00969\tvalidation_0-mlogloss:0.04159\tvalidation_1-merror:0.07821\tvalidation_1-mlogloss:0.21591\n",
      "[46]\tvalidation_0-merror:0.00919\tvalidation_0-mlogloss:0.04044\tvalidation_1-merror:0.07702\tvalidation_1-mlogloss:0.21780\n",
      "[47]\tvalidation_0-merror:0.00889\tvalidation_0-mlogloss:0.03968\tvalidation_1-merror:0.07662\tvalidation_1-mlogloss:0.21745\n",
      "[48]\tvalidation_0-merror:0.00859\tvalidation_0-mlogloss:0.03866\tvalidation_1-merror:0.07662\tvalidation_1-mlogloss:0.21758\n",
      "[49]\tvalidation_0-merror:0.00799\tvalidation_0-mlogloss:0.03697\tvalidation_1-merror:0.07662\tvalidation_1-mlogloss:0.21803\n",
      "[50]\tvalidation_0-merror:0.00779\tvalidation_0-mlogloss:0.03632\tvalidation_1-merror:0.07702\tvalidation_1-mlogloss:0.21820\n",
      "[51]\tvalidation_0-merror:0.00779\tvalidation_0-mlogloss:0.03584\tvalidation_1-merror:0.07781\tvalidation_1-mlogloss:0.21998\n",
      "[52]\tvalidation_0-merror:0.00719\tvalidation_0-mlogloss:0.03486\tvalidation_1-merror:0.07702\tvalidation_1-mlogloss:0.22003\n",
      "[53]\tvalidation_0-merror:0.00699\tvalidation_0-mlogloss:0.03422\tvalidation_1-merror:0.07662\tvalidation_1-mlogloss:0.21999\n",
      "[54]\tvalidation_0-merror:0.00669\tvalidation_0-mlogloss:0.03345\tvalidation_1-merror:0.07702\tvalidation_1-mlogloss:0.22061\n",
      "[55]\tvalidation_0-merror:0.00619\tvalidation_0-mlogloss:0.03291\tvalidation_1-merror:0.07702\tvalidation_1-mlogloss:0.22372\n",
      "[56]\tvalidation_0-merror:0.00629\tvalidation_0-mlogloss:0.03153\tvalidation_1-merror:0.07702\tvalidation_1-mlogloss:0.22370\n",
      "[57]\tvalidation_0-merror:0.00579\tvalidation_0-mlogloss:0.03079\tvalidation_1-merror:0.07741\tvalidation_1-mlogloss:0.22391\n",
      "[58]\tvalidation_0-merror:0.00489\tvalidation_0-mlogloss:0.02996\tvalidation_1-merror:0.07582\tvalidation_1-mlogloss:0.22452\n",
      "[59]\tvalidation_0-merror:0.00439\tvalidation_0-mlogloss:0.02929\tvalidation_1-merror:0.07702\tvalidation_1-mlogloss:0.22633\n",
      "[60]\tvalidation_0-merror:0.00439\tvalidation_0-mlogloss:0.02865\tvalidation_1-merror:0.07582\tvalidation_1-mlogloss:0.22623\n",
      "[61]\tvalidation_0-merror:0.00429\tvalidation_0-mlogloss:0.02754\tvalidation_1-merror:0.07622\tvalidation_1-mlogloss:0.22772\n",
      "[62]\tvalidation_0-merror:0.00419\tvalidation_0-mlogloss:0.02657\tvalidation_1-merror:0.07662\tvalidation_1-mlogloss:0.22752\n",
      "[63]\tvalidation_0-merror:0.00419\tvalidation_0-mlogloss:0.02609\tvalidation_1-merror:0.07462\tvalidation_1-mlogloss:0.22864\n",
      "[64]\tvalidation_0-merror:0.00400\tvalidation_0-mlogloss:0.02556\tvalidation_1-merror:0.07422\tvalidation_1-mlogloss:0.22859\n",
      "[65]\tvalidation_0-merror:0.00400\tvalidation_0-mlogloss:0.02526\tvalidation_1-merror:0.07502\tvalidation_1-mlogloss:0.22960\n",
      "[66]\tvalidation_0-merror:0.00390\tvalidation_0-mlogloss:0.02478\tvalidation_1-merror:0.07422\tvalidation_1-mlogloss:0.23092\n",
      "[67]\tvalidation_0-merror:0.00370\tvalidation_0-mlogloss:0.02453\tvalidation_1-merror:0.07382\tvalidation_1-mlogloss:0.23161\n"
     ]
    },
    {
     "name": "stdout",
     "output_type": "stream",
     "text": [
      "[68]\tvalidation_0-merror:0.00330\tvalidation_0-mlogloss:0.02396\tvalidation_1-merror:0.07422\tvalidation_1-mlogloss:0.23103\n",
      "[69]\tvalidation_0-merror:0.00260\tvalidation_0-mlogloss:0.02324\tvalidation_1-merror:0.07422\tvalidation_1-mlogloss:0.23150\n",
      "[70]\tvalidation_0-merror:0.00230\tvalidation_0-mlogloss:0.02263\tvalidation_1-merror:0.07462\tvalidation_1-mlogloss:0.23103\n",
      "[71]\tvalidation_0-merror:0.00230\tvalidation_0-mlogloss:0.02225\tvalidation_1-merror:0.07462\tvalidation_1-mlogloss:0.23161\n",
      "[72]\tvalidation_0-merror:0.00210\tvalidation_0-mlogloss:0.02177\tvalidation_1-merror:0.07462\tvalidation_1-mlogloss:0.23242\n",
      "[73]\tvalidation_0-merror:0.00190\tvalidation_0-mlogloss:0.02132\tvalidation_1-merror:0.07462\tvalidation_1-mlogloss:0.23273\n",
      "[74]\tvalidation_0-merror:0.00180\tvalidation_0-mlogloss:0.02114\tvalidation_1-merror:0.07502\tvalidation_1-mlogloss:0.23390\n",
      "[75]\tvalidation_0-merror:0.00180\tvalidation_0-mlogloss:0.02091\tvalidation_1-merror:0.07422\tvalidation_1-mlogloss:0.23395\n",
      "[76]\tvalidation_0-merror:0.00130\tvalidation_0-mlogloss:0.02023\tvalidation_1-merror:0.07462\tvalidation_1-mlogloss:0.23522\n",
      "[77]\tvalidation_0-merror:0.00100\tvalidation_0-mlogloss:0.01950\tvalidation_1-merror:0.07422\tvalidation_1-mlogloss:0.23436\n",
      "[78]\tvalidation_0-merror:0.00080\tvalidation_0-mlogloss:0.01899\tvalidation_1-merror:0.07462\tvalidation_1-mlogloss:0.23462\n",
      "[79]\tvalidation_0-merror:0.00080\tvalidation_0-mlogloss:0.01871\tvalidation_1-merror:0.07462\tvalidation_1-mlogloss:0.23365\n",
      "[80]\tvalidation_0-merror:0.00080\tvalidation_0-mlogloss:0.01817\tvalidation_1-merror:0.07462\tvalidation_1-mlogloss:0.23353\n",
      "[81]\tvalidation_0-merror:0.00080\tvalidation_0-mlogloss:0.01759\tvalidation_1-merror:0.07502\tvalidation_1-mlogloss:0.23321\n",
      "[82]\tvalidation_0-merror:0.00080\tvalidation_0-mlogloss:0.01737\tvalidation_1-merror:0.07502\tvalidation_1-mlogloss:0.23312\n",
      "[83]\tvalidation_0-merror:0.00080\tvalidation_0-mlogloss:0.01709\tvalidation_1-merror:0.07542\tvalidation_1-mlogloss:0.23495\n",
      "[84]\tvalidation_0-merror:0.00060\tvalidation_0-mlogloss:0.01666\tvalidation_1-merror:0.07542\tvalidation_1-mlogloss:0.23524\n",
      "[85]\tvalidation_0-merror:0.00050\tvalidation_0-mlogloss:0.01644\tvalidation_1-merror:0.07582\tvalidation_1-mlogloss:0.23575\n",
      "[86]\tvalidation_0-merror:0.00050\tvalidation_0-mlogloss:0.01602\tvalidation_1-merror:0.07502\tvalidation_1-mlogloss:0.23630\n",
      "[87]\tvalidation_0-merror:0.00050\tvalidation_0-mlogloss:0.01559\tvalidation_1-merror:0.07542\tvalidation_1-mlogloss:0.23742\n",
      "[88]\tvalidation_0-merror:0.00040\tvalidation_0-mlogloss:0.01519\tvalidation_1-merror:0.07582\tvalidation_1-mlogloss:0.23821\n",
      "[89]\tvalidation_0-merror:0.00040\tvalidation_0-mlogloss:0.01491\tvalidation_1-merror:0.07502\tvalidation_1-mlogloss:0.23864\n",
      "[90]\tvalidation_0-merror:0.00040\tvalidation_0-mlogloss:0.01451\tvalidation_1-merror:0.07502\tvalidation_1-mlogloss:0.24017\n",
      "[91]\tvalidation_0-merror:0.00030\tvalidation_0-mlogloss:0.01421\tvalidation_1-merror:0.07382\tvalidation_1-mlogloss:0.24081\n",
      "[92]\tvalidation_0-merror:0.00030\tvalidation_0-mlogloss:0.01398\tvalidation_1-merror:0.07382\tvalidation_1-mlogloss:0.24126\n",
      "[93]\tvalidation_0-merror:0.00020\tvalidation_0-mlogloss:0.01361\tvalidation_1-merror:0.07422\tvalidation_1-mlogloss:0.24089\n",
      "[94]\tvalidation_0-merror:0.00010\tvalidation_0-mlogloss:0.01337\tvalidation_1-merror:0.07302\tvalidation_1-mlogloss:0.24218\n",
      "[95]\tvalidation_0-merror:0.00010\tvalidation_0-mlogloss:0.01313\tvalidation_1-merror:0.07382\tvalidation_1-mlogloss:0.24263\n",
      "[96]\tvalidation_0-merror:0.00010\tvalidation_0-mlogloss:0.01293\tvalidation_1-merror:0.07342\tvalidation_1-mlogloss:0.24309\n",
      "[97]\tvalidation_0-merror:0.00010\tvalidation_0-mlogloss:0.01280\tvalidation_1-merror:0.07382\tvalidation_1-mlogloss:0.24380\n",
      "[98]\tvalidation_0-merror:0.00010\tvalidation_0-mlogloss:0.01261\tvalidation_1-merror:0.07342\tvalidation_1-mlogloss:0.24423\n",
      "[99]\tvalidation_0-merror:0.00010\tvalidation_0-mlogloss:0.01239\tvalidation_1-merror:0.07382\tvalidation_1-mlogloss:0.24430\n"
     ]
    }
   ],
   "source": [
    "from numpy import loadtxt\n",
    "from xgboost import XGBClassifier\n",
    "from sklearn.metrics import precision_score, recall_score, f1_score, accuracy_score\n",
    "from matplotlib import pyplot\n",
    "\n",
    "# fit model no training data\n",
    "model = XGBClassifier(eval_metric=[\"merror\", \"mlogloss\"])\n",
    "eval_set = [(X_train, y_train), (X_val, y_val)]\n",
    "model.fit(X_train, y_train, eval_set=eval_set, verbose=True)\n",
    "\n",
    "# make predictions for test data\n",
    "y_pred = model.predict(X_test)"
   ]
  },
  {
   "cell_type": "code",
   "execution_count": 83,
   "id": "194f6204",
   "metadata": {},
   "outputs": [
    {
     "data": {
      "image/png": "[encoded data removed]",
      "text/plain": [
       "<Figure size 640x480 with 1 Axes>"
      ]
     },
     "metadata": {},
     "output_type": "display_data"
    },
    {
     "data": {
      "image/png": "[encoded data removed]",
      "text/plain": [
       "<Figure size 640x480 with 1 Axes>"
      ]
     },
     "metadata": {},
     "output_type": "display_data"
    }
   ],
   "source": [
    "# retrieve performance metrics\n",
    "results = model.evals_result()\n",
    "epochs = len(results['validation_0']['merror'])\n",
    "x_axis = range(0, epochs)\n",
    "\n",
    "# plot log loss\n",
    "fig, ax = pyplot.subplots()\n",
    "ax.plot(x_axis, results['validation_0']['mlogloss'], label='Train')\n",
    "ax.plot(x_axis, results['validation_1']['mlogloss'], label='Test')\n",
    "ax.legend()\n",
    "pyplot.ylabel('Log Loss')\n",
    "pyplot.title('XGBoost Log Loss')\n",
    "pyplot.show()\n",
    "\n",
    "# plot classification error\n",
    "fig, ax = pyplot.subplots()\n",
    "ax.plot(x_axis, results['validation_0']['merror'], label='Train')\n",
    "ax.plot(x_axis, results['validation_1']['merror'], label='Test')\n",
    "ax.legend()\n",
    "pyplot.ylabel('Classification Error')\n",
    "pyplot.title('XGBoost Classification Error')\n",
    "pyplot.show()"
   ]
  },
  {
   "cell_type": "code",
   "execution_count": 84,
   "id": "f2bdc578",
   "metadata": {},
   "outputs": [
    {
     "data": {
      "image/png": "[encoded data removed]",
      "text/plain": [
       "<Figure size 700x700 with 1 Axes>"
      ]
     },
     "metadata": {},
     "output_type": "display_data"
    }
   ],
   "source": [
    "evaluate_model(y_test, y_pred, 'With Early Stopping')"
   ]
  },
  {
   "cell_type": "code",
   "execution_count": 85,
   "id": "2ba056ad",
   "metadata": {
    "scrolled": false
   },
   "outputs": [
    {
     "name": "stdout",
     "output_type": "stream",
     "text": [
      "Accuracy: 92.86%\n",
      "Confusion Matrix:\n",
      " [[8705   64    0    0    0]\n",
      " [ 559  193    5    0    0]\n",
      " [  28   22    0    0    0]\n",
      " [   1    3    0    0    0]\n",
      " [   1    1    0    0    0]]\n",
      "Classification Report:\n",
      "               precision    recall  f1-score   support\n",
      "\n",
      "         0.0       0.94      0.99      0.96      8769\n",
      "         1.0       0.68      0.25      0.37       757\n",
      "         2.0       0.00      0.00      1.00        50\n",
      "         3.0       1.00      0.00      0.00         4\n",
      "         4.0       1.00      0.00      0.00         2\n",
      "\n",
      "    accuracy                           0.93      9582\n",
      "   macro avg       0.72      0.25      0.47      9582\n",
      "weighted avg       0.91      0.93      0.92      9582\n",
      "\n"
     ]
    }
   ],
   "source": [
    "# Predição\n",
    "y_pred = model.predict(X_test)\n",
    "\n",
    "# Classification report conforme requisitado\n",
    "accuracy = accuracy_score(y_test, y_pred)\n",
    "confusion = confusion_matrix(y_test, y_pred)\n",
    "classification_rep = classification_report(y_test, y_pred, zero_division=1)\n",
    "\n",
    "print(f\"Accuracy: {accuracy * 100:.2f}%\")\n",
    "print(\"Confusion Matrix:\\n\", confusion)\n",
    "print(\"Classification Report:\\n\", classification_rep)"
   ]
  },
  {
   "cell_type": "markdown",
   "id": "8bd5f148",
   "metadata": {},
   "source": [
    "#### Resultados A652\n",
    "- F1 Classe 1 antigo: 0.50\n",
    "- F1 Classe 1 novo: 0.48\n",
    "- F1 Classe 1,2,3,4: 0.37, 1, 0 e 0"
   ]
  },
  {
   "cell_type": "markdown",
   "id": "bc3adfee",
   "metadata": {},
   "source": [
    "### Conclusões:\n",
    "- Uso de uma classe única parece ser mais adequado para aumentar a taxa de acerto do modelo."
   ]
  },
  {
   "cell_type": "markdown",
   "id": "72567a4e",
   "metadata": {},
   "source": [
    "# 4 SHAP Values"
   ]
  },
  {
   "cell_type": "code",
   "execution_count": null,
   "id": "9c3ab716",
   "metadata": {},
   "outputs": [],
   "source": []
  },
  {
   "cell_type": "markdown",
   "id": "288f5e74",
   "metadata": {},
   "source": [
    "# 5 Redução de dimensionalidade"
   ]
  },
  {
   "cell_type": "markdown",
   "id": "93ffe717",
   "metadata": {},
   "source": [
    "### Resumo:\n",
    "* Classificação multiclasses | A652.pickle\n",
    "* Preprocessamentos: Redução de dimensionalidade com CV e discretização em 5 classes\n",
    "* Mining: GradientBoostingClassifier"
   ]
  },
  {
   "cell_type": "code",
   "execution_count": 88,
   "id": "780476aa",
   "metadata": {},
   "outputs": [],
   "source": [
    "import numpy as np\n",
    "import pickle\n",
    "fileA652 = open('cic1205/data/atmoseer/A652.pickle' , 'rb')"
   ]
  },
  {
   "cell_type": "markdown",
   "id": "8c9f2834",
   "metadata": {},
   "source": [
    "### Dataset A602"
   ]
  },
  {
   "cell_type": "code",
   "execution_count": 89,
   "id": "6388aec2",
   "metadata": {},
   "outputs": [],
   "source": [
    "(X_train , y_train , X_val , y_val , X_test , y_test) = pickle.load(fileA652)"
   ]
  },
  {
   "cell_type": "code",
   "execution_count": 97,
   "id": "0de13950",
   "metadata": {},
   "outputs": [],
   "source": [
    "#Unindo dataset de treino e validação\n",
    "X_train = np.concatenate([X_train, X_val], axis=0)\n",
    "y_train = np.concatenate([y_train, y_val])\n",
    "\n",
    "# Preprocessamento (Botando 1 tudo que é diferente de 0 como informado no grupo)\n",
    "# Preprocessamento (Botando as classes)\n",
    "y_train[(y_train > 0) & (y_train <= 5)] = 1\n",
    "y_val[(y_val > 0) & (y_val <= 5)] = 1\n",
    "y_test[(y_test > 0) & (y_test <= 5)] = 1\n",
    "\n",
    "y_train[(y_train > 5) & (y_train <= 25)] = 2\n",
    "y_val[(y_val > 5) & (y_val <= 25)] = 2\n",
    "y_test[(y_test > 5) & (y_test <= 25)] = 2\n",
    "\n",
    "y_train[(y_train > 25) & (y_train <= 50)] = 3\n",
    "y_val[(y_val > 25) & (y_val <= 50)] = 3\n",
    "y_test[(y_test > 25) & (y_test <= 50)] = 3\n",
    "\n",
    "y_train[y_train > 50] = 4\n",
    "y_val[y_val > 50] = 4\n",
    "y_test[y_test > 50] = 4\n",
    "\n",
    "# Transformando 2D array em 1D array\n",
    "y_train = y_train.flatten()\n",
    "y_val = y_val.flatten()\n",
    "y_test = y_test.flatten()"
   ]
  },
  {
   "cell_type": "code",
   "execution_count": 104,
   "id": "b99c2f10",
   "metadata": {},
   "outputs": [
    {
     "name": "stdout",
     "output_type": "stream",
     "text": [
      "Best Hyperparameters: {'pca__n_components': 24}\n"
     ]
    }
   ],
   "source": [
    "from sklearn.pipeline import Pipeline\n",
    "from sklearn.model_selection import GridSearchCV, StratifiedKFold\n",
    "from sklearn.ensemble import GradientBoostingClassifier\n",
    "from sklearn.decomposition import PCA\n",
    "\n",
    "classificador = GradientBoostingClassifier(subsample=0.6, n_estimators=25, min_samples_split=2,\n",
    "                                           min_samples_leaf=3,max_depth=3,learning_rate=0.1)\n",
    "\n",
    "pipeline = Pipeline([\n",
    "    ('pca', PCA()),\n",
    "    ('classifier', classificador)\n",
    "])\n",
    "\n",
    "# Define the parameter grid for grid search\n",
    "param_grid = {\n",
    "    'pca__n_components': [24,20,16]\n",
    "}\n",
    "\n",
    "# Create StratifiedKFold\n",
    "cv = StratifiedKFold(n_splits=5, shuffle=True, random_state=42)\n",
    "\n",
    "# Initialize GridSearchCV\n",
    "grid_search = GridSearchCV(pipeline, param_grid, scoring='accuracy', cv=cv)\n",
    "\n",
    "# Fit the model\n",
    "grid_search.fit(X_train, y_train)\n",
    "\n",
    "# Get the best hyperparameters\n",
    "best_params = grid_search.best_params_\n",
    "print(\"Best Hyperparameters:\", best_params)"
   ]
  },
  {
   "cell_type": "markdown",
   "id": "2f0220da",
   "metadata": {},
   "source": [
    "Best Hyperparameters: {'pca__n_components': 24}"
   ]
  },
  {
   "cell_type": "code",
   "execution_count": 107,
   "id": "2888f523",
   "metadata": {},
   "outputs": [
    {
     "name": "stdout",
     "output_type": "stream",
     "text": [
      "Accuracy: 91.52%\n",
      "Confusion Matrix:\n",
      " [[8769    0]\n",
      " [ 813    0]]\n",
      "Classification Report:\n",
      "               precision    recall  f1-score   support\n",
      "\n",
      "         0.0       0.92      1.00      0.96      8769\n",
      "         1.0       1.00      0.00      0.00       813\n",
      "\n",
      "    accuracy                           0.92      9582\n",
      "   macro avg       0.96      0.50      0.48      9582\n",
      "weighted avg       0.92      0.92      0.87      9582\n",
      "\n"
     ]
    }
   ],
   "source": [
    "pca = PCA(n_components=24)\n",
    "X_test_reduced = pca.fit_transform(X_test)\n",
    "\n",
    "# Predição\n",
    "y_pred = model.predict(X_test_reduced)\n",
    "\n",
    "# Classification report conforme requisitado\n",
    "accuracy = accuracy_score(y_test, y_pred)\n",
    "confusion = confusion_matrix(y_test, y_pred)\n",
    "classification_rep = classification_report(y_test, y_pred, zero_division=1)\n",
    "\n",
    "print(f\"Accuracy: {accuracy * 100:.2f}%\")\n",
    "print(\"Confusion Matrix:\\n\", confusion)\n",
    "print(\"Classification Report:\\n\", classification_rep)"
   ]
  },
  {
   "cell_type": "code",
   "execution_count": 108,
   "id": "3df92f53",
   "metadata": {},
   "outputs": [
    {
     "name": "stdout",
     "output_type": "stream",
     "text": [
      "Accuracy: 93.13%\n",
      "Confusion Matrix:\n",
      " [[8705   64    0]\n",
      " [ 589  219    5]\n",
      " [   0    0    0]]\n",
      "Classification Report:\n",
      "               precision    recall  f1-score   support\n",
      "\n",
      "         0.0       0.94      0.99      0.96      8769\n",
      "         1.0       0.77      0.27      0.40       813\n",
      "         2.0       0.00      1.00      0.00         0\n",
      "\n",
      "    accuracy                           0.93      9582\n",
      "   macro avg       0.57      0.75      0.45      9582\n",
      "weighted avg       0.92      0.93      0.92      9582\n",
      "\n"
     ]
    }
   ],
   "source": [
    "# Predição\n",
    "y_pred = model.predict(X_test)\n",
    "\n",
    "# Classification report conforme requisitado\n",
    "accuracy = accuracy_score(y_test, y_pred)\n",
    "confusion = confusion_matrix(y_test, y_pred)\n",
    "classification_rep = classification_report(y_test, y_pred, zero_division=1)\n",
    "\n",
    "print(f\"Accuracy: {accuracy * 100:.2f}%\")\n",
    "print(\"Confusion Matrix:\\n\", confusion)\n",
    "print(\"Classification Report:\\n\", classification_rep)"
   ]
  },
  {
   "cell_type": "markdown",
   "id": "f5559253",
   "metadata": {},
   "source": [
    "#### Conclusão\n",
    "O parametro do número de componentes que deu melhor resultado na validação cruzada foi 24 que é o número de features já existentes. Isso significa que não foi possível gerar um modelo preditivo mais eficiente usando a redução de dimensionalidade. Usando PCA com *n_components=24* a acurácia do modelo caiu 2%."
   ]
  },
  {
   "cell_type": "markdown",
   "id": "294aae2f",
   "metadata": {},
   "source": [
    "# 6 Agrupamento"
   ]
  },
  {
   "cell_type": "markdown",
   "id": "d84a218a",
   "metadata": {},
   "source": [
    "### Resumo:\n",
    "* Classificação multiclasses | A652.pickle\n",
    "* Preprocessamentos: Aplicação de K-Means e DBScan para obter rótulos (y)\n",
    "* Mining: DecisionTreeClassifier\n",
    "* Análise: Criar regras que expliquem os grupos gerados "
   ]
  },
  {
   "cell_type": "code",
   "execution_count": 109,
   "id": "2426fe11",
   "metadata": {},
   "outputs": [],
   "source": [
    "import numpy as np\n",
    "import pickle\n",
    "fileA652 = open('cic1205/data/atmoseer/A652.pickle' , 'rb')"
   ]
  },
  {
   "cell_type": "code",
   "execution_count": 110,
   "id": "d4116c6e",
   "metadata": {},
   "outputs": [],
   "source": [
    "(X_train , y_train , X_val , y_val , X_test , y_test) = pickle.load(fileA652)\n",
    "#Unindo dataset de treino e validação\n",
    "X_train = np.concatenate([X_train, X_val], axis=0)"
   ]
  },
  {
   "cell_type": "markdown",
   "id": "82444e43",
   "metadata": {},
   "source": [
    "### K-Means"
   ]
  },
  {
   "cell_type": "code",
   "execution_count": 130,
   "id": "f10dc22e",
   "metadata": {
    "collapsed": true
   },
   "outputs": [
    {
     "ename": "InvalidParameterError",
     "evalue": "The 'scoring' parameter of GridSearchCV must be a str among {'f1', 'precision_samples', 'precision_micro', 'jaccard_samples', 'adjusted_mutual_info_score', 'explained_variance', 'jaccard', 'neg_mean_absolute_percentage_error', 'neg_median_absolute_error', 'precision', 'jaccard_weighted', 'matthews_corrcoef', 'completeness_score', 'neg_mean_poisson_deviance', 'recall_micro', 'f1_weighted', 'jaccard_micro', 'max_error', 'neg_mean_gamma_deviance', 'neg_negative_likelihood_ratio', 'neg_root_mean_squared_error', 'f1_samples', 'roc_auc_ovo_weighted', 'adjusted_rand_score', 'roc_auc_ovr_weighted', 'average_precision', 'precision_macro', 'neg_mean_squared_error', 'neg_mean_absolute_error', 'f1_macro', 'normalized_mutual_info_score', 'f1_micro', 'roc_auc_ovr', 'neg_mean_squared_log_error', 'neg_log_loss', 'recall_weighted', 'accuracy', 'balanced_accuracy', 'top_k_accuracy', 'roc_auc_ovo', 'r2', 'homogeneity_score', 'v_measure_score', 'jaccard_macro', 'neg_brier_score', 'roc_auc', 'precision_weighted', 'rand_score', 'positive_likelihood_ratio', 'recall_macro', 'recall', 'mutual_info_score', 'fowlkes_mallows_score', 'recall_samples'}, a callable, an instance of 'list', an instance of 'tuple', an instance of 'dict' or None. Got 'neg_silhouette' instead.",
     "output_type": "error",
     "traceback": [
      "\u001b[1;31m---------------------------------------------------------------------------\u001b[0m",
      "\u001b[1;31mInvalidParameterError\u001b[0m                     Traceback (most recent call last)",
      "Cell \u001b[1;32mIn[130], line 15\u001b[0m\n\u001b[0;32m     12\u001b[0m grid_search \u001b[38;5;241m=\u001b[39m GridSearchCV(kmeans, param_grid, cv\u001b[38;5;241m=\u001b[39m\u001b[38;5;241m5\u001b[39m, scoring\u001b[38;5;241m=\u001b[39m\u001b[38;5;124m'\u001b[39m\u001b[38;5;124mneg_silhouette\u001b[39m\u001b[38;5;124m'\u001b[39m)\n\u001b[0;32m     14\u001b[0m \u001b[38;5;66;03m# Executar a busca\u001b[39;00m\n\u001b[1;32m---> 15\u001b[0m \u001b[43mgrid_search\u001b[49m\u001b[38;5;241;43m.\u001b[39;49m\u001b[43mfit\u001b[49m\u001b[43m(\u001b[49m\u001b[43mX_train\u001b[49m\u001b[43m)\u001b[49m\n\u001b[0;32m     17\u001b[0m \u001b[38;5;66;03m# Acessar os resultados\u001b[39;00m\n\u001b[0;32m     18\u001b[0m \u001b[38;5;28mprint\u001b[39m(\u001b[38;5;124m\"\u001b[39m\u001b[38;5;124mMelhores Parâmetros:\u001b[39m\u001b[38;5;124m\"\u001b[39m, grid_search\u001b[38;5;241m.\u001b[39mbest_params_)\n",
      "File \u001b[1;32m~\\anaconda3\\envs\\ShallowLearning\\lib\\site-packages\\sklearn\\base.py:1144\u001b[0m, in \u001b[0;36m_fit_context.<locals>.decorator.<locals>.wrapper\u001b[1;34m(estimator, *args, **kwargs)\u001b[0m\n\u001b[0;32m   1139\u001b[0m partial_fit_and_fitted \u001b[38;5;241m=\u001b[39m (\n\u001b[0;32m   1140\u001b[0m     fit_method\u001b[38;5;241m.\u001b[39m\u001b[38;5;18m__name__\u001b[39m \u001b[38;5;241m==\u001b[39m \u001b[38;5;124m\"\u001b[39m\u001b[38;5;124mpartial_fit\u001b[39m\u001b[38;5;124m\"\u001b[39m \u001b[38;5;129;01mand\u001b[39;00m _is_fitted(estimator)\n\u001b[0;32m   1141\u001b[0m )\n\u001b[0;32m   1143\u001b[0m \u001b[38;5;28;01mif\u001b[39;00m \u001b[38;5;129;01mnot\u001b[39;00m global_skip_validation \u001b[38;5;129;01mand\u001b[39;00m \u001b[38;5;129;01mnot\u001b[39;00m partial_fit_and_fitted:\n\u001b[1;32m-> 1144\u001b[0m     \u001b[43mestimator\u001b[49m\u001b[38;5;241;43m.\u001b[39;49m\u001b[43m_validate_params\u001b[49m\u001b[43m(\u001b[49m\u001b[43m)\u001b[49m\n\u001b[0;32m   1146\u001b[0m \u001b[38;5;28;01mwith\u001b[39;00m config_context(\n\u001b[0;32m   1147\u001b[0m     skip_parameter_validation\u001b[38;5;241m=\u001b[39m(\n\u001b[0;32m   1148\u001b[0m         prefer_skip_nested_validation \u001b[38;5;129;01mor\u001b[39;00m global_skip_validation\n\u001b[0;32m   1149\u001b[0m     )\n\u001b[0;32m   1150\u001b[0m ):\n\u001b[0;32m   1151\u001b[0m     \u001b[38;5;28;01mreturn\u001b[39;00m fit_method(estimator, \u001b[38;5;241m*\u001b[39margs, \u001b[38;5;241m*\u001b[39m\u001b[38;5;241m*\u001b[39mkwargs)\n",
      "File \u001b[1;32m~\\anaconda3\\envs\\ShallowLearning\\lib\\site-packages\\sklearn\\base.py:637\u001b[0m, in \u001b[0;36mBaseEstimator._validate_params\u001b[1;34m(self)\u001b[0m\n\u001b[0;32m    629\u001b[0m \u001b[38;5;28;01mdef\u001b[39;00m \u001b[38;5;21m_validate_params\u001b[39m(\u001b[38;5;28mself\u001b[39m):\n\u001b[0;32m    630\u001b[0m \u001b[38;5;250m    \u001b[39m\u001b[38;5;124;03m\"\"\"Validate types and values of constructor parameters\u001b[39;00m\n\u001b[0;32m    631\u001b[0m \n\u001b[0;32m    632\u001b[0m \u001b[38;5;124;03m    The expected type and values must be defined in the `_parameter_constraints`\u001b[39;00m\n\u001b[1;32m   (...)\u001b[0m\n\u001b[0;32m    635\u001b[0m \u001b[38;5;124;03m    accepted constraints.\u001b[39;00m\n\u001b[0;32m    636\u001b[0m \u001b[38;5;124;03m    \"\"\"\u001b[39;00m\n\u001b[1;32m--> 637\u001b[0m     \u001b[43mvalidate_parameter_constraints\u001b[49m\u001b[43m(\u001b[49m\n\u001b[0;32m    638\u001b[0m \u001b[43m        \u001b[49m\u001b[38;5;28;43mself\u001b[39;49m\u001b[38;5;241;43m.\u001b[39;49m\u001b[43m_parameter_constraints\u001b[49m\u001b[43m,\u001b[49m\n\u001b[0;32m    639\u001b[0m \u001b[43m        \u001b[49m\u001b[38;5;28;43mself\u001b[39;49m\u001b[38;5;241;43m.\u001b[39;49m\u001b[43mget_params\u001b[49m\u001b[43m(\u001b[49m\u001b[43mdeep\u001b[49m\u001b[38;5;241;43m=\u001b[39;49m\u001b[38;5;28;43;01mFalse\u001b[39;49;00m\u001b[43m)\u001b[49m\u001b[43m,\u001b[49m\n\u001b[0;32m    640\u001b[0m \u001b[43m        \u001b[49m\u001b[43mcaller_name\u001b[49m\u001b[38;5;241;43m=\u001b[39;49m\u001b[38;5;28;43mself\u001b[39;49m\u001b[38;5;241;43m.\u001b[39;49m\u001b[38;5;18;43m__class__\u001b[39;49m\u001b[38;5;241;43m.\u001b[39;49m\u001b[38;5;18;43m__name__\u001b[39;49m\u001b[43m,\u001b[49m\n\u001b[0;32m    641\u001b[0m \u001b[43m    \u001b[49m\u001b[43m)\u001b[49m\n",
      "File \u001b[1;32m~\\anaconda3\\envs\\ShallowLearning\\lib\\site-packages\\sklearn\\utils\\_param_validation.py:95\u001b[0m, in \u001b[0;36mvalidate_parameter_constraints\u001b[1;34m(parameter_constraints, params, caller_name)\u001b[0m\n\u001b[0;32m     89\u001b[0m \u001b[38;5;28;01melse\u001b[39;00m:\n\u001b[0;32m     90\u001b[0m     constraints_str \u001b[38;5;241m=\u001b[39m (\n\u001b[0;32m     91\u001b[0m         \u001b[38;5;124mf\u001b[39m\u001b[38;5;124m\"\u001b[39m\u001b[38;5;132;01m{\u001b[39;00m\u001b[38;5;124m'\u001b[39m\u001b[38;5;124m, \u001b[39m\u001b[38;5;124m'\u001b[39m\u001b[38;5;241m.\u001b[39mjoin([\u001b[38;5;28mstr\u001b[39m(c)\u001b[38;5;250m \u001b[39m\u001b[38;5;28;01mfor\u001b[39;00m\u001b[38;5;250m \u001b[39mc\u001b[38;5;250m \u001b[39m\u001b[38;5;129;01min\u001b[39;00m\u001b[38;5;250m \u001b[39mconstraints[:\u001b[38;5;241m-\u001b[39m\u001b[38;5;241m1\u001b[39m]])\u001b[38;5;132;01m}\u001b[39;00m\u001b[38;5;124m or\u001b[39m\u001b[38;5;124m\"\u001b[39m\n\u001b[0;32m     92\u001b[0m         \u001b[38;5;124mf\u001b[39m\u001b[38;5;124m\"\u001b[39m\u001b[38;5;124m \u001b[39m\u001b[38;5;132;01m{\u001b[39;00mconstraints[\u001b[38;5;241m-\u001b[39m\u001b[38;5;241m1\u001b[39m]\u001b[38;5;132;01m}\u001b[39;00m\u001b[38;5;124m\"\u001b[39m\n\u001b[0;32m     93\u001b[0m     )\n\u001b[1;32m---> 95\u001b[0m \u001b[38;5;28;01mraise\u001b[39;00m InvalidParameterError(\n\u001b[0;32m     96\u001b[0m     \u001b[38;5;124mf\u001b[39m\u001b[38;5;124m\"\u001b[39m\u001b[38;5;124mThe \u001b[39m\u001b[38;5;132;01m{\u001b[39;00mparam_name\u001b[38;5;132;01m!r}\u001b[39;00m\u001b[38;5;124m parameter of \u001b[39m\u001b[38;5;132;01m{\u001b[39;00mcaller_name\u001b[38;5;132;01m}\u001b[39;00m\u001b[38;5;124m must be\u001b[39m\u001b[38;5;124m\"\u001b[39m\n\u001b[0;32m     97\u001b[0m     \u001b[38;5;124mf\u001b[39m\u001b[38;5;124m\"\u001b[39m\u001b[38;5;124m \u001b[39m\u001b[38;5;132;01m{\u001b[39;00mconstraints_str\u001b[38;5;132;01m}\u001b[39;00m\u001b[38;5;124m. Got \u001b[39m\u001b[38;5;132;01m{\u001b[39;00mparam_val\u001b[38;5;132;01m!r}\u001b[39;00m\u001b[38;5;124m instead.\u001b[39m\u001b[38;5;124m\"\u001b[39m\n\u001b[0;32m     98\u001b[0m )\n",
      "\u001b[1;31mInvalidParameterError\u001b[0m: The 'scoring' parameter of GridSearchCV must be a str among {'f1', 'precision_samples', 'precision_micro', 'jaccard_samples', 'adjusted_mutual_info_score', 'explained_variance', 'jaccard', 'neg_mean_absolute_percentage_error', 'neg_median_absolute_error', 'precision', 'jaccard_weighted', 'matthews_corrcoef', 'completeness_score', 'neg_mean_poisson_deviance', 'recall_micro', 'f1_weighted', 'jaccard_micro', 'max_error', 'neg_mean_gamma_deviance', 'neg_negative_likelihood_ratio', 'neg_root_mean_squared_error', 'f1_samples', 'roc_auc_ovo_weighted', 'adjusted_rand_score', 'roc_auc_ovr_weighted', 'average_precision', 'precision_macro', 'neg_mean_squared_error', 'neg_mean_absolute_error', 'f1_macro', 'normalized_mutual_info_score', 'f1_micro', 'roc_auc_ovr', 'neg_mean_squared_log_error', 'neg_log_loss', 'recall_weighted', 'accuracy', 'balanced_accuracy', 'top_k_accuracy', 'roc_auc_ovo', 'r2', 'homogeneity_score', 'v_measure_score', 'jaccard_macro', 'neg_brier_score', 'roc_auc', 'precision_weighted', 'rand_score', 'positive_likelihood_ratio', 'recall_macro', 'recall', 'mutual_info_score', 'fowlkes_mallows_score', 'recall_samples'}, a callable, an instance of 'list', an instance of 'tuple', an instance of 'dict' or None. Got 'neg_silhouette' instead."
     ]
    }
   ],
   "source": [
    "from sklearn.cluster import KMeans\n",
    "from sklearn.model_selection import GridSearchCV\n",
    "\n",
    "# Definir o modelo (K-Means)\n",
    "kmeans = KMeans(n_init=100, max_iter=1000)\n",
    "\n",
    "# Definir a grade de hiperparâmetros\n",
    "param_grid = {'n_clusters': [10,20,40],\n",
    "              'init': ['k-means++', 'random']}\n",
    "\n",
    "# Inicializar GridSearchCV\n",
    "grid_search = GridSearchCV(kmeans, param_grid, cv=5)\n",
    "\n",
    "# Executar a busca\n",
    "grid_search.fit(X_train)\n",
    "\n",
    "# Acessar os resultados\n",
    "print(\"Melhores Parâmetros:\", grid_search.best_params_)\n"
   ]
  },
  {
   "cell_type": "markdown",
   "id": "638989d3",
   "metadata": {},
   "source": [
    "Melhores Parâmetros: {'init': 'k-means++', 'n_clusters': 40}"
   ]
  },
  {
   "cell_type": "markdown",
   "id": "749aa8fa",
   "metadata": {},
   "source": [
    "#### DBSCAN"
   ]
  },
  {
   "cell_type": "code",
   "execution_count": 131,
   "id": "5221d479",
   "metadata": {},
   "outputs": [
    {
     "name": "stderr",
     "output_type": "stream",
     "text": [
      "C:\\Users\\miche\\anaconda3\\envs\\ShallowLearning\\lib\\site-packages\\sklearn\\model_selection\\_validation.py:824: UserWarning: Scoring failed. The score on this train-test partition for these parameters will be set to nan. Details: \n",
      "Traceback (most recent call last):\n",
      "  File \"C:\\Users\\miche\\anaconda3\\envs\\ShallowLearning\\lib\\site-packages\\sklearn\\model_selection\\_validation.py\", line 811, in _score\n",
      "    scores = scorer(estimator, X_test)\n",
      "TypeError: _BaseScorer.__call__() missing 1 required positional argument: 'y_true'\n",
      "\n",
      "  warnings.warn(\n",
      "C:\\Users\\miche\\anaconda3\\envs\\ShallowLearning\\lib\\site-packages\\sklearn\\model_selection\\_validation.py:824: UserWarning: Scoring failed. The score on this train-test partition for these parameters will be set to nan. Details: \n",
      "Traceback (most recent call last):\n",
      "  File \"C:\\Users\\miche\\anaconda3\\envs\\ShallowLearning\\lib\\site-packages\\sklearn\\model_selection\\_validation.py\", line 811, in _score\n",
      "    scores = scorer(estimator, X_test)\n",
      "TypeError: _BaseScorer.__call__() missing 1 required positional argument: 'y_true'\n",
      "\n",
      "  warnings.warn(\n",
      "C:\\Users\\miche\\anaconda3\\envs\\ShallowLearning\\lib\\site-packages\\sklearn\\model_selection\\_validation.py:824: UserWarning: Scoring failed. The score on this train-test partition for these parameters will be set to nan. Details: \n",
      "Traceback (most recent call last):\n",
      "  File \"C:\\Users\\miche\\anaconda3\\envs\\ShallowLearning\\lib\\site-packages\\sklearn\\model_selection\\_validation.py\", line 811, in _score\n",
      "    scores = scorer(estimator, X_test)\n",
      "TypeError: _BaseScorer.__call__() missing 1 required positional argument: 'y_true'\n",
      "\n",
      "  warnings.warn(\n",
      "C:\\Users\\miche\\anaconda3\\envs\\ShallowLearning\\lib\\site-packages\\sklearn\\model_selection\\_validation.py:824: UserWarning: Scoring failed. The score on this train-test partition for these parameters will be set to nan. Details: \n",
      "Traceback (most recent call last):\n",
      "  File \"C:\\Users\\miche\\anaconda3\\envs\\ShallowLearning\\lib\\site-packages\\sklearn\\model_selection\\_validation.py\", line 811, in _score\n",
      "    scores = scorer(estimator, X_test)\n",
      "TypeError: _BaseScorer.__call__() missing 1 required positional argument: 'y_true'\n",
      "\n",
      "  warnings.warn(\n",
      "C:\\Users\\miche\\anaconda3\\envs\\ShallowLearning\\lib\\site-packages\\sklearn\\model_selection\\_validation.py:824: UserWarning: Scoring failed. The score on this train-test partition for these parameters will be set to nan. Details: \n",
      "Traceback (most recent call last):\n",
      "  File \"C:\\Users\\miche\\anaconda3\\envs\\ShallowLearning\\lib\\site-packages\\sklearn\\model_selection\\_validation.py\", line 811, in _score\n",
      "    scores = scorer(estimator, X_test)\n",
      "TypeError: _BaseScorer.__call__() missing 1 required positional argument: 'y_true'\n",
      "\n",
      "  warnings.warn(\n",
      "C:\\Users\\miche\\anaconda3\\envs\\ShallowLearning\\lib\\site-packages\\sklearn\\model_selection\\_validation.py:824: UserWarning: Scoring failed. The score on this train-test partition for these parameters will be set to nan. Details: \n",
      "Traceback (most recent call last):\n",
      "  File \"C:\\Users\\miche\\anaconda3\\envs\\ShallowLearning\\lib\\site-packages\\sklearn\\model_selection\\_validation.py\", line 811, in _score\n",
      "    scores = scorer(estimator, X_test)\n",
      "TypeError: _BaseScorer.__call__() missing 1 required positional argument: 'y_true'\n",
      "\n",
      "  warnings.warn(\n",
      "C:\\Users\\miche\\anaconda3\\envs\\ShallowLearning\\lib\\site-packages\\sklearn\\model_selection\\_validation.py:824: UserWarning: Scoring failed. The score on this train-test partition for these parameters will be set to nan. Details: \n",
      "Traceback (most recent call last):\n",
      "  File \"C:\\Users\\miche\\anaconda3\\envs\\ShallowLearning\\lib\\site-packages\\sklearn\\model_selection\\_validation.py\", line 811, in _score\n",
      "    scores = scorer(estimator, X_test)\n",
      "TypeError: _BaseScorer.__call__() missing 1 required positional argument: 'y_true'\n",
      "\n",
      "  warnings.warn(\n",
      "C:\\Users\\miche\\anaconda3\\envs\\ShallowLearning\\lib\\site-packages\\sklearn\\model_selection\\_validation.py:824: UserWarning: Scoring failed. The score on this train-test partition for these parameters will be set to nan. Details: \n",
      "Traceback (most recent call last):\n",
      "  File \"C:\\Users\\miche\\anaconda3\\envs\\ShallowLearning\\lib\\site-packages\\sklearn\\model_selection\\_validation.py\", line 811, in _score\n",
      "    scores = scorer(estimator, X_test)\n",
      "TypeError: _BaseScorer.__call__() missing 1 required positional argument: 'y_true'\n",
      "\n",
      "  warnings.warn(\n",
      "C:\\Users\\miche\\anaconda3\\envs\\ShallowLearning\\lib\\site-packages\\sklearn\\model_selection\\_validation.py:824: UserWarning: Scoring failed. The score on this train-test partition for these parameters will be set to nan. Details: \n",
      "Traceback (most recent call last):\n",
      "  File \"C:\\Users\\miche\\anaconda3\\envs\\ShallowLearning\\lib\\site-packages\\sklearn\\model_selection\\_validation.py\", line 811, in _score\n",
      "    scores = scorer(estimator, X_test)\n",
      "TypeError: _BaseScorer.__call__() missing 1 required positional argument: 'y_true'\n",
      "\n",
      "  warnings.warn(\n",
      "C:\\Users\\miche\\anaconda3\\envs\\ShallowLearning\\lib\\site-packages\\sklearn\\model_selection\\_validation.py:824: UserWarning: Scoring failed. The score on this train-test partition for these parameters will be set to nan. Details: \n",
      "Traceback (most recent call last):\n",
      "  File \"C:\\Users\\miche\\anaconda3\\envs\\ShallowLearning\\lib\\site-packages\\sklearn\\model_selection\\_validation.py\", line 811, in _score\n",
      "    scores = scorer(estimator, X_test)\n",
      "TypeError: _BaseScorer.__call__() missing 1 required positional argument: 'y_true'\n",
      "\n",
      "  warnings.warn(\n",
      "C:\\Users\\miche\\anaconda3\\envs\\ShallowLearning\\lib\\site-packages\\sklearn\\model_selection\\_validation.py:824: UserWarning: Scoring failed. The score on this train-test partition for these parameters will be set to nan. Details: \n",
      "Traceback (most recent call last):\n",
      "  File \"C:\\Users\\miche\\anaconda3\\envs\\ShallowLearning\\lib\\site-packages\\sklearn\\model_selection\\_validation.py\", line 811, in _score\n",
      "    scores = scorer(estimator, X_test)\n",
      "TypeError: _BaseScorer.__call__() missing 1 required positional argument: 'y_true'\n",
      "\n",
      "  warnings.warn(\n",
      "C:\\Users\\miche\\anaconda3\\envs\\ShallowLearning\\lib\\site-packages\\sklearn\\model_selection\\_validation.py:824: UserWarning: Scoring failed. The score on this train-test partition for these parameters will be set to nan. Details: \n",
      "Traceback (most recent call last):\n",
      "  File \"C:\\Users\\miche\\anaconda3\\envs\\ShallowLearning\\lib\\site-packages\\sklearn\\model_selection\\_validation.py\", line 811, in _score\n",
      "    scores = scorer(estimator, X_test)\n",
      "TypeError: _BaseScorer.__call__() missing 1 required positional argument: 'y_true'\n",
      "\n",
      "  warnings.warn(\n",
      "C:\\Users\\miche\\anaconda3\\envs\\ShallowLearning\\lib\\site-packages\\sklearn\\model_selection\\_validation.py:824: UserWarning: Scoring failed. The score on this train-test partition for these parameters will be set to nan. Details: \n",
      "Traceback (most recent call last):\n",
      "  File \"C:\\Users\\miche\\anaconda3\\envs\\ShallowLearning\\lib\\site-packages\\sklearn\\model_selection\\_validation.py\", line 811, in _score\n",
      "    scores = scorer(estimator, X_test)\n",
      "TypeError: _BaseScorer.__call__() missing 1 required positional argument: 'y_true'\n",
      "\n",
      "  warnings.warn(\n",
      "C:\\Users\\miche\\anaconda3\\envs\\ShallowLearning\\lib\\site-packages\\sklearn\\model_selection\\_validation.py:824: UserWarning: Scoring failed. The score on this train-test partition for these parameters will be set to nan. Details: \n",
      "Traceback (most recent call last):\n",
      "  File \"C:\\Users\\miche\\anaconda3\\envs\\ShallowLearning\\lib\\site-packages\\sklearn\\model_selection\\_validation.py\", line 811, in _score\n",
      "    scores = scorer(estimator, X_test)\n",
      "TypeError: _BaseScorer.__call__() missing 1 required positional argument: 'y_true'\n",
      "\n",
      "  warnings.warn(\n",
      "C:\\Users\\miche\\anaconda3\\envs\\ShallowLearning\\lib\\site-packages\\sklearn\\model_selection\\_validation.py:824: UserWarning: Scoring failed. The score on this train-test partition for these parameters will be set to nan. Details: \n",
      "Traceback (most recent call last):\n",
      "  File \"C:\\Users\\miche\\anaconda3\\envs\\ShallowLearning\\lib\\site-packages\\sklearn\\model_selection\\_validation.py\", line 811, in _score\n",
      "    scores = scorer(estimator, X_test)\n",
      "TypeError: _BaseScorer.__call__() missing 1 required positional argument: 'y_true'\n",
      "\n",
      "  warnings.warn(\n",
      "C:\\Users\\miche\\anaconda3\\envs\\ShallowLearning\\lib\\site-packages\\sklearn\\model_selection\\_validation.py:824: UserWarning: Scoring failed. The score on this train-test partition for these parameters will be set to nan. Details: \n",
      "Traceback (most recent call last):\n",
      "  File \"C:\\Users\\miche\\anaconda3\\envs\\ShallowLearning\\lib\\site-packages\\sklearn\\model_selection\\_validation.py\", line 811, in _score\n",
      "    scores = scorer(estimator, X_test)\n",
      "TypeError: _BaseScorer.__call__() missing 1 required positional argument: 'y_true'\n",
      "\n",
      "  warnings.warn(\n"
     ]
    },
    {
     "name": "stderr",
     "output_type": "stream",
     "text": [
      "C:\\Users\\miche\\anaconda3\\envs\\ShallowLearning\\lib\\site-packages\\sklearn\\model_selection\\_validation.py:824: UserWarning: Scoring failed. The score on this train-test partition for these parameters will be set to nan. Details: \n",
      "Traceback (most recent call last):\n",
      "  File \"C:\\Users\\miche\\anaconda3\\envs\\ShallowLearning\\lib\\site-packages\\sklearn\\model_selection\\_validation.py\", line 811, in _score\n",
      "    scores = scorer(estimator, X_test)\n",
      "TypeError: _BaseScorer.__call__() missing 1 required positional argument: 'y_true'\n",
      "\n",
      "  warnings.warn(\n",
      "C:\\Users\\miche\\anaconda3\\envs\\ShallowLearning\\lib\\site-packages\\sklearn\\model_selection\\_validation.py:824: UserWarning: Scoring failed. The score on this train-test partition for these parameters will be set to nan. Details: \n",
      "Traceback (most recent call last):\n",
      "  File \"C:\\Users\\miche\\anaconda3\\envs\\ShallowLearning\\lib\\site-packages\\sklearn\\model_selection\\_validation.py\", line 811, in _score\n",
      "    scores = scorer(estimator, X_test)\n",
      "TypeError: _BaseScorer.__call__() missing 1 required positional argument: 'y_true'\n",
      "\n",
      "  warnings.warn(\n",
      "C:\\Users\\miche\\anaconda3\\envs\\ShallowLearning\\lib\\site-packages\\sklearn\\model_selection\\_validation.py:824: UserWarning: Scoring failed. The score on this train-test partition for these parameters will be set to nan. Details: \n",
      "Traceback (most recent call last):\n",
      "  File \"C:\\Users\\miche\\anaconda3\\envs\\ShallowLearning\\lib\\site-packages\\sklearn\\model_selection\\_validation.py\", line 811, in _score\n",
      "    scores = scorer(estimator, X_test)\n",
      "TypeError: _BaseScorer.__call__() missing 1 required positional argument: 'y_true'\n",
      "\n",
      "  warnings.warn(\n",
      "C:\\Users\\miche\\anaconda3\\envs\\ShallowLearning\\lib\\site-packages\\sklearn\\model_selection\\_validation.py:824: UserWarning: Scoring failed. The score on this train-test partition for these parameters will be set to nan. Details: \n",
      "Traceback (most recent call last):\n",
      "  File \"C:\\Users\\miche\\anaconda3\\envs\\ShallowLearning\\lib\\site-packages\\sklearn\\model_selection\\_validation.py\", line 811, in _score\n",
      "    scores = scorer(estimator, X_test)\n",
      "TypeError: _BaseScorer.__call__() missing 1 required positional argument: 'y_true'\n",
      "\n",
      "  warnings.warn(\n",
      "C:\\Users\\miche\\anaconda3\\envs\\ShallowLearning\\lib\\site-packages\\sklearn\\model_selection\\_validation.py:824: UserWarning: Scoring failed. The score on this train-test partition for these parameters will be set to nan. Details: \n",
      "Traceback (most recent call last):\n",
      "  File \"C:\\Users\\miche\\anaconda3\\envs\\ShallowLearning\\lib\\site-packages\\sklearn\\model_selection\\_validation.py\", line 811, in _score\n",
      "    scores = scorer(estimator, X_test)\n",
      "TypeError: _BaseScorer.__call__() missing 1 required positional argument: 'y_true'\n",
      "\n",
      "  warnings.warn(\n",
      "C:\\Users\\miche\\anaconda3\\envs\\ShallowLearning\\lib\\site-packages\\sklearn\\model_selection\\_validation.py:824: UserWarning: Scoring failed. The score on this train-test partition for these parameters will be set to nan. Details: \n",
      "Traceback (most recent call last):\n",
      "  File \"C:\\Users\\miche\\anaconda3\\envs\\ShallowLearning\\lib\\site-packages\\sklearn\\model_selection\\_validation.py\", line 811, in _score\n",
      "    scores = scorer(estimator, X_test)\n",
      "TypeError: _BaseScorer.__call__() missing 1 required positional argument: 'y_true'\n",
      "\n",
      "  warnings.warn(\n",
      "C:\\Users\\miche\\anaconda3\\envs\\ShallowLearning\\lib\\site-packages\\sklearn\\model_selection\\_validation.py:824: UserWarning: Scoring failed. The score on this train-test partition for these parameters will be set to nan. Details: \n",
      "Traceback (most recent call last):\n",
      "  File \"C:\\Users\\miche\\anaconda3\\envs\\ShallowLearning\\lib\\site-packages\\sklearn\\model_selection\\_validation.py\", line 811, in _score\n",
      "    scores = scorer(estimator, X_test)\n",
      "TypeError: _BaseScorer.__call__() missing 1 required positional argument: 'y_true'\n",
      "\n",
      "  warnings.warn(\n",
      "C:\\Users\\miche\\anaconda3\\envs\\ShallowLearning\\lib\\site-packages\\sklearn\\model_selection\\_validation.py:824: UserWarning: Scoring failed. The score on this train-test partition for these parameters will be set to nan. Details: \n",
      "Traceback (most recent call last):\n",
      "  File \"C:\\Users\\miche\\anaconda3\\envs\\ShallowLearning\\lib\\site-packages\\sklearn\\model_selection\\_validation.py\", line 811, in _score\n",
      "    scores = scorer(estimator, X_test)\n",
      "TypeError: _BaseScorer.__call__() missing 1 required positional argument: 'y_true'\n",
      "\n",
      "  warnings.warn(\n",
      "C:\\Users\\miche\\anaconda3\\envs\\ShallowLearning\\lib\\site-packages\\sklearn\\model_selection\\_validation.py:824: UserWarning: Scoring failed. The score on this train-test partition for these parameters will be set to nan. Details: \n",
      "Traceback (most recent call last):\n",
      "  File \"C:\\Users\\miche\\anaconda3\\envs\\ShallowLearning\\lib\\site-packages\\sklearn\\model_selection\\_validation.py\", line 811, in _score\n",
      "    scores = scorer(estimator, X_test)\n",
      "TypeError: _BaseScorer.__call__() missing 1 required positional argument: 'y_true'\n",
      "\n",
      "  warnings.warn(\n",
      "C:\\Users\\miche\\anaconda3\\envs\\ShallowLearning\\lib\\site-packages\\sklearn\\model_selection\\_validation.py:824: UserWarning: Scoring failed. The score on this train-test partition for these parameters will be set to nan. Details: \n",
      "Traceback (most recent call last):\n",
      "  File \"C:\\Users\\miche\\anaconda3\\envs\\ShallowLearning\\lib\\site-packages\\sklearn\\model_selection\\_validation.py\", line 811, in _score\n",
      "    scores = scorer(estimator, X_test)\n",
      "TypeError: _BaseScorer.__call__() missing 1 required positional argument: 'y_true'\n",
      "\n",
      "  warnings.warn(\n",
      "C:\\Users\\miche\\anaconda3\\envs\\ShallowLearning\\lib\\site-packages\\sklearn\\model_selection\\_validation.py:824: UserWarning: Scoring failed. The score on this train-test partition for these parameters will be set to nan. Details: \n",
      "Traceback (most recent call last):\n",
      "  File \"C:\\Users\\miche\\anaconda3\\envs\\ShallowLearning\\lib\\site-packages\\sklearn\\model_selection\\_validation.py\", line 811, in _score\n",
      "    scores = scorer(estimator, X_test)\n",
      "TypeError: _BaseScorer.__call__() missing 1 required positional argument: 'y_true'\n",
      "\n",
      "  warnings.warn(\n",
      "C:\\Users\\miche\\anaconda3\\envs\\ShallowLearning\\lib\\site-packages\\sklearn\\model_selection\\_validation.py:824: UserWarning: Scoring failed. The score on this train-test partition for these parameters will be set to nan. Details: \n",
      "Traceback (most recent call last):\n",
      "  File \"C:\\Users\\miche\\anaconda3\\envs\\ShallowLearning\\lib\\site-packages\\sklearn\\model_selection\\_validation.py\", line 811, in _score\n",
      "    scores = scorer(estimator, X_test)\n",
      "TypeError: _BaseScorer.__call__() missing 1 required positional argument: 'y_true'\n",
      "\n",
      "  warnings.warn(\n",
      "C:\\Users\\miche\\anaconda3\\envs\\ShallowLearning\\lib\\site-packages\\sklearn\\model_selection\\_validation.py:824: UserWarning: Scoring failed. The score on this train-test partition for these parameters will be set to nan. Details: \n",
      "Traceback (most recent call last):\n",
      "  File \"C:\\Users\\miche\\anaconda3\\envs\\ShallowLearning\\lib\\site-packages\\sklearn\\model_selection\\_validation.py\", line 811, in _score\n",
      "    scores = scorer(estimator, X_test)\n",
      "TypeError: _BaseScorer.__call__() missing 1 required positional argument: 'y_true'\n",
      "\n",
      "  warnings.warn(\n",
      "C:\\Users\\miche\\anaconda3\\envs\\ShallowLearning\\lib\\site-packages\\sklearn\\model_selection\\_validation.py:824: UserWarning: Scoring failed. The score on this train-test partition for these parameters will be set to nan. Details: \n",
      "Traceback (most recent call last):\n",
      "  File \"C:\\Users\\miche\\anaconda3\\envs\\ShallowLearning\\lib\\site-packages\\sklearn\\model_selection\\_validation.py\", line 811, in _score\n",
      "    scores = scorer(estimator, X_test)\n",
      "TypeError: _BaseScorer.__call__() missing 1 required positional argument: 'y_true'\n",
      "\n",
      "  warnings.warn(\n",
      "C:\\Users\\miche\\anaconda3\\envs\\ShallowLearning\\lib\\site-packages\\sklearn\\model_selection\\_validation.py:824: UserWarning: Scoring failed. The score on this train-test partition for these parameters will be set to nan. Details: \n",
      "Traceback (most recent call last):\n",
      "  File \"C:\\Users\\miche\\anaconda3\\envs\\ShallowLearning\\lib\\site-packages\\sklearn\\model_selection\\_validation.py\", line 811, in _score\n",
      "    scores = scorer(estimator, X_test)\n",
      "TypeError: _BaseScorer.__call__() missing 1 required positional argument: 'y_true'\n",
      "\n",
      "  warnings.warn(\n",
      "C:\\Users\\miche\\anaconda3\\envs\\ShallowLearning\\lib\\site-packages\\sklearn\\model_selection\\_validation.py:824: UserWarning: Scoring failed. The score on this train-test partition for these parameters will be set to nan. Details: \n",
      "Traceback (most recent call last):\n",
      "  File \"C:\\Users\\miche\\anaconda3\\envs\\ShallowLearning\\lib\\site-packages\\sklearn\\model_selection\\_validation.py\", line 811, in _score\n",
      "    scores = scorer(estimator, X_test)\n",
      "TypeError: _BaseScorer.__call__() missing 1 required positional argument: 'y_true'\n",
      "\n",
      "  warnings.warn(\n"
     ]
    },
    {
     "name": "stderr",
     "output_type": "stream",
     "text": [
      "C:\\Users\\miche\\anaconda3\\envs\\ShallowLearning\\lib\\site-packages\\sklearn\\model_selection\\_validation.py:824: UserWarning: Scoring failed. The score on this train-test partition for these parameters will be set to nan. Details: \n",
      "Traceback (most recent call last):\n",
      "  File \"C:\\Users\\miche\\anaconda3\\envs\\ShallowLearning\\lib\\site-packages\\sklearn\\model_selection\\_validation.py\", line 811, in _score\n",
      "    scores = scorer(estimator, X_test)\n",
      "TypeError: _BaseScorer.__call__() missing 1 required positional argument: 'y_true'\n",
      "\n",
      "  warnings.warn(\n",
      "C:\\Users\\miche\\anaconda3\\envs\\ShallowLearning\\lib\\site-packages\\sklearn\\model_selection\\_validation.py:824: UserWarning: Scoring failed. The score on this train-test partition for these parameters will be set to nan. Details: \n",
      "Traceback (most recent call last):\n",
      "  File \"C:\\Users\\miche\\anaconda3\\envs\\ShallowLearning\\lib\\site-packages\\sklearn\\model_selection\\_validation.py\", line 811, in _score\n",
      "    scores = scorer(estimator, X_test)\n",
      "TypeError: _BaseScorer.__call__() missing 1 required positional argument: 'y_true'\n",
      "\n",
      "  warnings.warn(\n",
      "C:\\Users\\miche\\anaconda3\\envs\\ShallowLearning\\lib\\site-packages\\sklearn\\model_selection\\_validation.py:824: UserWarning: Scoring failed. The score on this train-test partition for these parameters will be set to nan. Details: \n",
      "Traceback (most recent call last):\n",
      "  File \"C:\\Users\\miche\\anaconda3\\envs\\ShallowLearning\\lib\\site-packages\\sklearn\\model_selection\\_validation.py\", line 811, in _score\n",
      "    scores = scorer(estimator, X_test)\n",
      "TypeError: _BaseScorer.__call__() missing 1 required positional argument: 'y_true'\n",
      "\n",
      "  warnings.warn(\n",
      "C:\\Users\\miche\\anaconda3\\envs\\ShallowLearning\\lib\\site-packages\\sklearn\\model_selection\\_validation.py:824: UserWarning: Scoring failed. The score on this train-test partition for these parameters will be set to nan. Details: \n",
      "Traceback (most recent call last):\n",
      "  File \"C:\\Users\\miche\\anaconda3\\envs\\ShallowLearning\\lib\\site-packages\\sklearn\\model_selection\\_validation.py\", line 811, in _score\n",
      "    scores = scorer(estimator, X_test)\n",
      "TypeError: _BaseScorer.__call__() missing 1 required positional argument: 'y_true'\n",
      "\n",
      "  warnings.warn(\n",
      "C:\\Users\\miche\\anaconda3\\envs\\ShallowLearning\\lib\\site-packages\\sklearn\\model_selection\\_validation.py:824: UserWarning: Scoring failed. The score on this train-test partition for these parameters will be set to nan. Details: \n",
      "Traceback (most recent call last):\n",
      "  File \"C:\\Users\\miche\\anaconda3\\envs\\ShallowLearning\\lib\\site-packages\\sklearn\\model_selection\\_validation.py\", line 811, in _score\n",
      "    scores = scorer(estimator, X_test)\n",
      "TypeError: _BaseScorer.__call__() missing 1 required positional argument: 'y_true'\n",
      "\n",
      "  warnings.warn(\n",
      "C:\\Users\\miche\\anaconda3\\envs\\ShallowLearning\\lib\\site-packages\\sklearn\\model_selection\\_validation.py:824: UserWarning: Scoring failed. The score on this train-test partition for these parameters will be set to nan. Details: \n",
      "Traceback (most recent call last):\n",
      "  File \"C:\\Users\\miche\\anaconda3\\envs\\ShallowLearning\\lib\\site-packages\\sklearn\\model_selection\\_validation.py\", line 811, in _score\n",
      "    scores = scorer(estimator, X_test)\n",
      "TypeError: _BaseScorer.__call__() missing 1 required positional argument: 'y_true'\n",
      "\n",
      "  warnings.warn(\n",
      "C:\\Users\\miche\\anaconda3\\envs\\ShallowLearning\\lib\\site-packages\\sklearn\\model_selection\\_validation.py:824: UserWarning: Scoring failed. The score on this train-test partition for these parameters will be set to nan. Details: \n",
      "Traceback (most recent call last):\n",
      "  File \"C:\\Users\\miche\\anaconda3\\envs\\ShallowLearning\\lib\\site-packages\\sklearn\\model_selection\\_validation.py\", line 811, in _score\n",
      "    scores = scorer(estimator, X_test)\n",
      "TypeError: _BaseScorer.__call__() missing 1 required positional argument: 'y_true'\n",
      "\n",
      "  warnings.warn(\n",
      "C:\\Users\\miche\\anaconda3\\envs\\ShallowLearning\\lib\\site-packages\\sklearn\\model_selection\\_validation.py:824: UserWarning: Scoring failed. The score on this train-test partition for these parameters will be set to nan. Details: \n",
      "Traceback (most recent call last):\n",
      "  File \"C:\\Users\\miche\\anaconda3\\envs\\ShallowLearning\\lib\\site-packages\\sklearn\\model_selection\\_validation.py\", line 811, in _score\n",
      "    scores = scorer(estimator, X_test)\n",
      "TypeError: _BaseScorer.__call__() missing 1 required positional argument: 'y_true'\n",
      "\n",
      "  warnings.warn(\n",
      "C:\\Users\\miche\\anaconda3\\envs\\ShallowLearning\\lib\\site-packages\\sklearn\\model_selection\\_validation.py:824: UserWarning: Scoring failed. The score on this train-test partition for these parameters will be set to nan. Details: \n",
      "Traceback (most recent call last):\n",
      "  File \"C:\\Users\\miche\\anaconda3\\envs\\ShallowLearning\\lib\\site-packages\\sklearn\\model_selection\\_validation.py\", line 811, in _score\n",
      "    scores = scorer(estimator, X_test)\n",
      "TypeError: _BaseScorer.__call__() missing 1 required positional argument: 'y_true'\n",
      "\n",
      "  warnings.warn(\n",
      "C:\\Users\\miche\\anaconda3\\envs\\ShallowLearning\\lib\\site-packages\\sklearn\\model_selection\\_validation.py:824: UserWarning: Scoring failed. The score on this train-test partition for these parameters will be set to nan. Details: \n",
      "Traceback (most recent call last):\n",
      "  File \"C:\\Users\\miche\\anaconda3\\envs\\ShallowLearning\\lib\\site-packages\\sklearn\\model_selection\\_validation.py\", line 811, in _score\n",
      "    scores = scorer(estimator, X_test)\n",
      "TypeError: _BaseScorer.__call__() missing 1 required positional argument: 'y_true'\n",
      "\n",
      "  warnings.warn(\n",
      "C:\\Users\\miche\\anaconda3\\envs\\ShallowLearning\\lib\\site-packages\\sklearn\\model_selection\\_validation.py:824: UserWarning: Scoring failed. The score on this train-test partition for these parameters will be set to nan. Details: \n",
      "Traceback (most recent call last):\n",
      "  File \"C:\\Users\\miche\\anaconda3\\envs\\ShallowLearning\\lib\\site-packages\\sklearn\\model_selection\\_validation.py\", line 811, in _score\n",
      "    scores = scorer(estimator, X_test)\n",
      "TypeError: _BaseScorer.__call__() missing 1 required positional argument: 'y_true'\n",
      "\n",
      "  warnings.warn(\n",
      "C:\\Users\\miche\\anaconda3\\envs\\ShallowLearning\\lib\\site-packages\\sklearn\\model_selection\\_validation.py:824: UserWarning: Scoring failed. The score on this train-test partition for these parameters will be set to nan. Details: \n",
      "Traceback (most recent call last):\n",
      "  File \"C:\\Users\\miche\\anaconda3\\envs\\ShallowLearning\\lib\\site-packages\\sklearn\\model_selection\\_validation.py\", line 811, in _score\n",
      "    scores = scorer(estimator, X_test)\n",
      "TypeError: _BaseScorer.__call__() missing 1 required positional argument: 'y_true'\n",
      "\n",
      "  warnings.warn(\n",
      "C:\\Users\\miche\\anaconda3\\envs\\ShallowLearning\\lib\\site-packages\\sklearn\\model_selection\\_validation.py:824: UserWarning: Scoring failed. The score on this train-test partition for these parameters will be set to nan. Details: \n",
      "Traceback (most recent call last):\n",
      "  File \"C:\\Users\\miche\\anaconda3\\envs\\ShallowLearning\\lib\\site-packages\\sklearn\\model_selection\\_validation.py\", line 811, in _score\n",
      "    scores = scorer(estimator, X_test)\n",
      "TypeError: _BaseScorer.__call__() missing 1 required positional argument: 'y_true'\n",
      "\n",
      "  warnings.warn(\n",
      "C:\\Users\\miche\\anaconda3\\envs\\ShallowLearning\\lib\\site-packages\\sklearn\\model_selection\\_search.py:976: UserWarning: One or more of the test scores are non-finite: [nan nan nan nan nan nan nan nan nan]\n",
      "  warnings.warn(\n"
     ]
    },
    {
     "name": "stdout",
     "output_type": "stream",
     "text": [
      "Best Parameters: {'eps': 0.1, 'min_samples': 5}\n"
     ]
    }
   ],
   "source": [
    "from sklearn.metrics import make_scorer\n",
    "from sklearn.cluster import DBSCAN\n",
    "from sklearn.model_selection import GridSearchCV\n",
    "from sklearn.metrics import silhouette_score\n",
    "\n",
    "# Assuming X_train is your training dataset\n",
    "\n",
    "# Define a scorer function for silhouette score\n",
    "silhouette_scorer = make_scorer(silhouette_score, greater_is_better=True)\n",
    "\n",
    "# Define a range of parameter values to search\n",
    "param_grid = {'eps': [0.1, 0.5, 1.0],\n",
    "              'min_samples': [5, 10, 20]}\n",
    "\n",
    "# Initialize DBSCAN\n",
    "dbscan = DBSCAN()\n",
    "\n",
    "# Initialize GridSearchCV with the custom silhouette scorer\n",
    "grid_search = GridSearchCV(dbscan, param_grid, cv=5, scoring=silhouette_scorer)\n",
    "\n",
    "# Execute the search\n",
    "grid_search.fit(X_train)\n",
    "\n",
    "# Access the results\n",
    "print(\"Best Parameters:\", grid_search.best_params_)\n"
   ]
  },
  {
   "cell_type": "code",
   "execution_count": null,
   "id": "f3336746",
   "metadata": {},
   "outputs": [],
   "source": []
  }
 ],
 "metadata": {
  "kernelspec": {
   "display_name": "Python 3 (ipykernel)",
   "language": "python",
   "name": "python3"
  },
  "language_info": {
   "codemirror_mode": {
    "name": "ipython",
    "version": 3
   },
   "file_extension": ".py",
   "mimetype": "text/x-python",
   "name": "python",
   "nbconvert_exporter": "python",
   "pygments_lexer": "ipython3",
   "version": "3.10.13"
  }
 },
 "nbformat": 4,
 "nbformat_minor": 5
}
