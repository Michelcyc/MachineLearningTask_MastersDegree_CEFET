{
 "cells": [
  {
   "cell_type": "markdown",
   "id": "8db8f02a",
   "metadata": {},
   "source": [
    "Créditos: Esse notebook é adaptado dos exemplos fornecidos pelo professor Eduardo Bezerra e códigos utilizados no T1.\n",
    "- Link para o vídeo: XX"
   ]
  },
  {
   "cell_type": "markdown",
   "id": "1ed85b85",
   "metadata": {},
   "source": [
    "## Objetivo do trabalho:\n",
    "* Apresentar implementações e descrevê-las com detalhes\n",
    "* Apresentar os resultados\n",
    "* Explicar em vídeo"
   ]
  },
  {
   "cell_type": "markdown",
   "id": "ef9c9f45",
   "metadata": {},
   "source": [
    "# 1 Engenharia de Features"
   ]
  },
  {
   "cell_type": "markdown",
   "id": "045af31f",
   "metadata": {},
   "source": [
    "### Resumo:\n",
    "* Classificação | 1500 exemplos | 11 atributos | credtrain.txt\n",
    "* Preprocessamentos: ordinal + count enconding e normalização\n",
    "* Mining: GradientBoostingClassifier"
   ]
  },
  {
   "cell_type": "markdown",
   "id": "8def6a35",
   "metadata": {},
   "source": [
    "<s> Codificação Target </s>\n",
    "\n",
    "Tentei utilizar codificação target, mas não gerou nada. A seguinte informação apareceu: \"Warning: No categorical columns found. Calling 'transform' will only return input data.\""
   ]
  },
  {
   "cell_type": "markdown",
   "id": "c70ad305",
   "metadata": {},
   "source": [
    "## Seleção dos dados\n",
    "Primeiramente é necessário baixar a base de dados"
   ]
  },
  {
   "cell_type": "code",
   "execution_count": 1,
   "id": "e9cce187",
   "metadata": {},
   "outputs": [],
   "source": [
    "import pandas as pd\n",
    "nome_colunas = ['ESCT', 'NDEP', 'RENDA', 'TIPOR', 'VBEM', 'NPARC', 'VPARC', 'TEL', 'IDADE', 'RESMS', 'ENTRADA', 'CLASSE']\n",
    "data = pd.read_csv('cic1205/data/credtrain.txt', sep='\\t', names=nome_colunas)"
   ]
  },
  {
   "cell_type": "markdown",
   "id": "7231e35b",
   "metadata": {},
   "source": [
    "* O argumento **sep='\\t'** detecta separações por tab\n",
    "* O argumento **names=nome_colunas** foi utilizado para nomear as colunas. Para isso foi criada uma array com os nomes das colunas e passada para o parâmetro"
   ]
  },
  {
   "cell_type": "markdown",
   "id": "930518e6",
   "metadata": {},
   "source": [
    "## Preprocessamento\n",
    "Agora tratarei os atributos categóricos e não categóricos.\n",
    "* Categóricos: Serão codificados em novas variáveis usando ordinal e target encoding\n",
    "* Não categóricos: Serão normalizados\n",
    "* Ambos serão unidos num dataframe final"
   ]
  },
  {
   "cell_type": "code",
   "execution_count": 2,
   "id": "b22c6845",
   "metadata": {},
   "outputs": [],
   "source": [
    "# Lista de variáveis categóricas\n",
    "variaveis_categoricas = ['ESCT', 'NDEP', 'TIPOR', 'TEL']\n",
    "\n",
    "# Lista de variáveis numéricas\n",
    "variaveis_numericas = ['RENDA', 'VBEM', 'NPARC', 'VPARC', 'IDADE', 'RESMS', 'ENTRADA']\n",
    "\n",
    "# Dataframe com variaveis categoricas\n",
    "data_cat = data[variaveis_categoricas]\n",
    "\n",
    "# Dataframe com variaveis numericas\n",
    "data_num = data[variaveis_numericas]"
   ]
  },
  {
   "cell_type": "markdown",
   "id": "52b28b13",
   "metadata": {},
   "source": [
    "### Normalização"
   ]
  },
  {
   "cell_type": "code",
   "execution_count": 3,
   "id": "965416b5",
   "metadata": {},
   "outputs": [],
   "source": [
    "from sklearn.preprocessing import MinMaxScaler  # Importando biblioteca de normalização Min-Max\n",
    "scaler = MinMaxScaler()                         # Objeto que realiza a normalização\n",
    "scaler.fit(data_num)                            # Ajustando o objeto aos dados\n",
    "\n",
    "def normalizar(input_df):\n",
    "    data_num_normalized = pd.DataFrame(             # Cria um dataframe que recebe como input um ndarray (numpy)\n",
    "    scaler.transform(input_df), columns=input_df.columns # O nd-array é retornado pelo método transform\n",
    "    )\n",
    "    return data_num_normalized\n",
    "\n",
    "data_num_normalized = normalizar(data_num)"
   ]
  },
  {
   "cell_type": "markdown",
   "id": "64565e82",
   "metadata": {},
   "source": [
    "### Codificação Ordinal"
   ]
  },
  {
   "cell_type": "code",
   "execution_count": 4,
   "id": "d13a9830",
   "metadata": {},
   "outputs": [],
   "source": [
    "from sklearn.preprocessing import OrdinalEncoder\n",
    "\n",
    "# Criando o objeto codificador ordinal\n",
    "ordinal_encoder = OrdinalEncoder()\n",
    "\n",
    "# Ajustando o objeto aos dados\n",
    "ordinal_encoder.fit(data_cat)\n",
    "\n",
    "# Função para codificar os dados usando Ordinal Encoding\n",
    "def codificar_ordinal(input_df):\n",
    "    nparray_encoded = ordinal_encoder.transform(input_df)\n",
    "    data_cat_encoded = pd.DataFrame(nparray_encoded, columns=input_df.columns)\n",
    "    return data_cat_encoded\n",
    "\n",
    "# Codificando os dados\n",
    "data_cat_encoded_ordinal = codificar_ordinal(data_cat)"
   ]
  },
  {
   "cell_type": "markdown",
   "id": "fdc71583",
   "metadata": {},
   "source": [
    "### Codificação Contagem\n",
    "\n",
    "Retornará quantas vezes um elemento aparece no dataset (pode ser útil para contar eventos etc)"
   ]
  },
  {
   "cell_type": "code",
   "execution_count": 5,
   "id": "7bdb676e",
   "metadata": {},
   "outputs": [
    {
     "name": "stdout",
     "output_type": "stream",
     "text": [
      "Warning: No categorical columns found. Calling 'transform' will only return input data.\n"
     ]
    }
   ],
   "source": [
    "from category_encoders import CountEncoder\n",
    "\n",
    "# Criando o objeto codificador de contagem\n",
    "count_encoder = CountEncoder()\n",
    "\n",
    "# Ajustando o objeto aos dados\n",
    "count_encoder.fit(data_cat)\n",
    "\n",
    "# Codificando os dados\n",
    "data_cat_encoded_count = count_encoder.transform(data_cat)"
   ]
  },
  {
   "cell_type": "markdown",
   "id": "757de5eb",
   "metadata": {},
   "source": [
    "### Concatenando os dataframes preprocessados"
   ]
  },
  {
   "cell_type": "code",
   "execution_count": 6,
   "id": "079a7f13",
   "metadata": {},
   "outputs": [],
   "source": [
    "data_preprocessed_ordinal = pd.concat( [ data_cat_encoded_ordinal, data_num_normalized, data['CLASSE'] ], axis=1 )"
   ]
  },
  {
   "cell_type": "code",
   "execution_count": 7,
   "id": "d858867d",
   "metadata": {},
   "outputs": [],
   "source": [
    "data_preprocessed_count = pd.concat( [ data_cat_encoded_count, data_num_normalized, data['CLASSE'] ], axis=1 )"
   ]
  },
  {
   "cell_type": "markdown",
   "id": "6397ecbd",
   "metadata": {},
   "source": [
    "## Mineração\n",
    "\n",
    "O resultado de GradientBoosting com One-hot encoding **F1 Macro = 0.90**"
   ]
  },
  {
   "cell_type": "markdown",
   "id": "da575770",
   "metadata": {},
   "source": [
    "### Usando Ordinal encoding com GradientBoosting"
   ]
  },
  {
   "cell_type": "code",
   "execution_count": 8,
   "id": "8965b62c",
   "metadata": {},
   "outputs": [],
   "source": [
    "from sklearn.model_selection import train_test_split # Importa classe que faz amostragem (sampling)\n",
    "\n",
    "X_train, X_validation, y_train, y_validation = train_test_split(data_preprocessed_ordinal.iloc[:,:-1], # features\n",
    "                                                                data_preprocessed_ordinal.iloc[:,-1],  # labels\n",
    "                                                                test_size=0.10,                 # % do test set (10%)\n",
    "                                                                random_state=1)                # seed"
   ]
  },
  {
   "cell_type": "code",
   "execution_count": 9,
   "id": "096b443b",
   "metadata": {},
   "outputs": [
    {
     "data": {
      "text/html": [
       "<style>#sk-container-id-1 {color: black;}#sk-container-id-1 pre{padding: 0;}#sk-container-id-1 div.sk-toggleable {background-color: white;}#sk-container-id-1 label.sk-toggleable__label {cursor: pointer;display: block;width: 100%;margin-bottom: 0;padding: 0.3em;box-sizing: border-box;text-align: center;}#sk-container-id-1 label.sk-toggleable__label-arrow:before {content: \"▸\";float: left;margin-right: 0.25em;color: #696969;}#sk-container-id-1 label.sk-toggleable__label-arrow:hover:before {color: black;}#sk-container-id-1 div.sk-estimator:hover label.sk-toggleable__label-arrow:before {color: black;}#sk-container-id-1 div.sk-toggleable__content {max-height: 0;max-width: 0;overflow: hidden;text-align: left;background-color: #f0f8ff;}#sk-container-id-1 div.sk-toggleable__content pre {margin: 0.2em;color: black;border-radius: 0.25em;background-color: #f0f8ff;}#sk-container-id-1 input.sk-toggleable__control:checked~div.sk-toggleable__content {max-height: 200px;max-width: 100%;overflow: auto;}#sk-container-id-1 input.sk-toggleable__control:checked~label.sk-toggleable__label-arrow:before {content: \"▾\";}#sk-container-id-1 div.sk-estimator input.sk-toggleable__control:checked~label.sk-toggleable__label {background-color: #d4ebff;}#sk-container-id-1 div.sk-label input.sk-toggleable__control:checked~label.sk-toggleable__label {background-color: #d4ebff;}#sk-container-id-1 input.sk-hidden--visually {border: 0;clip: rect(1px 1px 1px 1px);clip: rect(1px, 1px, 1px, 1px);height: 1px;margin: -1px;overflow: hidden;padding: 0;position: absolute;width: 1px;}#sk-container-id-1 div.sk-estimator {font-family: monospace;background-color: #f0f8ff;border: 1px dotted black;border-radius: 0.25em;box-sizing: border-box;margin-bottom: 0.5em;}#sk-container-id-1 div.sk-estimator:hover {background-color: #d4ebff;}#sk-container-id-1 div.sk-parallel-item::after {content: \"\";width: 100%;border-bottom: 1px solid gray;flex-grow: 1;}#sk-container-id-1 div.sk-label:hover label.sk-toggleable__label {background-color: #d4ebff;}#sk-container-id-1 div.sk-serial::before {content: \"\";position: absolute;border-left: 1px solid gray;box-sizing: border-box;top: 0;bottom: 0;left: 50%;z-index: 0;}#sk-container-id-1 div.sk-serial {display: flex;flex-direction: column;align-items: center;background-color: white;padding-right: 0.2em;padding-left: 0.2em;position: relative;}#sk-container-id-1 div.sk-item {position: relative;z-index: 1;}#sk-container-id-1 div.sk-parallel {display: flex;align-items: stretch;justify-content: center;background-color: white;position: relative;}#sk-container-id-1 div.sk-item::before, #sk-container-id-1 div.sk-parallel-item::before {content: \"\";position: absolute;border-left: 1px solid gray;box-sizing: border-box;top: 0;bottom: 0;left: 50%;z-index: -1;}#sk-container-id-1 div.sk-parallel-item {display: flex;flex-direction: column;z-index: 1;position: relative;background-color: white;}#sk-container-id-1 div.sk-parallel-item:first-child::after {align-self: flex-end;width: 50%;}#sk-container-id-1 div.sk-parallel-item:last-child::after {align-self: flex-start;width: 50%;}#sk-container-id-1 div.sk-parallel-item:only-child::after {width: 0;}#sk-container-id-1 div.sk-dashed-wrapped {border: 1px dashed gray;margin: 0 0.4em 0.5em 0.4em;box-sizing: border-box;padding-bottom: 0.4em;background-color: white;}#sk-container-id-1 div.sk-label label {font-family: monospace;font-weight: bold;display: inline-block;line-height: 1.2em;}#sk-container-id-1 div.sk-label-container {text-align: center;}#sk-container-id-1 div.sk-container {/* jupyter's `normalize.less` sets `[hidden] { display: none; }` but bootstrap.min.css set `[hidden] { display: none !important; }` so we also need the `!important` here to be able to override the default hidden behavior on the sphinx rendered scikit-learn.org. See: https://github.com/scikit-learn/scikit-learn/issues/21755 */display: inline-block !important;position: relative;}#sk-container-id-1 div.sk-text-repr-fallback {display: none;}</style><div id=\"sk-container-id-1\" class=\"sk-top-container\"><div class=\"sk-text-repr-fallback\"><pre>GradientBoostingClassifier(random_state=1)</pre><b>In a Jupyter environment, please rerun this cell to show the HTML representation or trust the notebook. <br />On GitHub, the HTML representation is unable to render, please try loading this page with nbviewer.org.</b></div><div class=\"sk-container\" hidden><div class=\"sk-item\"><div class=\"sk-estimator sk-toggleable\"><input class=\"sk-toggleable__control sk-hidden--visually\" id=\"sk-estimator-id-1\" type=\"checkbox\" checked><label for=\"sk-estimator-id-1\" class=\"sk-toggleable__label sk-toggleable__label-arrow\">GradientBoostingClassifier</label><div class=\"sk-toggleable__content\"><pre>GradientBoostingClassifier(random_state=1)</pre></div></div></div></div></div>"
      ],
      "text/plain": [
       "GradientBoostingClassifier(random_state=1)"
      ]
     },
     "execution_count": 9,
     "metadata": {},
     "output_type": "execute_result"
    }
   ],
   "source": [
    "from sklearn.ensemble import GradientBoostingClassifier  # Importando Classe de treinamento de Aumento de Gradiente\n",
    "model = GradientBoostingClassifier(random_state=1)       # Instanciando objeto classificador\n",
    "model.fit(X_train, y_train)                              # Ajustando o modelo"
   ]
  },
  {
   "cell_type": "code",
   "execution_count": 10,
   "id": "9f928e75",
   "metadata": {},
   "outputs": [
    {
     "name": "stdout",
     "output_type": "stream",
     "text": [
      "Overfitted Accuracy: 94.07%\n"
     ]
    }
   ],
   "source": [
    "from sklearn.metrics import accuracy_score, confusion_matrix, classification_report\n",
    "\n",
    "overfitted_pred = model.predict(X_train)                # Checando se o modelo ajustou aos dados\n",
    "accuracy = accuracy_score(y_train, overfitted_pred)\n",
    "print(f\"Overfitted Accuracy: {accuracy * 100:.2f}%\")                            # Ajustando o modelo"
   ]
  },
  {
   "cell_type": "code",
   "execution_count": 11,
   "id": "d1043dec",
   "metadata": {},
   "outputs": [
    {
     "name": "stdout",
     "output_type": "stream",
     "text": [
      "Accuracy: 88.67%\n",
      "Confusion Matrix:\n",
      " [[69  3]\n",
      " [14 64]]\n",
      "Classification Report:\n",
      "               precision    recall  f1-score   support\n",
      "\n",
      "           0       0.83      0.96      0.89        72\n",
      "           1       0.96      0.82      0.88        78\n",
      "\n",
      "    accuracy                           0.89       150\n",
      "   macro avg       0.89      0.89      0.89       150\n",
      "weighted avg       0.90      0.89      0.89       150\n",
      "\n"
     ]
    }
   ],
   "source": [
    "y_pred_validation = model.predict(X_validation) # Resultados no set de validação\n",
    "\n",
    "# Evaluate the model\n",
    "accuracy = accuracy_score(y_validation, y_pred_validation)\n",
    "confusion = confusion_matrix(y_validation, y_pred_validation)\n",
    "classification_rep = classification_report(y_validation, y_pred_validation)\n",
    "\n",
    "print(f\"Accuracy: {accuracy * 100:.2f}%\")\n",
    "print(\"Confusion Matrix:\\n\", confusion)\n",
    "print(\"Classification Report:\\n\", classification_rep)"
   ]
  },
  {
   "cell_type": "markdown",
   "id": "29e80694",
   "metadata": {},
   "source": [
    "#### Preprocessamento para teste do modelo\n",
    "Como o dataset de teste está em outro arquivo (credtest.txt), será necessário repetir os passos de preprocessamento usando os objetos já treinados na fase de treinamento do modelo. Os passos são:\n",
    "* Seleção de dados\n",
    "* Separação dos atributos numéricos e categóricos\n",
    "* Utilização dos objetos de preprocessamento já criados para transformar os novos dados (scaler e codificador)\n",
    "* Junção do dataset\n",
    "* Teste final"
   ]
  },
  {
   "cell_type": "code",
   "execution_count": 12,
   "id": "a50962dd",
   "metadata": {},
   "outputs": [],
   "source": [
    "test_data = pd.read_csv('cic1205/data/credtest.txt', sep='\\t', names=nome_colunas) # Seleção de dados\n",
    "test_data_cat = test_data[variaveis_categoricas] # Separação dos atributos categóricos\n",
    "test_data_num = test_data[variaveis_numericas]   # Separação dos atributos categóricos\n",
    "test_data_cat_encoded = codificar_ordinal(test_data_cat)\n",
    "test_data_num_normalized = normalizar(test_data_num)   # Normalização\n",
    "test_data_preprocessed = pd.concat( [ test_data_cat_encoded, test_data_num_normalized, test_data['CLASSE'] ], axis=1 ) # Junção\n",
    "X_test = test_data_preprocessed.iloc[:,:-1] # Conjuntos de dados\n",
    "y_test = test_data_preprocessed.iloc[:,-1]  # Classificações"
   ]
  },
  {
   "cell_type": "code",
   "execution_count": 13,
   "id": "0c78af05",
   "metadata": {
    "scrolled": false
   },
   "outputs": [
    {
     "name": "stdout",
     "output_type": "stream",
     "text": [
      "Accuracy: 89.43%\n",
      "Confusion Matrix:\n",
      " [[293  13]\n",
      " [ 48 223]]\n",
      "Classification Report:\n",
      "               precision    recall  f1-score   support\n",
      "\n",
      "           0       0.86      0.96      0.91       306\n",
      "           1       0.94      0.82      0.88       271\n",
      "\n",
      "    accuracy                           0.89       577\n",
      "   macro avg       0.90      0.89      0.89       577\n",
      "weighted avg       0.90      0.89      0.89       577\n",
      "\n"
     ]
    }
   ],
   "source": [
    "y_pred = model.predict(X_test) # Resultados no set de testes\n",
    "\n",
    "# Evaluate the model\n",
    "accuracy = accuracy_score(y_test, y_pred)\n",
    "confusion = confusion_matrix(y_test, y_pred)\n",
    "classification_rep = classification_report(y_test, y_pred)\n",
    "\n",
    "print(f\"Accuracy: {accuracy * 100:.2f}%\")\n",
    "print(\"Confusion Matrix:\\n\", confusion)\n",
    "print(\"Classification Report:\\n\", classification_rep)"
   ]
  },
  {
   "cell_type": "markdown",
   "id": "b9ec230c",
   "metadata": {},
   "source": [
    "### Usando Count encoding com GradientBoosting"
   ]
  },
  {
   "cell_type": "code",
   "execution_count": 14,
   "id": "13d48c68",
   "metadata": {},
   "outputs": [],
   "source": [
    "from sklearn.model_selection import train_test_split # Importa classe que faz amostragem (sampling)\n",
    "\n",
    "X_train, X_validation, y_train, y_validation = train_test_split(data_preprocessed_count.iloc[:,:-1], # features\n",
    "                                                                data_preprocessed_count.iloc[:,-1],  # labels\n",
    "                                                                test_size=0.10,                 # % do test set (10%)\n",
    "                                                                random_state=1)                # seed"
   ]
  },
  {
   "cell_type": "code",
   "execution_count": 15,
   "id": "edf8f80e",
   "metadata": {},
   "outputs": [
    {
     "data": {
      "text/html": [
       "<style>#sk-container-id-2 {color: black;}#sk-container-id-2 pre{padding: 0;}#sk-container-id-2 div.sk-toggleable {background-color: white;}#sk-container-id-2 label.sk-toggleable__label {cursor: pointer;display: block;width: 100%;margin-bottom: 0;padding: 0.3em;box-sizing: border-box;text-align: center;}#sk-container-id-2 label.sk-toggleable__label-arrow:before {content: \"▸\";float: left;margin-right: 0.25em;color: #696969;}#sk-container-id-2 label.sk-toggleable__label-arrow:hover:before {color: black;}#sk-container-id-2 div.sk-estimator:hover label.sk-toggleable__label-arrow:before {color: black;}#sk-container-id-2 div.sk-toggleable__content {max-height: 0;max-width: 0;overflow: hidden;text-align: left;background-color: #f0f8ff;}#sk-container-id-2 div.sk-toggleable__content pre {margin: 0.2em;color: black;border-radius: 0.25em;background-color: #f0f8ff;}#sk-container-id-2 input.sk-toggleable__control:checked~div.sk-toggleable__content {max-height: 200px;max-width: 100%;overflow: auto;}#sk-container-id-2 input.sk-toggleable__control:checked~label.sk-toggleable__label-arrow:before {content: \"▾\";}#sk-container-id-2 div.sk-estimator input.sk-toggleable__control:checked~label.sk-toggleable__label {background-color: #d4ebff;}#sk-container-id-2 div.sk-label input.sk-toggleable__control:checked~label.sk-toggleable__label {background-color: #d4ebff;}#sk-container-id-2 input.sk-hidden--visually {border: 0;clip: rect(1px 1px 1px 1px);clip: rect(1px, 1px, 1px, 1px);height: 1px;margin: -1px;overflow: hidden;padding: 0;position: absolute;width: 1px;}#sk-container-id-2 div.sk-estimator {font-family: monospace;background-color: #f0f8ff;border: 1px dotted black;border-radius: 0.25em;box-sizing: border-box;margin-bottom: 0.5em;}#sk-container-id-2 div.sk-estimator:hover {background-color: #d4ebff;}#sk-container-id-2 div.sk-parallel-item::after {content: \"\";width: 100%;border-bottom: 1px solid gray;flex-grow: 1;}#sk-container-id-2 div.sk-label:hover label.sk-toggleable__label {background-color: #d4ebff;}#sk-container-id-2 div.sk-serial::before {content: \"\";position: absolute;border-left: 1px solid gray;box-sizing: border-box;top: 0;bottom: 0;left: 50%;z-index: 0;}#sk-container-id-2 div.sk-serial {display: flex;flex-direction: column;align-items: center;background-color: white;padding-right: 0.2em;padding-left: 0.2em;position: relative;}#sk-container-id-2 div.sk-item {position: relative;z-index: 1;}#sk-container-id-2 div.sk-parallel {display: flex;align-items: stretch;justify-content: center;background-color: white;position: relative;}#sk-container-id-2 div.sk-item::before, #sk-container-id-2 div.sk-parallel-item::before {content: \"\";position: absolute;border-left: 1px solid gray;box-sizing: border-box;top: 0;bottom: 0;left: 50%;z-index: -1;}#sk-container-id-2 div.sk-parallel-item {display: flex;flex-direction: column;z-index: 1;position: relative;background-color: white;}#sk-container-id-2 div.sk-parallel-item:first-child::after {align-self: flex-end;width: 50%;}#sk-container-id-2 div.sk-parallel-item:last-child::after {align-self: flex-start;width: 50%;}#sk-container-id-2 div.sk-parallel-item:only-child::after {width: 0;}#sk-container-id-2 div.sk-dashed-wrapped {border: 1px dashed gray;margin: 0 0.4em 0.5em 0.4em;box-sizing: border-box;padding-bottom: 0.4em;background-color: white;}#sk-container-id-2 div.sk-label label {font-family: monospace;font-weight: bold;display: inline-block;line-height: 1.2em;}#sk-container-id-2 div.sk-label-container {text-align: center;}#sk-container-id-2 div.sk-container {/* jupyter's `normalize.less` sets `[hidden] { display: none; }` but bootstrap.min.css set `[hidden] { display: none !important; }` so we also need the `!important` here to be able to override the default hidden behavior on the sphinx rendered scikit-learn.org. See: https://github.com/scikit-learn/scikit-learn/issues/21755 */display: inline-block !important;position: relative;}#sk-container-id-2 div.sk-text-repr-fallback {display: none;}</style><div id=\"sk-container-id-2\" class=\"sk-top-container\"><div class=\"sk-text-repr-fallback\"><pre>GradientBoostingClassifier(random_state=1)</pre><b>In a Jupyter environment, please rerun this cell to show the HTML representation or trust the notebook. <br />On GitHub, the HTML representation is unable to render, please try loading this page with nbviewer.org.</b></div><div class=\"sk-container\" hidden><div class=\"sk-item\"><div class=\"sk-estimator sk-toggleable\"><input class=\"sk-toggleable__control sk-hidden--visually\" id=\"sk-estimator-id-2\" type=\"checkbox\" checked><label for=\"sk-estimator-id-2\" class=\"sk-toggleable__label sk-toggleable__label-arrow\">GradientBoostingClassifier</label><div class=\"sk-toggleable__content\"><pre>GradientBoostingClassifier(random_state=1)</pre></div></div></div></div></div>"
      ],
      "text/plain": [
       "GradientBoostingClassifier(random_state=1)"
      ]
     },
     "execution_count": 15,
     "metadata": {},
     "output_type": "execute_result"
    }
   ],
   "source": [
    "from sklearn.ensemble import GradientBoostingClassifier  # Importando Classe de treinamento de Aumento de Gradiente\n",
    "model = GradientBoostingClassifier(random_state=1)       # Instanciando objeto classificador\n",
    "model.fit(X_train, y_train)                              # Ajustando o modelo"
   ]
  },
  {
   "cell_type": "code",
   "execution_count": 16,
   "id": "e8e45f52",
   "metadata": {},
   "outputs": [
    {
     "name": "stdout",
     "output_type": "stream",
     "text": [
      "Overfitted Accuracy: 94.07%\n"
     ]
    }
   ],
   "source": [
    "from sklearn.metrics import accuracy_score, confusion_matrix, classification_report\n",
    "\n",
    "overfitted_pred = model.predict(X_train)                # Checando se o modelo ajustou aos dados\n",
    "accuracy = accuracy_score(y_train, overfitted_pred)\n",
    "print(f\"Overfitted Accuracy: {accuracy * 100:.2f}%\")                            # Ajustando o modelo"
   ]
  },
  {
   "cell_type": "code",
   "execution_count": 17,
   "id": "591490dc",
   "metadata": {},
   "outputs": [
    {
     "name": "stdout",
     "output_type": "stream",
     "text": [
      "Accuracy: 88.67%\n",
      "Confusion Matrix:\n",
      " [[69  3]\n",
      " [14 64]]\n",
      "Classification Report:\n",
      "               precision    recall  f1-score   support\n",
      "\n",
      "           0       0.83      0.96      0.89        72\n",
      "           1       0.96      0.82      0.88        78\n",
      "\n",
      "    accuracy                           0.89       150\n",
      "   macro avg       0.89      0.89      0.89       150\n",
      "weighted avg       0.90      0.89      0.89       150\n",
      "\n"
     ]
    }
   ],
   "source": [
    "y_pred_validation = model.predict(X_validation) # Resultados no set de validação\n",
    "\n",
    "# Evaluate the model\n",
    "accuracy = accuracy_score(y_validation, y_pred_validation)\n",
    "confusion = confusion_matrix(y_validation, y_pred_validation)\n",
    "classification_rep = classification_report(y_validation, y_pred_validation)\n",
    "\n",
    "print(f\"Accuracy: {accuracy * 100:.2f}%\")\n",
    "print(\"Confusion Matrix:\\n\", confusion)\n",
    "print(\"Classification Report:\\n\", classification_rep)"
   ]
  },
  {
   "cell_type": "markdown",
   "id": "e30a7add",
   "metadata": {},
   "source": [
    "#### Preprocessamento para teste do modelo\n",
    "Como o dataset de teste está em outro arquivo (credtest.txt), será necessário repetir os passos de preprocessamento usando os objetos já treinados na fase de treinamento do modelo. Os passos são:\n",
    "* Seleção de dados\n",
    "* Separação dos atributos numéricos e categóricos\n",
    "* Utilização dos objetos de preprocessamento já criados para transformar os novos dados (scaler e codificador)\n",
    "* Junção do dataset\n",
    "* Teste final"
   ]
  },
  {
   "cell_type": "code",
   "execution_count": 18,
   "id": "ef972ead",
   "metadata": {},
   "outputs": [],
   "source": [
    "test_data = pd.read_csv('cic1205/data/credtest.txt', sep='\\t', names=nome_colunas) # Seleção de dados\n",
    "test_data_cat = test_data[variaveis_categoricas] # Separação dos atributos categóricos\n",
    "test_data_num = test_data[variaveis_numericas]   # Separação dos atributos categóricos\n",
    "test_data_cat_encoded = count_encoder.transform(test_data_cat)\n",
    "test_data_num_normalized = normalizar(test_data_num)   # Normalização\n",
    "test_data_preprocessed = pd.concat( [ test_data_cat_encoded, test_data_num_normalized, test_data['CLASSE'] ], axis=1 ) # Junção\n",
    "X_test = test_data_preprocessed.iloc[:,:-1] # Conjuntos de dados\n",
    "y_test = test_data_preprocessed.iloc[:,-1]  # Classificações"
   ]
  },
  {
   "cell_type": "code",
   "execution_count": 19,
   "id": "953b71fd",
   "metadata": {
    "scrolled": false
   },
   "outputs": [
    {
     "name": "stdout",
     "output_type": "stream",
     "text": [
      "Accuracy: 89.43%\n",
      "Confusion Matrix:\n",
      " [[293  13]\n",
      " [ 48 223]]\n",
      "Classification Report:\n",
      "               precision    recall  f1-score   support\n",
      "\n",
      "           0       0.86      0.96      0.91       306\n",
      "           1       0.94      0.82      0.88       271\n",
      "\n",
      "    accuracy                           0.89       577\n",
      "   macro avg       0.90      0.89      0.89       577\n",
      "weighted avg       0.90      0.89      0.89       577\n",
      "\n"
     ]
    }
   ],
   "source": [
    "y_pred = model.predict(X_test) # Resultados no set de testes\n",
    "\n",
    "# Evaluate the model\n",
    "accuracy = accuracy_score(y_test, y_pred)\n",
    "confusion = confusion_matrix(y_test, y_pred)\n",
    "classification_rep = classification_report(y_test, y_pred)\n",
    "\n",
    "print(f\"Accuracy: {accuracy * 100:.2f}%\")\n",
    "print(\"Confusion Matrix:\\n\", confusion)\n",
    "print(\"Classification Report:\\n\", classification_rep)"
   ]
  },
  {
   "cell_type": "markdown",
   "id": "e3f320ce",
   "metadata": {},
   "source": [
    "### Análise comparativa de resultados (F1-Macro avg):\n",
    "- One-hot encoding: 0.90\n",
    "- Ordinal encoding: 0.89\n",
    "- Count encoding: 0.89"
   ]
  },
  {
   "cell_type": "markdown",
   "id": "163c765c",
   "metadata": {},
   "source": [
    "# 2 Validação Cruzada"
   ]
  },
  {
   "cell_type": "markdown",
   "id": "40aefbdd",
   "metadata": {},
   "source": [
    "### Resumo:\n",
    "* Classificação | A602.pickle, A621.pickle, A627.pickle, A636.pickle, A652.pickle\n",
    "* Preprocessamentos: binarização\n",
    "* Mining: GradientBoostingClassifier com CrossValidation\n",
    "* Tarefa: Hyperparameter Tunning com Stritified5Fold Validation"
   ]
  },
  {
   "cell_type": "code",
   "execution_count": 20,
   "id": "e6299da6",
   "metadata": {},
   "outputs": [],
   "source": [
    "import numpy as np\n",
    "import pickle\n",
    "fileA602 = open('cic1205/data/atmoseer/A602.pickle' , 'rb')\n",
    "fileA621 = open('cic1205/data/atmoseer/A621.pickle' , 'rb')\n",
    "fileA627 = open('cic1205/data/atmoseer/A627.pickle' , 'rb')\n",
    "fileA636 = open('cic1205/data/atmoseer/A636.pickle' , 'rb')\n",
    "fileA652 = open('cic1205/data/atmoseer/A652.pickle' , 'rb')"
   ]
  },
  {
   "cell_type": "markdown",
   "id": "ee651e32",
   "metadata": {},
   "source": [
    "### Dataset A602"
   ]
  },
  {
   "cell_type": "code",
   "execution_count": 21,
   "id": "d5c235db",
   "metadata": {},
   "outputs": [],
   "source": [
    "(X_train , y_train , X_val , y_val , X_test , y_test) = pickle.load(fileA602)"
   ]
  },
  {
   "cell_type": "code",
   "execution_count": 22,
   "id": "e456eea5",
   "metadata": {},
   "outputs": [],
   "source": [
    "#Unindo dataset de treino e validação\n",
    "X_train = np.concatenate([X_train, X_val], axis=0)\n",
    "y_train = np.concatenate([y_train, y_val])\n",
    "\n",
    "# Preprocessamento (Botando 1 tudo que é diferente de 0 como informado no grupo)\n",
    "y_train[y_train != 0] = 1\n",
    "y_test[y_test != 0] = 1\n",
    "# Transformando 2D array em 1D array\n",
    "y_train = y_train.flatten()\n",
    "y_test = y_test.flatten()"
   ]
  },
  {
   "cell_type": "code",
   "execution_count": 23,
   "id": "ffd1b654",
   "metadata": {},
   "outputs": [
    {
     "name": "stdout",
     "output_type": "stream",
     "text": [
      "Best Hyperparameters: {'subsample': 1.0, 'n_estimators': 50, 'min_samples_split': 2, 'min_samples_leaf': 3, 'max_depth': 3, 'learning_rate': 0.1}\n"
     ]
    }
   ],
   "source": [
    "from sklearn.model_selection import RandomizedSearchCV, StratifiedKFold\n",
    "from sklearn.ensemble import GradientBoostingClassifier\n",
    "\n",
    "model = GradientBoostingClassifier()\n",
    "cv = StratifiedKFold(n_splits=5, shuffle=True, random_state=42) # 5 folds\n",
    "\n",
    "# Definindo parametros\n",
    "param_dist = {\n",
    "    'n_estimators': [25, 50, 100],\n",
    "    'learning_rate': [0.01, 0.1, 1],\n",
    "    'max_depth': [2, 3, 4],\n",
    "    'min_samples_split': [2],\n",
    "    'min_samples_leaf': [3, 4, 6],\n",
    "    'subsample': [0.3, 0.6, 1.0]\n",
    "}\n",
    "\n",
    "# Busca randômica\n",
    "random_search = RandomizedSearchCV(\n",
    "    model,\n",
    "    param_distributions=param_dist,\n",
    "    n_iter=10,\n",
    "    scoring='accuracy',\n",
    "    cv=cv,\n",
    "    random_state=42\n",
    ")\n",
    "\n",
    "# Fit the randomized search to the data\n",
    "random_search.fit(X_train, y_train)\n",
    "\n",
    "# Get the best hyperparameters\n",
    "best_params = random_search.best_params_\n",
    "print(\"Best Hyperparameters:\", best_params)\n",
    "\n",
    "# Get the best model\n",
    "best_model = random_search.best_estimator_\n"
   ]
  },
  {
   "cell_type": "markdown",
   "id": "0e359df9",
   "metadata": {},
   "source": [
    "**Busca 1**:\n",
    "Best Hyperparameters: {'subsample': 1.0, 'n_estimators': 50, 'min_samples_split': 2, 'min_samples_leaf': 4, 'max_depth': 3, 'learning_rate': 0.1}\n",
    "\n",
    "**Busca 2**:\n",
    "Best Hyperparameters: {'subsample': 1.0, 'n_estimators': 50, 'min_samples_split': 2, 'min_samples_leaf': 3, 'max_depth': 3, 'learning_rate': 0.1}"
   ]
  },
  {
   "cell_type": "code",
   "execution_count": 24,
   "id": "c337d9f0",
   "metadata": {},
   "outputs": [
    {
     "name": "stdout",
     "output_type": "stream",
     "text": [
      "Accuracy: 88.89%\n",
      "Confusion Matrix:\n",
      " [[633  40]\n",
      " [ 45  47]]\n",
      "Classification Report:\n",
      "               precision    recall  f1-score   support\n",
      "\n",
      "         0.0       0.93      0.94      0.94       673\n",
      "         1.0       0.54      0.51      0.53        92\n",
      "\n",
      "    accuracy                           0.89       765\n",
      "   macro avg       0.74      0.73      0.73       765\n",
      "weighted avg       0.89      0.89      0.89       765\n",
      "\n"
     ]
    }
   ],
   "source": [
    "# Predição\n",
    "y_pred = best_model.predict(X_test)\n",
    "\n",
    "# Classification report conforme requisitado\n",
    "accuracy = accuracy_score(y_test, y_pred)\n",
    "confusion = confusion_matrix(y_test, y_pred)\n",
    "classification_rep = classification_report(y_test, y_pred)\n",
    "\n",
    "print(f\"Accuracy: {accuracy * 100:.2f}%\")\n",
    "print(\"Confusion Matrix:\\n\", confusion)\n",
    "print(\"Classification Report:\\n\", classification_rep)"
   ]
  },
  {
   "cell_type": "markdown",
   "id": "adb692b5",
   "metadata": {},
   "source": [
    "#### Resultados A602\n",
    "- F1 Classe 1 antigo: 0.54\n",
    "- F1 Classe 1 novo: 0.53"
   ]
  },
  {
   "cell_type": "markdown",
   "id": "f617b72e",
   "metadata": {},
   "source": [
    "### Dataset A621"
   ]
  },
  {
   "cell_type": "code",
   "execution_count": 25,
   "id": "afa533ba",
   "metadata": {},
   "outputs": [],
   "source": [
    "(X_train , y_train , X_val , y_val , X_test , y_test) = pickle.load(fileA621)"
   ]
  },
  {
   "cell_type": "code",
   "execution_count": 26,
   "id": "f598dbc4",
   "metadata": {},
   "outputs": [],
   "source": [
    "#Unindo dataset de treino e validação\n",
    "X_train = np.concatenate([X_train, X_val], axis=0)\n",
    "y_train = np.concatenate([y_train, y_val])\n",
    "\n",
    "# Preprocessamento (Botando 1 tudo que é diferente de 0 como informado no grupo)\n",
    "y_train[y_train != 0] = 1\n",
    "y_test[y_test != 0] = 1\n",
    "# Transformando 2D array em 1D array\n",
    "y_train = y_train.flatten()\n",
    "y_test = y_test.flatten()"
   ]
  },
  {
   "cell_type": "code",
   "execution_count": 27,
   "id": "68a0befb",
   "metadata": {},
   "outputs": [
    {
     "name": "stdout",
     "output_type": "stream",
     "text": [
      "Best Hyperparameters: {'subsample': 1.0, 'n_estimators': 50, 'min_samples_split': 2, 'min_samples_leaf': 3, 'max_depth': 3, 'learning_rate': 0.1}\n"
     ]
    }
   ],
   "source": [
    "from sklearn.model_selection import RandomizedSearchCV, StratifiedKFold\n",
    "from sklearn.ensemble import GradientBoostingClassifier\n",
    "\n",
    "model = GradientBoostingClassifier()\n",
    "cv = StratifiedKFold(n_splits=5, shuffle=True, random_state=42) # 5 folds\n",
    "\n",
    "# Definindo parametros\n",
    "param_dist = {\n",
    "    'n_estimators': [25, 50, 100],\n",
    "    'learning_rate': [0.01, 0.1, 1],\n",
    "    'max_depth': [2, 3, 4],\n",
    "    'min_samples_split': [2],\n",
    "    'min_samples_leaf': [3, 4, 6],\n",
    "    'subsample': [0.3, 0.6, 1.0]\n",
    "}\n",
    "\n",
    "# Busca randômica\n",
    "random_search = RandomizedSearchCV(\n",
    "    model,\n",
    "    param_distributions=param_dist,\n",
    "    n_iter=10,\n",
    "    scoring='accuracy',\n",
    "    cv=cv,\n",
    "    random_state=42\n",
    ")\n",
    "\n",
    "# Hora do treinamento\n",
    "random_search.fit(X_train, y_train)\n",
    "\n",
    "# Informar melhores parâmetros\n",
    "best_params = random_search.best_params_\n",
    "print(\"Best Hyperparameters:\", best_params)\n",
    "\n",
    "# Setar um modelo com os melhores parâmetros\n",
    "best_model = random_search.best_estimator_\n"
   ]
  },
  {
   "cell_type": "markdown",
   "id": "e00c790f",
   "metadata": {},
   "source": [
    "**Busca 1**:\n",
    "Best Hyperparameters: {'subsample': 1.0, 'n_estimators': 50, 'min_samples_split': 2, 'min_samples_leaf': 4, 'max_depth': 3, 'learning_rate': 0.1}\n",
    "\n",
    "**Busca 2**:\n",
    "Best Hyperparameters: {'subsample': 1.0, 'n_estimators': 50, 'min_samples_split': 2, 'min_samples_leaf': 3, 'max_depth': 3, 'learning_rate': 0.1}\n",
    "\n",
    "**Busca 3**: Mesmo que busca 2"
   ]
  },
  {
   "cell_type": "code",
   "execution_count": 28,
   "id": "e8ebed4d",
   "metadata": {},
   "outputs": [
    {
     "name": "stdout",
     "output_type": "stream",
     "text": [
      "Accuracy: 93.24%\n",
      "Confusion Matrix:\n",
      " [[8943  204]\n",
      " [ 477  456]]\n",
      "Classification Report:\n",
      "               precision    recall  f1-score   support\n",
      "\n",
      "         0.0       0.95      0.98      0.96      9147\n",
      "         1.0       0.69      0.49      0.57       933\n",
      "\n",
      "    accuracy                           0.93     10080\n",
      "   macro avg       0.82      0.73      0.77     10080\n",
      "weighted avg       0.93      0.93      0.93     10080\n",
      "\n"
     ]
    }
   ],
   "source": [
    "# Predição\n",
    "y_pred = best_model.predict(X_test)\n",
    "\n",
    "# Classification report conforme requisitado\n",
    "accuracy = accuracy_score(y_test, y_pred)\n",
    "confusion = confusion_matrix(y_test, y_pred)\n",
    "classification_rep = classification_report(y_test, y_pred)\n",
    "\n",
    "print(f\"Accuracy: {accuracy * 100:.2f}%\")\n",
    "print(\"Confusion Matrix:\\n\", confusion)\n",
    "print(\"Classification Report:\\n\", classification_rep)"
   ]
  },
  {
   "cell_type": "markdown",
   "id": "bd15d3af",
   "metadata": {},
   "source": [
    "#### Resultados A621\n",
    "- F1 Classe 1 antigo: 0.58\n",
    "- F1 Classe 1 novo: 0.57"
   ]
  },
  {
   "cell_type": "markdown",
   "id": "7077070e",
   "metadata": {},
   "source": [
    "### Dataset A627"
   ]
  },
  {
   "cell_type": "code",
   "execution_count": 29,
   "id": "01904cc8",
   "metadata": {},
   "outputs": [],
   "source": [
    "(X_train , y_train , X_val , y_val , X_test , y_test) = pickle.load(fileA627)"
   ]
  },
  {
   "cell_type": "code",
   "execution_count": 30,
   "id": "2bd6fdba",
   "metadata": {},
   "outputs": [],
   "source": [
    "#Unindo dataset de treino e validação\n",
    "X_train = np.concatenate([X_train, X_val], axis=0)\n",
    "y_train = np.concatenate([y_train, y_val])\n",
    "\n",
    "# Preprocessamento (Botando 1 tudo que é diferente de 0 como informado no grupo)\n",
    "y_train[y_train != 0] = 1\n",
    "y_test[y_test != 0] = 1\n",
    "# Transformando 2D array em 1D array\n",
    "y_train = y_train.flatten()\n",
    "y_test = y_test.flatten()"
   ]
  },
  {
   "cell_type": "code",
   "execution_count": 31,
   "id": "b88a85e0",
   "metadata": {},
   "outputs": [
    {
     "name": "stdout",
     "output_type": "stream",
     "text": [
      "Best Hyperparameters: {'subsample': 0.6, 'n_estimators': 25, 'min_samples_split': 2, 'min_samples_leaf': 4, 'max_depth': 3, 'learning_rate': 0.1}\n"
     ]
    }
   ],
   "source": [
    "from sklearn.model_selection import RandomizedSearchCV, StratifiedKFold\n",
    "from sklearn.ensemble import GradientBoostingClassifier\n",
    "\n",
    "model = GradientBoostingClassifier()\n",
    "cv = StratifiedKFold(n_splits=5, shuffle=True, random_state=42) # 5 folds\n",
    "\n",
    "# Definindo parametros\n",
    "param_dist = {\n",
    "    'n_estimators': [25, 50, 100],\n",
    "    'learning_rate': [0.1, 1],\n",
    "    'max_depth': [2, 3, 4],\n",
    "    'min_samples_split': [2],\n",
    "    'min_samples_leaf': [3, 4],\n",
    "    'subsample': [0.6, 1.0]\n",
    "}\n",
    "\n",
    "# Busca randômica\n",
    "random_search = RandomizedSearchCV(\n",
    "    model,\n",
    "    param_distributions=param_dist,\n",
    "    n_iter=10,\n",
    "    scoring='accuracy',\n",
    "    cv=cv,\n",
    "    random_state=42\n",
    ")\n",
    "\n",
    "# Hora do treinamento\n",
    "random_search.fit(X_train, y_train)\n",
    "\n",
    "# Informar melhores parâmetros\n",
    "best_params = random_search.best_params_\n",
    "print(\"Best Hyperparameters:\", best_params)\n",
    "\n",
    "# Setar um modelo com os melhores parâmetros\n",
    "best_model = random_search.best_estimator_\n"
   ]
  },
  {
   "cell_type": "markdown",
   "id": "72c28a0c",
   "metadata": {},
   "source": [
    "**Best Hyperparameters**: {'subsample': 0.6, 'n_estimators': 25, 'min_samples_split': 2, 'min_samples_leaf': 3, 'max_depth': 3, 'learning_rate': 0.1}"
   ]
  },
  {
   "cell_type": "code",
   "execution_count": 32,
   "id": "c268af65",
   "metadata": {},
   "outputs": [
    {
     "name": "stdout",
     "output_type": "stream",
     "text": [
      "Accuracy: 93.36%\n",
      "Confusion Matrix:\n",
      " [[8928  272]\n",
      " [ 405  597]]\n",
      "Classification Report:\n",
      "               precision    recall  f1-score   support\n",
      "\n",
      "         0.0       0.96      0.97      0.96      9200\n",
      "         1.0       0.69      0.60      0.64      1002\n",
      "\n",
      "    accuracy                           0.93     10202\n",
      "   macro avg       0.82      0.78      0.80     10202\n",
      "weighted avg       0.93      0.93      0.93     10202\n",
      "\n"
     ]
    }
   ],
   "source": [
    "# Predição\n",
    "y_pred = best_model.predict(X_test)\n",
    "\n",
    "# Classification report conforme requisitado\n",
    "accuracy = accuracy_score(y_test, y_pred)\n",
    "confusion = confusion_matrix(y_test, y_pred)\n",
    "classification_rep = classification_report(y_test, y_pred)\n",
    "\n",
    "print(f\"Accuracy: {accuracy * 100:.2f}%\")\n",
    "print(\"Confusion Matrix:\\n\", confusion)\n",
    "print(\"Classification Report:\\n\", classification_rep)"
   ]
  },
  {
   "cell_type": "markdown",
   "id": "fd9bffff",
   "metadata": {},
   "source": [
    "#### Resultados A627\n",
    "- F1 Classe 1 antigo: 0.62\n",
    "- F1 Classe 1 novo: 0.63"
   ]
  },
  {
   "cell_type": "markdown",
   "id": "a3e836b0",
   "metadata": {},
   "source": [
    "### Dataset A636"
   ]
  },
  {
   "cell_type": "code",
   "execution_count": 33,
   "id": "1928cafc",
   "metadata": {},
   "outputs": [],
   "source": [
    "(X_train , y_train , X_val , y_val , X_test , y_test) = pickle.load(fileA636)"
   ]
  },
  {
   "cell_type": "code",
   "execution_count": 34,
   "id": "7be23ca7",
   "metadata": {},
   "outputs": [],
   "source": [
    "#Unindo dataset de treino e validação\n",
    "X_train = np.concatenate([X_train, X_val], axis=0)\n",
    "y_train = np.concatenate([y_train, y_val])\n",
    "\n",
    "# Preprocessamento (Botando 1 tudo que é diferente de 0 como informado no grupo)\n",
    "y_train[y_train != 0] = 1\n",
    "y_test[y_test != 0] = 1\n",
    "# Transformando 2D array em 1D array\n",
    "y_train = y_train.flatten()\n",
    "y_test = y_test.flatten()"
   ]
  },
  {
   "cell_type": "code",
   "execution_count": 35,
   "id": "4c06cccb",
   "metadata": {},
   "outputs": [
    {
     "name": "stdout",
     "output_type": "stream",
     "text": [
      "Best Hyperparameters: {'subsample': 0.6, 'n_estimators': 100, 'min_samples_split': 2, 'min_samples_leaf': 3, 'max_depth': 2, 'learning_rate': 0.1}\n"
     ]
    }
   ],
   "source": [
    "from sklearn.model_selection import RandomizedSearchCV, StratifiedKFold\n",
    "from sklearn.ensemble import GradientBoostingClassifier\n",
    "\n",
    "model = GradientBoostingClassifier()\n",
    "cv = StratifiedKFold(n_splits=5, shuffle=True, random_state=42) # 5 folds\n",
    "\n",
    "# Definindo parametros\n",
    "param_dist = {\n",
    "    'n_estimators': [25, 50, 100],\n",
    "    'learning_rate': [0.1, 1],\n",
    "    'max_depth': [2, 3, 4],\n",
    "    'min_samples_split': [2],\n",
    "    'min_samples_leaf': [3, 4],\n",
    "    'subsample': [0.6, 1.0]\n",
    "}\n",
    "\n",
    "# Busca randômica\n",
    "random_search = RandomizedSearchCV(\n",
    "    model,\n",
    "    param_distributions=param_dist,\n",
    "    n_iter=10,\n",
    "    scoring='accuracy',\n",
    "    cv=cv,\n",
    "    random_state=42\n",
    ")\n",
    "\n",
    "# Hora do treinamento\n",
    "random_search.fit(X_train, y_train)\n",
    "\n",
    "# Informar melhores parâmetros\n",
    "best_params = random_search.best_params_\n",
    "print(\"Best Hyperparameters:\", best_params)\n",
    "\n",
    "# Setar um modelo com os melhores parâmetros\n",
    "best_model = random_search.best_estimator_\n"
   ]
  },
  {
   "cell_type": "markdown",
   "id": "d09b0fab",
   "metadata": {},
   "source": [
    "**Best Hyperparameters**: {'subsample': 0.6, 'n_estimators': 25, 'min_samples_split': 2, 'min_samples_leaf': 3, 'max_depth': 2, 'learning_rate': 0.1}"
   ]
  },
  {
   "cell_type": "code",
   "execution_count": 36,
   "id": "3a54dae0",
   "metadata": {},
   "outputs": [
    {
     "name": "stdout",
     "output_type": "stream",
     "text": [
      "Accuracy: 92.49%\n",
      "Confusion Matrix:\n",
      " [[8772  245]\n",
      " [ 516  596]]\n",
      "Classification Report:\n",
      "               precision    recall  f1-score   support\n",
      "\n",
      "         0.0       0.94      0.97      0.96      9017\n",
      "         1.0       0.71      0.54      0.61      1112\n",
      "\n",
      "    accuracy                           0.92     10129\n",
      "   macro avg       0.83      0.75      0.78     10129\n",
      "weighted avg       0.92      0.92      0.92     10129\n",
      "\n"
     ]
    }
   ],
   "source": [
    "# Predição\n",
    "y_pred = best_model.predict(X_test)\n",
    "\n",
    "# Classification report conforme requisitado\n",
    "accuracy = accuracy_score(y_test, y_pred)\n",
    "confusion = confusion_matrix(y_test, y_pred)\n",
    "classification_rep = classification_report(y_test, y_pred)\n",
    "\n",
    "print(f\"Accuracy: {accuracy * 100:.2f}%\")\n",
    "print(\"Confusion Matrix:\\n\", confusion)\n",
    "print(\"Classification Report:\\n\", classification_rep)"
   ]
  },
  {
   "cell_type": "markdown",
   "id": "b5ff2bb1",
   "metadata": {},
   "source": [
    "#### Resultados A636\n",
    "- F1 Classe 1 antigo: 0.62\n",
    "- F1 Classe 1 novo: 0.57"
   ]
  },
  {
   "cell_type": "markdown",
   "id": "217a05dc",
   "metadata": {},
   "source": [
    "### Dataset A652"
   ]
  },
  {
   "cell_type": "code",
   "execution_count": 37,
   "id": "b62498a5",
   "metadata": {},
   "outputs": [],
   "source": [
    "(X_train , y_train , X_val , y_val , X_test , y_test) = pickle.load(fileA652)"
   ]
  },
  {
   "cell_type": "code",
   "execution_count": 38,
   "id": "08550e7c",
   "metadata": {},
   "outputs": [],
   "source": [
    "#Unindo dataset de treino e validação\n",
    "X_train = np.concatenate([X_train, X_val], axis=0)\n",
    "y_train = np.concatenate([y_train, y_val])\n",
    "\n",
    "# Preprocessamento (Botando 1 tudo que é diferente de 0 como informado no grupo)\n",
    "y_train[y_train != 0] = 1\n",
    "y_test[y_test != 0] = 1\n",
    "# Transformando 2D array em 1D array\n",
    "y_train = y_train.flatten()\n",
    "y_test = y_test.flatten()"
   ]
  },
  {
   "cell_type": "code",
   "execution_count": 39,
   "id": "e1dfa366",
   "metadata": {},
   "outputs": [
    {
     "name": "stdout",
     "output_type": "stream",
     "text": [
      "Best Hyperparameters: {'subsample': 0.6, 'n_estimators': 25, 'min_samples_split': 2, 'min_samples_leaf': 3, 'max_depth': 2, 'learning_rate': 0.1}\n"
     ]
    }
   ],
   "source": [
    "from sklearn.model_selection import RandomizedSearchCV, StratifiedKFold\n",
    "from sklearn.ensemble import GradientBoostingClassifier\n",
    "\n",
    "model = GradientBoostingClassifier()\n",
    "cv = StratifiedKFold(n_splits=5, shuffle=True, random_state=42) # 5 folds\n",
    "\n",
    "# Definindo parametros\n",
    "param_dist = {\n",
    "    'n_estimators': [25, 50, 100],\n",
    "    'learning_rate': [0.1, 1],\n",
    "    'max_depth': [2, 3, 4],\n",
    "    'min_samples_split': [2],\n",
    "    'min_samples_leaf': [3, 4],\n",
    "    'subsample': [0.6, 1.0]\n",
    "}\n",
    "\n",
    "# Busca randômica\n",
    "random_search = RandomizedSearchCV(\n",
    "    model,\n",
    "    param_distributions=param_dist,\n",
    "    n_iter=10,\n",
    "    scoring='accuracy',\n",
    "    cv=cv,\n",
    "    random_state=42\n",
    ")\n",
    "\n",
    "# Hora do treinamento\n",
    "random_search.fit(X_train, y_train)\n",
    "\n",
    "# Informar melhores parâmetros\n",
    "best_params = random_search.best_params_\n",
    "print(\"Best Hyperparameters:\", best_params)\n",
    "\n",
    "# Setar um modelo com os melhores parâmetros\n",
    "best_model = random_search.best_estimator_\n"
   ]
  },
  {
   "cell_type": "markdown",
   "id": "f41c8f05",
   "metadata": {},
   "source": [
    "**Best Hyperparameters**: {'subsample': 0.6, 'n_estimators': 25, 'min_samples_split': 2, 'min_samples_leaf': 3, 'max_depth': 2, 'learning_rate': 0.1}"
   ]
  },
  {
   "cell_type": "code",
   "execution_count": 40,
   "id": "aac1a8ca",
   "metadata": {},
   "outputs": [
    {
     "name": "stdout",
     "output_type": "stream",
     "text": [
      "Accuracy: 93.82%\n",
      "Confusion Matrix:\n",
      " [[8704   65]\n",
      " [ 527  286]]\n",
      "Classification Report:\n",
      "               precision    recall  f1-score   support\n",
      "\n",
      "         0.0       0.94      0.99      0.97      8769\n",
      "         1.0       0.81      0.35      0.49       813\n",
      "\n",
      "    accuracy                           0.94      9582\n",
      "   macro avg       0.88      0.67      0.73      9582\n",
      "weighted avg       0.93      0.94      0.93      9582\n",
      "\n"
     ]
    }
   ],
   "source": [
    "# Predição\n",
    "y_pred = best_model.predict(X_test)\n",
    "\n",
    "# Classification report conforme requisitado\n",
    "accuracy = accuracy_score(y_test, y_pred)\n",
    "confusion = confusion_matrix(y_test, y_pred)\n",
    "classification_rep = classification_report(y_test, y_pred)\n",
    "\n",
    "print(f\"Accuracy: {accuracy * 100:.2f}%\")\n",
    "print(\"Confusion Matrix:\\n\", confusion)\n",
    "print(\"Classification Report:\\n\", classification_rep)"
   ]
  },
  {
   "cell_type": "markdown",
   "id": "d8cdcad3",
   "metadata": {},
   "source": [
    "#### Resultados A652\n",
    "- F1 Classe 1 antigo: 0.50\n",
    "- F1 Classe 1 novo: 0.48"
   ]
  },
  {
   "cell_type": "markdown",
   "id": "b60de2c9",
   "metadata": {},
   "source": [
    "# 3 Classificação Multi-classes"
   ]
  },
  {
   "cell_type": "markdown",
   "id": "770ce224",
   "metadata": {},
   "source": [
    "### Resumo:\n",
    "* Classificação | A602.pickle, A621.pickle, A627.pickle, A636.pickle, A652.pickle\n",
    "* Preprocessamentos: Discretização em 5 classes\n",
    "* Mining: GradientBoostingClassifier com EarlyStopping"
   ]
  },
  {
   "cell_type": "code",
   "execution_count": 54,
   "id": "b008e49a",
   "metadata": {},
   "outputs": [],
   "source": [
    "import numpy as np\n",
    "import pickle\n",
    "fileA602 = open('cic1205/data/atmoseer/A602.pickle' , 'rb')\n",
    "fileA621 = open('cic1205/data/atmoseer/A621.pickle' , 'rb')\n",
    "fileA627 = open('cic1205/data/atmoseer/A627.pickle' , 'rb')\n",
    "fileA636 = open('cic1205/data/atmoseer/A636.pickle' , 'rb')\n",
    "fileA652 = open('cic1205/data/atmoseer/A652.pickle' , 'rb')"
   ]
  },
  {
   "cell_type": "markdown",
   "id": "98e9c661",
   "metadata": {},
   "source": [
    "### Dataset A602"
   ]
  },
  {
   "cell_type": "code",
   "execution_count": 55,
   "id": "9e23420d",
   "metadata": {},
   "outputs": [],
   "source": [
    "(X_train , y_train , X_val , y_val , X_test , y_test) = pickle.load(fileA602)"
   ]
  },
  {
   "cell_type": "code",
   "execution_count": 56,
   "id": "e86cc0b7",
   "metadata": {},
   "outputs": [],
   "source": [
    "#Unindo dataset de treino e validação\n",
    "#X_train = np.concatenate([X_train, X_val], axis=0)\n",
    "#y_train = np.concatenate([y_train, y_val])\n",
    "\n",
    "# Preprocessamento (Botando as classes)\n",
    "y_train[(y_train > 0) & (y_train <= 5)] = 1\n",
    "y_val[(y_val > 0) & (y_val <= 5)] = 1\n",
    "y_test[(y_test > 0) & (y_test <= 5)] = 1\n",
    "\n",
    "y_train[(y_train > 5) & (y_train <= 25)] = 2\n",
    "y_val[(y_val > 5) & (y_val <= 25)] = 2\n",
    "y_test[(y_test > 5) & (y_test <= 25)] = 2\n",
    "\n",
    "y_train[(y_train > 25) & (y_train <= 50)] = 3\n",
    "y_val[(y_val > 25) & (y_val <= 50)] = 3\n",
    "y_test[(y_test > 25) & (y_test <= 50)] = 3\n",
    "\n",
    "y_train[y_train > 50] = 4\n",
    "y_val[y_val > 50] = 4\n",
    "y_test[y_test > 50] = 4\n",
    "\n",
    "# Transformando 2D array em 1D array\n",
    "y_train = y_train.flatten()\n",
    "y_val = y_val.flatten()\n",
    "y_test = y_test.flatten()"
   ]
  },
  {
   "cell_type": "code",
   "execution_count": 72,
   "id": "762d0abc",
   "metadata": {
    "collapsed": true
   },
   "outputs": [
    {
     "name": "stdout",
     "output_type": "stream",
     "text": [
      "[0]\tvalidation_0-merror:0.04913\tvalidation_0-mlogloss:0.91583\tvalidation_1-merror:0.07122\tvalidation_1-mlogloss:0.92782\n",
      "[1]\tvalidation_0-merror:0.04692\tvalidation_0-mlogloss:0.66947\tvalidation_1-merror:0.06876\tvalidation_1-mlogloss:0.69068\n",
      "[2]\tvalidation_0-merror:0.04557\tvalidation_0-mlogloss:0.51401\tvalidation_1-merror:0.06925\tvalidation_1-mlogloss:0.54285\n",
      "[3]\tvalidation_0-merror:0.04213\tvalidation_0-mlogloss:0.40788\tvalidation_1-merror:0.06974\tvalidation_1-mlogloss:0.44398\n",
      "[4]\tvalidation_0-merror:0.04139\tvalidation_0-mlogloss:0.33397\tvalidation_1-merror:0.07073\tvalidation_1-mlogloss:0.37531\n",
      "[5]\tvalidation_0-merror:0.04065\tvalidation_0-mlogloss:0.28117\tvalidation_1-merror:0.07024\tvalidation_1-mlogloss:0.32859\n",
      "[6]\tvalidation_0-merror:0.03943\tvalidation_0-mlogloss:0.24261\tvalidation_1-merror:0.07220\tvalidation_1-mlogloss:0.29458\n",
      "[7]\tvalidation_0-merror:0.03721\tvalidation_0-mlogloss:0.21432\tvalidation_1-merror:0.07024\tvalidation_1-mlogloss:0.27109\n",
      "[8]\tvalidation_0-merror:0.03672\tvalidation_0-mlogloss:0.19280\tvalidation_1-merror:0.07073\tvalidation_1-mlogloss:0.25451\n"
     ]
    },
    {
     "name": "stderr",
     "output_type": "stream",
     "text": [
      "C:\\Users\\miche\\anaconda3\\envs\\ShallowLearning\\lib\\site-packages\\xgboost\\sklearn.py:835: UserWarning: `eval_metric` in `fit` method is deprecated for better compatibility with scikit-learn, use `eval_metric` in constructor or`set_params` instead.\n",
      "  warnings.warn(\n"
     ]
    },
    {
     "name": "stdout",
     "output_type": "stream",
     "text": [
      "[9]\tvalidation_0-merror:0.03611\tvalidation_0-mlogloss:0.17600\tvalidation_1-merror:0.06974\tvalidation_1-mlogloss:0.24267\n",
      "[10]\tvalidation_0-merror:0.03513\tvalidation_0-mlogloss:0.16270\tvalidation_1-merror:0.07073\tvalidation_1-mlogloss:0.23497\n",
      "[11]\tvalidation_0-merror:0.03390\tvalidation_0-mlogloss:0.15138\tvalidation_1-merror:0.07122\tvalidation_1-mlogloss:0.23055\n",
      "[12]\tvalidation_0-merror:0.03292\tvalidation_0-mlogloss:0.14279\tvalidation_1-merror:0.07024\tvalidation_1-mlogloss:0.22639\n",
      "[13]\tvalidation_0-merror:0.03255\tvalidation_0-mlogloss:0.13591\tvalidation_1-merror:0.07073\tvalidation_1-mlogloss:0.22299\n",
      "[14]\tvalidation_0-merror:0.03120\tvalidation_0-mlogloss:0.12873\tvalidation_1-merror:0.07122\tvalidation_1-mlogloss:0.22071\n",
      "[15]\tvalidation_0-merror:0.03095\tvalidation_0-mlogloss:0.12372\tvalidation_1-merror:0.07122\tvalidation_1-mlogloss:0.22009\n",
      "[16]\tvalidation_0-merror:0.03058\tvalidation_0-mlogloss:0.11926\tvalidation_1-merror:0.07122\tvalidation_1-mlogloss:0.21955\n",
      "[17]\tvalidation_0-merror:0.03009\tvalidation_0-mlogloss:0.11520\tvalidation_1-merror:0.07073\tvalidation_1-mlogloss:0.21852\n",
      "[18]\tvalidation_0-merror:0.02997\tvalidation_0-mlogloss:0.11203\tvalidation_1-merror:0.07122\tvalidation_1-mlogloss:0.21766\n",
      "[19]\tvalidation_0-merror:0.02837\tvalidation_0-mlogloss:0.10604\tvalidation_1-merror:0.07122\tvalidation_1-mlogloss:0.21655\n",
      "[20]\tvalidation_0-merror:0.02825\tvalidation_0-mlogloss:0.10179\tvalidation_1-merror:0.07024\tvalidation_1-mlogloss:0.21673\n",
      "[21]\tvalidation_0-merror:0.02751\tvalidation_0-mlogloss:0.09857\tvalidation_1-merror:0.07073\tvalidation_1-mlogloss:0.21632\n",
      "[22]\tvalidation_0-merror:0.02727\tvalidation_0-mlogloss:0.09678\tvalidation_1-merror:0.07073\tvalidation_1-mlogloss:0.21571\n",
      "[23]\tvalidation_0-merror:0.02641\tvalidation_0-mlogloss:0.09309\tvalidation_1-merror:0.07122\tvalidation_1-mlogloss:0.21617\n",
      "[24]\tvalidation_0-merror:0.02628\tvalidation_0-mlogloss:0.09181\tvalidation_1-merror:0.07122\tvalidation_1-mlogloss:0.21633\n",
      "[25]\tvalidation_0-merror:0.02493\tvalidation_0-mlogloss:0.08784\tvalidation_1-merror:0.06925\tvalidation_1-mlogloss:0.21704\n",
      "[26]\tvalidation_0-merror:0.02506\tvalidation_0-mlogloss:0.08638\tvalidation_1-merror:0.06974\tvalidation_1-mlogloss:0.21731\n",
      "[27]\tvalidation_0-merror:0.02420\tvalidation_0-mlogloss:0.08501\tvalidation_1-merror:0.07073\tvalidation_1-mlogloss:0.21776\n",
      "[28]\tvalidation_0-merror:0.02370\tvalidation_0-mlogloss:0.08373\tvalidation_1-merror:0.07073\tvalidation_1-mlogloss:0.21844\n",
      "[29]\tvalidation_0-merror:0.02370\tvalidation_0-mlogloss:0.08232\tvalidation_1-merror:0.06974\tvalidation_1-mlogloss:0.21881\n",
      "[30]\tvalidation_0-merror:0.02370\tvalidation_0-mlogloss:0.08101\tvalidation_1-merror:0.06974\tvalidation_1-mlogloss:0.21917\n",
      "[31]\tvalidation_0-merror:0.02284\tvalidation_0-mlogloss:0.07760\tvalidation_1-merror:0.07024\tvalidation_1-mlogloss:0.21897\n",
      "[32]\tvalidation_0-merror:0.02235\tvalidation_0-mlogloss:0.07591\tvalidation_1-merror:0.07122\tvalidation_1-mlogloss:0.21984\n",
      "[33]\tvalidation_0-merror:0.02211\tvalidation_0-mlogloss:0.07502\tvalidation_1-merror:0.07122\tvalidation_1-mlogloss:0.22005\n",
      "[34]\tvalidation_0-merror:0.02039\tvalidation_0-mlogloss:0.07179\tvalidation_1-merror:0.07073\tvalidation_1-mlogloss:0.22116\n",
      "[35]\tvalidation_0-merror:0.01965\tvalidation_0-mlogloss:0.07096\tvalidation_1-merror:0.07073\tvalidation_1-mlogloss:0.22164\n",
      "[36]\tvalidation_0-merror:0.01941\tvalidation_0-mlogloss:0.06968\tvalidation_1-merror:0.07122\tvalidation_1-mlogloss:0.22256\n",
      "[37]\tvalidation_0-merror:0.01916\tvalidation_0-mlogloss:0.06775\tvalidation_1-merror:0.07073\tvalidation_1-mlogloss:0.22414\n",
      "[38]\tvalidation_0-merror:0.01904\tvalidation_0-mlogloss:0.06630\tvalidation_1-merror:0.07122\tvalidation_1-mlogloss:0.22552\n",
      "[39]\tvalidation_0-merror:0.01793\tvalidation_0-mlogloss:0.06480\tvalidation_1-merror:0.07024\tvalidation_1-mlogloss:0.22581\n",
      "[40]\tvalidation_0-merror:0.01683\tvalidation_0-mlogloss:0.06359\tvalidation_1-merror:0.07073\tvalidation_1-mlogloss:0.22697\n",
      "[41]\tvalidation_0-merror:0.01683\tvalidation_0-mlogloss:0.06312\tvalidation_1-merror:0.07122\tvalidation_1-mlogloss:0.22740\n",
      "[42]\tvalidation_0-merror:0.01634\tvalidation_0-mlogloss:0.06191\tvalidation_1-merror:0.07073\tvalidation_1-mlogloss:0.22725\n",
      "[43]\tvalidation_0-merror:0.01584\tvalidation_0-mlogloss:0.06005\tvalidation_1-merror:0.07269\tvalidation_1-mlogloss:0.22798\n",
      "[44]\tvalidation_0-merror:0.01523\tvalidation_0-mlogloss:0.05825\tvalidation_1-merror:0.07220\tvalidation_1-mlogloss:0.22795\n",
      "[45]\tvalidation_0-merror:0.01412\tvalidation_0-mlogloss:0.05655\tvalidation_1-merror:0.07220\tvalidation_1-mlogloss:0.22874\n",
      "[46]\tvalidation_0-merror:0.01351\tvalidation_0-mlogloss:0.05509\tvalidation_1-merror:0.07220\tvalidation_1-mlogloss:0.22945\n",
      "[47]\tvalidation_0-merror:0.01302\tvalidation_0-mlogloss:0.05372\tvalidation_1-merror:0.07367\tvalidation_1-mlogloss:0.22991\n",
      "[48]\tvalidation_0-merror:0.01228\tvalidation_0-mlogloss:0.05269\tvalidation_1-merror:0.07220\tvalidation_1-mlogloss:0.23070\n",
      "[49]\tvalidation_0-merror:0.01204\tvalidation_0-mlogloss:0.05173\tvalidation_1-merror:0.07171\tvalidation_1-mlogloss:0.23100\n",
      "[50]\tvalidation_0-merror:0.01204\tvalidation_0-mlogloss:0.05091\tvalidation_1-merror:0.07073\tvalidation_1-mlogloss:0.23113\n",
      "[51]\tvalidation_0-merror:0.01081\tvalidation_0-mlogloss:0.04916\tvalidation_1-merror:0.07122\tvalidation_1-mlogloss:0.23233\n",
      "[52]\tvalidation_0-merror:0.01056\tvalidation_0-mlogloss:0.04860\tvalidation_1-merror:0.07122\tvalidation_1-mlogloss:0.23322\n",
      "[53]\tvalidation_0-merror:0.00995\tvalidation_0-mlogloss:0.04782\tvalidation_1-merror:0.07073\tvalidation_1-mlogloss:0.23356\n",
      "[54]\tvalidation_0-merror:0.00983\tvalidation_0-mlogloss:0.04674\tvalidation_1-merror:0.07073\tvalidation_1-mlogloss:0.23390\n",
      "[55]\tvalidation_0-merror:0.00933\tvalidation_0-mlogloss:0.04552\tvalidation_1-merror:0.07073\tvalidation_1-mlogloss:0.23448\n",
      "[56]\tvalidation_0-merror:0.00921\tvalidation_0-mlogloss:0.04503\tvalidation_1-merror:0.06974\tvalidation_1-mlogloss:0.23441\n",
      "[57]\tvalidation_0-merror:0.00909\tvalidation_0-mlogloss:0.04440\tvalidation_1-merror:0.07122\tvalidation_1-mlogloss:0.23503\n",
      "[58]\tvalidation_0-merror:0.00835\tvalidation_0-mlogloss:0.04358\tvalidation_1-merror:0.07073\tvalidation_1-mlogloss:0.23510\n",
      "[59]\tvalidation_0-merror:0.00835\tvalidation_0-mlogloss:0.04261\tvalidation_1-merror:0.07024\tvalidation_1-mlogloss:0.23544\n",
      "[60]\tvalidation_0-merror:0.00823\tvalidation_0-mlogloss:0.04178\tvalidation_1-merror:0.07024\tvalidation_1-mlogloss:0.23553\n",
      "[61]\tvalidation_0-merror:0.00798\tvalidation_0-mlogloss:0.04076\tvalidation_1-merror:0.07122\tvalidation_1-mlogloss:0.23550\n",
      "[62]\tvalidation_0-merror:0.00663\tvalidation_0-mlogloss:0.03930\tvalidation_1-merror:0.07122\tvalidation_1-mlogloss:0.23717\n",
      "[63]\tvalidation_0-merror:0.00663\tvalidation_0-mlogloss:0.03844\tvalidation_1-merror:0.07073\tvalidation_1-mlogloss:0.23727\n",
      "[64]\tvalidation_0-merror:0.00651\tvalidation_0-mlogloss:0.03798\tvalidation_1-merror:0.07122\tvalidation_1-mlogloss:0.23748\n",
      "[65]\tvalidation_0-merror:0.00639\tvalidation_0-mlogloss:0.03711\tvalidation_1-merror:0.07171\tvalidation_1-mlogloss:0.23844\n",
      "[66]\tvalidation_0-merror:0.00626\tvalidation_0-mlogloss:0.03662\tvalidation_1-merror:0.07073\tvalidation_1-mlogloss:0.23888\n",
      "[67]\tvalidation_0-merror:0.00590\tvalidation_0-mlogloss:0.03538\tvalidation_1-merror:0.07024\tvalidation_1-mlogloss:0.23917\n",
      "[68]\tvalidation_0-merror:0.00540\tvalidation_0-mlogloss:0.03444\tvalidation_1-merror:0.07220\tvalidation_1-mlogloss:0.23937\n",
      "[69]\tvalidation_0-merror:0.00504\tvalidation_0-mlogloss:0.03379\tvalidation_1-merror:0.07220\tvalidation_1-mlogloss:0.23994\n",
      "[70]\tvalidation_0-merror:0.00504\tvalidation_0-mlogloss:0.03337\tvalidation_1-merror:0.07220\tvalidation_1-mlogloss:0.24050\n",
      "[71]\tvalidation_0-merror:0.00418\tvalidation_0-mlogloss:0.03194\tvalidation_1-merror:0.07220\tvalidation_1-mlogloss:0.24147\n",
      "[72]\tvalidation_0-merror:0.00381\tvalidation_0-mlogloss:0.03123\tvalidation_1-merror:0.07220\tvalidation_1-mlogloss:0.24226\n",
      "[73]\tvalidation_0-merror:0.00368\tvalidation_0-mlogloss:0.03068\tvalidation_1-merror:0.07220\tvalidation_1-mlogloss:0.24220\n",
      "[74]\tvalidation_0-merror:0.00368\tvalidation_0-mlogloss:0.03054\tvalidation_1-merror:0.07171\tvalidation_1-mlogloss:0.24254\n",
      "[75]\tvalidation_0-merror:0.00368\tvalidation_0-mlogloss:0.02980\tvalidation_1-merror:0.07171\tvalidation_1-mlogloss:0.24340\n",
      "[76]\tvalidation_0-merror:0.00356\tvalidation_0-mlogloss:0.02896\tvalidation_1-merror:0.07220\tvalidation_1-mlogloss:0.24373\n"
     ]
    },
    {
     "name": "stdout",
     "output_type": "stream",
     "text": [
      "[77]\tvalidation_0-merror:0.00332\tvalidation_0-mlogloss:0.02800\tvalidation_1-merror:0.07269\tvalidation_1-mlogloss:0.24439\n",
      "[78]\tvalidation_0-merror:0.00344\tvalidation_0-mlogloss:0.02761\tvalidation_1-merror:0.07269\tvalidation_1-mlogloss:0.24523\n",
      "[79]\tvalidation_0-merror:0.00344\tvalidation_0-mlogloss:0.02688\tvalidation_1-merror:0.07269\tvalidation_1-mlogloss:0.24556\n",
      "[80]\tvalidation_0-merror:0.00307\tvalidation_0-mlogloss:0.02625\tvalidation_1-merror:0.07269\tvalidation_1-mlogloss:0.24648\n",
      "[81]\tvalidation_0-merror:0.00258\tvalidation_0-mlogloss:0.02552\tvalidation_1-merror:0.07318\tvalidation_1-mlogloss:0.24677\n",
      "[82]\tvalidation_0-merror:0.00258\tvalidation_0-mlogloss:0.02530\tvalidation_1-merror:0.07318\tvalidation_1-mlogloss:0.24714\n",
      "[83]\tvalidation_0-merror:0.00258\tvalidation_0-mlogloss:0.02512\tvalidation_1-merror:0.07367\tvalidation_1-mlogloss:0.24758\n",
      "[84]\tvalidation_0-merror:0.00258\tvalidation_0-mlogloss:0.02457\tvalidation_1-merror:0.07367\tvalidation_1-mlogloss:0.24842\n",
      "[85]\tvalidation_0-merror:0.00246\tvalidation_0-mlogloss:0.02377\tvalidation_1-merror:0.07367\tvalidation_1-mlogloss:0.24972\n",
      "[86]\tvalidation_0-merror:0.00197\tvalidation_0-mlogloss:0.02277\tvalidation_1-merror:0.07367\tvalidation_1-mlogloss:0.25035\n",
      "[87]\tvalidation_0-merror:0.00172\tvalidation_0-mlogloss:0.02224\tvalidation_1-merror:0.07367\tvalidation_1-mlogloss:0.25085\n",
      "[88]\tvalidation_0-merror:0.00160\tvalidation_0-mlogloss:0.02178\tvalidation_1-merror:0.07417\tvalidation_1-mlogloss:0.25165\n",
      "[89]\tvalidation_0-merror:0.00147\tvalidation_0-mlogloss:0.02165\tvalidation_1-merror:0.07417\tvalidation_1-mlogloss:0.25184\n",
      "[90]\tvalidation_0-merror:0.00111\tvalidation_0-mlogloss:0.02122\tvalidation_1-merror:0.07367\tvalidation_1-mlogloss:0.25242\n",
      "[91]\tvalidation_0-merror:0.00111\tvalidation_0-mlogloss:0.02073\tvalidation_1-merror:0.07417\tvalidation_1-mlogloss:0.25261\n",
      "[92]\tvalidation_0-merror:0.00111\tvalidation_0-mlogloss:0.02038\tvalidation_1-merror:0.07417\tvalidation_1-mlogloss:0.25314\n",
      "[93]\tvalidation_0-merror:0.00098\tvalidation_0-mlogloss:0.02008\tvalidation_1-merror:0.07466\tvalidation_1-mlogloss:0.25367\n",
      "[94]\tvalidation_0-merror:0.00098\tvalidation_0-mlogloss:0.02000\tvalidation_1-merror:0.07466\tvalidation_1-mlogloss:0.25421\n",
      "[95]\tvalidation_0-merror:0.00074\tvalidation_0-mlogloss:0.01949\tvalidation_1-merror:0.07417\tvalidation_1-mlogloss:0.25511\n",
      "[96]\tvalidation_0-merror:0.00074\tvalidation_0-mlogloss:0.01941\tvalidation_1-merror:0.07466\tvalidation_1-mlogloss:0.25515\n",
      "[97]\tvalidation_0-merror:0.00074\tvalidation_0-mlogloss:0.01927\tvalidation_1-merror:0.07515\tvalidation_1-mlogloss:0.25535\n",
      "[98]\tvalidation_0-merror:0.00074\tvalidation_0-mlogloss:0.01902\tvalidation_1-merror:0.07466\tvalidation_1-mlogloss:0.25620\n",
      "[99]\tvalidation_0-merror:0.00074\tvalidation_0-mlogloss:0.01885\tvalidation_1-merror:0.07466\tvalidation_1-mlogloss:0.25634\n"
     ]
    }
   ],
   "source": [
    "from numpy import loadtxt\n",
    "from xgboost import XGBClassifier\n",
    "from sklearn.metrics import precision_score, recall_score, f1_score, accuracy_score\n",
    "from matplotlib import pyplot\n",
    "\n",
    "# fit model no training data\n",
    "model = XGBClassifier()\n",
    "eval_set = [(X_train, y_train), (X_val, y_val)]\n",
    "model.fit(X_train, y_train, eval_metric=[\"merror\", \"mlogloss\"], eval_set=eval_set, verbose=True)\n",
    "\n",
    "# make predictions for test data\n",
    "y_pred = model.predict(X_test)"
   ]
  },
  {
   "cell_type": "code",
   "execution_count": 73,
   "id": "0c5fd123",
   "metadata": {},
   "outputs": [
    {
     "data": {
      "image/png": "[encoded data removed]",
      "text/plain": [
       "<Figure size 640x480 with 1 Axes>"
      ]
     },
     "metadata": {},
     "output_type": "display_data"
    },
    {
     "data": {
      "image/png": "[encoded data removed]",
      "text/plain": [
       "<Figure size 640x480 with 1 Axes>"
      ]
     },
     "metadata": {},
     "output_type": "display_data"
    }
   ],
   "source": [
    "# retrieve performance metrics\n",
    "results = model.evals_result()\n",
    "epochs = len(results['validation_0']['merror'])\n",
    "x_axis = range(0, epochs)\n",
    "\n",
    "# plot log loss\n",
    "fig, ax = pyplot.subplots()\n",
    "ax.plot(x_axis, results['validation_0']['mlogloss'], label='Train')\n",
    "ax.plot(x_axis, results['validation_1']['mlogloss'], label='Test')\n",
    "ax.legend()\n",
    "pyplot.ylabel('Log Loss')\n",
    "pyplot.title('XGBoost Log Loss')\n",
    "pyplot.show()\n",
    "\n",
    "# plot classification error\n",
    "fig, ax = pyplot.subplots()\n",
    "ax.plot(x_axis, results['validation_0']['merror'], label='Train')\n",
    "ax.plot(x_axis, results['validation_1']['merror'], label='Test')\n",
    "ax.legend()\n",
    "pyplot.ylabel('Classification Error')\n",
    "pyplot.title('XGBoost Classification Error')\n",
    "pyplot.show()"
   ]
  },
  {
   "cell_type": "code",
   "execution_count": 71,
   "id": "98e0b98b",
   "metadata": {},
   "outputs": [
    {
     "data": {
      "image/png": "[encoded data removed]",
      "text/plain": [
       "<Figure size 700x700 with 1 Axes>"
      ]
     },
     "metadata": {},
     "output_type": "display_data"
    }
   ],
   "source": [
    "def evaluate_model(y_test, y_pred, header):\n",
    "    # make predictions for test data\n",
    "    conf_matrix = confusion_matrix(y_true=y_test, y_pred=y_pred)\n",
    "\n",
    "    fig, ax = plt.subplots(figsize=(7, 7))\n",
    "    ax.matshow(conf_matrix, cmap=plt.cm.Accent, alpha=0.4)\n",
    "    for i in range(conf_matrix.shape[0]):\n",
    "        for j in range(conf_matrix.shape[1]):\n",
    "            ax.text(x=j, y=i,s=conf_matrix[i, j], va='center', ha='center', size='x-large')\n",
    "    \n",
    "    plt.xlabel('Predictions', fontsize=10)\n",
    "    plt.ylabel('Actuals', fontsize=10)\n",
    "    plt.title('Confusion Matrix', fontsize=15)\n",
    "    plt.show()\n",
    "\n",
    "    precision =  round(precision_score(y_test, y_pred, average='macro', zero_division=1), 4)\n",
    "    recall = round(recall_score(y_test, y_pred, average='macro', zero_division=1), 4)\n",
    "    F1 =  round(f1_score(y_test, y_pred, average='macro', zero_division=1), 4)\n",
    "    metrics = [precision, recall, F1]\n",
    "\n",
    "    results = pd.DataFrame(metrics)\n",
    "    results.index = ['Precision', 'Recall', 'F1_score']\n",
    "    results.columns = [header]\n",
    "    results\n",
    "\n",
    "evaluate_model(y_test, y_pred, 'With Early Stopping')"
   ]
  },
  {
   "cell_type": "code",
   "execution_count": 78,
   "id": "23dee697",
   "metadata": {
    "scrolled": true
   },
   "outputs": [
    {
     "name": "stdout",
     "output_type": "stream",
     "text": [
      "Accuracy: 88.10%\n",
      "Confusion Matrix:\n",
      " [[635  38   0]\n",
      " [ 44  37   2]\n",
      " [  4   3   2]]\n",
      "Classification Report:\n",
      "               precision    recall  f1-score   support\n",
      "\n",
      "         0.0       0.93      0.94      0.94       673\n",
      "         1.0       0.47      0.45      0.46        83\n",
      "         2.0       0.50      0.22      0.31         9\n",
      "\n",
      "    accuracy                           0.88       765\n",
      "   macro avg       0.63      0.54      0.57       765\n",
      "weighted avg       0.88      0.88      0.88       765\n",
      "\n"
     ]
    }
   ],
   "source": [
    "# Predição\n",
    "y_pred = model.predict(X_test)\n",
    "\n",
    "# Classification report conforme requisitado\n",
    "accuracy = accuracy_score(y_test, y_pred)\n",
    "confusion = confusion_matrix(y_test, y_pred)\n",
    "classification_rep = classification_report(y_test, y_pred, zero_division=1)\n",
    "\n",
    "print(f\"Accuracy: {accuracy * 100:.2f}%\")\n",
    "print(\"Confusion Matrix:\\n\", confusion)\n",
    "print(\"Classification Report:\\n\", classification_rep)"
   ]
  },
  {
   "cell_type": "markdown",
   "id": "b8d8cc50",
   "metadata": {},
   "source": [
    "#### Resultados A602\n",
    "- F1 Classe 1 antigo: 0.54\n",
    "- F1 Classe 1 novo: 0.53\n",
    "- F1 Classes 1 e 2: 0.46 e 0.31"
   ]
  }
 ],
 "metadata": {
  "kernelspec": {
   "display_name": "Python 3 (ipykernel)",
   "language": "python",
   "name": "python3"
  },
  "language_info": {
   "codemirror_mode": {
    "name": "ipython",
    "version": 3
   },
   "file_extension": ".py",
   "mimetype": "text/x-python",
   "name": "python",
   "nbconvert_exporter": "python",
   "pygments_lexer": "ipython3",
   "version": "3.10.13"
  }
 },
 "nbformat": 4,
 "nbformat_minor": 5
}
